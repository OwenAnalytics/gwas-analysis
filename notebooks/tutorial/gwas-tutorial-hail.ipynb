{
 "cells": [
  {
   "cell_type": "code",
   "execution_count": 1,
   "metadata": {
    "ExecuteTime": {
     "end_time": "2020-01-14T17:10:56.985541Z",
     "start_time": "2020-01-14T17:10:53.134372Z"
    }
   },
   "outputs": [
    {
     "name": "stderr",
     "output_type": "stream",
     "text": [
      "Running on Apache Spark version 2.4.4\n",
      "SparkUI available at http://3d498b83ee57:4040\n",
      "Welcome to\n",
      "     __  __     <>__\n",
      "    / /_/ /__  __/ /\n",
      "   / __  / _ `/ / /\n",
      "  /_/ /_/\\_,_/_/_/   version 0.2.30-2ae07d872f43\n",
      "LOGGING: writing to /home/eczech/repos/gwas-analysis/notebooks/tutorial/hail-20200114-1710-0.2.30-2ae07d872f43.log\n"
     ]
    }
   ],
   "source": [
    "import pandas as pd\n",
    "import numpy as np\n",
    "import hail as hl\n",
    "import os.path as osp\n",
    "import multiprocessing\n",
    "\n",
    "# Benchmarking utilities\n",
    "%run ../init/benchmark.py\n",
    "register_timeop_magic(get_ipython(), 'hail')\n",
    "\n",
    "data_dir = osp.expanduser('~/data/gwas/tutorial/1_QC_GWAS')\n",
    "hl.init() "
   ]
  },
  {
   "cell_type": "code",
   "execution_count": 2,
   "metadata": {
    "ExecuteTime": {
     "end_time": "2020-01-14T17:10:56.991680Z",
     "start_time": "2020-01-14T17:10:56.988553Z"
    }
   },
   "outputs": [],
   "source": [
    "# Set this in $SPARK_HOME/spark-env.sh\n",
    "# hl.spark_context()._conf.get(\"spark.driver.memory\")"
   ]
  },
  {
   "cell_type": "code",
   "execution_count": 3,
   "metadata": {
    "ExecuteTime": {
     "end_time": "2020-01-14T17:10:57.005863Z",
     "start_time": "2020-01-14T17:10:56.994572Z"
    }
   },
   "outputs": [],
   "source": [
    "def get_or_create(path, fn):\n",
    "    if not osp.exists(path):\n",
    "        mt = fn()\n",
    "        mt.write(path, overwrite=True)\n",
    "    return hl.read_matrix_table(path)"
   ]
  },
  {
   "cell_type": "markdown",
   "metadata": {},
   "source": [
    "<h2><a id=\"load_raw_data\">Load Raw Data</a></h2>"
   ]
  },
  {
   "cell_type": "code",
   "execution_count": 19,
   "metadata": {
    "ExecuteTime": {
     "end_time": "2020-01-14T21:05:59.937954Z",
     "start_time": "2020-01-14T21:05:56.932792Z"
    }
   },
   "outputs": [
    {
     "name": "stderr",
     "output_type": "stream",
     "text": [
      "2020-01-14 21:05:59 Hail: INFO: Found 165 samples in fam file.\n",
      "2020-01-14 21:05:59 Hail: INFO: Found 1457897 variants in bim file.\n"
     ]
    }
   ],
   "source": [
    "# The reference build for HapMap III data is NCBI36, which is not supported by Hail,\n",
    "# so `skip_invalid_loci` will result in only 1454604 variants being preserved of 1457897\n",
    "# Source: https://cran.r-project.org/web/packages/plinkQC/vignettes/HapMap.pdf\n",
    "mt_qc0 = hl.import_plink(\n",
    "    osp.join(data_dir, 'HapMap_3_r3_1.bed'),\n",
    "    osp.join(data_dir, 'HapMap_3_r3_1.bim'),\n",
    "    osp.join(data_dir, 'HapMap_3_r3_1.fam'),\n",
    "    skip_invalid_loci=True\n",
    ")"
   ]
  },
  {
   "cell_type": "code",
   "execution_count": 21,
   "metadata": {
    "ExecuteTime": {
     "end_time": "2020-01-14T21:06:34.280329Z",
     "start_time": "2020-01-14T21:06:11.830436Z"
    }
   },
   "outputs": [
    {
     "name": "stderr",
     "output_type": "stream",
     "text": [
      "2020-01-14 21:06:17 Hail: INFO: Ordering unsorted dataset with network shuffle\n"
     ]
    },
    {
     "data": {
      "text/plain": [
       "2"
      ]
     },
     "execution_count": 21,
     "metadata": {},
     "output_type": "execute_result"
    }
   ],
   "source": [
    "mt_qc0.n_partitions()"
   ]
  },
  {
   "cell_type": "code",
   "execution_count": 23,
   "metadata": {
    "ExecuteTime": {
     "end_time": "2020-01-14T21:10:54.649406Z",
     "start_time": "2020-01-14T21:10:51.836671Z"
    }
   },
   "outputs": [
    {
     "data": {
      "text/plain": [
       "16"
      ]
     },
     "execution_count": 23,
     "metadata": {},
     "output_type": "execute_result"
    }
   ],
   "source": [
    "# Repartition to n_cpus\n",
    "mt_qc0 = mt_qc0.repartition(multiprocessing.cpu_count())\n",
    "mt_qc0.n_partitions()"
   ]
  },
  {
   "cell_type": "code",
   "execution_count": 44,
   "metadata": {
    "ExecuteTime": {
     "end_time": "2020-01-14T03:00:39.209926Z",
     "start_time": "2020-01-14T02:59:49.420512Z"
    }
   },
   "outputs": [
    {
     "name": "stderr",
     "output_type": "stream",
     "text": [
      "2020-01-14 02:59:54 Hail: INFO: Ordering unsorted dataset with network shuffle\n",
      "2020-01-14 03:00:39 Hail: INFO: wrote matrix table with 1454604 rows and 165 columns in 16 partitions to /home/eczech/data/gwas/tutorial/1_QC_GWAS/HapMap_3_r3_1.mt\n"
     ]
    }
   ],
   "source": [
    "# Materialize for downstream operations\n",
    "mt_qc0.write(osp.join(data_dir, 'HapMap_3_r3_1.mt'), overwrite=True)"
   ]
  },
  {
   "cell_type": "code",
   "execution_count": 24,
   "metadata": {
    "ExecuteTime": {
     "end_time": "2020-01-14T21:11:42.331329Z",
     "start_time": "2020-01-14T21:11:42.292241Z"
    }
   },
   "outputs": [
    {
     "name": "stdout",
     "output_type": "stream",
     "text": [
      "(1454604, 165)\n",
      "Elapsed time: 0.0 seconds\n"
     ]
    }
   ],
   "source": [
    "%%timeop -o qc0-basic-count\n",
    "print(mt_qc0.count())"
   ]
  },
  {
   "cell_type": "markdown",
   "metadata": {},
   "source": [
    "<h2><a id=\"step_1\">Step 1: Sample/Variant Absence Filter</a></h2>"
   ]
  },
  {
   "cell_type": "code",
   "execution_count": 113,
   "metadata": {
    "ExecuteTime": {
     "end_time": "2020-01-14T22:30:52.907223Z",
     "start_time": "2020-01-14T22:30:52.873236Z"
    }
   },
   "outputs": [],
   "source": [
    "mt_qc0 = hl.read_matrix_table(osp.join(data_dir, 'HapMap_3_r3_1.mt'))"
   ]
  },
  {
   "cell_type": "code",
   "execution_count": 120,
   "metadata": {
    "ExecuteTime": {
     "end_time": "2020-01-14T22:38:48.649771Z",
     "start_time": "2020-01-14T22:38:48.538497Z"
    }
   },
   "outputs": [
    {
     "name": "stdout",
     "output_type": "stream",
     "text": [
      "----------------------------------------\n",
      "Global fields:\n",
      "    None\n",
      "----------------------------------------\n",
      "Column fields:\n",
      "    's': str\n",
      "    'fam_id': str\n",
      "    'pat_id': str\n",
      "    'mat_id': str\n",
      "    'is_female': bool\n",
      "    'is_case': bool\n",
      "    'sample_qc': struct {\n",
      "        call_rate: float64, \n",
      "        n_called: int64, \n",
      "        n_not_called: int64, \n",
      "        n_filtered: int64, \n",
      "        n_hom_ref: int64, \n",
      "        n_het: int64, \n",
      "        n_hom_var: int64, \n",
      "        n_non_ref: int64, \n",
      "        n_singleton: int64, \n",
      "        n_snp: int64, \n",
      "        n_insertion: int64, \n",
      "        n_deletion: int64, \n",
      "        n_transition: int64, \n",
      "        n_transversion: int64, \n",
      "        n_star: int64, \n",
      "        r_ti_tv: float64, \n",
      "        r_het_hom_var: float64, \n",
      "        r_insertion_deletion: float64\n",
      "    }\n",
      "----------------------------------------\n",
      "Row fields:\n",
      "    'locus': locus<GRCh37>\n",
      "    'alleles': array<str>\n",
      "    'rsid': str\n",
      "    'cm_position': float64\n",
      "    'variant_qc': struct {\n",
      "        AC: array<int32>, \n",
      "        AF: array<float64>, \n",
      "        AN: int32, \n",
      "        homozygote_count: array<int32>, \n",
      "        call_rate: float64, \n",
      "        n_called: int64, \n",
      "        n_not_called: int64, \n",
      "        n_filtered: int64, \n",
      "        n_het: int64, \n",
      "        n_non_ref: int64, \n",
      "        het_freq_hwe: float64, \n",
      "        p_value_hwe: float64\n",
      "    }\n",
      "----------------------------------------\n",
      "Entry fields:\n",
      "    'GT': call\n",
      "----------------------------------------\n",
      "Column key: ['s']\n",
      "Row key: ['locus', 'alleles']\n",
      "----------------------------------------\n"
     ]
    }
   ],
   "source": [
    "hl.variant_qc(hl.sample_qc(mt_qc0)).describe()"
   ]
  },
  {
   "cell_type": "code",
   "execution_count": 115,
   "metadata": {
    "ExecuteTime": {
     "end_time": "2020-01-14T22:31:07.211437Z",
     "start_time": "2020-01-14T22:31:04.224490Z"
    }
   },
   "outputs": [
    {
     "name": "stdout",
     "output_type": "stream",
     "text": [
      "(1454604, 165)\n",
      "Elapsed time: 3.0 seconds\n"
     ]
    }
   ],
   "source": [
    "%%timeop -o qc1\n",
    "\n",
    "def qc_1(mt):\n",
    "    mt = hl.variant_qc(hl.sample_qc(mt))\n",
    "    mt = mt.filter_rows(mt.variant_qc.call_rate > .2)\n",
    "    mt = mt.filter_cols(mt.sample_qc.call_rate > .2)\n",
    "    mt = mt.filter_rows(mt.variant_qc.call_rate > .02)\n",
    "    mt = mt.filter_cols(mt.sample_qc.call_rate > .02)\n",
    "    return mt\n",
    "\n",
    "mt_qc1 = qc_1(mt_qc0)\n",
    "print(mt_qc1.count())"
   ]
  },
  {
   "cell_type": "code",
   "execution_count": 14,
   "metadata": {
    "ExecuteTime": {
     "end_time": "2020-01-14T21:03:08.000439Z",
     "start_time": "2020-01-14T21:02:53.033745Z"
    }
   },
   "outputs": [
    {
     "name": "stderr",
     "output_type": "stream",
     "text": [
      "2020-01-14 21:03:07 Hail: INFO: wrote matrix table with 1454604 rows and 165 columns in 16 partitions to /home/eczech/data/gwas/tutorial/1_QC_GWAS/HapMap_3_r3_5.mt\n"
     ]
    }
   ],
   "source": [
    "mt_qc1.write(osp.join(data_dir, 'HapMap_3_r3_5.mt'), overwrite=True)"
   ]
  },
  {
   "cell_type": "markdown",
   "metadata": {
    "ExecuteTime": {
     "end_time": "2020-01-14T03:02:25.122907Z",
     "start_time": "2020-01-14T03:02:25.115226Z"
    }
   },
   "source": [
    "<h2><a id=\"step_2\">Step 2: Gender Discrepancy</a></h2>"
   ]
  },
  {
   "cell_type": "code",
   "execution_count": 25,
   "metadata": {
    "ExecuteTime": {
     "end_time": "2020-01-14T21:12:09.315974Z",
     "start_time": "2020-01-14T21:12:09.260232Z"
    }
   },
   "outputs": [],
   "source": [
    "mt_qc1 = hl.read_matrix_table(osp.join(data_dir, 'HapMap_3_r3_5.mt'))"
   ]
  },
  {
   "cell_type": "code",
   "execution_count": 26,
   "metadata": {
    "ExecuteTime": {
     "end_time": "2020-01-14T21:12:10.760524Z",
     "start_time": "2020-01-14T21:12:10.553164Z"
    }
   },
   "outputs": [
    {
     "name": "stdout",
     "output_type": "stream",
     "text": [
      "(1454604, 165)\n",
      "Elapsed time: 0.2 seconds\n"
     ]
    }
   ],
   "source": [
    "%%timeop -o qc2\n",
    "\n",
    "def qc_2(mt):\n",
    "    imputed_sex = hl.impute_sex(mt.GT)\n",
    "    return mt.annotate_cols(is_female=imputed_sex[mt.s].is_female)\n",
    "\n",
    "mt_qc2 = qc_2(mt_qc1) \n",
    "print(mt_qc2.count())"
   ]
  },
  {
   "cell_type": "code",
   "execution_count": 27,
   "metadata": {
    "ExecuteTime": {
     "end_time": "2020-01-14T21:12:26.282701Z",
     "start_time": "2020-01-14T21:12:24.956865Z"
    }
   },
   "outputs": [
    {
     "name": "stdout",
     "output_type": "stream",
     "text": [
      "CPU times: user 31.2 ms, sys: 3.06 ms, total: 34.3 ms\n",
      "Wall time: 1.32 s\n"
     ]
    },
    {
     "data": {
      "text/plain": [
       "(85, 84)"
      ]
     },
     "execution_count": 27,
     "metadata": {},
     "output_type": "execute_result"
    }
   ],
   "source": [
    "%%time\n",
    "get_n_female = lambda mt: mt.aggregate_cols(hl.agg.sum(mt.col.is_female))\n",
    "get_n_female(mt_qc1), get_n_female(mt_qc2)"
   ]
  },
  {
   "cell_type": "code",
   "execution_count": 28,
   "metadata": {
    "ExecuteTime": {
     "end_time": "2020-01-14T21:12:40.222011Z",
     "start_time": "2020-01-14T21:12:35.431296Z"
    }
   },
   "outputs": [
    {
     "name": "stderr",
     "output_type": "stream",
     "text": [
      "2020-01-14 21:12:40 Hail: INFO: wrote matrix table with 1454604 rows and 165 columns in 16 partitions to /home/eczech/data/gwas/tutorial/1_QC_GWAS/HapMap_3_r3_6.mt\n"
     ]
    }
   ],
   "source": [
    "mt_qc2.write(osp.join(data_dir, 'HapMap_3_r3_6.mt'), overwrite=True)"
   ]
  },
  {
   "cell_type": "markdown",
   "metadata": {},
   "source": [
    "<h2><a id=\"step_3\">Step 3: Autosomal Variants and MAF Filtering</a></h2>"
   ]
  },
  {
   "cell_type": "code",
   "execution_count": 29,
   "metadata": {
    "ExecuteTime": {
     "end_time": "2020-01-14T21:12:48.809950Z",
     "start_time": "2020-01-14T21:12:48.752087Z"
    }
   },
   "outputs": [],
   "source": [
    "mt_qc2 = hl.read_matrix_table(osp.join(data_dir, 'HapMap_3_r3_6.mt'))"
   ]
  },
  {
   "cell_type": "code",
   "execution_count": 31,
   "metadata": {
    "ExecuteTime": {
     "end_time": "2020-01-14T21:13:16.297337Z",
     "start_time": "2020-01-14T21:13:16.190539Z"
    }
   },
   "outputs": [
    {
     "name": "stdout",
     "output_type": "stream",
     "text": [
      "CPU times: user 20.9 ms, sys: 0 ns, total: 20.9 ms\n",
      "Wall time: 99.1 ms\n"
     ]
    }
   ],
   "source": [
    "%%time\n",
    "# Verify that there are 112 founders (implying 53 nonfounders) per plink results\n",
    "num_founders = mt_qc2.filter_cols(hl.is_missing(mt_qc2.pat_id) & hl.is_missing(mt_qc2.mat_id)).count_cols()\n",
    "assert num_founders == 112"
   ]
  },
  {
   "cell_type": "code",
   "execution_count": 127,
   "metadata": {
    "ExecuteTime": {
     "end_time": "2020-01-14T22:45:13.159170Z",
     "start_time": "2020-01-14T22:45:12.478792Z"
    }
   },
   "outputs": [
    {
     "name": "stdout",
     "output_type": "stream",
     "text": [
      "(1092657, 165)\n",
      "Elapsed time: 0.7 seconds\n"
     ]
    }
   ],
   "source": [
    "%%timeop -o qc3\n",
    "\n",
    "def good_variants(mt):\n",
    "    # Base AF calculations only on founders and autosomal variants\n",
    "    mt = mt.filter_cols(hl.is_missing(mt.pat_id) & hl.is_missing(mt.mat_id))\n",
    "    mt = mt.filter_rows((mt.locus.contig != \"X\") & (mt.locus.contig != \"Y\"))\n",
    "    # There are always two elements in AF array and if only one allele exists in data,\n",
    "    # the values will be 0 and 1 (so no explicit check is needed for monoallelic variants)\n",
    "    mt = mt.filter_rows(hl.min(mt.variant_qc.AF) > 0.05)    \n",
    "    return mt\n",
    "\n",
    "def qc_3(mt):\n",
    "    # This could be done by any of the following:\n",
    "    # 1. Create an hl.set (must .collect() which is slow) containing the bad variant rsids and using mt.filter_rows\n",
    "    # 2. Use hl.is_defined as a boolean expression to filter rows where one column in left join is missing\n",
    "    #   - Ex: dataset.filter_rows(hl.is_defined(pruned_variant_table[dataset.row_key]))\n",
    "    # 3. Use semi_join (or anti_join to drop rather than preserve) intersecting keys (this is fastest by far)\n",
    "    return mt.semi_join_rows(good_variants(mt).rows())\n",
    "\n",
    "mt_qc3 = qc_3(mt_qc2)\n",
    "print(mt_qc3.count())"
   ]
  },
  {
   "cell_type": "code",
   "execution_count": 116,
   "metadata": {
    "ExecuteTime": {
     "end_time": "2020-01-14T22:32:48.382815Z",
     "start_time": "2020-01-14T22:32:44.400425Z"
    }
   },
   "outputs": [],
   "source": [
    "assert pd.Series(hl.min(mt_qc3.variant_qc.AF).collect()).min() >= .05"
   ]
  },
  {
   "cell_type": "code",
   "execution_count": 106,
   "metadata": {
    "ExecuteTime": {
     "end_time": "2020-01-14T22:26:58.387861Z",
     "start_time": "2020-01-14T22:26:53.741090Z"
    }
   },
   "outputs": [
    {
     "data": {
      "image/png": "[encoded data removed]",
      "text/plain": [
       "<Figure size 1152x216 with 1 Axes>"
      ]
     },
     "metadata": {
      "needs_background": "light"
     },
     "output_type": "display_data"
    }
   ],
   "source": [
    "ax = pd.Series(hl.min(mt_qc3.variant_qc.AF).collect()).plot(kind='hist', bins=64, figsize=(16, 3), )"
   ]
  },
  {
   "cell_type": "code",
   "execution_count": 108,
   "metadata": {
    "ExecuteTime": {
     "end_time": "2020-01-14T22:27:57.458674Z",
     "start_time": "2020-01-14T22:27:52.194195Z"
    }
   },
   "outputs": [
    {
     "name": "stderr",
     "output_type": "stream",
     "text": [
      "2020-01-14 22:27:57 Hail: INFO: wrote matrix table with 1092657 rows and 165 columns in 16 partitions to /home/eczech/data/gwas/tutorial/1_QC_GWAS/HapMap_3_r3_8.mt\n"
     ]
    }
   ],
   "source": [
    "mt_qc3.write(osp.join(data_dir, 'HapMap_3_r3_8.mt'), overwrite=True)"
   ]
  },
  {
   "cell_type": "markdown",
   "metadata": {},
   "source": [
    "<h2><a id=\"step_4\">Step 4: Hardy-Weinberg Equilibrium Filtering</a></h2>"
   ]
  },
  {
   "cell_type": "code",
   "execution_count": 131,
   "metadata": {
    "ExecuteTime": {
     "end_time": "2020-01-14T22:49:37.112240Z",
     "start_time": "2020-01-14T22:49:37.052675Z"
    }
   },
   "outputs": [],
   "source": [
    "mt_qc3 = hl.read_matrix_table(osp.join(data_dir, 'HapMap_3_r3_8.mt'))"
   ]
  },
  {
   "cell_type": "code",
   "execution_count": 132,
   "metadata": {
    "ExecuteTime": {
     "end_time": "2020-01-14T22:49:40.284287Z",
     "start_time": "2020-01-14T22:49:38.636513Z"
    }
   },
   "outputs": [
    {
     "name": "stdout",
     "output_type": "stream",
     "text": [
      "(1092644, 165)\n",
      "Elapsed time: 1.6 seconds\n"
     ]
    }
   ],
   "source": [
    "%%timeop -o qc4\n",
    "\n",
    "def good_variants(mt, threshold, use_founder_controls):\n",
    "    if use_founder_controls:\n",
    "        mt = mt.filter_cols(hl.is_missing(mt.pat_id) & hl.is_missing(mt.mat_id))\n",
    "        # ~mt.iscase will be false if is_case is missing\n",
    "        mt = mt.filter_cols(~mt.is_case)\n",
    "    mt = mt.filter_rows(mt.variant_qc.p_value_hwe > threshold)\n",
    "    return mt\n",
    "\n",
    "def qc_4(mt):\n",
    "    # This could be done by any of the following:\n",
    "    # 1. Create an hl.set (must .collect() which is slow) containing the bad variant rsids and using mt.filter_rows\n",
    "    # 2. Use hl.is_defined as a boolean expression to filter rows where one column in left join is missing\n",
    "    #   - Ex: mt.filter_cols(hl.is_defined(related_samples_to_remove[mt.col_key]), keep=False)\n",
    "    #   - See: https://hail.is/docs/0.2/methods/genetics.html#hail.methods.ld_prune\n",
    "    # 3. Use semi_join (or anti_join to drop rather than preserve) intersecting keys (this is fastest by far)\n",
    "    mt = mt.semi_join_rows(good_variants(mt, 1e-6, True).rows())\n",
    "    mt = mt.semi_join_rows(good_variants(mt, 1e-10, False).rows())\n",
    "    return mt\n",
    "\n",
    "mt_qc4 = qc_4(mt_qc3)\n",
    "print(mt_qc4.count())"
   ]
  },
  {
   "cell_type": "code",
   "execution_count": 133,
   "metadata": {
    "ExecuteTime": {
     "end_time": "2020-01-14T22:50:43.999094Z",
     "start_time": "2020-01-14T22:50:36.307113Z"
    }
   },
   "outputs": [
    {
     "name": "stderr",
     "output_type": "stream",
     "text": [
      "2020-01-14 22:50:43 Hail: INFO: wrote matrix table with 1092644 rows and 165 columns in 16 partitions to /home/eczech/data/gwas/tutorial/1_QC_GWAS/HapMap_3_r3_9.mt\n"
     ]
    }
   ],
   "source": [
    "mt_qc4.write(osp.join(data_dir, 'HapMap_3_r3_9.mt'), overwrite=True)"
   ]
  },
  {
   "cell_type": "markdown",
   "metadata": {},
   "source": [
    "<h2><a id=\"step_5\">Step 5: Heterozygosity Filtering</a></h2>"
   ]
  },
  {
   "cell_type": "code",
   "execution_count": 150,
   "metadata": {
    "ExecuteTime": {
     "end_time": "2020-01-14T23:07:45.138312Z",
     "start_time": "2020-01-14T23:07:45.089135Z"
    }
   },
   "outputs": [],
   "source": [
    "mt_qc4 = hl.read_matrix_table(osp.join(data_dir, 'HapMap_3_r3_9.mt'))"
   ]
  },
  {
   "cell_type": "code",
   "execution_count": 152,
   "metadata": {
    "ExecuteTime": {
     "end_time": "2020-01-14T23:11:48.611881Z",
     "start_time": "2020-01-14T23:08:39.899101Z"
    }
   },
   "outputs": [
    {
     "name": "stderr",
     "output_type": "stream",
     "text": [
      "2020-01-14 23:08:39 Hail: INFO: ld_prune: running local pruning stage with max queue size of 729445 variants\n",
      "2020-01-14 23:08:42 Hail: INFO: wrote table with 146145 rows in 16 partitions to file:/tmp/hail.PDC7aIyt1MRR/x0MAJ06eBS\n",
      "2020-01-14 23:08:47 Hail: INFO: Wrote all 36 blocks of 146145 x 165 matrix with block size 4096.\n",
      "2020-01-14 23:11:48 Hail: INFO: wrote table with 77 rows in 71 partitions to file:/tmp/hail.PDC7aIyt1MRR/PfTdEON0dL\n"
     ]
    },
    {
     "name": "stdout",
     "output_type": "stream",
     "text": [
      "<hail.matrixtable.MatrixTable object at 0x7fc652f166d0>\n",
      "Elapsed time: 188.7 seconds\n"
     ]
    }
   ],
   "source": [
    "%%timeop -o qc5\n",
    "\n",
    "def qc_5(mt):\n",
    "    variants = hl.ld_prune(mt.GT, r2=0.2, bp_window_size=500000)\n",
    "    mt = mt.filter_rows(hl.is_defined(variants[mt.row_key]))\n",
    "    mt = mt.filter_rows((mt.locus.contig != \"X\") & (mt.locus.contig != \"Y\"))\n",
    "    mt = mt.annotate_cols(het_rate=mt.sample_qc.n_het / mt.sample_qc.n_called)\n",
    "    return mt, variants\n",
    "\n",
    "mt_qc5, variants = qc_5(mt_qc4)\n",
    "print(mt_qc5)"
   ]
  },
  {
   "cell_type": "code",
   "execution_count": 153,
   "metadata": {
    "ExecuteTime": {
     "end_time": "2020-01-14T23:11:48.868119Z",
     "start_time": "2020-01-14T23:11:48.613133Z"
    }
   },
   "outputs": [
    {
     "data": {
      "text/plain": [
       "<matplotlib.axes._subplots.AxesSubplot at 0x7fc657b234d0>"
      ]
     },
     "execution_count": 153,
     "metadata": {},
     "output_type": "execute_result"
    },
    {
     "data": {
      "image/png": "[encoded data removed]",
      "text/plain": [
       "<Figure size 1152x216 with 1 Axes>"
      ]
     },
     "metadata": {
      "needs_background": "light"
     },
     "output_type": "display_data"
    }
   ],
   "source": [
    "pd.Series(mt_qc5.het_rate.collect()).plot(kind='hist', bins=32, figsize=(16, 3))"
   ]
  }
 ],
 "metadata": {
  "kernelspec": {
   "display_name": "Python 3",
   "language": "python",
   "name": "python3"
  },
  "language_info": {
   "codemirror_mode": {
    "name": "ipython",
    "version": 3
   },
   "file_extension": ".py",
   "mimetype": "text/x-python",
   "name": "python",
   "nbconvert_exporter": "python",
   "pygments_lexer": "ipython3",
   "version": "3.7.6"
  }
 },
 "nbformat": 4,
 "nbformat_minor": 4
}
