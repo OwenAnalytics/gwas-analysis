{
 "cells": [
  {
   "cell_type": "code",
   "execution_count": 1,
   "metadata": {},
   "outputs": [
    {
     "data": {
      "text/plain": [
       "\u001b[32mimport \u001b[39m\u001b[36m$file.$    , plink._\n",
       "\u001b[39m\n",
       "\u001b[32mimport \u001b[39m\u001b[36morg.apache.spark.sql.Row\u001b[39m"
      ]
     },
     "execution_count": 1,
     "metadata": {},
     "output_type": "execute_result"
    }
   ],
   "source": [
    "import $file.plink, plink._\n",
    "import org.apache.spark.sql.Row"
   ]
  },
  {
   "cell_type": "code",
   "execution_count": 2,
   "metadata": {},
   "outputs": [
    {
     "name": "stderr",
     "output_type": "stream",
     "text": [
      "SLF4J: Class path contains multiple SLF4J bindings.\n",
      "SLF4J: Found binding in [jar:file:/home/eczech/.cache/coursier/v1/https/repo1.maven.org/maven2/org/slf4j/slf4j-log4j12/1.7.16/slf4j-log4j12-1.7.16.jar!/org/slf4j/impl/StaticLoggerBinder.class]\n",
      "SLF4J: Found binding in [jar:file:/home/eczech/.cache/coursier/v1/https/repo1.maven.org/maven2/org/slf4j/slf4j-log4j12/1.7.25/slf4j-log4j12-1.7.25.jar!/org/slf4j/impl/StaticLoggerBinder.class]\n",
      "SLF4J: See http://www.slf4j.org/codes.html#multiple_bindings for an explanation.\n",
      "SLF4J: Actual binding is of type [org.slf4j.impl.Log4jLoggerFactory]\n",
      "18:22:26.566 WARN  NativeCodeLoader:62 - Unable to load native-hadoop library for your platform... using builtin-java classes where applicable\n"
     ]
    },
    {
     "data": {
      "text/plain": [
       "\u001b[36miter\u001b[39m: \u001b[32mIterator\u001b[39m[\u001b[32mRow\u001b[39m] = \u001b[32mnon-empty iterator\u001b[39m"
      ]
     },
     "execution_count": 2,
     "metadata": {},
     "output_type": "execute_result"
    }
   ],
   "source": [
    "//val iter = plink.PlinkReader.getRowIterator(\"/home/eczech/data/gwas/tutorial/2_PS_GWAS/HapMap_3_r3_13.bed\")\n",
    "val iter = plink.PlinkReader.getRowIterator(\"/home/eczech/data/gwas/rice-snpseek/3K_RG_29mio_biallelic_SNPs_Dataset/NB_final_snp.bed\")"
   ]
  },
  {
   "cell_type": "code",
   "execution_count": 1,
   "metadata": {},
   "outputs": [],
   "source": [
    "//val rows = iter.take(10).toList\n",
    "// import io.projectglow.common.VariantSchemas\n",
    "// VariantSchemas.plinkSchema(true)"
   ]
  },
  {
   "cell_type": "code",
   "execution_count": 3,
   "metadata": {},
   "outputs": [
    {
     "ename": "",
     "evalue": "",
     "output_type": "error",
     "traceback": [
      "Interrupted!\n  io.projectglow.sql.util.RowConverter.apply(\u001b[32mRowConverter.scala\u001b[39m:\u001b[32m41\u001b[39m)\n  io.projectglow.sql.util.RowConverter.apply(\u001b[32mRowConverter.scala\u001b[39m:\u001b[32m34\u001b[39m)\n  io.projectglow.plink.PlinkRowToInternalRowConverter$$anonfun$1$$anonfun$2.apply(\u001b[32mPlinkRowToInternalRowConverter.scala\u001b[39m:\u001b[32m63\u001b[39m)\n  io.projectglow.plink.PlinkRowToInternalRowConverter$$anonfun$1$$anonfun$2.apply(\u001b[32mPlinkRowToInternalRowConverter.scala\u001b[39m:\u001b[32m55\u001b[39m)\n  io.projectglow.sql.util.RowConverter.apply(\u001b[32mRowConverter.scala\u001b[39m:\u001b[32m41\u001b[39m)\n  io.projectglow.plink.PlinkRowToInternalRowConverter.convertRow(\u001b[32mPlinkRowToInternalRowConverter.scala\u001b[39m:\u001b[32m105\u001b[39m)\n  ammonite.$sess.plink$Helper$PlinkReader$$anonfun$getRowIterator$1.apply(\u001b[32mplink.sc\u001b[39m:\u001b[32m61\u001b[39m)\n  ammonite.$sess.plink$Helper$PlinkReader$$anonfun$getRowIterator$1.apply(\u001b[32mplink.sc\u001b[39m:\u001b[32m60\u001b[39m)\n  scala.collection.Iterator$$anon$11.next(\u001b[32mIterator.scala\u001b[39m:\u001b[32m410\u001b[39m)\n  scala.collection.Iterator$$anon$11.next(\u001b[32mIterator.scala\u001b[39m:\u001b[32m410\u001b[39m)\n  scala.collection.Iterator$class.foreach(\u001b[32mIterator.scala\u001b[39m:\u001b[32m891\u001b[39m)\n  scala.collection.AbstractIterator.foreach(\u001b[32mIterator.scala\u001b[39m:\u001b[32m1334\u001b[39m)\n  scala.collection.generic.Growable$class.$plus$plus$eq(\u001b[32mGrowable.scala\u001b[39m:\u001b[32m59\u001b[39m)\n  scala.collection.mutable.ListBuffer.$plus$plus$eq(\u001b[32mListBuffer.scala\u001b[39m:\u001b[32m183\u001b[39m)\n  scala.collection.mutable.ListBuffer.$plus$plus$eq(\u001b[32mListBuffer.scala\u001b[39m:\u001b[32m45\u001b[39m)\n  scala.collection.TraversableOnce$class.to(\u001b[32mTraversableOnce.scala\u001b[39m:\u001b[32m310\u001b[39m)\n  scala.collection.AbstractIterator.to(\u001b[32mIterator.scala\u001b[39m:\u001b[32m1334\u001b[39m)\n  scala.collection.TraversableOnce$class.toList(\u001b[32mTraversableOnce.scala\u001b[39m:\u001b[32m294\u001b[39m)\n  scala.collection.AbstractIterator.toList(\u001b[32mIterator.scala\u001b[39m:\u001b[32m1334\u001b[39m)\n  ammonite.$sess.cmd2$Helper.<init>(\u001b[32mcmd2.sc\u001b[39m:\u001b[32m11\u001b[39m)\n  ammonite.$sess.cmd2$.<init>(\u001b[32mcmd2.sc\u001b[39m:\u001b[32m7\u001b[39m)\n  ammonite.$sess.cmd2$.<clinit>(\u001b[32mcmd2.sc\u001b[39m:\u001b[32m-1\u001b[39m)"
     ]
    }
   ],
   "source": [
    "def getCallRate(r: Row) = {\n",
    "    val rsid = r.getAs[Seq[String]](\"names\")(0)\n",
    "    val gt = r.getAs[Seq[Row]](\"genotypes\")\n",
    "    val nt = gt.size\n",
    "    val na = gt.map(c => if (c.getAs[Seq[Int]](\"calls\").filter(_ < 0).isEmpty) 0 else 1).sum\n",
    "    val cr = (nt - na).toFloat / nt.toFloat\n",
    "    (rsid, cr)\n",
    "}\n",
    "\n",
    "//val callRates = rows.map(getCallRate)\n",
    "val callRates = iter.map(getCallRate).toList"
   ]
  },
  {
   "cell_type": "code",
   "execution_count": 6,
   "metadata": {},
   "outputs": [
    {
     "data": {
      "text/plain": [
       "\u001b[36mres5\u001b[39m: \u001b[32mInt\u001b[39m = \u001b[32m1073216\u001b[39m"
      ]
     },
     "execution_count": 6,
     "metadata": {},
     "output_type": "execute_result"
    }
   ],
   "source": [
    "callRates.size"
   ]
  }
 ],
 "metadata": {
  "kernelspec": {
   "display_name": "Scala",
   "language": "scala",
   "name": "scala"
  },
  "language_info": {
   "codemirror_mode": "text/x-scala",
   "file_extension": ".scala",
   "mimetype": "text/x-scala",
   "name": "scala",
   "nbconvert_exporter": "script",
   "version": "2.11.12"
  }
 },
 "nbformat": 4,
 "nbformat_minor": 4
}
