{
 "cells": [
  {
   "cell_type": "code",
   "execution_count": 1,
   "metadata": {},
   "outputs": [
    {
     "data": {
      "text/plain": [
       "'/home/eczech/data/gwas/rice-snpseek/3K_RG_29mio_biallelic_SNPs_Dataset'"
      ]
     },
     "execution_count": 1,
     "metadata": {},
     "output_type": "execute_result"
    }
   ],
   "source": [
    "import os.path as osp\n",
    "import pandas as pd\n",
    "%run ../../init/benchmark.py\n",
    "register_timeop_magic(get_ipython(), 'plink')\n",
    "data_dir = osp.expanduser('~/data/gwas/rice-snpseek/3K_RG_29mio_biallelic_SNPs_Dataset')\n",
    "data_dir"
   ]
  },
  {
   "cell_type": "code",
   "execution_count": 2,
   "metadata": {},
   "outputs": [
    {
     "name": "stdout",
     "output_type": "stream",
     "text": [
      "PLINK v1.90b6.14 64-bit (7 Jan 2020)           www.cog-genomics.org/plink/1.9/\n",
      "(C) 2005-2020 Shaun Purcell, Christopher Chang   GNU General Public License v3\n",
      "Logging to NB_final_snp_2.log.\n",
      "Options in effect:\n",
      "  --bfile NB_final_snp\n",
      "  --geno 0.2\n",
      "  --make-bed\n",
      "  --out NB_final_snp_2\n",
      "\n",
      "128535 MB RAM detected; reserving 64267 MB for main workspace.\n",
      "29635224 variants loaded from .bim file.\n",
      "3024 people (0 males, 0 females, 3024 ambiguous) loaded from .fam.\n",
      "Ambiguous sex IDs written to NB_final_snp_2.nosex .\n",
      "Using 1 thread (no multithreaded calculations invoked).\n",
      "Before main variant filters, 3024 founders and 0 nonfounders present.\n",
      "Calculating allele frequencies... 10111213141516171819202122232425262728293031323334353637383940414243444546474849505152535455565758596061626364656667686970717273747576777879808182838485868788899091929394959697989 done.\n",
      "Total genotyping rate is 0.848201.\n",
      "7499112 variants removed due to missing genotype data (--geno).\n",
      "22136112 variants and 3024 people pass filters and QC.\n",
      "Note: No phenotypes present.\n",
      "--make-bed to NB_final_snp_2.bed + NB_final_snp_2.bim + NB_final_snp_2.fam ...\n",
      "101112131415161718192021222324252627282930313233343536373839404142434445464748495051525354555657585960616263646566676869707172737475767778798081828384858687888990919293949596979899done.\n",
      "PLINK v1.90b6.14 64-bit (7 Jan 2020)           www.cog-genomics.org/plink/1.9/\n",
      "(C) 2005-2020 Shaun Purcell, Christopher Chang   GNU General Public License v3\n",
      "Logging to NB_final_snp_3.log.\n",
      "Options in effect:\n",
      "  --bfile NB_final_snp_2\n",
      "  --make-bed\n",
      "  --mind 0.2\n",
      "  --out NB_final_snp_3\n",
      "\n",
      "128535 MB RAM detected; reserving 64267 MB for main workspace.\n",
      "22136112 variants loaded from .bim file.\n",
      "3024 people (0 males, 0 females, 3024 ambiguous) loaded from .fam.\n",
      "Ambiguous sex IDs written to NB_final_snp_3.nosex .\n",
      "1 person removed due to missing genotype data (--mind).\n",
      "ID written to NB_final_snp_3.irem .\n",
      "Using 1 thread (no multithreaded calculations invoked).\n",
      "Before main variant filters, 3023 founders and 0 nonfounders present.\n",
      "Calculating allele frequencies... 10111213141516171819202122232425262728293031323334353637383940414243444546474849505152535455565758596061626364656667686970717273747576777879808182838485868788899091929394959697989 done.\n",
      "Total genotyping rate in remaining samples is 0.965117.\n",
      "22136112 variants and 3023 people pass filters and QC.\n",
      "Note: No phenotypes present.\n",
      "--make-bed to NB_final_snp_3.bed + NB_final_snp_3.bim + NB_final_snp_3.fam ...\n",
      "101112131415161718192021222324252627282930313233343536373839404142434445464748495051525354555657585960616263646566676869707172737475767778798081828384858687888990919293949596979899done.\n",
      "PLINK v1.90b6.14 64-bit (7 Jan 2020)           www.cog-genomics.org/plink/1.9/\n",
      "(C) 2005-2020 Shaun Purcell, Christopher Chang   GNU General Public License v3\n",
      "Logging to NB_final_snp_4.log.\n",
      "Options in effect:\n",
      "  --bfile NB_final_snp_3\n",
      "  --geno 0.02\n",
      "  --make-bed\n",
      "  --out NB_final_snp_4\n",
      "\n",
      "128535 MB RAM detected; reserving 64267 MB for main workspace.\n",
      "22136112 variants loaded from .bim file.\n",
      "3023 people (0 males, 0 females, 3023 ambiguous) loaded from .fam.\n",
      "Ambiguous sex IDs written to NB_final_snp_4.nosex .\n",
      "Using 1 thread (no multithreaded calculations invoked).\n",
      "Before main variant filters, 3023 founders and 0 nonfounders present.\n",
      "Calculating allele frequencies... 10111213141516171819202122232425262728293031323334353637383940414243444546474849505152535455565758596061626364656667686970717273747576777879808182838485868788899091929394959697989 done.\n",
      "Total genotyping rate is 0.965117.\n",
      "8754409 variants removed due to missing genotype data (--geno).\n",
      "13381703 variants and 3023 people pass filters and QC.\n",
      "Note: No phenotypes present.\n",
      "--make-bed to NB_final_snp_4.bed + NB_final_snp_4.bim + NB_final_snp_4.fam ...\n",
      "101112131415161718192021222324252627282930313233343536373839404142434445464748495051525354555657585960616263646566676869707172737475767778798081828384858687888990919293949596979899done.\n",
      "PLINK v1.90b6.14 64-bit (7 Jan 2020)           www.cog-genomics.org/plink/1.9/\n",
      "(C) 2005-2020 Shaun Purcell, Christopher Chang   GNU General Public License v3\n",
      "Logging to NB_final_snp_5.log.\n",
      "Options in effect:\n",
      "  --bfile NB_final_snp_4\n",
      "  --make-bed\n",
      "  --mind 0.02\n",
      "  --out NB_final_snp_5\n",
      "\n",
      "128535 MB RAM detected; reserving 64267 MB for main workspace.\n",
      "13381703 variants loaded from .bim file.\n",
      "3023 people (0 males, 0 females, 3023 ambiguous) loaded from .fam.\n",
      "Ambiguous sex IDs written to NB_final_snp_5.nosex .\n",
      "123 people removed due to missing genotype data (--mind).\n",
      "IDs written to NB_final_snp_5.irem .\n",
      "Using 1 thread (no multithreaded calculations invoked).\n",
      "Before main variant filters, 2900 founders and 0 nonfounders present.\n",
      "Calculating allele frequencies... 10111213141516171819202122232425262728293031323334353637383940414243444546474849505152535455565758596061626364656667686970717273747576777879808182838485868788899091929394959697989 done.\n",
      "Total genotyping rate in remaining samples is 0.995347.\n",
      "13381703 variants and 2900 people pass filters and QC.\n",
      "Note: No phenotypes present.\n",
      "--make-bed to NB_final_snp_5.bed + NB_final_snp_5.bim + NB_final_snp_5.fam ...\n",
      "101112131415161718192021222324252627282930313233343536373839404142434445464748495051525354555657585960616263646566676869707172737475767778798081828384858687888990919293949596979899done.\n",
      "Elapsed time: 132.6 seconds\n"
     ]
    }
   ],
   "source": [
    "%%timeop -o rg1\n",
    "%%bash -s \"$data_dir\"\n",
    "set -e; cd $1\n",
    "\n",
    "# Delete SNPs and individuals with high levels of missingness, explanation of this and all following steps can be found in box 1 and table 1 of the article mentioned in the comments of this script.\n",
    "# The following two QC commands will not remove any SNPs or individuals. However, it is good practice to start the QC with these non-stringent thresholds.  \n",
    "# Delete SNPs with missingness >0.2.\n",
    "plink --bfile NB_final_snp --geno 0.2 --make-bed --out NB_final_snp_2\n",
    "\n",
    "# Delete individuals with missingness >0.2.\n",
    "plink --bfile NB_final_snp_2 --mind 0.2 --make-bed --out NB_final_snp_3\n",
    "\n",
    "# Delete SNPs with missingness >0.02.\n",
    "plink --bfile NB_final_snp_3 --geno 0.02 --make-bed --out NB_final_snp_4\n",
    "\n",
    "# Delete individuals with missingness >0.02.\n",
    "plink --bfile NB_final_snp_4 --mind 0.02 --make-bed --out NB_final_snp_5"
   ]
  },
  {
   "cell_type": "code",
   "execution_count": 3,
   "metadata": {},
   "outputs": [],
   "source": [
    "%%bash -s \"$data_dir\"\n",
    "set -e; cd $1\n",
    "rm NB_final_snp_{2,3,4}.*"
   ]
  }
 ],
 "metadata": {
  "kernelspec": {
   "display_name": "Python 3",
   "language": "python",
   "name": "python3"
  },
  "language_info": {
   "codemirror_mode": {
    "name": "ipython",
    "version": 3
   },
   "file_extension": ".py",
   "mimetype": "text/x-python",
   "name": "python",
   "nbconvert_exporter": "python",
   "pygments_lexer": "ipython3",
   "version": "3.7.6"
  }
 },
 "nbformat": 4,
 "nbformat_minor": 4
}
