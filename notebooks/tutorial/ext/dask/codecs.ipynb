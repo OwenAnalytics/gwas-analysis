{
 "cells": [
  {
   "cell_type": "code",
   "execution_count": 1,
   "metadata": {},
   "outputs": [],
   "source": [
    "import numpy as np"
   ]
  },
  {
   "cell_type": "code",
   "execution_count": 2,
   "metadata": {},
   "outputs": [
    {
     "data": {
      "text/plain": [
       "array([[3, 2, 2],\n",
       "       [0, 1, 2],\n",
       "       [1, 3, 2]], dtype=uint8)"
      ]
     },
     "execution_count": 2,
     "metadata": {},
     "output_type": "execute_result"
    }
   ],
   "source": [
    "xi = np.array([\n",
    "    [3, 2, 2],\n",
    "    [0, 1, 2],\n",
    "    [1, 3, 2]], dtype=np.uint8)\n",
    "#xp = np.unpackbits(xi).reshape((3, 3, 8))\n",
    "\n",
    "# better version of: xp = np.stack([xi & (1 << 0), xi & (1 << 1)], axis=2)\n",
    "xp = (xi[:,:,None] & (1 << np.arange(2)) > 0).astype(bool)\n",
    "\n",
    "\n",
    "np.packbits(xp, bitorder='little', axis=2).squeeze(axis=2)"
   ]
  },
  {
   "cell_type": "code",
   "execution_count": 3,
   "metadata": {},
   "outputs": [
    {
     "data": {
      "text/plain": [
       "array([[[ True,  True],\n",
       "        [False,  True],\n",
       "        [False,  True]],\n",
       "\n",
       "       [[False, False],\n",
       "        [ True, False],\n",
       "        [False,  True]],\n",
       "\n",
       "       [[ True, False],\n",
       "        [ True,  True],\n",
       "        [False,  True]]])"
      ]
     },
     "execution_count": 3,
     "metadata": {},
     "output_type": "execute_result"
    }
   ],
   "source": [
    "(xi[:,:,None] & (1 << np.arange(2)) > 0).astype(bool)"
   ]
  },
  {
   "cell_type": "code",
   "execution_count": 4,
   "metadata": {},
   "outputs": [
    {
     "data": {
      "text/plain": [
       "array([[3, 2, 2],\n",
       "       [0, 1, 2],\n",
       "       [1, 3, 2]], dtype=uint8)"
      ]
     },
     "execution_count": 4,
     "metadata": {},
     "output_type": "execute_result"
    }
   ],
   "source": [
    "np.squeeze(np.packbits(np.array([\n",
    "    [[1, 1], [0, 1], [0, 1]],\n",
    "    [[0, 0], [1, 0], [0, 1]],\n",
    "    [[1, 0], [1, 1], [0, 1]]\n",
    "]), bitorder='little', axis=2), axis=2)"
   ]
  },
  {
   "cell_type": "code",
   "execution_count": 13,
   "metadata": {},
   "outputs": [],
   "source": [
    "%run codecs.py"
   ]
  },
  {
   "cell_type": "code",
   "execution_count": 14,
   "metadata": {},
   "outputs": [],
   "source": [
    "codec = PackGeneticBits()"
   ]
  },
  {
   "cell_type": "code",
   "execution_count": 15,
   "metadata": {},
   "outputs": [
    {
     "data": {
      "text/plain": [
       "array([  6, 212, 155,  64], dtype=uint8)"
      ]
     },
     "execution_count": 15,
     "metadata": {},
     "output_type": "execute_result"
    }
   ],
   "source": [
    "codec.encode(xi)"
   ]
  },
  {
   "cell_type": "code",
   "execution_count": 18,
   "metadata": {},
   "outputs": [
    {
     "data": {
      "text/plain": [
       "array([[3, 2, 2],\n",
       "       [0, 1, 2],\n",
       "       [1, 3, 2]], dtype=uint8)"
      ]
     },
     "execution_count": 18,
     "metadata": {},
     "output_type": "execute_result"
    }
   ],
   "source": [
    "codec.decode(codec.encode(xi)).reshape(xi.shape)"
   ]
  }
 ],
 "metadata": {
  "kernelspec": {
   "display_name": "Python 3",
   "language": "python",
   "name": "python3"
  },
  "language_info": {
   "codemirror_mode": {
    "name": "ipython",
    "version": 3
   },
   "file_extension": ".py",
   "mimetype": "text/x-python",
   "name": "python",
   "nbconvert_exporter": "python",
   "pygments_lexer": "ipython3",
   "version": "3.7.6"
  }
 },
 "nbformat": 4,
 "nbformat_minor": 4
}
