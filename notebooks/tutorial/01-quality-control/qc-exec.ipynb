{
 "cells": [
  {
   "cell_type": "code",
   "execution_count": null,
   "metadata": {},
   "outputs": [],
   "source": [
    "!conda install -c conda-forge jupyter_contrib_nbextensions"
   ]
  },
  {
   "cell_type": "code",
   "execution_count": 2,
   "metadata": {},
   "outputs": [
    {
     "name": "stderr",
     "output_type": "stream",
     "text": [
      "[NbConvertApp] WARNING | Config option `template_path` not recognized by `NotebookExporter`.\n",
      "[NbConvertApp] Converting notebook Untitled.ipynb to notebook\n",
      "[NbConvertApp] Executing notebook with kernel: scala\n",
      "[NbConvertApp] Writing 852 bytes to renders/Untitled-glow-mt-01.ipynb\n",
      "[NbConvertApp] WARNING | Config option `template_path` not recognized by `NotebookExporter`.\n",
      "[NbConvertApp] Converting notebook Untitled.ipynb to notebook\n",
      "[NbConvertApp] Executing notebook with kernel: scala\n",
      "[NbConvertApp] Writing 852 bytes to renders/Untitled-glow-mt-02.ipynb\n",
      "[NbConvertApp] WARNING | Config option `template_path` not recognized by `NotebookExporter`.\n",
      "[NbConvertApp] Converting notebook Untitled.ipynb to notebook\n",
      "[NbConvertApp] Executing notebook with kernel: scala\n",
      "[NbConvertApp] Writing 852 bytes to renders/Untitled-glow-mt-03.ipynb\n"
     ]
    }
   ],
   "source": [
    "%%bash\n",
    "for tutorial in \"glowmt\"; do\n",
    "  for i in \"01\" \"02\" \"03\"; do\n",
    "    INPUT_NB=\"gwas-tutorial-$tutorial.ipynb\"\n",
    "    OUTPUT_NB=\"gwas-tutorial-$tutorial-$i.ipynb\"\n",
    "    echo \"jupyter nbconvert --to notebook --output-dir renders --output $OUTPUT_NB --execute $INPUT_NB\"\n",
    "  done\n",
    "done"
   ]
  }
 ],
 "metadata": {
  "kernelspec": {
   "display_name": "Python 3",
   "language": "python",
   "name": "python3"
  },
  "language_info": {
   "codemirror_mode": {
    "name": "ipython",
    "version": 3
   },
   "file_extension": ".py",
   "mimetype": "text/x-python",
   "name": "python",
   "nbconvert_exporter": "python",
   "pygments_lexer": "ipython3",
   "version": "3.7.6"
  }
 },
 "nbformat": 4,
 "nbformat_minor": 4
}
