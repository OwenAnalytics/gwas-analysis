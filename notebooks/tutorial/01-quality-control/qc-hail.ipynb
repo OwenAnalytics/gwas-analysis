{
 "cells": [
  {
   "cell_type": "code",
   "execution_count": 1,
   "metadata": {
    "ExecuteTime": {
     "end_time": "2020-01-15T13:13:54.078369Z",
     "start_time": "2020-01-15T13:13:49.998430Z"
    }
   },
   "outputs": [
    {
     "name": "stderr",
     "output_type": "stream",
     "text": [
      "Running on Apache Spark version 2.4.4\n",
      "SparkUI available at http://3d498b83ee57:4042\n",
      "Welcome to\n",
      "     __  __     <>__\n",
      "    / /_/ /__  __/ /\n",
      "   / __  / _ `/ / /\n",
      "  /_/ /_/\\_,_/_/_/   version 0.2.30-2ae07d872f43\n",
      "LOGGING: writing to /home/eczech/repos/gwas-analysis/notebooks/tutorial/01-quality-control/hail-20200119-1507-0.2.30-2ae07d872f43.log\n"
     ]
    }
   ],
   "source": [
    "import pandas as pd\n",
    "import numpy as np\n",
    "import seaborn as sns\n",
    "import matplotlib.pyplot as plt\n",
    "import hail as hl\n",
    "import os.path as osp\n",
    "import multiprocessing\n",
    "%run ../../nb.py\n",
    "%run $TUTORIAL_DIR/reference_genome.py\n",
    "gab.register_timeop_magic(get_ipython(), 'hail')\n",
    "data_dir = TUTORIAL_1_QC_DIR\n",
    "hl.init() "
   ]
  },
  {
   "cell_type": "code",
   "execution_count": 2,
   "metadata": {
    "ExecuteTime": {
     "end_time": "2020-01-14T17:10:56.991680Z",
     "start_time": "2020-01-14T17:10:56.988553Z"
    }
   },
   "outputs": [],
   "source": [
    "# Set this in $SPARK_HOME/spark-env.sh\n",
    "# hl.spark_context()._conf. get(\"spark.driver.memory\")"
   ]
  },
  {
   "cell_type": "markdown",
   "metadata": {},
   "source": [
    "<h2><a id=\"load_raw_data\">Load Raw Data</a></h2>\n",
    "\n",
    "Unlike with PLINK, some accomodations need to be made for Hail in order to properly interpret loci in HapMap Phase III data (HM3).  Hail with throw errors (namely ```loci N is not in range```) if a reference genome is not configured that reflects what is now genetic data based on deprecated genome builds.  A [Hail Reference Genome](https://hail.is/docs/0.2/genetics/hail.genetics.ReferenceGenome.html) definiton is pre-defined for GRCh37 and GRCh38 but HM3 uses hg18 (aka NCBI36).  The [NCBI36 Assembly Statistics](https://www.ncbi.nlm.nih.gov/assembly/GCF_000001405.12/#/st) site contains everything necessary to do this and also provides a \"statistics report\" via ftp that can be filtered as follows to generate contig lengths:\n",
    "\n",
    "```bash\n",
    "curl -s ftp://ftp.ncbi.nlm.nih.gov/genomes/all/GCF/000/001/405/GCF_000001405.12_NCBI36/GCF_000001405.12_NCBI36_assembly_stats.txt | grep -E \"Primary Assembly.*Chromosome.*assembled-molecule.*total-length\"\n",
    "Primary Assembly\t1\tChromosome\tassembled-molecule\ttotal-length\t247249719\n",
    "Primary Assembly\t2\tChromosome\tassembled-molecule\ttotal-length\t242951149\n",
    "...\n",
    "Primary Assembly\t22\tChromosome\tassembled-molecule\ttotal-length\t49691432\n",
    "Primary Assembly\tX\tChromosome\tassembled-molecule\ttotal-length\t154913754\n",
    "Primary Assembly\tY\tChromosome\tassembled-molecule\ttotal-length\t57772954\n",
    "```\n",
    "\n",
    "Other helpful resources:\n",
    "\n",
    "- [GRCh38 Assembly Statistics](https://www.ncbi.nlm.nih.gov/assembly/GCF_000001405.39#/st_Primary-Assembly): The statistics there can be compared to the built-in Hail genomes (e.g. ```hl.get_reference('GRCh38')```)\n",
    "- [UCSC Data FAQ](https://genome.ucsc.edu/FAQ/FAQdownloads.html): This FAQ contains explanations for the meaning of unaligned contigs (see [chr_alt Chromosome](https://genome.ucsc.edu/FAQ/FAQdownloads.html#downloadAlt) and [chrN_random tables](https://genome.ucsc.edu/FAQ/FAQdownloads.html#download10))\n",
    "- [GRC Assembly Terminology](https://www.ncbi.nlm.nih.gov/grc/help/definitions/): This glossary is also helpful for understanding the PARs and alternate loci defined as special contigs\n"
   ]
  },
  {
   "cell_type": "code",
   "execution_count": 5,
   "metadata": {
    "ExecuteTime": {
     "end_time": "2020-01-15T13:14:49.975775Z",
     "start_time": "2020-01-15T13:14:49.950088Z"
    }
   },
   "outputs": [
    {
     "data": {
      "text/plain": [
       "ReferenceGenome(name=hapmap3_hg18, contigs=['1', '2', '3', '4', '5', '6', '7', '8', '9', '10', '11', '12', '13', '14', '15', '16', '17', '18', '19', '20', '21', '22', '23', '25'], lengths={'1': 247249719, '2': 242951149, '3': 199501827, '4': 191273063, '5': 180857866, '6': 170899992, '7': 158821424, '8': 146274826, '9': 140273252, '10': 135374737, '11': 134452384, '12': 132349534, '13': 114142980, '14': 106368585, '15': 100338915, '16': 88827254, '17': 78774742, '18': 76117153, '19': 63811651, '20': 62435964, '21': 46944323, '22': 49691432, '23': 154913754, '25': 154913754}, x_contigs=['23'], y_contigs=[], mt_contigs=[], par=[])"
      ]
     },
     "execution_count": 5,
     "metadata": {},
     "output_type": "execute_result"
    }
   ],
   "source": [
    "# Define custom reference for HapMap III data\n",
    "hl.ReferenceGenome(**hapmap3_hg18_rg())\n",
    "hl.get_reference('hapmap3_hg18')"
   ]
  },
  {
   "cell_type": "code",
   "execution_count": 8,
   "metadata": {
    "ExecuteTime": {
     "end_time": "2020-01-15T13:15:14.313365Z",
     "start_time": "2020-01-15T13:15:12.301383Z"
    }
   },
   "outputs": [
    {
     "name": "stderr",
     "output_type": "stream",
     "text": [
      "2020-01-15 13:15:14 Hail: INFO: Found 165 samples in fam file.\n",
      "2020-01-15 13:15:14 Hail: INFO: Found 1457897 variants in bim file.\n"
     ]
    }
   ],
   "source": [
    "# Load PLINK dataset using our custom reference\n",
    "mt_qc0 = hl.import_plink(\n",
    "    osp.join(data_dir, 'HapMap_3_r3_1.bed'),\n",
    "    osp.join(data_dir, 'HapMap_3_r3_1.bim'),\n",
    "    osp.join(data_dir, 'HapMap_3_r3_1.fam'),\n",
    "    skip_invalid_loci=False,\n",
    "    reference_genome='hapmap3_hg18'\n",
    ")"
   ]
  },
  {
   "cell_type": "markdown",
   "metadata": {},
   "source": [
    "#### Parititions\n",
    "\n",
    "Performance will be better if the number of partitions in the original dataset matches the number of CPUs on the system:"
   ]
  },
  {
   "cell_type": "code",
   "execution_count": 9,
   "metadata": {
    "ExecuteTime": {
     "end_time": "2020-01-15T13:15:21.763407Z",
     "start_time": "2020-01-15T13:15:14.316228Z"
    }
   },
   "outputs": [
    {
     "name": "stderr",
     "output_type": "stream",
     "text": [
      "2020-01-15 13:15:21 Hail: INFO: Coerced sorted dataset\n"
     ]
    },
    {
     "data": {
      "text/plain": [
       "2"
      ]
     },
     "execution_count": 9,
     "metadata": {},
     "output_type": "execute_result"
    }
   ],
   "source": [
    "mt_qc0.n_partitions()"
   ]
  },
  {
   "cell_type": "code",
   "execution_count": 10,
   "metadata": {
    "ExecuteTime": {
     "end_time": "2020-01-15T13:15:39.180909Z",
     "start_time": "2020-01-15T13:15:21.766388Z"
    }
   },
   "outputs": [
    {
     "name": "stderr",
     "output_type": "stream",
     "text": [
      "2020-01-15 13:15:26 Hail: INFO: Coerced sorted dataset\n"
     ]
    },
    {
     "data": {
      "text/plain": [
       "16"
      ]
     },
     "execution_count": 10,
     "metadata": {},
     "output_type": "execute_result"
    }
   ],
   "source": [
    "# Repartition to n_cpus\n",
    "mt_qc0 = mt_qc0.repartition(multiprocessing.cpu_count())\n",
    "mt_qc0.n_partitions()"
   ]
  },
  {
   "cell_type": "markdown",
   "metadata": {},
   "source": [
    "#### Cache Result\n",
    "\n",
    "Hail workflows typically start by materializing raw datasets as native [MatrixTable](https://hail.is/docs/0.2/hail.MatrixTable.html#hail.MatrixTable) structures on-disk.  This improves performance of downstream operations substantially."
   ]
  },
  {
   "cell_type": "code",
   "execution_count": 11,
   "metadata": {
    "ExecuteTime": {
     "end_time": "2020-01-15T13:16:17.585145Z",
     "start_time": "2020-01-15T13:15:39.184235Z"
    }
   },
   "outputs": [
    {
     "name": "stderr",
     "output_type": "stream",
     "text": [
      "2020-01-15 13:15:44 Hail: INFO: Coerced sorted dataset\n",
      "2020-01-15 13:16:17 Hail: INFO: wrote matrix table with 1457897 rows and 165 columns in 16 partitions to /home/eczech/data/gwas/tutorial/1_QC_GWAS/HapMap_3_r3_1.mt\n"
     ]
    }
   ],
   "source": [
    "# Materialize for downstream operations\n",
    "# NOTE: The reference genome is stored with the MatrixTable so any updates \n",
    "# that reference will not propagate until all datasets are rewritten\n",
    "mt_qc0.write(osp.join(data_dir, QC0_FILE + '.mt'), overwrite=True)"
   ]
  },
  {
   "cell_type": "code",
   "execution_count": 12,
   "metadata": {
    "ExecuteTime": {
     "end_time": "2020-01-15T13:16:23.183187Z",
     "start_time": "2020-01-15T13:16:17.589534Z"
    }
   },
   "outputs": [
    {
     "name": "stderr",
     "output_type": "stream",
     "text": [
      "2020-01-15 13:16:22 Hail: INFO: Coerced sorted dataset\n"
     ]
    },
    {
     "name": "stdout",
     "output_type": "stream",
     "text": [
      "(1457897, 165)\n",
      "Elapsed time: 5.6 seconds\n"
     ]
    }
   ],
   "source": [
    "%%timeop -o qc0-basic-count\n",
    "# Show (num variants, num samples)\n",
    "print(mt_qc0.count())"
   ]
  },
  {
   "cell_type": "markdown",
   "metadata": {},
   "source": [
    "<h2><a id=\"step_1\">Step 1: Sample/Variant Absence Filter</a></h2>"
   ]
  },
  {
   "cell_type": "code",
   "execution_count": 61,
   "metadata": {
    "ExecuteTime": {
     "end_time": "2020-01-15T13:56:44.259910Z",
     "start_time": "2020-01-15T13:56:44.216104Z"
    }
   },
   "outputs": [],
   "source": [
    "mt_qc0 = hl.read_matrix_table(osp.join(data_dir, QC0_FILE + '.mt'))"
   ]
  },
  {
   "cell_type": "code",
   "execution_count": 14,
   "metadata": {
    "ExecuteTime": {
     "end_time": "2020-01-15T13:16:23.487998Z",
     "start_time": "2020-01-15T13:16:23.241617Z"
    }
   },
   "outputs": [
    {
     "name": "stdout",
     "output_type": "stream",
     "text": [
      "----------------------------------------\n",
      "Global fields:\n",
      "    None\n",
      "----------------------------------------\n",
      "Column fields:\n",
      "    's': str\n",
      "    'fam_id': str\n",
      "    'pat_id': str\n",
      "    'mat_id': str\n",
      "    'is_female': bool\n",
      "    'is_case': bool\n",
      "    'sample_qc': struct {\n",
      "        call_rate: float64, \n",
      "        n_called: int64, \n",
      "        n_not_called: int64, \n",
      "        n_filtered: int64, \n",
      "        n_hom_ref: int64, \n",
      "        n_het: int64, \n",
      "        n_hom_var: int64, \n",
      "        n_non_ref: int64, \n",
      "        n_singleton: int64, \n",
      "        n_snp: int64, \n",
      "        n_insertion: int64, \n",
      "        n_deletion: int64, \n",
      "        n_transition: int64, \n",
      "        n_transversion: int64, \n",
      "        n_star: int64, \n",
      "        r_ti_tv: float64, \n",
      "        r_het_hom_var: float64, \n",
      "        r_insertion_deletion: float64\n",
      "    }\n",
      "----------------------------------------\n",
      "Row fields:\n",
      "    'locus': locus<hapmap3_hg18>\n",
      "    'alleles': array<str>\n",
      "    'rsid': str\n",
      "    'cm_position': float64\n",
      "    'variant_qc': struct {\n",
      "        AC: array<int32>, \n",
      "        AF: array<float64>, \n",
      "        AN: int32, \n",
      "        homozygote_count: array<int32>, \n",
      "        call_rate: float64, \n",
      "        n_called: int64, \n",
      "        n_not_called: int64, \n",
      "        n_filtered: int64, \n",
      "        n_het: int64, \n",
      "        n_non_ref: int64, \n",
      "        het_freq_hwe: float64, \n",
      "        p_value_hwe: float64\n",
      "    }\n",
      "----------------------------------------\n",
      "Entry fields:\n",
      "    'GT': call\n",
      "----------------------------------------\n",
      "Column key: ['s']\n",
      "Row key: ['locus', 'alleles']\n",
      "----------------------------------------\n"
     ]
    }
   ],
   "source": [
    "hl.variant_qc(hl.sample_qc(mt_qc0)).describe()"
   ]
  },
  {
   "cell_type": "code",
   "execution_count": 15,
   "metadata": {
    "ExecuteTime": {
     "end_time": "2020-01-15T13:16:33.766354Z",
     "start_time": "2020-01-15T13:16:23.489124Z"
    }
   },
   "outputs": [
    {
     "data": {
      "image/png": "[encoded data removed]",
      "text/plain": [
       "<Figure size 1152x216 with 2 Axes>"
      ]
     },
     "metadata": {
      "needs_background": "light"
     },
     "output_type": "display_data"
    }
   ],
   "source": [
    "fig, ax = plt.subplots(1, 2)\n",
    "sns.distplot(hl.sample_qc(mt_qc0).sample_qc.call_rate.collect(), bins=16, rug=True, kde=False, ax=ax[0])\n",
    "sns.distplot(hl.variant_qc(mt_qc0).variant_qc.call_rate.collect(), bins=16, rug=False, kde=False, ax=ax[1])\n",
    "fig.set_size_inches(16, 3)\n",
    "ax[0].set_title('Sample Call Rate Distribution')\n",
    "ax[1].set_title('Variant Call Rate Distribution')\n",
    "ax[1].set_yscale('log')"
   ]
  },
  {
   "cell_type": "code",
   "execution_count": 135,
   "metadata": {
    "ExecuteTime": {
     "end_time": "2020-01-15T14:59:53.142402Z",
     "start_time": "2020-01-15T14:59:49.327559Z"
    }
   },
   "outputs": [
    {
     "name": "stderr",
     "output_type": "stream",
     "text": [
      "2020-01-15 14:59:50 Hail: INFO: Coerced sorted dataset\n"
     ]
    },
    {
     "data": {
      "text/html": [
       "<table><thead style=\"font-weight: bold;\"><tr><td>s</td><td>n_called</td></tr>\n",
       "<tr><td>str</td><td>int64</td></tr>\n",
       "</thead><tbody><tr><td>&quot;NA12739&quot;</td><td>1428313</td></tr>\n",
       "</tbody></table>"
      ],
      "text/plain": [
       "+-----------+----------+\n",
       "| s         | n_called |\n",
       "+-----------+----------+\n",
       "| str       |    int64 |\n",
       "+-----------+----------+\n",
       "| \"NA12739\" |  1428313 |\n",
       "+-----------+----------+"
      ]
     },
     "metadata": {},
     "output_type": "display_data"
    },
    {
     "name": "stderr",
     "output_type": "stream",
     "text": [
      "2020-01-15 14:59:53 Hail: INFO: Coerced sorted dataset\n"
     ]
    },
    {
     "data": {
      "text/html": [
       "<table><thead style=\"font-weight: bold;\"><tr><td>s</td><td>n_called</td></tr>\n",
       "<tr><td>str</td><td>int64</td></tr>\n",
       "</thead><tbody><tr><td>&quot;NA12739&quot;</td><td>1402527</td></tr>\n",
       "</tbody></table>"
      ],
      "text/plain": [
       "+-----------+----------+\n",
       "| s         | n_called |\n",
       "+-----------+----------+\n",
       "| str       |    int64 |\n",
       "+-----------+----------+\n",
       "| \"NA12739\" |  1402527 |\n",
       "+-----------+----------+"
      ]
     },
     "metadata": {},
     "output_type": "display_data"
    }
   ],
   "source": [
    "def good_expression(mt):\n",
    "    mt = hl.variant_qc(mt)\n",
    "    mt = mt.filter_rows(mt.variant_qc.call_rate >= .98)\n",
    "    # Attach sample_qc after filtering\n",
    "    mt = hl.sample_qc(mt)\n",
    "    return mt\n",
    "\n",
    "def bad_expression(mt):\n",
    "    # Attach sample_qc before filtering\n",
    "    mt = hl.sample_qc(hl.variant_qc(mt))\n",
    "    mt = mt.filter_rows(mt.variant_qc.call_rate >= .98)\n",
    "    return mt\n",
    "\n",
    "def show_sample(mt):\n",
    "    mtc = mt.filter_cols(mt.s == \"NA12739\").cols()\n",
    "    mtc.select(mtc.sample_qc.n_called).show()\n",
    "\n",
    "show_sample(bad_expression(mt_qc0))\n",
    "show_sample(good_expression(mt_qc0))"
   ]
  },
  {
   "cell_type": "code",
   "execution_count": 136,
   "metadata": {
    "ExecuteTime": {
     "end_time": "2020-01-15T15:01:19.830328Z",
     "start_time": "2020-01-15T15:00:08.709412Z"
    }
   },
   "outputs": [
    {
     "name": "stdout",
     "output_type": "stream",
     "text": [
      "(1430443, 165)\n",
      "Elapsed time: 71.1 seconds\n"
     ]
    }
   ],
   "source": [
    "%%timeop -o qc1\n",
    "\n",
    "def qc_1(mt):\n",
    "    mt = hl.variant_qc(mt)\n",
    "    mt = mt.filter_rows(mt.variant_qc.call_rate >= .8)\n",
    "    mt = hl.sample_qc(mt)\n",
    "    mt = mt.filter_cols(mt.sample_qc.call_rate >= .8)\n",
    "    mt = hl.variant_qc(mt)\n",
    "    mt = mt.filter_rows(mt.variant_qc.call_rate >= .98)\n",
    "    mt = hl.sample_qc(mt)\n",
    "    mt = mt.filter_cols(mt.sample_qc.call_rate >= .98)\n",
    "    return mt\n",
    "\n",
    "mt_qc1 = qc_1(mt_qc0)\n",
    "print(mt_qc1.count())"
   ]
  },
  {
   "cell_type": "code",
   "execution_count": 38,
   "metadata": {
    "ExecuteTime": {
     "end_time": "2020-01-15T13:45:26.148646Z",
     "start_time": "2020-01-15T13:45:04.926545Z"
    }
   },
   "outputs": [
    {
     "name": "stderr",
     "output_type": "stream",
     "text": [
      "2020-01-15 13:45:26 Hail: INFO: wrote matrix table with 1430443 rows and 165 columns in 16 partitions to /home/eczech/data/gwas/tutorial/1_QC_GWAS/HapMap_3_r3_5.mt\n"
     ]
    }
   ],
   "source": [
    "mt_qc1.write(osp.join(data_dir, QC1_FILE + '.mt'), overwrite=True)"
   ]
  },
  {
   "cell_type": "markdown",
   "metadata": {
    "ExecuteTime": {
     "end_time": "2020-01-14T03:02:25.122907Z",
     "start_time": "2020-01-14T03:02:25.115226Z"
    }
   },
   "source": [
    "<h2><a id=\"step_2\">Step 2: Gender Discrepancy</a></h2>"
   ]
  },
  {
   "cell_type": "code",
   "execution_count": 137,
   "metadata": {
    "ExecuteTime": {
     "end_time": "2020-01-15T15:01:28.785034Z",
     "start_time": "2020-01-15T15:01:28.713943Z"
    }
   },
   "outputs": [],
   "source": [
    "mt_qc1 = hl.read_matrix_table(osp.join(data_dir, QC1_FILE + '.mt'))"
   ]
  },
  {
   "cell_type": "code",
   "execution_count": 139,
   "metadata": {
    "ExecuteTime": {
     "end_time": "2020-01-15T15:01:43.130681Z",
     "start_time": "2020-01-15T15:01:42.878624Z"
    }
   },
   "outputs": [
    {
     "name": "stdout",
     "output_type": "stream",
     "text": [
      "(1430443, 165)\n",
      "Elapsed time: 0.2 seconds\n"
     ]
    }
   ],
   "source": [
    "%%timeop -o qc2\n",
    "\n",
    "def qc_2(mt):\n",
    "    imputed_sex = hl.impute_sex(mt.GT)\n",
    "    return mt.annotate_cols(is_female=imputed_sex[mt.s].is_female)\n",
    "\n",
    "mt_qc2 = qc_2(mt_qc1) \n",
    "print(mt_qc2.count())"
   ]
  },
  {
   "cell_type": "code",
   "execution_count": 140,
   "metadata": {
    "ExecuteTime": {
     "end_time": "2020-01-15T15:01:48.165722Z",
     "start_time": "2020-01-15T15:01:46.980266Z"
    }
   },
   "outputs": [
    {
     "name": "stdout",
     "output_type": "stream",
     "text": [
      "CPU times: user 26.8 ms, sys: 674 µs, total: 27.5 ms\n",
      "Wall time: 1.18 s\n"
     ]
    },
    {
     "data": {
      "text/plain": [
       "(85, 84)"
      ]
     },
     "execution_count": 140,
     "metadata": {},
     "output_type": "execute_result"
    }
   ],
   "source": [
    "%%time\n",
    "get_n_female = lambda mt: mt.aggregate_cols(hl.agg.sum(mt.col.is_female))\n",
    "get_n_female(mt_qc1), get_n_female(mt_qc2)"
   ]
  },
  {
   "cell_type": "code",
   "execution_count": 141,
   "metadata": {
    "ExecuteTime": {
     "end_time": "2020-01-15T15:02:07.070023Z",
     "start_time": "2020-01-15T15:02:01.543544Z"
    }
   },
   "outputs": [
    {
     "name": "stderr",
     "output_type": "stream",
     "text": [
      "2020-01-15 15:02:07 Hail: INFO: wrote matrix table with 1430443 rows and 165 columns in 16 partitions to /home/eczech/data/gwas/tutorial/1_QC_GWAS/HapMap_3_r3_6.mt\n"
     ]
    }
   ],
   "source": [
    "mt_qc2.write(osp.join(data_dir, QC2_FILE + '.mt'), overwrite=True)"
   ]
  },
  {
   "cell_type": "markdown",
   "metadata": {},
   "source": [
    "<h2><a id=\"step_3\">Step 3: Autosomal Variants and MAF Filtering</a></h2>"
   ]
  },
  {
   "cell_type": "code",
   "execution_count": 142,
   "metadata": {
    "ExecuteTime": {
     "end_time": "2020-01-15T15:02:09.170477Z",
     "start_time": "2020-01-15T15:02:09.114171Z"
    }
   },
   "outputs": [],
   "source": [
    "mt_qc2 = hl.read_matrix_table(osp.join(data_dir, QC2_FILE + '.mt'))"
   ]
  },
  {
   "cell_type": "code",
   "execution_count": 143,
   "metadata": {
    "ExecuteTime": {
     "end_time": "2020-01-15T15:02:11.642021Z",
     "start_time": "2020-01-15T15:02:11.550875Z"
    }
   },
   "outputs": [
    {
     "name": "stdout",
     "output_type": "stream",
     "text": [
      "CPU times: user 18.3 ms, sys: 4.18 ms, total: 22.4 ms\n",
      "Wall time: 83 ms\n"
     ]
    }
   ],
   "source": [
    "%%time\n",
    "# Verify that there are 112 founders (implying 53 nonfounders) per plink results\n",
    "num_founders = mt_qc2.filter_cols(hl.is_missing(mt_qc2.pat_id) & hl.is_missing(mt_qc2.mat_id)).count_cols()\n",
    "assert num_founders == 112"
   ]
  },
  {
   "cell_type": "code",
   "execution_count": 156,
   "metadata": {
    "ExecuteTime": {
     "end_time": "2020-01-15T15:13:28.148622Z",
     "start_time": "2020-01-15T15:13:22.703242Z"
    }
   },
   "outputs": [
    {
     "data": {
      "image/png": "[encoded data removed]",
      "text/plain": [
       "<Figure size 1152x216 with 1 Axes>"
      ]
     },
     "metadata": {
      "needs_background": "light"
     },
     "output_type": "display_data"
    }
   ],
   "source": [
    "ax = sns.distplot(\n",
    "    hl.min(mt_qc2.variant_qc.AF).collect(),\n",
    "    bins=64,\n",
    "    kde=False\n",
    ")\n",
    "ax.set_yscale('log')\n",
    "ax.set_title('MAF Distribution')\n",
    "plt.gcf().set_size_inches(16, 3)"
   ]
  },
  {
   "cell_type": "code",
   "execution_count": 150,
   "metadata": {
    "ExecuteTime": {
     "end_time": "2020-01-15T15:08:47.256906Z",
     "start_time": "2020-01-15T15:08:44.837088Z"
    }
   },
   "outputs": [
    {
     "name": "stdout",
     "output_type": "stream",
     "text": [
      "(1073226, 165)\n",
      "Elapsed time: 2.4 seconds\n"
     ]
    }
   ],
   "source": [
    "%%timeop -o qc3\n",
    "\n",
    "def get_variants(mt):\n",
    "    # Base AF calculations only on founders and autosomal variants\n",
    "    mt = mt.filter_cols(hl.is_missing(mt.pat_id) & hl.is_missing(mt.mat_id))\n",
    "    mt = mt.filter_rows(hl.int(mt.locus.contig) <= 22)\n",
    "    # There are always two elements in AF array and if only one allele exists in data,\n",
    "    # the values will be 0 and 1 (so no explicit check is needed for monoallelic variants)\n",
    "    mt = hl.variant_qc(mt) # Remember to do this before filtering any expression that may have changed!\n",
    "    mt = mt.filter_rows(hl.min(mt.variant_qc.AF) >= 0.05)    \n",
    "    return mt\n",
    "\n",
    "def qc_3(mt):\n",
    "    # This could be done by any of the following:\n",
    "    # 1. Create an hl.set (must .collect() which is slow) containing the bad variant rsids and using mt.filter_rows\n",
    "    # 2. Use hl.is_defined as a boolean expression to filter rows where one column in left join is missing\n",
    "    #   - Ex: dataset.filter_rows(hl.is_defined(pruned_variant_table[dataset.row_key]))\n",
    "    # 3. Use semi_join (or anti_join to drop rather than preserve) intersecting keys\n",
    "    return mt.semi_join_rows(get_variants(mt).rows())\n",
    "\n",
    "mt_qc3 = qc_3(mt_qc2)\n",
    "print(mt_qc3.count())"
   ]
  },
  {
   "cell_type": "code",
   "execution_count": 157,
   "metadata": {
    "ExecuteTime": {
     "end_time": "2020-01-15T15:13:38.205155Z",
     "start_time": "2020-01-15T15:13:31.372145Z"
    }
   },
   "outputs": [
    {
     "name": "stderr",
     "output_type": "stream",
     "text": [
      "2020-01-15 15:13:38 Hail: INFO: wrote matrix table with 1073226 rows and 165 columns in 16 partitions to /home/eczech/data/gwas/tutorial/1_QC_GWAS/HapMap_3_r3_8.mt\n"
     ]
    }
   ],
   "source": [
    "mt_qc3.write(osp.join(data_dir, QC3_FILE + '.mt'), overwrite=True)"
   ]
  },
  {
   "cell_type": "markdown",
   "metadata": {},
   "source": [
    "<h2><a id=\"step_4\">Step 4: Hardy-Weinberg Equilibrium Filtering</a></h2>"
   ]
  },
  {
   "cell_type": "code",
   "execution_count": 158,
   "metadata": {
    "ExecuteTime": {
     "end_time": "2020-01-15T15:13:38.266193Z",
     "start_time": "2020-01-15T15:13:38.209814Z"
    }
   },
   "outputs": [],
   "source": [
    "mt_qc3 = hl.read_matrix_table(osp.join(data_dir, QC3_FILE + '.mt'))"
   ]
  },
  {
   "cell_type": "code",
   "execution_count": 159,
   "metadata": {
    "ExecuteTime": {
     "end_time": "2020-01-15T15:14:12.787912Z",
     "start_time": "2020-01-15T15:14:06.184667Z"
    }
   },
   "outputs": [
    {
     "name": "stdout",
     "output_type": "stream",
     "text": [
      "(1073226, 165)\n",
      "Elapsed time: 6.6 seconds\n"
     ]
    }
   ],
   "source": [
    "%%timeop -o qc4\n",
    "\n",
    "def get_variants(mt, threshold, use_founder_controls):\n",
    "    if use_founder_controls:\n",
    "        mt = mt.filter_cols(hl.is_missing(mt.pat_id) & hl.is_missing(mt.mat_id))\n",
    "        # ~mt.iscase will be false if is_case is missing\n",
    "        mt = mt.filter_cols(~mt.is_case)\n",
    "    mt = hl.variant_qc(mt)\n",
    "    mt = mt.filter_rows(mt.variant_qc.p_value_hwe > threshold)\n",
    "    return mt\n",
    "\n",
    "def qc_4(mt):\n",
    "    # This could be done by any of the following:\n",
    "    # 1. Create an hl.set (must .collect() which is slow) containing the bad variant rsids and using mt.filter_rows (slowest by far)\n",
    "    # 2. Use hl.is_defined as a boolean expression to filter rows where one column in left join is missing\n",
    "    #   - Ex: mt.filter_cols(hl.is_defined(related_samples_to_remove[mt.col_key]), keep=False)\n",
    "    #   - See: https://hail.is/docs/0.2/methods/genetics.html#hail.methods.ld_prune\n",
    "    # 3. Use semi_join (or anti_join to drop rather than preserve) intersecting keys \n",
    "    mt = mt.semi_join_rows(get_variants(mt, 1e-6, True).rows())\n",
    "    mt = mt.semi_join_rows(get_variants(mt, 1e-10, False).rows())\n",
    "    return mt\n",
    "\n",
    "mt_qc4 = qc_4(mt_qc3)\n",
    "print(mt_qc4.count())"
   ]
  },
  {
   "cell_type": "code",
   "execution_count": 160,
   "metadata": {
    "ExecuteTime": {
     "end_time": "2020-01-15T15:15:51.665534Z",
     "start_time": "2020-01-15T15:15:41.741170Z"
    }
   },
   "outputs": [
    {
     "name": "stderr",
     "output_type": "stream",
     "text": [
      "2020-01-15 15:15:51 Hail: INFO: wrote matrix table with 1073226 rows and 165 columns in 16 partitions to /home/eczech/data/gwas/tutorial/1_QC_GWAS/HapMap_3_r3_9.mt\n"
     ]
    }
   ],
   "source": [
    "mt_qc4.write(osp.join(data_dir, QC4_FILE + '.mt'), overwrite=True)"
   ]
  },
  {
   "cell_type": "markdown",
   "metadata": {},
   "source": [
    "<h2><a id=\"step_5\">Step 5: Heterozygosity Filtering</a></h2>"
   ]
  },
  {
   "cell_type": "code",
   "execution_count": 2,
   "metadata": {
    "ExecuteTime": {
     "end_time": "2020-01-15T15:15:51.726512Z",
     "start_time": "2020-01-15T15:15:51.670249Z"
    }
   },
   "outputs": [],
   "source": [
    "mt_qc4 = hl.read_matrix_table(osp.join(data_dir, QC4_FILE + '.mt'))"
   ]
  },
  {
   "cell_type": "code",
   "execution_count": 3,
   "metadata": {
    "ExecuteTime": {
     "end_time": "2020-01-15T16:23:03.478553Z",
     "start_time": "2020-01-15T16:23:03.396754Z"
    }
   },
   "outputs": [
    {
     "data": {
      "text/html": [
       "<div>\n",
       "<style scoped>\n",
       "    .dataframe tbody tr th:only-of-type {\n",
       "        vertical-align: middle;\n",
       "    }\n",
       "\n",
       "    .dataframe tbody tr th {\n",
       "        vertical-align: top;\n",
       "    }\n",
       "\n",
       "    .dataframe thead th {\n",
       "        text-align: right;\n",
       "    }\n",
       "</style>\n",
       "<table border=\"1\" class=\"dataframe\">\n",
       "  <thead>\n",
       "    <tr style=\"text-align: right;\">\n",
       "      <th></th>\n",
       "      <th>point_type</th>\n",
       "      <th>start</th>\n",
       "      <th>end</th>\n",
       "      <th>includes_start</th>\n",
       "      <th>includes_end</th>\n",
       "    </tr>\n",
       "  </thead>\n",
       "  <tbody>\n",
       "    <tr>\n",
       "      <th>0</th>\n",
       "      <td>locus&lt;hapmap3_hg18&gt;</td>\n",
       "      <td>6:25500000</td>\n",
       "      <td>6:33500000</td>\n",
       "      <td>True</td>\n",
       "      <td>True</td>\n",
       "    </tr>\n",
       "    <tr>\n",
       "      <th>1</th>\n",
       "      <td>locus&lt;hapmap3_hg18&gt;</td>\n",
       "      <td>8:8135000</td>\n",
       "      <td>8:12000000</td>\n",
       "      <td>True</td>\n",
       "      <td>True</td>\n",
       "    </tr>\n",
       "    <tr>\n",
       "      <th>2</th>\n",
       "      <td>locus&lt;hapmap3_hg18&gt;</td>\n",
       "      <td>17:40900000</td>\n",
       "      <td>17:45000000</td>\n",
       "      <td>True</td>\n",
       "      <td>True</td>\n",
       "    </tr>\n",
       "  </tbody>\n",
       "</table>\n",
       "</div>"
      ],
      "text/plain": [
       "            point_type        start          end  includes_start  includes_end\n",
       "0  locus<hapmap3_hg18>   6:25500000   6:33500000            True          True\n",
       "1  locus<hapmap3_hg18>    8:8135000   8:12000000            True          True\n",
       "2  locus<hapmap3_hg18>  17:40900000  17:45000000            True          True"
      ]
     },
     "execution_count": 3,
     "metadata": {},
     "output_type": "execute_result"
    }
   ],
   "source": [
    "# Use the handy Hail interval parser to define some genomic regions to ignore due to known inversion \n",
    "# mutation rates (these mutations bifurcate the LD correlation structure in a population):\n",
    "# * equivalent to --exclude inversion.txt --range in tutorial\n",
    "intervals = [\n",
    "    hl.parse_locus_interval(i, reference_genome='hapmap3_hg18') \n",
    "    for i in ['[6:25.5M-6:33.5M]', '[8:8135K-12M]', '[17:40.9M-17:45M]']\n",
    "]\n",
    "pd.DataFrame([hl.eval(i).__dict__ for i in intervals]).rename(columns=lambda c: c.replace('_', '', 1))"
   ]
  },
  {
   "cell_type": "code",
   "execution_count": 4,
   "metadata": {
    "ExecuteTime": {
     "end_time": "2020-01-15T16:38:57.237626Z",
     "start_time": "2020-01-15T16:36:46.255404Z"
    }
   },
   "outputs": [
    {
     "name": "stderr",
     "output_type": "stream",
     "text": [
      "2020-01-19 15:07:29 Hail: INFO: ld_prune: running local pruning stage with max queue size of 860371 variants\n",
      "2020-01-19 15:07:35 Hail: INFO: wrote table with 143883 rows in 16 partitions to file:/tmp/hail.HM1S4cVUWCy3/zVfijXKyEL\n",
      "2020-01-19 15:07:44 Hail: INFO: Wrote all 36 blocks of 143883 x 112 matrix with block size 4096.\n",
      "2020-01-19 15:10:27 Hail: INFO: wrote table with 50 rows in 71 partitions to file:/tmp/hail.HM1S4cVUWCy3/9mcVupCytK\n",
      "2020-01-19 15:10:30 Hail: WARN: cols(): Resulting column table is sorted by 'col_key'.\n",
      "    To preserve matrix table column order, first unkey columns with 'key_cols_by()'\n"
     ]
    },
    {
     "name": "stdout",
     "output_type": "stream",
     "text": [
      "(1073226, 163)\n",
      "Elapsed time: 183.7 seconds\n"
     ]
    }
   ],
   "source": [
    "%%timeop -o qc5\n",
    "\n",
    "def get_variants(mt):\n",
    "    mt = mt.filter_cols(hl.is_missing(mt.pat_id) & hl.is_missing(mt.mat_id))\n",
    "    mt = hl.filter_intervals(mt, intervals, keep=False)\n",
    "    return hl.ld_prune(mt.GT, r2=0.2, bp_window_size=500000)\n",
    "\n",
    "def qc_5_prune(mt):\n",
    "    # Get pruned variant set\n",
    "    variants = get_variants(mt)\n",
    "    mt = mt.filter_rows(hl.is_defined(variants[mt.row_key]))\n",
    "    \n",
    "    # Calculate heterozygosity rate using pruned variants\n",
    "    mt = hl.sample_qc(mt)\n",
    "    mt = mt.annotate_cols(het_rate=mt.sample_qc.n_het / mt.sample_qc.n_called)\n",
    "    \n",
    "    # Identify outliers +/- 3SD from mean het rate\n",
    "    stats = mt.aggregate_cols(hl.agg.stats(mt.het_rate))\n",
    "    mt = mt.annotate_cols(het_rate_status=hl.cond(\n",
    "        (mt.het_rate < stats.mean - stats.stdev * 3) | (mt.het_rate > stats.mean + stats.stdev * 3),\n",
    "        'outlier', 'ok'\n",
    "    ))\n",
    "    return mt\n",
    "\n",
    "def qc_5_filter(mt, mt_stat):\n",
    "    # Select outliers and use the corresponding columns in an anti join to original dataset to remove them\n",
    "    mt_stat = mt_stat.filter_cols(mt_stat.het_rate_status == 'outlier')\n",
    "    mt = mt.anti_join_cols(mt_stat.cols())\n",
    "    return mt\n",
    "\n",
    "mt_qc5_stat = qc_5_prune(mt_qc4)\n",
    "mt_qc5 = qc_5_filter(mt_qc4, mt_qc5_stat)\n",
    "print(mt_qc5.count())"
   ]
  },
  {
   "cell_type": "markdown",
   "metadata": {},
   "source": [
    "Save the pruned variant table for later tutorials:"
   ]
  },
  {
   "cell_type": "code",
   "execution_count": 11,
   "metadata": {},
   "outputs": [
    {
     "name": "stderr",
     "output_type": "stream",
     "text": [
      "2020-01-19 15:13:36 Hail: INFO: wrote table with 143843 rows in 16 partitions to /home/eczech/data/gwas/tutorial/1_QC_GWAS/HapMap_3_r3_9.pruned.ht\n"
     ]
    },
    {
     "name": "stdout",
     "output_type": "stream",
     "text": [
      "Wrote pruned variants table with shape (143843, 165)\n"
     ]
    }
   ],
   "source": [
    "mt_qc5_stat.rows().write(osp.join(data_dir, QC5_PRUNED_VARIANTS_FILE + '.ht'))\n",
    "print(\"Wrote pruned variants table with shape\", mt_qc5_stat.count())"
   ]
  },
  {
   "cell_type": "markdown",
   "metadata": {},
   "source": [
    "Visualize the heterozygosity rates with outliers identified:"
   ]
  },
  {
   "cell_type": "code",
   "execution_count": 242,
   "metadata": {
    "ExecuteTime": {
     "end_time": "2020-01-15T16:39:14.916762Z",
     "start_time": "2020-01-15T16:39:13.398264Z"
    }
   },
   "outputs": [
    {
     "data": {
      "text/plain": [
       "<matplotlib.legend.Legend at 0x7f81c4af57d0>"
      ]
     },
     "execution_count": 242,
     "metadata": {},
     "output_type": "execute_result"
    },
    {
     "data": {
      "image/png": "[encoded data removed]",
      "text/plain": [
       "<Figure size 1152x216 with 1 Axes>"
      ]
     },
     "metadata": {
      "needs_background": "light"
     },
     "output_type": "display_data"
    }
   ],
   "source": [
    "df = pd.DataFrame(mt_qc5_stat.select_cols(\"het_rate\", \"het_rate_status\").cols().collect())\n",
    "for k, g in df.groupby('het_rate_status'):\n",
    "    ax = sns.distplot(g['het_rate'], label=k, kde=False, bins=32)\n",
    "plt.gcf().set_size_inches(16, 3)\n",
    "plt.legend()"
   ]
  }
 ],
 "metadata": {
  "kernelspec": {
   "display_name": "Python 3",
   "language": "python",
   "name": "python3"
  },
  "language_info": {
   "codemirror_mode": {
    "name": "ipython",
    "version": 3
   },
   "file_extension": ".py",
   "mimetype": "text/x-python",
   "name": "python",
   "nbconvert_exporter": "python",
   "pygments_lexer": "ipython3",
   "version": "3.7.6"
  }
 },
 "nbformat": 4,
 "nbformat_minor": 4
}
