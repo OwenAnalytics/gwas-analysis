{
 "cells": [
  {
   "cell_type": "markdown",
   "metadata": {},
   "source": [
    "## PLINK GWAS QC Tutorial\n",
    "\n",
    "This is a companion analysis to the Glow QC notebook that enumerates the commands originally run in the pubulication tutorial.\n",
    "\n",
    "Comments and code from the original tutorial are included with R steps commented out (and replaced by python where necessary).  To disambiguate between comments from the original authors and me, the ```#*#``` character is used as a comment from me while all others are left as-is."
   ]
  },
  {
   "cell_type": "code",
   "execution_count": 1,
   "metadata": {
    "ExecuteTime": {
     "end_time": "2020-01-12T15:11:22.198565Z",
     "start_time": "2020-01-12T15:11:22.174105Z"
    }
   },
   "outputs": [
    {
     "data": {
      "text/plain": [
       "'/home/eczech/data/gwas/tutorial/1_QC_GWAS'"
      ]
     },
     "execution_count": 1,
     "metadata": {},
     "output_type": "execute_result"
    }
   ],
   "source": [
    "import os.path as osp\n",
    "import pandas as pd\n",
    "%run ../../nb.py\n",
    "gab.register_timeop_magic(get_ipython(), 'plink')\n",
    "data_dir = TUTORIAL_1_QC_DIR\n",
    "data_dir"
   ]
  },
  {
   "cell_type": "markdown",
   "metadata": {},
   "source": [
    "## QC"
   ]
  },
  {
   "cell_type": "markdown",
   "metadata": {},
   "source": [
    "### Step 1: Sample/Variant Absence Filter"
   ]
  },
  {
   "cell_type": "code",
   "execution_count": null,
   "metadata": {},
   "outputs": [],
   "source": [
    "%%bash -s \"$data_dir\"\n",
    "set -e\n",
    "cd $1\n",
    "\n",
    "### Step 1 ### \n",
    "\n",
    "# Investigate missingness per individual and per SNP and make histograms.\n",
    "plink --bfile HapMap_3_r3_1 --missing    \n",
    "\n",
    "# output: plink.imiss and plink.lmiss, these files show respectively the proportion of missing SNPs per individual and the proportion of missing individuals per SNP."
   ]
  },
  {
   "cell_type": "code",
   "execution_count": 7,
   "metadata": {
    "ExecuteTime": {
     "end_time": "2020-01-10T19:12:11.854014Z",
     "start_time": "2020-01-10T19:12:09.508321Z"
    }
   },
   "outputs": [
    {
     "name": "stdout",
     "output_type": "stream",
     "text": [
      "PLINK v1.90b6.14 64-bit (7 Jan 2020)           www.cog-genomics.org/plink/1.9/\n",
      "(C) 2005-2020 Shaun Purcell, Christopher Chang   GNU General Public License v3\n",
      "Logging to HapMap_3_r3_2.log.\n",
      "Options in effect:\n",
      "  --bfile HapMap_3_r3_1\n",
      "  --geno 0.2\n",
      "  --make-bed\n",
      "  --out HapMap_3_r3_2\n",
      "\n",
      "128535 MB RAM detected; reserving 64267 MB for main workspace.\n",
      "1457897 variants loaded from .bim file.\n",
      "165 people (80 males, 85 females) loaded from .fam.\n",
      "112 phenotype values loaded from .fam.\n",
      "Using 1 thread (no multithreaded calculations invoked).\n",
      "Before main variant filters, 112 founders and 53 nonfounders present.\n",
      "Calculating allele frequencies... 10111213141516171819202122232425262728293031323334353637383940414243444546474849505152535455565758596061626364656667686970717273747576777879808182838485868788899091929394959697989 done.\n",
      "Total genotyping rate is 0.997378.\n",
      "0 variants removed due to missing genotype data (--geno).\n",
      "1457897 variants and 165 people pass filters and QC.\n",
      "Among remaining phenotypes, 56 are cases and 56 are controls.  (53 phenotypes\n",
      "are missing.)\n",
      "--make-bed to HapMap_3_r3_2.bed + HapMap_3_r3_2.bim + HapMap_3_r3_2.fam ...\n",
      "101112131415161718192021222324252627282930313233343536373839404142434445464748495051525354555657585960616263646566676869707172737475767778798081828384858687888990919293949596979899done.\n",
      "PLINK v1.90b6.14 64-bit (7 Jan 2020)           www.cog-genomics.org/plink/1.9/\n",
      "(C) 2005-2020 Shaun Purcell, Christopher Chang   GNU General Public License v3\n",
      "Logging to HapMap_3_r3_3.log.\n",
      "Options in effect:\n",
      "  --bfile HapMap_3_r3_2\n",
      "  --make-bed\n",
      "  --mind 0.2\n",
      "  --out HapMap_3_r3_3\n",
      "\n",
      "128535 MB RAM detected; reserving 64267 MB for main workspace.\n",
      "1457897 variants loaded from .bim file.\n",
      "165 people (80 males, 85 females) loaded from .fam.\n",
      "112 phenotype values loaded from .fam.\n",
      "0 people removed due to missing genotype data (--mind).\n",
      "Using 1 thread (no multithreaded calculations invoked).\n",
      "Before main variant filters, 112 founders and 53 nonfounders present.\n",
      "Calculating allele frequencies... 10111213141516171819202122232425262728293031323334353637383940414243444546474849505152535455565758596061626364656667686970717273747576777879808182838485868788899091929394959697989 done.\n",
      "Total genotyping rate is 0.997378.\n",
      "1457897 variants and 165 people pass filters and QC.\n",
      "Among remaining phenotypes, 56 are cases and 56 are controls.  (53 phenotypes\n",
      "are missing.)\n",
      "--make-bed to HapMap_3_r3_3.bed + HapMap_3_r3_3.bim + HapMap_3_r3_3.fam ...\n",
      "101112131415161718192021222324252627282930313233343536373839404142434445464748495051525354555657585960616263646566676869707172737475767778798081828384858687888990919293949596979899done.\n",
      "PLINK v1.90b6.14 64-bit (7 Jan 2020)           www.cog-genomics.org/plink/1.9/\n",
      "(C) 2005-2020 Shaun Purcell, Christopher Chang   GNU General Public License v3\n",
      "Logging to HapMap_3_r3_4.log.\n",
      "Options in effect:\n",
      "  --bfile HapMap_3_r3_3\n",
      "  --geno 0.02\n",
      "  --make-bed\n",
      "  --out HapMap_3_r3_4\n",
      "\n",
      "128535 MB RAM detected; reserving 64267 MB for main workspace.\n",
      "1457897 variants loaded from .bim file.\n",
      "165 people (80 males, 85 females) loaded from .fam.\n",
      "112 phenotype values loaded from .fam.\n",
      "Using 1 thread (no multithreaded calculations invoked).\n",
      "Before main variant filters, 112 founders and 53 nonfounders present.\n",
      "Calculating allele frequencies... 10111213141516171819202122232425262728293031323334353637383940414243444546474849505152535455565758596061626364656667686970717273747576777879808182838485868788899091929394959697989 done.\n",
      "Total genotyping rate is 0.997378.\n",
      "27454 variants removed due to missing genotype data (--geno).\n",
      "1430443 variants and 165 people pass filters and QC.\n",
      "Among remaining phenotypes, 56 are cases and 56 are controls.  (53 phenotypes\n",
      "are missing.)\n",
      "--make-bed to HapMap_3_r3_4.bed + HapMap_3_r3_4.bim + HapMap_3_r3_4.fam ...\n",
      "101112131415161718192021222324252627282930313233343536373839404142434445464748495051525354555657585960616263646566676869707172737475767778798081828384858687888990919293949596979899done.\n",
      "PLINK v1.90b6.14 64-bit (7 Jan 2020)           www.cog-genomics.org/plink/1.9/\n",
      "(C) 2005-2020 Shaun Purcell, Christopher Chang   GNU General Public License v3\n",
      "Logging to HapMap_3_r3_5.log.\n",
      "Options in effect:\n",
      "  --bfile HapMap_3_r3_4\n",
      "  --make-bed\n",
      "  --mind 0.02\n",
      "  --out HapMap_3_r3_5\n",
      "\n",
      "128535 MB RAM detected; reserving 64267 MB for main workspace.\n",
      "1430443 variants loaded from .bim file.\n",
      "165 people (80 males, 85 females) loaded from .fam.\n",
      "112 phenotype values loaded from .fam.\n",
      "0 people removed due to missing genotype data (--mind).\n",
      "Using 1 thread (no multithreaded calculations invoked).\n",
      "Before main variant filters, 112 founders and 53 nonfounders present.\n",
      "Calculating allele frequencies... 10111213141516171819202122232425262728293031323334353637383940414243444546474849505152535455565758596061626364656667686970717273747576777879808182838485868788899091929394959697989 done.\n",
      "Total genotyping rate is 0.997899.\n",
      "1430443 variants and 165 people pass filters and QC.\n",
      "Among remaining phenotypes, 56 are cases and 56 are controls.  (53 phenotypes\n",
      "are missing.)\n",
      "--make-bed to HapMap_3_r3_5.bed + HapMap_3_r3_5.bim + HapMap_3_r3_5.fam ...\n",
      "101112131415161718192021222324252627282930313233343536373839404142434445464748495051525354555657585960616263646566676869707172737475767778798081828384858687888990919293949596979899done.\n"
     ]
    },
    {
     "name": "stderr",
     "output_type": "stream",
     "text": [
      "Warning: 225 het. haploid genotypes present (see HapMap_3_r3_2.hh ); many\n",
      "commands treat these as missing.\n",
      "Warning: 225 het. haploid genotypes present (see HapMap_3_r3_3.hh ); many\n",
      "commands treat these as missing.\n",
      "Warning: 225 het. haploid genotypes present (see HapMap_3_r3_4.hh ); many\n",
      "commands treat these as missing.\n",
      "Warning: 179 het. haploid genotypes present (see HapMap_3_r3_5.hh ); many\n",
      "commands treat these as missing.\n"
     ]
    }
   ],
   "source": [
    "%%timeop -o qc1\n",
    "%%bash -s \"$data_dir\"\n",
    "set -e\n",
    "cd $1\n",
    "\n",
    "# Delete SNPs and individuals with high levels of missingness, explanation of this and all following steps can be found in box 1 and table 1 of the article mentioned in the comments of this script.\n",
    "# The following two QC commands will not remove any SNPs or individuals. However, it is good practice to start the QC with these non-stringent thresholds.  \n",
    "# Delete SNPs with missingness >0.2.\n",
    "plink --bfile HapMap_3_r3_1 --geno 0.2 --make-bed --out HapMap_3_r3_2\n",
    "\n",
    "# Delete individuals with missingness >0.2.\n",
    "plink --bfile HapMap_3_r3_2 --mind 0.2 --make-bed --out HapMap_3_r3_3\n",
    "\n",
    "# Delete SNPs with missingness >0.02.\n",
    "plink --bfile HapMap_3_r3_3 --geno 0.02 --make-bed --out HapMap_3_r3_4\n",
    "\n",
    "# Delete individuals with missingness >0.02.\n",
    "plink --bfile HapMap_3_r3_4 --mind 0.02 --make-bed --out HapMap_3_r3_5"
   ]
  },
  {
   "cell_type": "markdown",
   "metadata": {
    "ExecuteTime": {
     "end_time": "2020-01-10T19:13:29.996356Z",
     "start_time": "2020-01-10T19:13:29.991483Z"
    }
   },
   "source": [
    "### Step 2: Gender Discrepancy"
   ]
  },
  {
   "cell_type": "code",
   "execution_count": 12,
   "metadata": {
    "ExecuteTime": {
     "end_time": "2020-01-10T19:19:08.353213Z",
     "start_time": "2020-01-10T19:19:06.882511Z"
    }
   },
   "outputs": [
    {
     "name": "stdout",
     "output_type": "stream",
     "text": [
      "PLINK v1.90b6.14 64-bit (7 Jan 2020)           www.cog-genomics.org/plink/1.9/\n",
      "(C) 2005-2020 Shaun Purcell, Christopher Chang   GNU General Public License v3\n",
      "Logging to plink.log.\n",
      "Options in effect:\n",
      "  --bfile HapMap_3_r3_5\n",
      "  --check-sex\n",
      "\n",
      "128535 MB RAM detected; reserving 64267 MB for main workspace.\n",
      "1430443 variants loaded from .bim file.\n",
      "165 people (80 males, 85 females) loaded from .fam.\n",
      "112 phenotype values loaded from .fam.\n",
      "Using 1 thread (no multithreaded calculations invoked).\n",
      "Before main variant filters, 112 founders and 53 nonfounders present.\n",
      "Calculating allele frequencies... 10111213141516171819202122232425262728293031323334353637383940414243444546474849505152535455565758596061626364656667686970717273747576777879808182838485868788899091929394959697989 done.\n",
      "Total genotyping rate is 0.997899.\n",
      "1430443 variants and 165 people pass filters and QC.\n",
      "Among remaining phenotypes, 56 are cases and 56 are controls.  (53 phenotypes\n",
      "are missing.)\n",
      "--check-sex: 23424 Xchr and 0 Ychr variant(s) scanned, 1 problem detected.\n",
      "Report written to plink.sexcheck .\n",
      "PLINK v1.90b6.14 64-bit (7 Jan 2020)           www.cog-genomics.org/plink/1.9/\n",
      "(C) 2005-2020 Shaun Purcell, Christopher Chang   GNU General Public License v3\n",
      "Logging to HapMap_3_r3_6.log.\n",
      "Options in effect:\n",
      "  --bfile HapMap_3_r3_5\n",
      "  --make-bed\n",
      "  --out HapMap_3_r3_6\n",
      "  --remove sex_discrepancy.txt\n",
      "\n",
      "128535 MB RAM detected; reserving 64267 MB for main workspace.\n",
      "1430443 variants loaded from .bim file.\n",
      "165 people (80 males, 85 females) loaded from .fam.\n",
      "112 phenotype values loaded from .fam.\n",
      "--remove: 164 people remaining.\n",
      "Using 1 thread (no multithreaded calculations invoked).\n",
      "Before main variant filters, 112 founders and 52 nonfounders present.\n",
      "Calculating allele frequencies... 10111213141516171819202122232425262728293031323334353637383940414243444546474849505152535455565758596061626364656667686970717273747576777879808182838485868788899091929394959697989 done.\n",
      "Total genotyping rate in remaining samples is 0.99798.\n",
      "1430443 variants and 164 people pass filters and QC.\n",
      "Among remaining phenotypes, 56 are cases and 56 are controls.  (52 phenotypes\n",
      "are missing.)\n",
      "--make-bed to HapMap_3_r3_6.bed + HapMap_3_r3_6.bim + HapMap_3_r3_6.fam ...\n",
      "101112131415161718192021222324252627282930313233343536373839404142434445464748495051525354555657585960616263646566676869707172737475767778798081828384858687888990919293949596979899done.\n",
      "PLINK v1.90b6.14 64-bit (7 Jan 2020)           www.cog-genomics.org/plink/1.9/\n",
      "(C) 2005-2020 Shaun Purcell, Christopher Chang   GNU General Public License v3\n",
      "Logging to HapMap_3_r3_6.log.\n",
      "Options in effect:\n",
      "  --bfile HapMap_3_r3_5\n",
      "  --impute-sex\n",
      "  --make-bed\n",
      "  --out HapMap_3_r3_6\n",
      "\n",
      "128535 MB RAM detected; reserving 64267 MB for main workspace.\n",
      "1430443 variants loaded from .bim file.\n",
      "165 people (80 males, 85 females) loaded from .fam.\n",
      "112 phenotype values loaded from .fam.\n",
      "Using 1 thread (no multithreaded calculations invoked).\n",
      "Before main variant filters, 112 founders and 53 nonfounders present.\n",
      "Calculating allele frequencies... 10111213141516171819202122232425262728293031323334353637383940414243444546474849505152535455565758596061626364656667686970717273747576777879808182838485868788899091929394959697989 done.\n",
      "Total genotyping rate is 0.997899.\n",
      "1430443 variants and 165 people pass filters and QC.\n",
      "Among remaining phenotypes, 56 are cases and 56 are controls.  (53 phenotypes\n",
      "are missing.)\n",
      "--impute-sex: 23424 Xchr and 0 Ychr variant(s) scanned, all sexes imputed.\n",
      "Report written to HapMap_3_r3_6.sexcheck .\n",
      "--make-bed to HapMap_3_r3_6.bed + HapMap_3_r3_6.bim + HapMap_3_r3_6.fam ...\n",
      "101112131415161718192021222324252627282930313233343536373839404142434445464748495051525354555657585960616263646566676869707172737475767778798081828384858687888990919293949596979899done.\n"
     ]
    },
    {
     "name": "stderr",
     "output_type": "stream",
     "text": [
      "Warning: 179 het. haploid genotypes present (see plink.hh ); many commands\n",
      "treat these as missing.\n",
      "Warning: 179 het. haploid genotypes present (see HapMap_3_r3_6.hh ); many\n",
      "commands treat these as missing.\n",
      "Warning: 179 het. haploid genotypes present (see HapMap_3_r3_6.hh ); many\n",
      "commands treat these as missing.\n"
     ]
    }
   ],
   "source": [
    "%%timeop -o qc2\n",
    "%%bash -s $data_dir\n",
    "set -e\n",
    "cd $1 \n",
    "\n",
    "### Step2 ####\n",
    "\n",
    "# Check for sex discrepancy.\n",
    "# Subjects who were a priori determined as females must have a F value of <0.2, and subjects who were a priori determined as males must have a F value >0.8. This F value is based on the X chromosome inbreeding (homozygosity) estimate.\n",
    "# Subjects who do not fulfil these requirements are flagged \"PROBLEM\" by PLINK.\n",
    "\n",
    "plink --bfile HapMap_3_r3_5 --check-sex \n",
    "\n",
    "# Generate plots to visualize the sex-check results.\n",
    "# Rscript --no-save gender_check.R\n",
    "# These checks indicate that there is one woman with a sex discrepancy, F value of 0.99. (When using other datasets often a few discrepancies will be found). \n",
    "\n",
    "# The following two scripts can be used to deal with individuals with a sex discrepancy.\n",
    "# Note, please use one of the two options below to generate the bfile hapmap_r23a_6, this file we will use in the next step of this tutorial.\n",
    "\n",
    "# 1) Delete individuals with sex discrepancy.\n",
    "grep \"PROBLEM\" plink.sexcheck| awk '{print$1,$2}'> sex_discrepancy.txt\n",
    "# This command generates a list of individuals with the status ìPROBLEMî.\n",
    "plink --bfile HapMap_3_r3_5 --remove sex_discrepancy.txt --make-bed --out HapMap_3_r3_6 \n",
    "# This command removes the list of individuals with the status ìPROBLEMî.\n",
    "\n",
    "# 2) impute-sex.\n",
    "plink --bfile HapMap_3_r3_5 --impute-sex --make-bed --out HapMap_3_r3_6\n",
    "# This imputes the sex based on the genotype information into your data set."
   ]
  },
  {
   "cell_type": "markdown",
   "metadata": {},
   "source": [
    "Show the samples with sex discrepancies (just one in this case -- NA10854):"
   ]
  },
  {
   "cell_type": "code",
   "execution_count": 13,
   "metadata": {
    "ExecuteTime": {
     "end_time": "2020-01-10T19:45:21.996435Z",
     "start_time": "2020-01-10T19:45:21.973359Z"
    }
   },
   "outputs": [
    {
     "name": "stdout",
     "output_type": "stream",
     "text": [
      "   1349   NA10854            2            1      PROBLEM         0.99\n"
     ]
    }
   ],
   "source": [
    "%%bash -s $data_dir\n",
    "cd $1 \n",
    "#*# See here for field definitions: https://www.cog-genomics.org/plink/1.9/formats#sexcheck\n",
    "grep \"PROBLEM\" plink.sexcheck "
   ]
  },
  {
   "cell_type": "markdown",
   "metadata": {},
   "source": [
    "### Step 3: Autosomal Variants and MAF Filtering"
   ]
  },
  {
   "cell_type": "code",
   "execution_count": 19,
   "metadata": {
    "ExecuteTime": {
     "end_time": "2020-01-11T11:44:26.982794Z",
     "start_time": "2020-01-11T11:44:22.791996Z"
    }
   },
   "outputs": [
    {
     "name": "stdout",
     "output_type": "stream",
     "text": [
      "PLINK v1.90b6.14 64-bit (7 Jan 2020)           www.cog-genomics.org/plink/1.9/\n",
      "(C) 2005-2020 Shaun Purcell, Christopher Chang   GNU General Public License v3\n",
      "Logging to HapMap_3_r3_7.log.\n",
      "Options in effect:\n",
      "  --bfile HapMap_3_r3_6\n",
      "  --extract snp_1_22.txt\n",
      "  --make-bed\n",
      "  --out HapMap_3_r3_7\n",
      "\n",
      "128535 MB RAM detected; reserving 64267 MB for main workspace.\n",
      "1430443 variants loaded from .bim file.\n",
      "165 people (81 males, 84 females) loaded from .fam.\n",
      "112 phenotype values loaded from .fam.\n",
      "--extract: 1398544 variants remaining.\n",
      "Using 1 thread (no multithreaded calculations invoked).\n",
      "Before main variant filters, 112 founders and 53 nonfounders present.\n",
      "Calculating allele frequencies... 10111213141516171819202122232425262728293031323334353637383940414243444546474849505152535455565758596061626364656667686970717273747576777879808182838485868788899091929394959697989 done.\n",
      "Total genotyping rate is 0.99806.\n",
      "1398544 variants and 165 people pass filters and QC.\n",
      "Among remaining phenotypes, 56 are cases and 56 are controls.  (53 phenotypes\n",
      "are missing.)\n",
      "--make-bed to HapMap_3_r3_7.bed + HapMap_3_r3_7.bim + HapMap_3_r3_7.fam ...\n",
      "101112131415161718192021222324252627282930313233343536373839404142434445464748495051525354555657585960616263646566676869707172737475767778798081828384858687888990919293949596979899done.\n",
      "PLINK v1.90b6.14 64-bit (7 Jan 2020)           www.cog-genomics.org/plink/1.9/\n",
      "(C) 2005-2020 Shaun Purcell, Christopher Chang   GNU General Public License v3\n",
      "Logging to MAF_check.log.\n",
      "Options in effect:\n",
      "  --bfile HapMap_3_r3_7\n",
      "  --freq\n",
      "  --out MAF_check\n",
      "\n",
      "128535 MB RAM detected; reserving 64267 MB for main workspace.\n",
      "1398544 variants loaded from .bim file.\n",
      "165 people (81 males, 84 females) loaded from .fam.\n",
      "112 phenotype values loaded from .fam.\n",
      "Using 1 thread (no multithreaded calculations invoked).\n",
      "Before main variant filters, 112 founders and 53 nonfounders present.\n",
      "Calculating allele frequencies... 10111213141516171819202122232425262728293031323334353637383940414243444546474849505152535455565758596061626364656667686970717273747576777879808182838485868788899091929394959697989 done.\n",
      "Total genotyping rate is 0.99806.\n",
      "--freq: Allele frequencies (founders only) written to MAF_check.frq .\n",
      "PLINK v1.90b6.14 64-bit (7 Jan 2020)           www.cog-genomics.org/plink/1.9/\n",
      "(C) 2005-2020 Shaun Purcell, Christopher Chang   GNU General Public License v3\n",
      "Logging to HapMap_3_r3_8.log.\n",
      "Options in effect:\n",
      "  --bfile HapMap_3_r3_7\n",
      "  --maf 0.05\n",
      "  --make-bed\n",
      "  --out HapMap_3_r3_8\n",
      "\n",
      "128535 MB RAM detected; reserving 64267 MB for main workspace.\n",
      "1398544 variants loaded from .bim file.\n",
      "165 people (81 males, 84 females) loaded from .fam.\n",
      "112 phenotype values loaded from .fam.\n",
      "Using 1 thread (no multithreaded calculations invoked).\n",
      "Before main variant filters, 112 founders and 53 nonfounders present.\n",
      "Calculating allele frequencies... 10111213141516171819202122232425262728293031323334353637383940414243444546474849505152535455565758596061626364656667686970717273747576777879808182838485868788899091929394959697989 done.\n",
      "Total genotyping rate is 0.99806.\n",
      "325318 variants removed due to minor allele threshold(s)\n",
      "(--maf/--max-maf/--mac/--max-mac).\n",
      "1073226 variants and 165 people pass filters and QC.\n",
      "Among remaining phenotypes, 56 are cases and 56 are controls.  (53 phenotypes\n",
      "are missing.)\n",
      "--make-bed to HapMap_3_r3_8.bed + HapMap_3_r3_8.bim + HapMap_3_r3_8.fam ...\n",
      "101112131415161718192021222324252627282930313233343536373839404142434445464748495051525354555657585960616263646566676869707172737475767778798081828384858687888990919293949596979899done.\n"
     ]
    }
   ],
   "source": [
    "%%timeop -o qc3\n",
    "%%bash -s $data_dir\n",
    "set -e\n",
    "cd $1 \n",
    "\n",
    "### Step 3 ### \n",
    "\n",
    "# Generate a bfile with autosomal SNPs only and delete SNPs with a low minor allele frequency (MAF).\n",
    "\n",
    "# Select autosomal SNPs only (i.e., from chromosomes 1 to 22).\n",
    "awk '{ if ($1 >= 1 && $1 <= 22) print $2 }' HapMap_3_r3_6.bim > snp_1_22.txt\n",
    "plink --bfile HapMap_3_r3_6 --extract snp_1_22.txt --make-bed --out HapMap_3_r3_7\n",
    "\n",
    "#*# Ignore this to ensure compatibility of benchmarks\n",
    "# Generate a plot of the MAF distribution.\n",
    "# plink --bfile HapMap_3_r3_7 --freq --out MAF_check\n",
    "# Rscript --no-save MAF_check.R\n",
    "\n",
    "# Remove SNPs with a low MAF frequency.\n",
    "plink --bfile HapMap_3_r3_7 --maf 0.05 --make-bed --out HapMap_3_r3_8\n",
    "# 1073226 SNPs are left\n",
    "# A conventional MAF threshold for a regular GWAS is between 0.01 or 0.05, depending on sample size."
   ]
  },
  {
   "cell_type": "markdown",
   "metadata": {},
   "source": [
    "### Step 4: HWE Filtering\n",
    "\n",
    "**Modifications**: Two of the commands below are modified to use the \"midp\" adjustment described in the [plink hwe docs](https://www.cog-genomics.org/plink/1.9/filter#hwe).  This option is used instead because the Glow implementation (based on Hail) also does this and because the ```plink``` docs \"recommend its use\".  \n",
    "\n",
    "**Important**: Neither the original commands nor the modified version above actually result in any variants being removed!"
   ]
  },
  {
   "cell_type": "code",
   "execution_count": 39,
   "metadata": {
    "ExecuteTime": {
     "end_time": "2020-01-12T10:14:52.471225Z",
     "start_time": "2020-01-12T10:14:49.088095Z"
    }
   },
   "outputs": [
    {
     "name": "stdout",
     "output_type": "stream",
     "text": [
      "PLINK v1.90b6.14 64-bit (7 Jan 2020)           www.cog-genomics.org/plink/1.9/\n",
      "(C) 2005-2020 Shaun Purcell, Christopher Chang   GNU General Public License v3\n",
      "Logging to plink.log.\n",
      "Options in effect:\n",
      "  --bfile HapMap_3_r3_8\n",
      "  --hardy midp\n",
      "\n",
      "128535 MB RAM detected; reserving 64267 MB for main workspace.\n",
      "1073226 variants loaded from .bim file.\n",
      "165 people (81 males, 84 females) loaded from .fam.\n",
      "112 phenotype values loaded from .fam.\n",
      "Using 1 thread (no multithreaded calculations invoked).\n",
      "Before main variant filters, 112 founders and 53 nonfounders present.\n",
      "Calculating allele frequencies... 10111213141516171819202122232425262728293031323334353637383940414243444546474849505152535455565758596061626364656667686970717273747576777879808182838485868788899091929394959697989 done.\n",
      "Total genotyping rate is 0.998047.\n",
      "--hardy: Writing Hardy-Weinberg report (founders only) to plink.hwe ... 101112131415161718192021222324252627282930313233343536373839404142434445464748495051525354555657585960616263646566676869707172737475767778798081828384858687888990919293949596979899done.\n",
      "PLINK v1.90b6.14 64-bit (7 Jan 2020)           www.cog-genomics.org/plink/1.9/\n",
      "(C) 2005-2020 Shaun Purcell, Christopher Chang   GNU General Public License v3\n",
      "Logging to HapMap_hwe_filter_step1.log.\n",
      "Options in effect:\n",
      "  --bfile HapMap_3_r3_8\n",
      "  --hwe 1e-6 midp\n",
      "  --make-bed\n",
      "  --out HapMap_hwe_filter_step1\n",
      "\n",
      "128535 MB RAM detected; reserving 64267 MB for main workspace.\n",
      "1073226 variants loaded from .bim file.\n",
      "165 people (81 males, 84 females) loaded from .fam.\n",
      "112 phenotype values loaded from .fam.\n",
      "Using 1 thread (no multithreaded calculations invoked).\n",
      "Before main variant filters, 112 founders and 53 nonfounders present.\n",
      "Calculating allele frequencies... 10111213141516171819202122232425262728293031323334353637383940414243444546474849505152535455565758596061626364656667686970717273747576777879808182838485868788899091929394959697989 done.\n",
      "Total genotyping rate is 0.998047.\n",
      "--hwe: 0 variants removed due to Hardy-Weinberg exact test.\n",
      "1073226 variants and 165 people pass filters and QC.\n",
      "Among remaining phenotypes, 56 are cases and 56 are controls.  (53 phenotypes\n",
      "are missing.)\n",
      "--make-bed to HapMap_hwe_filter_step1.bed + HapMap_hwe_filter_step1.bim +\n",
      "HapMap_hwe_filter_step1.fam ... 101112131415161718192021222324252627282930313233343536373839404142434445464748495051525354555657585960616263646566676869707172737475767778798081828384858687888990919293949596979899done.\n",
      "PLINK v1.90b6.14 64-bit (7 Jan 2020)           www.cog-genomics.org/plink/1.9/\n",
      "(C) 2005-2020 Shaun Purcell, Christopher Chang   GNU General Public License v3\n",
      "Logging to HapMap_3_r3_9.log.\n",
      "Options in effect:\n",
      "  --bfile HapMap_hwe_filter_step1\n",
      "  --hwe 1e-10 midp include-nonctrl\n",
      "  --make-bed\n",
      "  --nonfounders\n",
      "  --out HapMap_3_r3_9\n",
      "\n",
      "128535 MB RAM detected; reserving 64267 MB for main workspace.\n",
      "1073226 variants loaded from .bim file.\n",
      "165 people (81 males, 84 females) loaded from .fam.\n",
      "112 phenotype values loaded from .fam.\n",
      "Using 1 thread (no multithreaded calculations invoked).\n",
      "Before main variant filters, 112 founders and 53 nonfounders present.\n",
      "Calculating allele frequencies... 10111213141516171819202122232425262728293031323334353637383940414243444546474849505152535455565758596061626364656667686970717273747576777879808182838485868788899091929394959697989 done.\n",
      "Total genotyping rate is 0.998047.\n",
      "--hwe: 0 variants removed due to Hardy-Weinberg exact test.\n",
      "1073226 variants and 165 people pass filters and QC.\n",
      "Among remaining phenotypes, 56 are cases and 56 are controls.  (53 phenotypes\n",
      "are missing.)\n",
      "--make-bed to HapMap_3_r3_9.bed + HapMap_3_r3_9.bim + HapMap_3_r3_9.fam ...\n",
      "101112131415161718192021222324252627282930313233343536373839404142434445464748495051525354555657585960616263646566676869707172737475767778798081828384858687888990919293949596979899done.\n"
     ]
    }
   ],
   "source": [
    "%%timeop -o qc4\n",
    "%%bash -s $data_dir\n",
    "set -e\n",
    "cd $1 \n",
    "\n",
    "### Step 4 ###\n",
    "\n",
    "# Delete SNPs which are not in Hardy-Weinberg equilibrium (HWE).\n",
    "\n",
    "#*# ORIGINAL: plink --bfile HapMap_3_r3_8 --hardy\n",
    "plink --bfile HapMap_3_r3_8 --hardy midp\n",
    "# Selecting SNPs with HWE p-value below 0.00001, required for one of the two plot generated by the next Rscript, allows to zoom in on strongly deviating SNPs. \n",
    "awk '{ if ($9 <0.00001) print $0 }' plink.hwe>plinkzoomhwe.hwe\n",
    "# Rscript --no-save hwe.R\n",
    "\n",
    "# By default the --hwe option in plink only filters for controls.\n",
    "# Therefore, we use two steps, first we use a stringent HWE threshold for controls, followed by a less stringent threshold for the case data.\n",
    "#*# ORIGINAL: plink --bfile HapMap_3_r3_8 --hwe 1e-6 midp --make-bed --out HapMap_hwe_filter_step1\n",
    "plink --bfile HapMap_3_r3_8 --hwe 1e-6 midp --make-bed --out HapMap_hwe_filter_step1\n",
    "\n",
    "# The HWE threshold for the cases filters out only SNPs which deviate extremely from HWE. \n",
    "# This second HWE step only focusses on cases because in the controls all SNPs with a HWE p-value < hwe 1e-6 were already removed\n",
    "#*# ORIGINAL: plink --bfile HapMap_hwe_filter_step1 --hwe 1e-10 --hwe-all --make-bed --out HapMap_3_r3_9\n",
    "plink --bfile HapMap_hwe_filter_step1 --hwe 1e-10 midp include-nonctrl --nonfounders --make-bed --out HapMap_3_r3_9\n",
    "\n",
    "# Theoretical background for this step is given in our accompanying article: https://www.ncbi.nlm.nih.gov/pubmed/29484742 ."
   ]
  },
  {
   "cell_type": "markdown",
   "metadata": {},
   "source": [
    "Show the variants that deviate from HWE (i.e. for p-value on HWE hypothesis < 1e-5):"
   ]
  },
  {
   "cell_type": "code",
   "execution_count": 41,
   "metadata": {
    "ExecuteTime": {
     "end_time": "2020-01-12T10:15:03.345524Z",
     "start_time": "2020-01-12T10:15:01.935284Z"
    }
   },
   "outputs": [
    {
     "name": "stdout",
     "output_type": "stream",
     "text": [
      "   2   rs4954599    UNAFF    G    A              11/9/36   0.1607   0.4004    8.831e-06\n",
      "   3  rs10510224    UNAFF    G    C              10/8/36   0.1481   0.3841    9.568e-06\n",
      "   3   rs2364367      AFF    G    C             20/12/24   0.2143   0.4974    8.801e-06\n",
      "   3   rs7623291      ALL    T    C             22/28/62     0.25   0.4362    5.413e-06\n",
      "   7  rs34238522      ALL    C    T              0/64/48   0.5714   0.4082    2.279e-06\n",
      "   8   rs1365032      AFF    C    T             23/12/21   0.2143   0.4994    8.656e-06\n",
      "   8   rs1365031      AFF    G    A             23/12/21   0.2143   0.4994    8.656e-06\n",
      "   8   rs2016354      AFF    C    T             23/12/21   0.2143   0.4994    8.656e-06\n",
      "   8   rs2588302      AFF    T    G             20/12/24   0.2143   0.4974    8.801e-06\n",
      "   8   rs3102841      ALL    C    A              8/78/23   0.7156   0.4905    1.261e-06\n",
      "   9    rs354831      ALL    C    T             12/18/82   0.1607   0.3047    3.389e-06\n",
      "   9  rs10990625      ALL    C    T             23/28/61     0.25   0.4424    7.155e-06\n",
      "   9  rs10990625      AFF    C    T              15/8/33   0.1429   0.4483    1.833e-07\n",
      "  10   rs2918624      ALL    C    T              0/62/50   0.5536   0.4004    5.251e-06\n",
      "  10   rs4934139      ALL    C    A              0/65/47   0.5804   0.4119    9.806e-07\n",
      "  12   rs2303632    UNAFF    T    G             15/10/31   0.1786   0.4592    2.573e-06\n",
      "  12   rs7963063    UNAFF    C    T             15/10/31   0.1786   0.4592    2.573e-06\n",
      "  13  rs17080881      ALL    T    G              5/75/32   0.6696   0.4709    4.558e-06\n",
      "  13  rs10507731      ALL    G    A              5/75/32   0.6696   0.4709    4.558e-06\n",
      "  19  rs12608717      ALL    G    A              0/66/45   0.5946   0.4178    1.047e-06\n"
     ]
    }
   ],
   "source": [
    "%%bash -s $data_dir\n",
    "set -e\n",
    "cd $1 \n",
    "\n",
    "#*# plink.hwe contains a number of lines equal to 3 times the number of variants\n",
    "#*# because statistics for all variants are computed for three separates sets \n",
    "#*# of input individuals (controls, cases, and all)\n",
    "#*# see: https://www.cog-genomics.org/plink/1.9/basic_stats#hardy\n",
    "#*# NOTE: While all variants below have p < 1e-5, none of the UNAFF group variants clear a 1e-6 filter\n",
    "awk '{ if ($9 <0.00001) print $0 }' plink.hwe"
   ]
  },
  {
   "cell_type": "markdown",
   "metadata": {},
   "source": [
    "### Step 5: Heterzygosity Filtering"
   ]
  },
  {
   "cell_type": "code",
   "execution_count": 8,
   "metadata": {
    "ExecuteTime": {
     "end_time": "2020-01-12T19:26:18.361224Z",
     "start_time": "2020-01-12T19:26:16.925014Z"
    }
   },
   "outputs": [
    {
     "name": "stdout",
     "output_type": "stream",
     "text": [
      "PLINK v1.90b6.14 64-bit (7 Jan 2020)           www.cog-genomics.org/plink/1.9/\n",
      "(C) 2005-2020 Shaun Purcell, Christopher Chang   GNU General Public License v3\n",
      "Logging to indepSNP.log.\n",
      "Options in effect:\n",
      "  --bfile HapMap_3_r3_9\n",
      "  --exclude inversion.txt\n",
      "  --indep-pairwise 50 5 0.2\n",
      "  --out indepSNP\n",
      "  --range\n",
      "\n",
      "Note: --range flag deprecated.  Use e.g. \"--extract range <filename>\".\n",
      "128535 MB RAM detected; reserving 64267 MB for main workspace.\n",
      "1073226 variants loaded from .bim file.\n",
      "165 people (81 males, 84 females) loaded from .fam.\n",
      "112 phenotype values loaded from .fam.\n",
      "--exclude range: 9893 variants excluded.\n",
      "--exclude range: 1063333 variants remaining.\n",
      "Using 1 thread (no multithreaded calculations invoked).\n",
      "Before main variant filters, 112 founders and 53 nonfounders present.\n",
      "Calculating allele frequencies... 10111213141516171819202122232425262728293031323334353637383940414243444546474849505152535455565758596061626364656667686970717273747576777879808182838485868788899091929394959697989 done.\n",
      "Total genotyping rate is 0.998042.\n",
      "1063333 variants and 165 people pass filters and QC.\n",
      "Among remaining phenotypes, 56 are cases and 56 are controls.  (53 phenotypes\n",
      "are missing.)\n",
      "Pruned 79323 variants from chromosome 1, leaving 8397.\n",
      "Pruned 81833 variants from chromosome 2, leaving 7965.\n",
      "Pruned 67905 variants from chromosome 3, leaving 6957.\n",
      "Pruned 59914 variants from chromosome 4, leaving 6215.\n",
      "Pruned 62681 variants from chromosome 5, leaving 6336.\n",
      "Pruned 59440 variants from chromosome 6, leaving 6092.\n",
      "Pruned 53506 variants from chromosome 7, leaving 5598.\n",
      "Pruned 51227 variants from chromosome 8, leaving 5025.\n",
      "Pruned 45349 variants from chromosome 9, leaving 4983.\n",
      "Pruned 51843 variants from chromosome 10, leaving 5382.\n",
      "Pruned 50263 variants from chromosome 11, leaving 5021.\n",
      "Pruned 47315 variants from chromosome 12, leaving 5250.\n",
      "Pruned 36460 variants from chromosome 13, leaving 4030.\n",
      "Pruned 31645 variants from chromosome 14, leaving 3499.\n",
      "Pruned 28604 variants from chromosome 15, leaving 3404.\n",
      "Pruned 30134 variants from chromosome 16, leaving 3685.\n",
      "Pruned 24471 variants from chromosome 17, leaving 3366.\n",
      "Pruned 28242 variants from chromosome 18, leaving 3413.\n",
      "Pruned 16854 variants from chromosome 19, leaving 2808.\n",
      "Pruned 24897 variants from chromosome 20, leaving 3051.\n",
      "Pruned 13769 variants from chromosome 21, leaving 1713.\n",
      "Pruned 13514 variants from chromosome 22, leaving 1954.\n",
      "Pruning complete.  959189 of 1063333 variants removed.\n",
      "Marker lists written to indepSNP.prune.in and indepSNP.prune.out .\n",
      "PLINK v1.90b6.14 64-bit (7 Jan 2020)           www.cog-genomics.org/plink/1.9/\n",
      "(C) 2005-2020 Shaun Purcell, Christopher Chang   GNU General Public License v3\n",
      "Logging to R_check.log.\n",
      "Options in effect:\n",
      "  --bfile HapMap_3_r3_9\n",
      "  --extract indepSNP.prune.in\n",
      "  --het\n",
      "  --out R_check\n",
      "\n",
      "128535 MB RAM detected; reserving 64267 MB for main workspace.\n",
      "1073226 variants loaded from .bim file.\n",
      "165 people (81 males, 84 females) loaded from .fam.\n",
      "112 phenotype values loaded from .fam.\n",
      "--extract: 104144 variants remaining.\n",
      "Using 1 thread (no multithreaded calculations invoked).\n",
      "Before main variant filters, 112 founders and 53 nonfounders present.\n",
      "Calculating allele frequencies... 10111213141516171819202122232425262728293031323334353637383940414243444546474849505152535455565758596061626364656667686970717273747576777879808182838485868788899091929394959697989 done.\n",
      "Total genotyping rate is 0.998036.\n",
      "104144 variants and 165 people pass filters and QC.\n",
      "Among remaining phenotypes, 56 are cases and 56 are controls.  (53 phenotypes\n",
      "are missing.)\n",
      "--het: 104144 variants scanned, report written to R_check.het .\n"
     ]
    }
   ],
   "source": [
    "%%timeop -o qc5-gen-hr\n",
    "%%bash -s $data_dir\n",
    "set -e\n",
    "cd $1 \n",
    "\n",
    "### step 5 ###\n",
    "\n",
    "# Generate a plot of the distribution of the heterozygosity rate of your subjects.\n",
    "# And remove individuals with a heterozygosity rate deviating more than 3 sd from the mean.\n",
    "\n",
    "# Checks for heterozygosity are performed on a set of SNPs which are not highly correlated.\n",
    "# Therefore, to generate a list of non-(highly)correlated SNPs, we exclude high inversion regions (inversion.txt [High LD regions]) and prune the SNPs using the command --indep-pairwiseí.\n",
    "# The parameters ë50 5 0.2í stand respectively for: the window size, the number of SNPs to shift the window at each step, and the multiple correlation coefficient for a SNP being regressed on all other SNPs simultaneously.\n",
    "\n",
    "plink --bfile HapMap_3_r3_9 --exclude inversion.txt --range --indep-pairwise 50 5 0.2 --out indepSNP\n",
    "# Note, don't delete the file indepSNP.prune.in, we will use this file in later steps of the tutorial.\n",
    "\n",
    "plink --bfile HapMap_3_r3_9 --extract indepSNP.prune.in --het --out R_check\n",
    "# This file contains your pruned data set."
   ]
  },
  {
   "cell_type": "markdown",
   "metadata": {},
   "source": [
    "The tutorial publication suggests that the outliers now be selected in R based on the heterozygosity statistics produced above.  Specifically, it states:\n",
    "\n",
    "```\n",
    "# Plot of the heterozygosity rate distribution\n",
    "Rscript --no-save check_heterozygosity_rate.R\n",
    "\n",
    "# The following code generates a list of individuals who deviate more than 3 standard deviations from the heterozygosity rate mean.\n",
    "# For data manipulation we recommend using UNIX. However, when performing statistical calculations R might be more convenient, hence the use of the Rscript for this step:\n",
    "Rscript --no-save heterozygosity_outliers_list.R\n",
    "```\n",
    "\n",
    "This logic is included inline below instead:"
   ]
  },
  {
   "cell_type": "code",
   "execution_count": 58,
   "metadata": {
    "ExecuteTime": {
     "end_time": "2020-01-12T19:48:32.147262Z",
     "start_time": "2020-01-12T19:48:32.094807Z"
    }
   },
   "outputs": [
    {
     "data": {
      "text/html": [
       "<div>\n",
       "<style scoped>\n",
       "    .dataframe tbody tr th:only-of-type {\n",
       "        vertical-align: middle;\n",
       "    }\n",
       "\n",
       "    .dataframe tbody tr th {\n",
       "        vertical-align: top;\n",
       "    }\n",
       "\n",
       "    .dataframe thead th {\n",
       "        text-align: right;\n",
       "    }\n",
       "</style>\n",
       "<table border=\"1\" class=\"dataframe\">\n",
       "  <thead>\n",
       "    <tr style=\"text-align: right;\">\n",
       "      <th></th>\n",
       "      <th>FID</th>\n",
       "      <th>IID</th>\n",
       "      <th>O(HOM)</th>\n",
       "      <th>E(HOM)</th>\n",
       "      <th>N(NM)</th>\n",
       "      <th>F</th>\n",
       "      <th>het_rate</th>\n",
       "      <th>het_lo</th>\n",
       "      <th>het_hi</th>\n",
       "      <th>status</th>\n",
       "    </tr>\n",
       "  </thead>\n",
       "  <tbody>\n",
       "    <tr>\n",
       "      <th>0</th>\n",
       "      <td>1328</td>\n",
       "      <td>NA06989</td>\n",
       "      <td>67039</td>\n",
       "      <td>67470.0</td>\n",
       "      <td>103911</td>\n",
       "      <td>-0.011720</td>\n",
       "      <td>0.354842</td>\n",
       "      <td>0.344955</td>\n",
       "      <td>0.362725</td>\n",
       "      <td>ok</td>\n",
       "    </tr>\n",
       "    <tr>\n",
       "      <th>1</th>\n",
       "      <td>1377</td>\n",
       "      <td>NA11891</td>\n",
       "      <td>66847</td>\n",
       "      <td>66840.0</td>\n",
       "      <td>102970</td>\n",
       "      <td>0.000149</td>\n",
       "      <td>0.350811</td>\n",
       "      <td>0.344955</td>\n",
       "      <td>0.362725</td>\n",
       "      <td>ok</td>\n",
       "    </tr>\n",
       "    <tr>\n",
       "      <th>2</th>\n",
       "      <td>1349</td>\n",
       "      <td>NA11843</td>\n",
       "      <td>67262</td>\n",
       "      <td>67560.0</td>\n",
       "      <td>104071</td>\n",
       "      <td>-0.008290</td>\n",
       "      <td>0.353691</td>\n",
       "      <td>0.344955</td>\n",
       "      <td>0.362725</td>\n",
       "      <td>ok</td>\n",
       "    </tr>\n",
       "    <tr>\n",
       "      <th>3</th>\n",
       "      <td>1330</td>\n",
       "      <td>NA12341</td>\n",
       "      <td>66654</td>\n",
       "      <td>67400.0</td>\n",
       "      <td>103826</td>\n",
       "      <td>-0.020510</td>\n",
       "      <td>0.358022</td>\n",
       "      <td>0.344955</td>\n",
       "      <td>0.362725</td>\n",
       "      <td>ok</td>\n",
       "    </tr>\n",
       "    <tr>\n",
       "      <th>4</th>\n",
       "      <td>1444</td>\n",
       "      <td>NA12739</td>\n",
       "      <td>66687</td>\n",
       "      <td>66560.0</td>\n",
       "      <td>102519</td>\n",
       "      <td>0.003602</td>\n",
       "      <td>0.349516</td>\n",
       "      <td>0.344955</td>\n",
       "      <td>0.362725</td>\n",
       "      <td>ok</td>\n",
       "    </tr>\n",
       "  </tbody>\n",
       "</table>\n",
       "</div>"
      ],
      "text/plain": [
       "    FID      IID  O(HOM)   E(HOM)   N(NM)         F  het_rate    het_lo  \\\n",
       "0  1328  NA06989   67039  67470.0  103911 -0.011720  0.354842  0.344955   \n",
       "1  1377  NA11891   66847  66840.0  102970  0.000149  0.350811  0.344955   \n",
       "2  1349  NA11843   67262  67560.0  104071 -0.008290  0.353691  0.344955   \n",
       "3  1330  NA12341   66654  67400.0  103826 -0.020510  0.358022  0.344955   \n",
       "4  1444  NA12739   66687  66560.0  102519  0.003602  0.349516  0.344955   \n",
       "\n",
       "     het_hi status  \n",
       "0  0.362725     ok  \n",
       "1  0.362725     ok  \n",
       "2  0.362725     ok  \n",
       "3  0.362725     ok  \n",
       "4  0.362725     ok  "
      ]
     },
     "execution_count": 58,
     "metadata": {},
     "output_type": "execute_result"
    }
   ],
   "source": [
    "#*# Contents of check_heterozygosity_rate.R:\n",
    "#*# > het$HET_RATE = (het$\"N.NM.\" - het$\"O.HOM.\")/het$\"N.NM.\"\n",
    "#*# > hist(het$HET_RATE, xlab=\"Heterozygosity Rate\", ylab=\"Frequency\", main= \"Heterozygosity Rate\")\n",
    "\n",
    "#*# Contents of heterozygosity_outliers_list.R:\n",
    "#*# het$HET_RATE = (het$\"N.NM.\" - het$\"O.HOM.\")/het$\"N.NM.\"\n",
    "#*# het_fail = subset(het, (het$HET_RATE < mean(het$HET_RATE)-3*sd(het$HET_RATE)) | (het$HET_RATE > mean(het$HET_RATE)+3*sd(het$HET_RATE)));\n",
    "#*# het_fail$HET_DST = (het_fail$HET_RATE-mean(het$HET_RATE))/sd(het$HET_RATE);\n",
    "\n",
    "def get_het_check():\n",
    "    return (\n",
    "        pd.read_csv(data_dir + '/R_check.het', sep=r\"\\s+\")\n",
    "        .assign(het_rate=lambda df: (df['N(NM)'] - df['O(HOM)']) / df['N(NM)'])\n",
    "        .assign(het_lo=lambda df: df['het_rate'].mean() - 3 * df['het_rate'].std())\n",
    "        .assign(het_hi=lambda df: df['het_rate'].mean() + 3 * df['het_rate'].std())\n",
    "        .assign(status=lambda df: ~df['het_rate'].between(df['het_lo'], df['het_hi']))\n",
    "        .assign(status=lambda df: df['status'].map({True: 'outlier', False: 'ok'}))\n",
    "    )\n",
    "\n",
    "#*# This file format (for .get) is documented at https://www.cog-genomics.org/plink/1.9/formats#het\n",
    "get_het_check().head()"
   ]
  },
  {
   "cell_type": "markdown",
   "metadata": {
    "ExecuteTime": {
     "end_time": "2020-01-13T14:46:50.720308Z",
     "start_time": "2020-01-13T14:46:50.715938Z"
    }
   },
   "source": [
    "#### Heterozygosity Distribution"
   ]
  },
  {
   "cell_type": "code",
   "execution_count": 59,
   "metadata": {
    "ExecuteTime": {
     "end_time": "2020-01-12T19:48:59.042658Z",
     "start_time": "2020-01-12T19:48:58.343693Z"
    }
   },
   "outputs": [
    {
     "data": {
      "text/plain": [
       "<matplotlib.axes._subplots.AxesSubplot at 0x7f6c6927a190>"
      ]
     },
     "execution_count": 59,
     "metadata": {},
     "output_type": "execute_result"
    },
    {
     "data": {
      "image/png": "[encoded data removed]",
      "text/plain": [
       "<Figure size 1152x216 with 1 Axes>"
      ]
     },
     "metadata": {
      "needs_background": "light"
     },
     "output_type": "display_data"
    }
   ],
   "source": [
    "get_het_check().reset_index().pivot('index', 'status', 'het_rate').plot(kind='hist', bins=128, figsize=(16, 3))"
   ]
  },
  {
   "cell_type": "code",
   "execution_count": 70,
   "metadata": {
    "ExecuteTime": {
     "end_time": "2020-01-12T19:53:49.043790Z",
     "start_time": "2020-01-12T19:53:48.552340Z"
    }
   },
   "outputs": [
    {
     "name": "stdout",
     "output_type": "stream",
     "text": [
      "FID IID\n",
      "1330 NA12342\n",
      "1459 NA12874\n"
     ]
    }
   ],
   "source": [
    "%%timeop -o qc5-gen-outlier\n",
    "get_het_check()\\\n",
    "    .pipe(lambda df: df[df['status'] == 'outlier'])\\\n",
    "    .pipe(lambda df: df[['FID', 'IID']].to_csv(data_dir + '/het_fail_ind.txt', index=False, sep=' '))\n",
    "!cat $data_dir/het_fail_ind.txt | head"
   ]
  },
  {
   "cell_type": "code",
   "execution_count": 71,
   "metadata": {
    "ExecuteTime": {
     "end_time": "2020-01-12T19:53:50.320536Z",
     "start_time": "2020-01-12T19:53:49.818235Z"
    }
   },
   "outputs": [
    {
     "name": "stdout",
     "output_type": "stream",
     "text": [
      "PLINK v1.90b6.14 64-bit (7 Jan 2020)           www.cog-genomics.org/plink/1.9/\n",
      "(C) 2005-2020 Shaun Purcell, Christopher Chang   GNU General Public License v3\n",
      "Logging to HapMap_3_r3_10.log.\n",
      "Options in effect:\n",
      "  --bfile HapMap_3_r3_9\n",
      "  --make-bed\n",
      "  --out HapMap_3_r3_10\n",
      "  --remove het_fail_ind.txt\n",
      "\n",
      "128535 MB RAM detected; reserving 64267 MB for main workspace.\n",
      "1073226 variants loaded from .bim file.\n",
      "165 people (81 males, 84 females) loaded from .fam.\n",
      "112 phenotype values loaded from .fam.\n",
      "--remove: 163 people remaining.\n",
      "Using 1 thread (no multithreaded calculations invoked).\n",
      "Before main variant filters, 110 founders and 53 nonfounders present.\n",
      "Calculating allele frequencies... 10111213141516171819202122232425262728293031323334353637383940414243444546474849505152535455565758596061626364656667686970717273747576777879808182838485868788899091929394959697989 done.\n",
      "Total genotyping rate in remaining samples is 0.998071.\n",
      "1073226 variants and 163 people pass filters and QC.\n",
      "Among remaining phenotypes, 55 are cases and 55 are controls.  (53 phenotypes\n",
      "are missing.)\n",
      "--make-bed to HapMap_3_r3_10.bed + HapMap_3_r3_10.bim + HapMap_3_r3_10.fam ...\n",
      "101112131415161718192021222324252627282930313233343536373839404142434445464748495051525354555657585960616263646566676869707172737475767778798081828384858687888990919293949596979899done.\n"
     ]
    }
   ],
   "source": [
    "%%timeop -o qc5-filter-outlier\n",
    "%%bash -s $data_dir\n",
    "set -e\n",
    "cd $1 \n",
    "\n",
    "#*# We don't need this step anymore since the file was written in the correct format already:\n",
    "# Output of the command above: fail-het-qc.txt .\n",
    "# When using our example data/the HapMap data this list contains 2 individuals (i.e., two individuals have a heterozygosity rate deviating more than 3 SD's from the mean).\n",
    "# Adapt this file to make it compatible for PLINK, by removing all quotation marks from the file and selecting only the first two columns.\n",
    "# sed 's/\"// g' fail-het-qc.txt | awk '{print$1, $2}'> het_fail_ind.txt\n",
    "\n",
    "# Remove heterozygosity rate outliers.\n",
    "plink --bfile HapMap_3_r3_9 --remove het_fail_ind.txt --make-bed --out HapMap_3_r3_10"
   ]
  },
  {
   "cell_type": "markdown",
   "metadata": {},
   "source": [
    "### Step 6: Heterzygosity Filtering"
   ]
  },
  {
   "cell_type": "code",
   "execution_count": 2,
   "metadata": {},
   "outputs": [
    {
     "name": "stdout",
     "output_type": "stream",
     "text": [
      "PLINK v1.90b6.14 64-bit (7 Jan 2020)           www.cog-genomics.org/plink/1.9/\n",
      "(C) 2005-2020 Shaun Purcell, Christopher Chang   GNU General Public License v3\n",
      "Logging to HapMap_3_r3_11.log.\n",
      "Options in effect:\n",
      "  --bfile HapMap_3_r3_10\n",
      "  --filter-founders\n",
      "  --make-bed\n",
      "  --out HapMap_3_r3_11\n",
      "\n",
      "128535 MB RAM detected; reserving 64267 MB for main workspace.\n",
      "1073226 variants loaded from .bim file.\n",
      "163 people (79 males, 84 females) loaded from .fam.\n",
      "110 phenotype values loaded from .fam.\n",
      "53 people removed due to founder status (--filter-founders).\n",
      "Using 1 thread (no multithreaded calculations invoked).\n",
      "Before main variant filters, 110 founders and 0 nonfounders present.\n",
      "Calculating allele frequencies... 10111213141516171819202122232425262728293031323334353637383940414243444546474849505152535455565758596061626364656667686970717273747576777879808182838485868788899091929394959697989 done.\n",
      "Total genotyping rate in remaining samples is 0.998025.\n",
      "1073226 variants and 110 people pass filters and QC.\n",
      "Among remaining phenotypes, 55 are cases and 55 are controls.\n",
      "--make-bed to HapMap_3_r3_11.bed + HapMap_3_r3_11.bim + HapMap_3_r3_11.fam ...\n",
      "101112131415161718192021222324252627282930313233343536373839404142434445464748495051525354555657585960616263646566676869707172737475767778798081828384858687888990919293949596979899done.\n",
      "PLINK v1.90b6.14 64-bit (7 Jan 2020)           www.cog-genomics.org/plink/1.9/\n",
      "(C) 2005-2020 Shaun Purcell, Christopher Chang   GNU General Public License v3\n",
      "Logging to pihat_min0.2_in_founders.log.\n",
      "Options in effect:\n",
      "  --bfile HapMap_3_r3_11\n",
      "  --extract indepSNP.prune.in\n",
      "  --genome\n",
      "  --min 0.2\n",
      "  --out pihat_min0.2_in_founders\n",
      "\n",
      "128535 MB RAM detected; reserving 64267 MB for main workspace.\n",
      "1073226 variants loaded from .bim file.\n",
      "110 people (55 males, 55 females) loaded from .fam.\n",
      "110 phenotype values loaded from .fam.\n",
      "--extract: 104144 variants remaining.\n",
      "Using up to 15 threads (change this with --threads).\n",
      "Before main variant filters, 110 founders and 0 nonfounders present.\n",
      "Calculating allele frequencies... 10111213141516171819202122232425262728293031323334353637383940414243444546474849505152535455565758596061626364656667686970717273747576777879808182838485868788899091929394959697989 done.\n",
      "Total genotyping rate is 0.997978.\n",
      "104144 variants and 110 people pass filters and QC.\n",
      "Among remaining phenotypes, 55 are cases and 55 are controls.\n",
      "IBD calculations complete.  \n",
      "Finished writing pihat_min0.2_in_founders.genome .\n",
      "PLINK v1.90b6.14 64-bit (7 Jan 2020)           www.cog-genomics.org/plink/1.9/\n",
      "(C) 2005-2020 Shaun Purcell, Christopher Chang   GNU General Public License v3\n",
      "Logging to plink.log.\n",
      "Options in effect:\n",
      "  --bfile HapMap_3_r3_11\n",
      "  --missing\n",
      "\n",
      "128535 MB RAM detected; reserving 64267 MB for main workspace.\n",
      "1073226 variants loaded from .bim file.\n",
      "110 people (55 males, 55 females) loaded from .fam.\n",
      "110 phenotype values loaded from .fam.\n",
      "Using 1 thread (no multithreaded calculations invoked).\n",
      "Before main variant filters, 110 founders and 0 nonfounders present.\n",
      "Calculating allele frequencies... 10111213141516171819202122232425262728293031323334353637383940414243444546474849505152535455565758596061626364656667686970717273747576777879808182838485868788899091929394959697989 done.\n",
      "Total genotyping rate is 0.998025.\n",
      "--missing: Sample missing data report written to plink.imiss, and variant-based\n",
      "missing data report written to plink.lmiss.\n",
      "Elapsed time: 1.5 seconds\n"
     ]
    }
   ],
   "source": [
    "%%timeop -o qc6-find-cryptic-relatives\n",
    "%%bash -s $data_dir\n",
    "set -e\n",
    "cd $1 \n",
    "### step 6 ###\n",
    "\n",
    "# It is essential to check datasets you analyse for cryptic relatedness.\n",
    "# Assuming a random population sample we are going to exclude all individuals above the pihat threshold of 0.2 in this tutorial.\n",
    "\n",
    "#*# The 3 commands below are information but not necessary for the pipeline so they can be skipped\n",
    "# Check for relationships between individuals with a pihat > 0.2.\n",
    "# plink --bfile HapMap_3_r3_10 --extract indepSNP.prune.in --genome --min 0.2 --out pihat_min0.2\n",
    "\n",
    "# The HapMap dataset is known to contain parent-offspring relations. \n",
    "# The following commands will visualize specifically these parent-offspring relations, using the z values. \n",
    "# awk '{ if ($8 >0.9) print $0 }' pihat_min0.2.genome>zoom_pihat.genome\n",
    "\n",
    "# Generate a plot to assess the type of relationship.\n",
    "# Rscript --no-save Relatedness.R\n",
    "\n",
    "# The generated plots show a considerable amount of related individuals (explentation plot; PO = parent-offspring, UN = unrelated individuals) in the Hapmap data, this is expected since the dataset was constructed as such.\n",
    "# Normally, family based data should be analyzed using specific family based methods. In this tutorial, for demonstrative purposes, we treat the relatedness as cryptic relatedness in a random population sample.\n",
    "# In this tutorial, we aim to remove all 'relatedness' from our dataset.\n",
    "# To demonstrate that the majority of the relatedness was due to parent-offspring we only include founders (individuals without parents in the dataset).\n",
    "\n",
    "#*# This will keep founders and remove non-founders\n",
    "plink --bfile HapMap_3_r3_10 --filter-founders --make-bed --out HapMap_3_r3_11\n",
    "\n",
    "# Now we will look again for individuals with a pihat >0.2.\n",
    "plink --bfile HapMap_3_r3_11 --extract indepSNP.prune.in --genome --min 0.2 --out pihat_min0.2_in_founders\n",
    "# The file 'pihat_min0.2_in_founders.genome' shows that, after exclusion of all non-founders, only 1 individual pair with a pihat greater than 0.2 remains in the HapMap data.\n",
    "# This is likely to be a full sib or DZ twin pair based on the Z values. Noteworthy, they were not given the same family identity (FID) in the HapMap data.\n",
    "\n",
    "# For each pair of 'related' individuals with a pihat > 0.2, we recommend to remove the individual with the lowest call rate. \n",
    "plink --bfile HapMap_3_r3_11 --missing\n",
    "# Use an UNIX text editor (e.g., vi(m) ) to check which individual has the highest call rate in the 'related pair'. "
   ]
  },
  {
   "cell_type": "markdown",
   "metadata": {},
   "source": [
    "Now there is a file containing highly related individuals (two individuals per row) and a separate file containing call rates for all indvidiuals.  \n",
    "\n",
    "The tutorial again suggests that something be done manually but this is instead automated below.  Original commands/comments:\n",
    "\n",
    "```bash\n",
    "# Generate a list of FID and IID of the individual(s) with a Pihat above 0.2, to check who had the lower call rate of the pair.\n",
    "# In our dataset the individual 13291  NA07045 had the lower call rate.\n",
    "vi 0.2_low_call_rate_pihat.txt\n",
    "i \n",
    "13291  NA07045\n",
    "# Press esc on keyboard!\n",
    ":x\n",
    "# Press enter on keyboard\n",
    "# In case of multiple 'related' pairs, the list generated above can be extended using the same method as for our lone 'related' pair.\n",
    "```\n",
    "\n",
    "Corresponding python code:"
   ]
  },
  {
   "cell_type": "code",
   "execution_count": 18,
   "metadata": {},
   "outputs": [
    {
     "data": {
      "text/html": [
       "<div>\n",
       "<style scoped>\n",
       "    .dataframe tbody tr th:only-of-type {\n",
       "        vertical-align: middle;\n",
       "    }\n",
       "\n",
       "    .dataframe tbody tr th {\n",
       "        vertical-align: top;\n",
       "    }\n",
       "\n",
       "    .dataframe thead th {\n",
       "        text-align: right;\n",
       "    }\n",
       "</style>\n",
       "<table border=\"1\" class=\"dataframe\">\n",
       "  <thead>\n",
       "    <tr style=\"text-align: right;\">\n",
       "      <th></th>\n",
       "      <th>FID1</th>\n",
       "      <th>IID1</th>\n",
       "      <th>FID2</th>\n",
       "      <th>IID2</th>\n",
       "      <th>RT</th>\n",
       "      <th>EZ</th>\n",
       "      <th>Z0</th>\n",
       "      <th>Z1</th>\n",
       "      <th>Z2</th>\n",
       "      <th>PI_HAT</th>\n",
       "      <th>PHE</th>\n",
       "      <th>DST</th>\n",
       "      <th>PPC</th>\n",
       "      <th>RATIO</th>\n",
       "    </tr>\n",
       "  </thead>\n",
       "  <tbody>\n",
       "    <tr>\n",
       "      <th>0</th>\n",
       "      <td>13291</td>\n",
       "      <td>NA07045</td>\n",
       "      <td>1454</td>\n",
       "      <td>NA12813</td>\n",
       "      <td>UN</td>\n",
       "      <td>NaN</td>\n",
       "      <td>0.2572</td>\n",
       "      <td>0.5007</td>\n",
       "      <td>0.2421</td>\n",
       "      <td>0.4924</td>\n",
       "      <td>0</td>\n",
       "      <td>0.839777</td>\n",
       "      <td>1.0</td>\n",
       "      <td>9.7022</td>\n",
       "    </tr>\n",
       "  </tbody>\n",
       "</table>\n",
       "</div>"
      ],
      "text/plain": [
       "    FID1     IID1  FID2     IID2  RT  EZ      Z0      Z1      Z2  PI_HAT  PHE  \\\n",
       "0  13291  NA07045  1454  NA12813  UN NaN  0.2572  0.5007  0.2421  0.4924    0   \n",
       "\n",
       "        DST  PPC   RATIO  \n",
       "0  0.839777  1.0  9.7022  "
      ]
     },
     "execution_count": 18,
     "metadata": {},
     "output_type": "execute_result"
    }
   ],
   "source": [
    "# Show the pairs of individuals with high genetic similarity generated above\n",
    "df_cr = pd.read_csv(osp.join(data_dir, 'pihat_min0.2_in_founders.genome'), sep='\\s+')\n",
    "df_cr"
   ]
  },
  {
   "cell_type": "code",
   "execution_count": 21,
   "metadata": {},
   "outputs": [
    {
     "data": {
      "text/html": [
       "<div>\n",
       "<style scoped>\n",
       "    .dataframe tbody tr th:only-of-type {\n",
       "        vertical-align: middle;\n",
       "    }\n",
       "\n",
       "    .dataframe tbody tr th {\n",
       "        vertical-align: top;\n",
       "    }\n",
       "\n",
       "    .dataframe thead th {\n",
       "        text-align: right;\n",
       "    }\n",
       "</style>\n",
       "<table border=\"1\" class=\"dataframe\">\n",
       "  <thead>\n",
       "    <tr style=\"text-align: right;\">\n",
       "      <th></th>\n",
       "      <th>FID1</th>\n",
       "      <th>IID1</th>\n",
       "      <th>FID2</th>\n",
       "      <th>IID2</th>\n",
       "      <th>RT</th>\n",
       "      <th>EZ</th>\n",
       "      <th>Z0</th>\n",
       "      <th>Z1</th>\n",
       "      <th>Z2</th>\n",
       "      <th>PI_HAT</th>\n",
       "      <th>PHE</th>\n",
       "      <th>DST</th>\n",
       "      <th>PPC</th>\n",
       "      <th>RATIO</th>\n",
       "      <th>I1CR</th>\n",
       "      <th>I2CR</th>\n",
       "    </tr>\n",
       "  </thead>\n",
       "  <tbody>\n",
       "    <tr>\n",
       "      <th>0</th>\n",
       "      <td>13291</td>\n",
       "      <td>NA07045</td>\n",
       "      <td>1454</td>\n",
       "      <td>NA12813</td>\n",
       "      <td>UN</td>\n",
       "      <td>NaN</td>\n",
       "      <td>0.2572</td>\n",
       "      <td>0.5007</td>\n",
       "      <td>0.2421</td>\n",
       "      <td>0.4924</td>\n",
       "      <td>0</td>\n",
       "      <td>0.839777</td>\n",
       "      <td>1.0</td>\n",
       "      <td>9.7022</td>\n",
       "      <td>0.002378</td>\n",
       "      <td>0.001814</td>\n",
       "    </tr>\n",
       "  </tbody>\n",
       "</table>\n",
       "</div>"
      ],
      "text/plain": [
       "    FID1     IID1  FID2     IID2  RT  EZ      Z0      Z1      Z2  PI_HAT  PHE  \\\n",
       "0  13291  NA07045  1454  NA12813  UN NaN  0.2572  0.5007  0.2421  0.4924    0   \n",
       "\n",
       "        DST  PPC   RATIO      I1CR      I2CR  \n",
       "0  0.839777  1.0  9.7022  0.002378  0.001814  "
      ]
     },
     "execution_count": 21,
     "metadata": {},
     "output_type": "execute_result"
    }
   ],
   "source": [
    "# Show the pairs of individuals above with corresponding call rates\n",
    "m_cr = pd.read_csv(osp.join(data_dir, 'plink.imiss'), sep='\\s+').set_index(['FID', 'IID'])['F_MISS'].to_dict()\n",
    "df_crr = lambda: (\n",
    "    df_cr.assign(\n",
    "        I1CR=df_cr.set_index(['FID1', 'IID1']).index.map(m_cr),\n",
    "        I2CR=df_cr.set_index(['FID2', 'IID2']).index.map(m_cr)\n",
    "    )\n",
    ")\n",
    "df_crr()"
   ]
  },
  {
   "cell_type": "code",
   "execution_count": 27,
   "metadata": {},
   "outputs": [
    {
     "name": "stdout",
     "output_type": "stream",
     "text": [
      "1454 NA12813"
     ]
    }
   ],
   "source": [
    "# Generate space separated file of samples to remove where each line is \"FID IID\" of individual w/ lower call rate in related pairs\n",
    "gen_line = lambda r, fid, iid: str(r[fid]) + ' ' + str(r[iid])\n",
    "path = osp.join(data_dir, '0.2_low_call_rate_pihat.txt')\n",
    "with open(path, 'w') as fd:\n",
    "    df_crr()\\\n",
    "        .apply(lambda r: gen_line(r, 'FID2', 'IID2') if r['I1CR'] > r['I2CR'] else gen_line(r, 'FID1', 'IID2'), axis=1)\\\n",
    "        .map(lambda v: fd.write(v))\n",
    "!cat $path"
   ]
  },
  {
   "cell_type": "markdown",
   "metadata": {},
   "source": [
    "Now pass the file containing the samples to remove to PLINK:"
   ]
  },
  {
   "cell_type": "code",
   "execution_count": 28,
   "metadata": {},
   "outputs": [
    {
     "name": "stdout",
     "output_type": "stream",
     "text": [
      "PLINK v1.90b6.14 64-bit (7 Jan 2020)           www.cog-genomics.org/plink/1.9/\n",
      "(C) 2005-2020 Shaun Purcell, Christopher Chang   GNU General Public License v3\n",
      "Logging to HapMap_3_r3_12.log.\n",
      "Options in effect:\n",
      "  --bfile HapMap_3_r3_11\n",
      "  --make-bed\n",
      "  --out HapMap_3_r3_12\n",
      "  --remove 0.2_low_call_rate_pihat.txt\n",
      "\n",
      "128535 MB RAM detected; reserving 64267 MB for main workspace.\n",
      "1073226 variants loaded from .bim file.\n",
      "110 people (55 males, 55 females) loaded from .fam.\n",
      "110 phenotype values loaded from .fam.\n",
      "--remove: 109 people remaining.\n",
      "Using 1 thread (no multithreaded calculations invoked).\n",
      "Before main variant filters, 109 founders and 0 nonfounders present.\n",
      "Calculating allele frequencies... 10111213141516171819202122232425262728293031323334353637383940414243444546474849505152535455565758596061626364656667686970717273747576777879808182838485868788899091929394959697989 done.\n",
      "Total genotyping rate in remaining samples is 0.998023.\n",
      "1073226 variants and 109 people pass filters and QC.\n",
      "Among remaining phenotypes, 55 are cases and 54 are controls.\n",
      "--make-bed to HapMap_3_r3_12.bed + HapMap_3_r3_12.bim + HapMap_3_r3_12.fam ...\n",
      "101112131415161718192021222324252627282930313233343536373839404142434445464748495051525354555657585960616263646566676869707172737475767778798081828384858687888990919293949596979899done.\n",
      "Elapsed time: 0.4 seconds\n"
     ]
    }
   ],
   "source": [
    "%%timeop -o qc5-filter-cyrptic-relatives\n",
    "%%bash -s $data_dir\n",
    "set -e\n",
    "cd $1 \n",
    "\n",
    "# Delete the individuals with the lowest call rate in 'related' pairs with a pihat > 0.2 \n",
    "plink --bfile HapMap_3_r3_11 --remove 0.2_low_call_rate_pihat.txt --make-bed --out HapMap_3_r3_12"
   ]
  },
  {
   "cell_type": "markdown",
   "metadata": {},
   "source": [
    "And we're done!"
   ]
  },
  {
   "cell_type": "code",
   "execution_count": null,
   "metadata": {},
   "outputs": [],
   "source": [
    "################################################################################################################################\n",
    "\n",
    "# CONGRATULATIONS!! You've just succesfully completed the first tutorial! You are now able to conduct a proper genetic QC. \n",
    "\n",
    "# For the next tutorial, using the script: 2_Main_script_MDS.txt, you need the following files:\n",
    "# - The bfile HapMap_3_r3_12 (i.e., HapMap_3_r3_12.fam,HapMap_3_r3_12.bed, and HapMap_3_r3_12.bim)\n",
    "# - indepSNP.prune.in"
   ]
  }
 ],
 "metadata": {
  "kernelspec": {
   "display_name": "Python 3",
   "language": "python",
   "name": "python3"
  },
  "language_info": {
   "codemirror_mode": {
    "name": "ipython",
    "version": 3
   },
   "file_extension": ".py",
   "mimetype": "text/x-python",
   "name": "python",
   "nbconvert_exporter": "python",
   "pygments_lexer": "ipython3",
   "version": "3.7.6"
  }
 },
 "nbformat": 4,
 "nbformat_minor": 4
}
