{
 "cells": [
  {
   "cell_type": "markdown",
   "metadata": {},
   "source": [
    "## Rewrite of Glow Tutorial w/ Sparse Data Structures"
   ]
  },
  {
   "cell_type": "code",
   "execution_count": 1,
   "metadata": {
    "ExecuteTime": {
     "end_time": "2020-01-16T04:58:49.981022Z",
     "start_time": "2020-01-16T04:58:41.543Z"
    }
   },
   "outputs": [
    {
     "name": "stdout",
     "output_type": "stream",
     "text": [
      "Compiling /home/eczech/repos/gwas-analysis/notebooks/init/paths.scCompiling /home/eczech/repos/gwas-analysis/notebooks/init/glow.scCompiling /home/eczech/repos/gwas-analysis/notebooks/init/benchmark.scCompiling /home/eczech/repos/gwas-analysis/notebooks/init/plotly.scLoading spark-stubs\n"
     ]
    },
    {
     "name": "stderr",
     "output_type": "stream",
     "text": [
      "SLF4J: Class path contains multiple SLF4J bindings.\n",
      "SLF4J: Found binding in [jar:file:/home/eczech/.cache/coursier/v1/https/repo1.maven.org/maven2/org/slf4j/slf4j-log4j12/1.7.16/slf4j-log4j12-1.7.16.jar!/org/slf4j/impl/StaticLoggerBinder.class]\n",
      "SLF4J: Found binding in [jar:file:/home/eczech/.cache/coursier/v1/https/repo1.maven.org/maven2/org/slf4j/slf4j-log4j12/1.7.25/slf4j-log4j12-1.7.25.jar!/org/slf4j/impl/StaticLoggerBinder.class]\n",
      "SLF4J: See http://www.slf4j.org/codes.html#multiple_bindings for an explanation.\n",
      "SLF4J: Actual binding is of type [org.slf4j.impl.Log4jLoggerFactory]\n"
     ]
    },
    {
     "name": "stdout",
     "output_type": "stream",
     "text": [
      "Creating SparkSession\n"
     ]
    },
    {
     "name": "stderr",
     "output_type": "stream",
     "text": [
      "Using Spark's default log4j profile: org/apache/spark/log4j-defaults.properties\n",
      "20/01/16 04:58:48 WARN NativeCodeLoader: Unable to load native-hadoop library for your platform... using builtin-java classes where applicable\n"
     ]
    },
    {
     "data": {
      "text/html": [
       "\n",
       "      <script type=\"text/javascript\">\n",
       "        require.config({\n",
       "  paths: {\n",
       "    d3: 'https://cdnjs.cloudflare.com/ajax/libs/d3/3.5.17/d3.min',\n",
       "    plotly: 'https://cdn.plot.ly/plotly-1.41.3.min',\n",
       "    jquery: 'https://code.jquery.com/jquery-3.3.1.min'\n",
       "  },\n",
       "\n",
       "  shim: {\n",
       "    plotly: {\n",
       "      deps: ['d3', 'jquery'],\n",
       "      exports: 'plotly'\n",
       "    }\n",
       "  }\n",
       "});\n",
       "        \n",
       "\n",
       "        require(['plotly'], function(Plotly) {\n",
       "          window.Plotly = Plotly;\n",
       "        });\n",
       "      </script>\n",
       "    "
      ]
     },
     "metadata": {},
     "output_type": "display_data"
    },
    {
     "data": {
      "text/plain": [
       "\u001b[32mimport \u001b[39m\u001b[36m$ivy.$                                  \n",
       "\u001b[39m\n",
       "\u001b[32mimport \u001b[39m\u001b[36m$file.$           , spark._\n",
       "\u001b[39m\n",
       "\u001b[32mimport \u001b[39m\u001b[36m$file.$           , paths._\n",
       "\u001b[39m\n",
       "\u001b[32mimport \u001b[39m\u001b[36m$file.$          , glow._\n",
       "\u001b[39m\n",
       "\u001b[32mimport \u001b[39m\u001b[36m$file.$               , benchmark._\n",
       "\u001b[39m\n",
       "\u001b[32mimport \u001b[39m\u001b[36m$file.$                             , init_plotly._\n",
       "\u001b[39m\n",
       "\u001b[32mimport \u001b[39m\u001b[36msys.process._\n",
       "\u001b[39m\n",
       "\u001b[32mimport \u001b[39m\u001b[36morg.apache.spark.sql.DataFrame\n",
       "\u001b[39m\n",
       "\u001b[32mimport \u001b[39m\u001b[36morg.apache.spark.sql.functions._\n",
       "\u001b[39m\n",
       "\u001b[32mimport \u001b[39m\u001b[36morg.apache.spark.sql.SparkSession\n",
       "\u001b[39m\n",
       "\u001b[32mimport \u001b[39m\u001b[36morg.apache.spark.sql.expressions.Window\n",
       "\u001b[39m\n",
       "\u001b[32mimport \u001b[39m\u001b[36mio.projectglow.Glow\n",
       "\u001b[39m\n",
       "\u001b[32mimport \u001b[39m\u001b[36mplotly._\n",
       "\u001b[39m\n",
       "\u001b[32mimport \u001b[39m\u001b[36mplotly.element._\n",
       "\u001b[39m\n",
       "\u001b[32mimport \u001b[39m\u001b[36mplotly.layout._\n",
       "\u001b[39m\n",
       "\u001b[32mimport \u001b[39m\u001b[36mplotly.Almond.{init => init_plotly_js, _}\n",
       "\u001b[39m\n",
       "\u001b[32mimport \u001b[39m\u001b[36mbetter.files.File\n",
       "\u001b[39m\n",
       "\u001b[32mimport \u001b[39m\u001b[36morg.apache.log4j.{Level, Logger}\n",
       "\u001b[39m\n",
       "\u001b[32mimport \u001b[39m\u001b[36mjava.nio.file.Paths\n",
       "\u001b[39m\n",
       "\u001b[36mss\u001b[39m: \u001b[32mSparkSession\u001b[39m = org.apache.spark.sql.SparkSession@3b990a02\n",
       "\u001b[32mimport \u001b[39m\u001b[36mss.implicits._\n",
       "\u001b[39m\n",
       "defined \u001b[32mfunction\u001b[39m \u001b[36mtimeop\u001b[39m\n",
       "\u001b[36mdata_dir\u001b[39m: \u001b[32mFile\u001b[39m = /home/eczech/data/gwas/tutorial/1_QC_GWAS"
      ]
     },
     "execution_count": 1,
     "metadata": {},
     "output_type": "execute_result"
    }
   ],
   "source": [
    "// Load samtools lib before glow as this is necessary to avoid this error on vcf writes:\n",
    "// htsjdk.variant.variantcontext.VariantContextBuilder.getGenotypes() method not found\n",
    "import $ivy.`com.github.samtools:htsjdk:2.21.1`\n",
    "import $file.^.^.init.spark, spark._\n",
    "import $file.^.^.init.paths, paths._\n",
    "import $file.^.^.init.glow, glow._\n",
    "import $file.^.^.init.benchmark, benchmark._\n",
    "import $file.^.^.init.{plotly => init_plotly}, init_plotly._\n",
    "import sys.process._\n",
    "import org.apache.spark.sql.DataFrame\n",
    "import org.apache.spark.sql.functions._\n",
    "import org.apache.spark.sql.SparkSession\n",
    "import org.apache.spark.sql.expressions.Window\n",
    "import io.projectglow.Glow\n",
    "import plotly._\n",
    "import plotly.element._\n",
    "import plotly.layout._\n",
    "import plotly.Almond.{init => init_plotly_js, _}\n",
    "import better.files.File\n",
    "import org.apache.log4j.{Level, Logger}\n",
    "import java.nio.file.Paths\n",
    "Logger.getLogger(\"io.projectglow.plink\").setLevel(Level.WARN)\n",
    "\n",
    "val ss = getLocalSparkSession(shufflePartitions=1)\n",
    "import ss.implicits._\n",
    "Glow.register(ss)\n",
    "\n",
    "def timeop[T](op: String)(block: => T) = optimer(\"glowmt\", op, block)\n",
    "\n",
    "init_plotly_js(offline=false)\n",
    "\n",
    "val data_dir = GWAS_TUTORIAL_DATA_DIR / \"1_QC_GWAS\""
   ]
  },
  {
   "cell_type": "markdown",
   "metadata": {},
   "source": [
    "<h2><a id=\"load_raw_data\">Load Raw Data</a></h2>"
   ]
  },
  {
   "cell_type": "code",
   "execution_count": 2,
   "metadata": {
    "ExecuteTime": {
     "end_time": "2020-01-15T23:11:29.011162Z",
     "start_time": "2020-01-15T23:11:28.129Z"
    }
   },
   "outputs": [
    {
     "data": {
      "text/plain": [
       "defined \u001b[32mfunction\u001b[39m \u001b[36mdf\u001b[39m"
      ]
     },
     "execution_count": 2,
     "metadata": {},
     "output_type": "execute_result"
    }
   ],
   "source": [
    "val path = data_dir / QC0_FILE + \".bed\" toString\n",
    "def df = ss.read.format(\"plink\").load(path)\n",
    "    .withColumn(\"variantId\", $\"names\"(0))"
   ]
  },
  {
   "cell_type": "code",
   "execution_count": 3,
   "metadata": {
    "ExecuteTime": {
     "end_time": "2020-01-15T23:11:40.204260Z",
     "start_time": "2020-01-15T23:11:33.796Z"
    }
   },
   "outputs": [
    {
     "name": "stdout",
     "output_type": "stream",
     "text": [
      "+----+-------+----+----+------+---------+------------+\n",
      "| fid|    iid|iidp|iidm|gender|phenotype|    sampleId|\n",
      "+----+-------+----+----+------+---------+------------+\n",
      "|1328|NA06989|   0|   0|     2|        2|1328_NA06989|\n",
      "|1377|NA11891|   0|   0|     1|        2|1377_NA11891|\n",
      "|1349|NA11843|   0|   0|     1|        1|1349_NA11843|\n",
      "+----+-------+----+----+------+---------+------------+\n",
      "only showing top 3 rows\n",
      "\n"
     ]
    },
    {
     "data": {
      "text/plain": [
       "defined \u001b[32mfunction\u001b[39m \u001b[36mdp\u001b[39m"
      ]
     },
     "execution_count": 3,
     "metadata": {},
     "output_type": "execute_result"
    }
   ],
   "source": [
    "def dp = ss.read.option(\"delimiter\", \" \")\n",
    "    .csv(data_dir / QC0_FILE + \".fam\" toString)\n",
    "    .toDF(\"fid\",\"iid\",\"iidp\",\"iidm\", \"gender\", \"phenotype\")\n",
    "    .withColumn(\"sampleId\", concat($\"fid\", lit(\"_\"), $\"iid\"))\n",
    "dp.show(3)"
   ]
  },
  {
   "cell_type": "code",
   "execution_count": 4,
   "metadata": {
    "ExecuteTime": {
     "end_time": "2020-01-15T23:11:46.463557Z",
     "start_time": "2020-01-15T23:11:45.892Z"
    }
   },
   "outputs": [
    {
     "data": {
      "text/plain": [
       "defined \u001b[32mclass\u001b[39m \u001b[36mMatrixTable\u001b[39m\n",
       "defined \u001b[32mobject\u001b[39m \u001b[36mMatrixTable\u001b[39m"
      ]
     },
     "execution_count": 4,
     "metadata": {},
     "output_type": "execute_result"
    }
   ],
   "source": [
    "class MatrixTable(val rows: DataFrame, val cols: DataFrame, val entries: DataFrame) {\n",
    "    \n",
    "    def save(path: String) = {\n",
    "        if (!Paths.get(path).toFile.exists)\n",
    "            Paths.get(path).toFile.mkdirs\n",
    "        rows.write.format(\"parquet\").mode(\"overwrite\").save(Paths.get(path, \"rows.parquet\").toString)\n",
    "        cols.write.format(\"parquet\").mode(\"overwrite\").save(Paths.get(path, \"cols.parquet\").toString)\n",
    "        entries.repartition(16).write.format(\"parquet\").mode(\"overwrite\").save(Paths.get(path, \"entries.parquet\").toString)\n",
    "    }\n",
    "    \n",
    "}\n",
    "\n",
    "object MatrixTable {\n",
    "    \n",
    "    def load(path: String)(implicit ss: SparkSession) = {\n",
    "        new MatrixTable(\n",
    "            rows=ss.read.parquet(Paths.get(path, \"rows.parquet\").toString),\n",
    "            cols=ss.read.parquet(Paths.get(path, \"cols.parquet\").toString),\n",
    "            entries=ss.read.parquet(Paths.get(path, \"entries.parquet\").toString)\n",
    "        )\n",
    "    }\n",
    "    \n",
    "    def fromPLINKDataset(df: DataFrame, dp: DataFrame)(implicit ss: SparkSession) = {\n",
    "        if (!df.schema.names.contains(\"variantId\"))\n",
    "            throw new IllegalArgumentException(\"Genotype data frame must contain 'variantId' field\")\n",
    "        if (!dp.schema.names.contains(\"sampleId\"))\n",
    "            throw new IllegalArgumentException(\"Pedigree data frame must contain 'sampleId' field\")\n",
    "        if (df.select(\"variantId\").distinct.count != df.count)\n",
    "            throw new IllegalArgumentException(\"Genotype field 'variantId' must be unique\")\n",
    "        if (dp.select(\"sampleId\").distinct.count != dp.count)\n",
    "            throw new IllegalArgumentException(\"Pedigree field 'sampleId' must be unique\")\n",
    "        \n",
    "        val cols = df\n",
    "            .withColumn(\"genotypes\", explode($\"genotypes\"))\n",
    "            .select(\"genotypes.sampleId\")\n",
    "            .dropDuplicates(\"sampleId\")\n",
    "            .join(dp, Seq(\"sampleId\"), \"left\")\n",
    "            .withColumn(\"colId\", monotonically_increasing_id())\n",
    "            .withColumn(\"colId\", row_number.over(Window.orderBy($\"colId\")))\n",
    "\n",
    "        val rows = df\n",
    "            .drop(\"genotypes\")\n",
    "            .withColumn(\"rowId\", monotonically_increasing_id())\n",
    "            .withColumn(\"rowId\", row_number.over(Window.orderBy($\"rowId\")))\n",
    "\n",
    "\n",
    "        val entries = df\n",
    "            .withColumn(\"state\", expr(\"genotype_states(genotypes)\"))\n",
    "            .withColumn(\"sampleId\", $\"genotypes.sampleId\")\n",
    "            .selectExpr(\"variantId\", \"explode(arrays_zip(sampleId, state)) as gt\")\n",
    "            .select(\"variantId\", \"gt.*\")\n",
    "            .join(rows.select(\"rowId\", \"variantId\"), Seq(\"variantId\"), \"inner\")\n",
    "            .join(cols.select(\"colId\", \"sampleId\"), Seq(\"sampleId\"), \"inner\")\n",
    "            .select($\"rowId\", $\"colId\", $\"state\".cast(\"byte\").as(\"state\"))\n",
    "            .filter($\"state\" =!= 0) // Ignore homozygous reference\n",
    "        \n",
    "        new MatrixTable(rows=rows, cols=cols, entries=entries)\n",
    "    }\n",
    "}"
   ]
  },
  {
   "cell_type": "code",
   "execution_count": 6,
   "metadata": {
    "ExecuteTime": {
     "end_time": "2020-01-15T23:13:10.773511Z",
     "start_time": "2020-01-15T23:13:06.027Z"
    }
   },
   "outputs": [
    {
     "data": {
      "text/plain": [
       "\u001b[36mmt\u001b[39m: \u001b[32mMatrixTable\u001b[39m = ammonite.$sess.cmd3$Helper$MatrixTable@109f0e6c"
      ]
     },
     "execution_count": 6,
     "metadata": {},
     "output_type": "execute_result"
    }
   ],
   "source": [
    "val mt = MatrixTable.fromPLINKDataset(df, dp)(ss)"
   ]
  },
  {
   "cell_type": "code",
   "execution_count": 7,
   "metadata": {
    "ExecuteTime": {
     "end_time": "2020-01-15T23:13:21.990816Z",
     "start_time": "2020-01-15T23:13:07.546Z"
    }
   },
   "outputs": [
    {
     "data": {
      "text/plain": [
       "\u001b[36mres6\u001b[39m: (\u001b[32mLong\u001b[39m, \u001b[32mLong\u001b[39m) = (\u001b[32m1457897L\u001b[39m, \u001b[32m165L\u001b[39m)"
      ]
     },
     "execution_count": 7,
     "metadata": {},
     "output_type": "execute_result"
    }
   ],
   "source": [
    "(mt.rows.count, mt.cols.count)"
   ]
  },
  {
   "cell_type": "code",
   "execution_count": 43,
   "metadata": {
    "ExecuteTime": {
     "end_time": "2020-01-15T21:27:29.400332Z",
     "start_time": "2020-01-15T21:27:29.252Z"
    }
   },
   "outputs": [
    {
     "name": "stdout",
     "output_type": "stream",
     "text": [
      "root\n",
      " |-- contigName: string (nullable = true)\n",
      " |-- names: array (nullable = true)\n",
      " |    |-- element: string (containsNull = true)\n",
      " |-- position: double (nullable = true)\n",
      " |-- start: long (nullable = true)\n",
      " |-- end: long (nullable = true)\n",
      " |-- referenceAllele: string (nullable = true)\n",
      " |-- alternateAlleles: array (nullable = true)\n",
      " |    |-- element: string (containsNull = true)\n",
      " |-- variantId: string (nullable = true)\n",
      " |-- rowId: integer (nullable = true)\n",
      "\n"
     ]
    }
   ],
   "source": [
    "mt.rows.printSchema"
   ]
  },
  {
   "cell_type": "code",
   "execution_count": 44,
   "metadata": {
    "ExecuteTime": {
     "end_time": "2020-01-15T21:27:29.614131Z",
     "start_time": "2020-01-15T21:27:29.479Z"
    }
   },
   "outputs": [
    {
     "name": "stdout",
     "output_type": "stream",
     "text": [
      "root\n",
      " |-- sampleId: string (nullable = true)\n",
      " |-- fid: string (nullable = true)\n",
      " |-- iid: string (nullable = true)\n",
      " |-- iidp: string (nullable = true)\n",
      " |-- iidm: string (nullable = true)\n",
      " |-- gender: string (nullable = true)\n",
      " |-- phenotype: string (nullable = true)\n",
      " |-- colId: integer (nullable = true)\n",
      "\n"
     ]
    }
   ],
   "source": [
    "mt.cols.printSchema"
   ]
  },
  {
   "cell_type": "code",
   "execution_count": 8,
   "metadata": {
    "ExecuteTime": {
     "end_time": "2020-01-15T23:13:22.150307Z",
     "start_time": "2020-01-15T23:13:20.349Z"
    }
   },
   "outputs": [
    {
     "name": "stdout",
     "output_type": "stream",
     "text": [
      "root\n",
      " |-- rowId: integer (nullable = true)\n",
      " |-- colId: integer (nullable = true)\n",
      " |-- state: byte (nullable = true)\n",
      "\n"
     ]
    }
   ],
   "source": [
    "mt.entries.printSchema"
   ]
  },
  {
   "cell_type": "markdown",
   "metadata": {},
   "source": [
    "Save the processed PLINK data into this \"Glow Matrix Table\" (gmt) format:"
   ]
  },
  {
   "cell_type": "code",
   "execution_count": 10,
   "metadata": {
    "ExecuteTime": {
     "end_time": "2020-01-15T23:16:19.298144Z",
     "start_time": "2020-01-15T23:14:14.574Z"
    }
   },
   "outputs": [
    {
     "name": "stderr",
     "output_type": "stream",
     "text": [
      "20/01/15 23:14:14 WARN WindowExec: No Partition Defined for Window operation! Moving all data to a single partition, this can cause serious performance degradation.\n",
      "20/01/15 23:14:25 WARN WindowExec: No Partition Defined for Window operation! Moving all data to a single partition, this can cause serious performance degradation.\n",
      "20/01/15 23:14:36 WARN WindowExec: No Partition Defined for Window operation! Moving all data to a single partition, this can cause serious performance degradation.\n",
      "20/01/15 23:14:36 WARN WindowExec: No Partition Defined for Window operation! Moving all data to a single partition, this can cause serious performance degradation.\n"
     ]
    }
   ],
   "source": [
    "mt.save(data_dir / QC0_FILE + \".gmt\" toString)"
   ]
  },
  {
   "cell_type": "markdown",
   "metadata": {},
   "source": [
    "Define a few simple calculations that can be run over a layout like this:"
   ]
  },
  {
   "cell_type": "code",
   "execution_count": null,
   "metadata": {},
   "outputs": [],
   "source": [
    "implicit class MatrixTableOps(mt: MatrixTable) {\n",
    "    \n",
    "    lazy val nCols: Long = mt.cols.count\n",
    "    \n",
    "    lazy val nRows: Long = mt.rows.count\n",
    "    \n",
    "    def count = (nRows, nCols)\n",
    "\n",
    "    def filterCols(fn: DataFrame => DataFrame): MatrixTable = {\n",
    "        val cols = fn(mt.cols)\n",
    "        new MatrixTable(\n",
    "            rows=mt.rows,\n",
    "            cols=cols,\n",
    "            entries = mt.entries.join(broadcast(cols.select(\"colId\")), Seq(\"colId\"), \"leftsemi\")\n",
    "        )\n",
    "    }\n",
    "    \n",
    "    def filterRows(fn: DataFrame => DataFrame): MatrixTable = {\n",
    "        val rows = fn(mt.rows)\n",
    "        new MatrixTable(\n",
    "            rows=rows,\n",
    "            cols=mt.cols,\n",
    "            entries = mt.entries.join(broadcast(rows.select(\"rowId\")), Seq(\"rowId\"), \"leftsemi\")\n",
    "        )\n",
    "    }\n",
    "    \n",
    "    def getSampleStats() = {\n",
    "        mt.entries\n",
    "            .groupBy(\"colId\").agg(\n",
    "                sum(when($\"state\" === -1, 1).otherwise(0)).as(\"nUncalled\"),\n",
    "                sum(when($\"state\" === 1, 1).otherwise(0)).as(\"nHet\")\n",
    "            )\n",
    "            .join(mt.cols.select(\"colId\"), Seq(\"colId\"), \"right\")\n",
    "            .withColumn(\"nUncalled\", coalesce($\"nUncalled\", lit(0)))\n",
    "            .withColumn(\"nCalled\", lit(nRows) - $\"nUncalled\")\n",
    "            .withColumn(\"callRate\", $\"nCalled\" / ($\"nCalled\" + $\"nUncalled\"))\n",
    "    }\n",
    "    \n",
    "    def getVariantStats() = {\n",
    "        mt.entries\n",
    "            .groupBy(\"rowId\").agg(\n",
    "                sum(when($\"state\" === -1, 1).otherwise(0)).as(\"nUncalled\"),\n",
    "                sum(when($\"state\" === 1, 1).otherwise(0)).as(\"nHet\")\n",
    "            )\n",
    "            .join(mt.rows.select(\"rowId\"), Seq(\"rowId\"), \"right\")\n",
    "            .withColumn(\"nUncalled\", coalesce($\"nUncalled\", lit(0)))\n",
    "            .withColumn(\"nCalled\", lit(nCols) - $\"nUncalled\")\n",
    "            .withColumn(\"callRate\", $\"nCalled\" / ($\"nCalled\" + $\"nUncalled\"))\n",
    "    }\n",
    "    \n",
    "    def transform(fn: MatrixTable => MatrixTable): MatrixTable = {\n",
    "        fn(mt)\n",
    "    }\n",
    "}"
   ]
  },
  {
   "cell_type": "markdown",
   "metadata": {
    "ExecuteTime": {
     "end_time": "2020-01-15T22:24:09.537992Z",
     "start_time": "2020-01-15T22:24:09.070Z"
    }
   },
   "source": [
    "<h2><a id=\"step_1\">Step 1: Sample/Variant Absence Filter</a></h2>"
   ]
  },
  {
   "cell_type": "code",
   "execution_count": 11,
   "metadata": {
    "ExecuteTime": {
     "end_time": "2020-01-15T23:18:24.715667Z",
     "start_time": "2020-01-15T23:18:24.138Z"
    }
   },
   "outputs": [
    {
     "data": {
      "text/plain": [
       "\u001b[36mmt_qc0\u001b[39m: \u001b[32mMatrixTable\u001b[39m = ammonite.$sess.cmd3$Helper$MatrixTable@6333f3dc"
      ]
     },
     "execution_count": 11,
     "metadata": {},
     "output_type": "execute_result"
    }
   ],
   "source": [
    "val mt_qc0 = MatrixTable.load(data_dir / QC0_FILE + \".gmt\" toString)(ss)"
   ]
  },
  {
   "cell_type": "code",
   "execution_count": 13,
   "metadata": {
    "ExecuteTime": {
     "end_time": "2020-01-15T23:19:04.432542Z",
     "start_time": "2020-01-15T23:19:04.076Z"
    }
   },
   "outputs": [
    {
     "name": "stdout",
     "output_type": "stream",
     "text": [
      "Elapsed time: 0.1 seconds\n"
     ]
    },
    {
     "data": {
      "text/plain": [
       "\u001b[36mres12\u001b[39m: (\u001b[32mLong\u001b[39m, \u001b[32mLong\u001b[39m) = (\u001b[32m1457897L\u001b[39m, \u001b[32m165L\u001b[39m)"
      ]
     },
     "execution_count": 13,
     "metadata": {},
     "output_type": "execute_result"
    }
   ],
   "source": [
    "timeop(\"qc1-count\") {\n",
    "    mt_qc0.count\n",
    "}"
   ]
  },
  {
   "cell_type": "code",
   "execution_count": 14,
   "metadata": {
    "ExecuteTime": {
     "end_time": "2020-01-15T23:19:53.163058Z",
     "start_time": "2020-01-15T23:19:51.038Z"
    }
   },
   "outputs": [
    {
     "name": "stdout",
     "output_type": "stream",
     "text": [
      "Elapsed time: 0.1 seconds\n"
     ]
    },
    {
     "data": {
      "application/vnd.plotly.v1+json": {
       "data": [
        {
         "type": "histogram",
         "x": [
          0.999143972447985,
          0.995216397317506,
          0.9983325296643041,
          0.9978976566931683,
          0.9991734669870368,
          0.997153434021745,
          0.9993415172676807,
          0.9989347669965711,
          0.9974085960805187,
          0.9951436898491457,
          0.9987001825231824,
          0.9995802172581465,
          0.9934398657792697,
          0.9989251641233914,
          0.9994848744458628,
          0.9857417910867503,
          0.9988744060794418,
          0.9975416644660082,
          0.9946169036632904,
          0.9991871853772935,
          0.9926160764443579,
          0.9943445936166958,
          0.999410109218964,
          0.9983675115594586,
          0.997026538911871,
          0.999229712387089,
          0.9973592098755948,
          0.9957850245936442,
          0.9915714210263139,
          0.9975773322806755,
          0.9979189201980662,
          0.9957315228716432,
          0.9983496776521249,
          0.9958309812010039,
          0.9988826371135958,
          0.9986213017792066,
          0.9974312314244422,
          0.9987475109695678,
          0.9993771850823481,
          0.9993867879555277,
          0.998304406964278,
          0.9971918455144636,
          0.997829064741885,
          0.9971170802875648,
          0.9987090994768492,
          0.9984902911522556,
          0.9973235420609274,
          0.9968365392068164,
          0.9963810886502956,
          0.9932766169352156,
          0.9989217345258272,
          0.9978338661784749,
          0.9983263563886886,
          0.9946594306730859,
          0.9949879861197327,
          0.9975231446391617,
          0.9985040095425123,
          0.9993902175530919,
          0.9986171862621296,
          0.99892722188193,
          0.9963310165258589,
          0.9991035031967279,
          0.9959057464279026,
          0.9978818805443732,
          0.9991426006089593,
          0.9993648385311171,
          0.9989162471697246,
          0.9987742618305683,
          0.9913560422992845,
          0.9991755247455752,
          0.9994286290458105,
          0.9987735759110554,
          0.9989450557892636,
          0.996797441794585,
          0.9974970796976741,
          0.9985053813815379,
          0.9976644440588053,
          0.9988016986110816,
          0.9992427448578329,
          0.9971959610315406,
          0.9992420589383201,
          0.9992111925602426,
          0.9835214696237115,
          0.9933891077353201,
          0.9982070063934558,
          0.9984703994863835,
          0.9936058583013752,
          0.9991377991723696,
          0.9989059583770321,
          0.9991083046333177,
          0.9994958491580681,
          0.9983688833984843,
          0.9985149842547176,
          0.9983778003521511,
          0.9988915540672626,
          0.9986418793645916,
          0.9974874768244945,
          0.9993950189896817,
          0.9995349465702995,
          0.9972185963754641,
          0.9993312284749883,
          0.9993216256018086,
          0.9985328181620512,
          0.9866053637534065,
          0.9977776207784226,
          0.9973242279804403,
          0.9991041891162408,
          0.9968084165067903,
          0.9983277282277143,
          0.9988668609648007,
          0.9959201507376721,
          0.9957349524692074,
          0.9989697488917255,
          0.9993476905432963,
          0.9995562100751973,
          0.9993401454286551,
          0.9941175542579482,
          0.9988853807916471,
          0.9965868645041454,
          0.9797077571323626,
          0.9989793517649052,
          0.9956231475886157,
          0.9922120698512995,
          0.9981713385787885,
          0.9985170420132561,
          0.9994780152507344,
          0.9978578733614241,
          0.9977542995149863,
          0.9980657069738122,
          0.9991371132528567,
          0.9993010480164236,
          0.9974017368853904,
          0.9974717006756993,
          0.9992804704310387,
          0.9986919514890283,
          0.9991110483113691,
          0.9993902175530919,
          0.9929610939593126,
          0.9992598928456538,
          0.9982419882886102,
          0.9981953457617376,
          0.9987001825231824,
          0.9982872589764572,
          0.9974168271146727,
          0.9973324590145943,
          0.9979964291030162,
          0.9969881274191524,
          0.9988874385501857,
          0.9876411022177836,
          0.9992742971554232,
          0.9987941534964404,
          0.9991858135382677,
          0.9989059583770321,
          0.9979024581297581,
          0.9979100032443993,
          0.9817325915342442,
          0.9993620948530657,
          0.9994793870897601,
          0.9978468986492187,
          0.998595236837719,
          0.9991961023309602,
          0.9993538638189118,
          0.9985314463230256,
          0.9994094232994511,
          0.9993627807725786
         ]
        }
       ],
       "layout": {
        "title": "Sample Call Rate Distribution",
        "xaxis": {
         "title": "Call Rate"
        }
       }
      },
      "text/html": [
       "<div class=\"chart\" id=\"plot-36d80bab-8a8d-4d19-807e-0e198774ee9a\"></div>\n",
       "<script>require(['plotly'], function(Plotly) {\n",
       "  (function () {\n",
       "  var data0 = {\"x\":[0.999143972447985,0.995216397317506,0.9983325296643041,0.9978976566931683,0.9991734669870368,0.997153434021745,0.9993415172676807,0.9989347669965711,0.9974085960805187,0.9951436898491457,0.9987001825231824,0.9995802172581465,0.9934398657792697,0.9989251641233914,0.9994848744458628,0.9857417910867503,0.9988744060794418,0.9975416644660082,0.9946169036632904,0.9991871853772935,0.9926160764443579,0.9943445936166958,0.999410109218964,0.9983675115594586,0.997026538911871,0.999229712387089,0.9973592098755948,0.9957850245936442,0.9915714210263139,0.9975773322806755,0.9979189201980662,0.9957315228716432,0.9983496776521249,0.9958309812010039,0.9988826371135958,0.9986213017792066,0.9974312314244422,0.9987475109695678,0.9993771850823481,0.9993867879555277,0.998304406964278,0.9971918455144636,0.997829064741885,0.9971170802875648,0.9987090994768492,0.9984902911522556,0.9973235420609274,0.9968365392068164,0.9963810886502956,0.9932766169352156,0.9989217345258272,0.9978338661784749,0.9983263563886886,0.9946594306730859,0.9949879861197327,0.9975231446391617,0.9985040095425123,0.9993902175530919,0.9986171862621296,0.99892722188193,0.9963310165258589,0.9991035031967279,0.9959057464279026,0.9978818805443732,0.9991426006089593,0.9993648385311171,0.9989162471697246,0.9987742618305683,0.9913560422992845,0.9991755247455752,0.9994286290458105,0.9987735759110554,0.9989450557892636,0.996797441794585,0.9974970796976741,0.9985053813815379,0.9976644440588053,0.9988016986110816,0.9992427448578329,0.9971959610315406,0.9992420589383201,0.9992111925602426,0.9835214696237115,0.9933891077353201,0.9982070063934558,0.9984703994863835,0.9936058583013752,0.9991377991723696,0.9989059583770321,0.9991083046333177,0.9994958491580681,0.9983688833984843,0.9985149842547176,0.9983778003521511,0.9988915540672626,0.9986418793645916,0.9974874768244945,0.9993950189896817,0.9995349465702995,0.9972185963754641,0.9993312284749883,0.9993216256018086,0.9985328181620512,0.9866053637534065,0.9977776207784226,0.9973242279804403,0.9991041891162408,0.9968084165067903,0.9983277282277143,0.9988668609648007,0.9959201507376721,0.9957349524692074,0.9989697488917255,0.9993476905432963,0.9995562100751973,0.9993401454286551,0.9941175542579482,0.9988853807916471,0.9965868645041454,0.9797077571323626,0.9989793517649052,0.9956231475886157,0.9922120698512995,0.9981713385787885,0.9985170420132561,0.9994780152507344,0.9978578733614241,0.9977542995149863,0.9980657069738122,0.9991371132528567,0.9993010480164236,0.9974017368853904,0.9974717006756993,0.9992804704310387,0.9986919514890283,0.9991110483113691,0.9993902175530919,0.9929610939593126,0.9992598928456538,0.9982419882886102,0.9981953457617376,0.9987001825231824,0.9982872589764572,0.9974168271146727,0.9973324590145943,0.9979964291030162,0.9969881274191524,0.9988874385501857,0.9876411022177836,0.9992742971554232,0.9987941534964404,0.9991858135382677,0.9989059583770321,0.9979024581297581,0.9979100032443993,0.9817325915342442,0.9993620948530657,0.9994793870897601,0.9978468986492187,0.998595236837719,0.9991961023309602,0.9993538638189118,0.9985314463230256,0.9994094232994511,0.9993627807725786],\"type\":\"histogram\"};\n",
       "\n",
       "  var data = [data0];\n",
       "  var layout = {\"title\":\"Sample Call Rate Distribution\",\"xaxis\":{\"title\":\"Call Rate\"}};\n",
       "\n",
       "  Plotly.plot('plot-36d80bab-8a8d-4d19-807e-0e198774ee9a', data, layout);\n",
       "})();\n",
       "});\n",
       "      </script>\n",
       "           "
      ]
     },
     "metadata": {},
     "output_type": "display_data"
    },
    {
     "data": {
      "text/plain": [
       "\u001b[36mres13\u001b[39m: \u001b[32mString\u001b[39m = \u001b[32m\"plot-36d80bab-8a8d-4d19-807e-0e198774ee9a\"\u001b[39m"
      ]
     },
     "execution_count": 14,
     "metadata": {},
     "output_type": "execute_result"
    }
   ],
   "source": [
    "timeop(\"qc1-samplestats\")(mt_qc0.getSampleStats())\n",
    "    .fn(d => {\n",
    "        Histogram(\n",
    "            x=d.select(\"callRate\").collect.map(_.getAs[Double](\"callRate\")).toList\n",
    "        ).plot(title=\"Sample Call Rate Distribution\", xaxis=Axis(title=\"Call Rate\"))\n",
    "    })"
   ]
  },
  {
   "cell_type": "code",
   "execution_count": 15,
   "metadata": {
    "ExecuteTime": {
     "end_time": "2020-01-15T23:20:27.407410Z",
     "start_time": "2020-01-15T23:20:16.485Z"
    }
   },
   "outputs": [
    {
     "name": "stdout",
     "output_type": "stream",
     "text": [
      "Elapsed time: 0.1 seconds\n"
     ]
    },
    {
     "data": {
      "application/vnd.plotly.v1+json": {
       "data": [
        {
         "type": "bar",
         "x": [
          0.9500000000000001,
          0.96,
          0.965,
          0.97,
          0.975,
          0.98,
          0.99,
          0.995,
          1
         ],
         "y": [
          1207,
          2045,
          3580,
          6849,
          13773,
          30434,
          86563,
          231404,
          1082042
         ]
        }
       ],
       "layout": {
        "title": "Variant Call Rate Distribution",
        "xaxis": {
         "title": "Call Rate"
        },
        "yaxis": {
         "title": "Num Variants",
         "type": "log"
        }
       }
      },
      "text/html": [
       "<div class=\"chart\" id=\"plot-bb3c3ea5-ae9a-46a0-9d61-e0fb85d89d25\"></div>\n",
       "<script>require(['plotly'], function(Plotly) {\n",
       "  (function () {\n",
       "  var data0 = {\"x\":[0.9500000000000001,0.96,0.965,0.97,0.975,0.98,0.99,0.995,1.0],\"y\":[1207.0,2045.0,3580.0,6849.0,13773.0,30434.0,86563.0,231404.0,1082042.0],\"type\":\"bar\"};\n",
       "\n",
       "  var data = [data0];\n",
       "  var layout = {\"title\":\"Variant Call Rate Distribution\",\"yaxis\":{\"title\":\"Num Variants\",\"type\":\"log\"},\"xaxis\":{\"title\":\"Call Rate\"}};\n",
       "\n",
       "  Plotly.plot('plot-bb3c3ea5-ae9a-46a0-9d61-e0fb85d89d25', data, layout);\n",
       "})();\n",
       "});\n",
       "      </script>\n",
       "           "
      ]
     },
     "metadata": {},
     "output_type": "display_data"
    },
    {
     "data": {
      "text/plain": [
       "\u001b[36mres14\u001b[39m: \u001b[32mString\u001b[39m = \u001b[32m\"plot-bb3c3ea5-ae9a-46a0-9d61-e0fb85d89d25\"\u001b[39m"
      ]
     },
     "execution_count": 15,
     "metadata": {},
     "output_type": "execute_result"
    }
   ],
   "source": [
    "timeop(\"qc1-variantstats\")(mt_qc0.getVariantStats())\n",
    "    .withColumn(\"bin\", bround($\"callRate\"/.005)*.005)\n",
    "    .groupBy(\"bin\").count.sort($\"bin\".asc)\n",
    "    .fn(d => {\n",
    "        Bar(\n",
    "            x=d.map(_.getAs[Double](\"bin\")).collect.toList,\n",
    "            y=d.map(_.getAs[Long](\"count\")).collect.toList\n",
    "        ).plot(\n",
    "            title=\"Variant Call Rate Distribution\", \n",
    "            xaxis=Axis(title=\"Call Rate\"),\n",
    "            yaxis=Axis(`type`=AxisType.Log, title=\"Num Variants\")\n",
    "        )\n",
    "    })"
   ]
  },
  {
   "cell_type": "code",
   "execution_count": 16,
   "metadata": {
    "ExecuteTime": {
     "end_time": "2020-01-15T23:21:08.710049Z",
     "start_time": "2020-01-15T23:21:08.505Z"
    }
   },
   "outputs": [
    {
     "data": {
      "text/plain": [
       "defined \u001b[32mfunction\u001b[39m \u001b[36mfilterByVariantCallRate\u001b[39m\n",
       "defined \u001b[32mfunction\u001b[39m \u001b[36mfilterBySampleCallRate\u001b[39m"
      ]
     },
     "execution_count": 16,
     "metadata": {},
     "output_type": "execute_result"
    }
   ],
   "source": [
    "def filterByVariantCallRate(threshold: Double)(mt: MatrixTable): MatrixTable = { \n",
    "    mt.filterRows(rows => {\n",
    "        rows.join(\n",
    "            mt.getVariantStats().filter($\"callRate\" >= threshold).select(\"rowId\"),\n",
    "            Seq(\"rowId\"), \"leftsemi\"\n",
    "        )\n",
    "    })\n",
    "}\n",
    "def filterBySampleCallRate(threshold: Double)(mt: MatrixTable): MatrixTable = { \n",
    "    mt.filterCols(cols => {\n",
    "        cols.join(\n",
    "            mt.getSampleStats().filter($\"callRate\" >= threshold).select(\"colId\"),\n",
    "            Seq(\"colId\"), \"leftsemi\"\n",
    "        )\n",
    "    })\n",
    "}"
   ]
  },
  {
   "cell_type": "code",
   "execution_count": 18,
   "metadata": {
    "ExecuteTime": {
     "end_time": "2020-01-15T23:24:10.410922Z",
     "start_time": "2020-01-15T23:23:07.060Z"
    }
   },
   "outputs": [
    {
     "name": "stdout",
     "output_type": "stream",
     "text": [
      "(1430443,165)\n",
      "Elapsed time: 63.2 seconds\n"
     ]
    },
    {
     "data": {
      "text/plain": [
       "\u001b[36mmt_qc1\u001b[39m: \u001b[32mMatrixTable\u001b[39m = ammonite.$sess.cmd3$Helper$MatrixTable@28cf04c1"
      ]
     },
     "execution_count": 18,
     "metadata": {},
     "output_type": "execute_result"
    }
   ],
   "source": [
    "val mt_qc1 = timeop(\"qc1\") {\n",
    "    mt_qc0\n",
    "    .transform(filterByVariantCallRate(threshold=.8))\n",
    "    .transform(filterBySampleCallRate(threshold=.8))\n",
    "    .transform(filterByVariantCallRate(threshold=.98))\n",
    "    .transform(filterBySampleCallRate(threshold=.98))\n",
    "    .transform(m => {println(m.count); m})\n",
    "}"
   ]
  },
  {
   "cell_type": "code",
   "execution_count": 19,
   "metadata": {
    "ExecuteTime": {
     "end_time": "2020-01-15T23:25:50.710795Z",
     "start_time": "2020-01-15T23:24:36.534Z"
    }
   },
   "outputs": [],
   "source": [
    "mt_qc1.save(data_dir / QC1_FILE + \".gmt\" toString)"
   ]
  },
  {
   "cell_type": "markdown",
   "metadata": {},
   "source": [
    "<h2><a id=\"step_2\">Step 2: Gender Discrepancy</a></h2>"
   ]
  },
  {
   "cell_type": "code",
   "execution_count": 22,
   "metadata": {
    "ExecuteTime": {
     "end_time": "2020-01-15T23:29:03.048673Z",
     "start_time": "2020-01-15T23:29:02.669Z"
    }
   },
   "outputs": [
    {
     "data": {
      "text/plain": [
       "\u001b[36mmt_qc1\u001b[39m: \u001b[32mMatrixTable\u001b[39m = ammonite.$sess.cmd3$Helper$MatrixTable@191747fd"
      ]
     },
     "execution_count": 22,
     "metadata": {},
     "output_type": "execute_result"
    }
   ],
   "source": [
    "val mt_qc1 = MatrixTable.load(data_dir / QC1_FILE + \".gmt\" toString)(ss)"
   ]
  },
  {
   "cell_type": "code",
   "execution_count": 28,
   "metadata": {
    "ExecuteTime": {
     "end_time": "2020-01-15T23:32:31.578162Z",
     "start_time": "2020-01-15T23:32:29.594Z"
    }
   },
   "outputs": [
    {
     "data": {
      "application/vnd.plotly.v1+json": {
       "data": [
        {
         "name": "Male",
         "type": "histogram",
         "x": [
          1,
          1,
          0.9999681812396589,
          1,
          1,
          0.9995206748897553,
          1,
          1,
          1,
          0.9999682317809263,
          0.9999364373112982,
          1,
          0.9999682247148168,
          1,
          1,
          0.9999682085518995,
          0.9999681903489519,
          1,
          1,
          1,
          0.99881955079122,
          1,
          1,
          0.9999363320918091,
          1,
          1,
          0.999840911260301,
          0.9992923086820857,
          0.9999364312503973,
          1,
          1,
          1,
          1,
          1,
          1,
          1,
          1,
          1,
          1,
          1,
          1,
          1,
          1,
          1,
          1,
          1,
          0.9999046650565654,
          0.9999045801526718,
          1,
          1,
          1,
          1,
          1,
          1,
          1,
          1,
          1,
          1,
          1,
          1,
          0.9998411437648927,
          0.999968192372531,
          0.9999682317809263,
          1,
          1,
          0.9999682277435343,
          1,
          1,
          1,
          1,
          1,
          0.9999681994530306,
          0.9999681933842239,
          0.9938193209719752,
          1,
          1,
          1,
          1,
          1,
          1
         ],
         "xbins": {
          "end": 1.01,
          "size": 0.01,
          "start": 0.7
         }
        },
        {
         "name": "Female",
         "type": "histogram",
         "x": [
          0.7665861718352822,
          0.7672822044941677,
          0.770210868318787,
          0.7779792004579715,
          0.7595584960875373,
          0.7833784429231014,
          0.7813672496025437,
          0.7684558426287857,
          0.7755153902353801,
          0.7693651903158163,
          0.7637063671365386,
          0.7642208871277003,
          0.7699714013346044,
          0.7972030199738779,
          0.7621382406316661,
          0.781940075620373,
          0.7696176742113138,
          0.7816469837216725,
          0.7535383734614038,
          0.762275544255522,
          0.7745892522324975,
          0.7724392651319769,
          0.7699834794764264,
          0.7646403564608529,
          0.772751818557225,
          0.7870529191283908,
          0.7913344557034402,
          0.7513182135823645,
          0.7630834736741763,
          0.7693630025785503,
          0.7839635854341737,
          0.7790431352589388,
          0.7709115196234336,
          0.7713322520115765,
          0.7784415914579891,
          0.764864778974799,
          0.7791289952884248,
          0.7487738072488693,
          0.7616316124920331,
          0.7643488209495963,
          0.7765281484305503,
          0.7670026390257861,
          0.7907664895478698,
          0.768976372944955,
          0.7654599821860287,
          0.756937160293697,
          0.7745079304414294,
          0.9982031397768111,
          0.7756173625254582,
          0.7672098859557165,
          0.7708975377283558,
          0.7837030445560287,
          0.7608364052370662,
          0.7793305893238889,
          0.7950574931707007,
          0.7794720289716954,
          0.7561852063855499,
          0.7760305586503262,
          0.7845101781170484,
          0.7731781762685997,
          0.7692699058763673,
          0.785510100368441,
          0.7634907519227102,
          0.77988361369924,
          0.761711898459674,
          0.7568144865623108,
          0.7705413051079114,
          0.7715539165818922,
          0.7732053767199466,
          0.7684534968701344,
          0.7824066706979409,
          0.7532682337224467,
          0.7605477188969374,
          0.7823987291501191,
          0.7693065531049387,
          0.7752719638653858,
          0.7703828542355635,
          0.7684870074107057,
          0.7741197406889538,
          0.7625704550520651,
          0.7632214594457157,
          0.7675297855440826,
          0.7621757375381485,
          0.7572954415411024,
          0.7683726612229151
         ],
         "xbins": {
          "end": 1.01,
          "size": 0.01,
          "start": 0.7
         }
        }
       ],
       "layout": {
        "title": "Sex Chromosome Homozygosity Rates",
        "xaxis": {
         "range": [
          0.7,
          1.01
         ],
         "title": "Homozygosity Rate"
        },
        "yaxis": {
         "title": "Sample Count",
         "type": "log"
        }
       }
      },
      "text/html": [
       "<div class=\"chart\" id=\"plot-3bd21485-df11-4830-b177-8b0de2d9a25a\"></div>\n",
       "<script>require(['plotly'], function(Plotly) {\n",
       "  (function () {\n",
       "  var data0 = {\"x\":[1.0,1.0,0.9999681812396589,1.0,1.0,0.9995206748897553,1.0,1.0,1.0,0.9999682317809263,0.9999364373112982,1.0,0.9999682247148168,1.0,1.0,0.9999682085518995,0.9999681903489519,1.0,1.0,1.0,0.99881955079122,1.0,1.0,0.9999363320918091,1.0,1.0,0.999840911260301,0.9992923086820857,0.9999364312503973,1.0,1.0,1.0,1.0,1.0,1.0,1.0,1.0,1.0,1.0,1.0,1.0,1.0,1.0,1.0,1.0,1.0,0.9999046650565654,0.9999045801526718,1.0,1.0,1.0,1.0,1.0,1.0,1.0,1.0,1.0,1.0,1.0,1.0,0.9998411437648927,0.999968192372531,0.9999682317809263,1.0,1.0,0.9999682277435343,1.0,1.0,1.0,1.0,1.0,0.9999681994530306,0.9999681933842239,0.9938193209719752,1.0,1.0,1.0,1.0,1.0,1.0],\"name\":\"Male\",\"xbins\":{\"size\":0.01,\"end\":1.01,\"start\":0.7},\"type\":\"histogram\"};\n",
       "  var data1 = {\"x\":[0.7665861718352822,0.7672822044941677,0.770210868318787,0.7779792004579715,0.7595584960875373,0.7833784429231014,0.7813672496025437,0.7684558426287857,0.7755153902353801,0.7693651903158163,0.7637063671365386,0.7642208871277003,0.7699714013346044,0.7972030199738779,0.7621382406316661,0.781940075620373,0.7696176742113138,0.7816469837216725,0.7535383734614038,0.762275544255522,0.7745892522324975,0.7724392651319769,0.7699834794764264,0.7646403564608529,0.772751818557225,0.7870529191283908,0.7913344557034402,0.7513182135823645,0.7630834736741763,0.7693630025785503,0.7839635854341737,0.7790431352589388,0.7709115196234336,0.7713322520115765,0.7784415914579891,0.764864778974799,0.7791289952884248,0.7487738072488693,0.7616316124920331,0.7643488209495963,0.7765281484305503,0.7670026390257861,0.7907664895478698,0.768976372944955,0.7654599821860287,0.756937160293697,0.7745079304414294,0.9982031397768111,0.7756173625254582,0.7672098859557165,0.7708975377283558,0.7837030445560287,0.7608364052370662,0.7793305893238889,0.7950574931707007,0.7794720289716954,0.7561852063855499,0.7760305586503262,0.7845101781170484,0.7731781762685997,0.7692699058763673,0.785510100368441,0.7634907519227102,0.77988361369924,0.761711898459674,0.7568144865623108,0.7705413051079114,0.7715539165818922,0.7732053767199466,0.7684534968701344,0.7824066706979409,0.7532682337224467,0.7605477188969374,0.7823987291501191,0.7693065531049387,0.7752719638653858,0.7703828542355635,0.7684870074107057,0.7741197406889538,0.7625704550520651,0.7632214594457157,0.7675297855440826,0.7621757375381485,0.7572954415411024,0.7683726612229151],\"name\":\"Female\",\"xbins\":{\"size\":0.01,\"end\":1.01,\"start\":0.7},\"type\":\"histogram\"};\n",
       "\n",
       "  var data = [data0, data1];\n",
       "  var layout = {\"title\":\"Sex Chromosome Homozygosity Rates\",\"yaxis\":{\"title\":\"Sample Count\",\"type\":\"log\"},\"xaxis\":{\"range\":[0.7,1.01],\"title\":\"Homozygosity Rate\"}};\n",
       "\n",
       "  Plotly.plot('plot-3bd21485-df11-4830-b177-8b0de2d9a25a', data, layout);\n",
       "})();\n",
       "});\n",
       "      </script>\n",
       "           "
      ]
     },
     "metadata": {},
     "output_type": "display_data"
    },
    {
     "data": {
      "text/plain": [
       "defined \u001b[32mfunction\u001b[39m \u001b[36mmt_qc2_stat\u001b[39m\n",
       "\u001b[36mres27_1\u001b[39m: \u001b[32mString\u001b[39m = \u001b[32m\"plot-3bd21485-df11-4830-b177-8b0de2d9a25a\"\u001b[39m"
      ]
     },
     "execution_count": 28,
     "metadata": {},
     "output_type": "execute_result"
    }
   ],
   "source": [
    "def mt_qc2_stat = mt_qc1\n",
    "    .filterRows(df => {\n",
    "        df.filter($\"contigName\" === \"23\")\n",
    "    })\n",
    "    .getSampleStats()\n",
    "    .withColumn(\"hetRate\", $\"nHet\" / $\"nCalled\")\n",
    "    .withColumn(\"homRate\", lit(1.0) - $\"hetRate\")\n",
    "    .transform(d => d.join(mt_qc1.cols, Seq(\"colId\")))\n",
    "\n",
    "mt_qc2_stat.fn(d => {\n",
    "        // Create histogram trace for each gender\n",
    "        d.select(\"gender\").dropDuplicates().map(_.getAs[String](\"gender\")).collect.map(g => \n",
    "            Histogram(\n",
    "                x=d.filter($\"gender\" === g).map(_.getAs[Double](\"homRate\")).collect.toList, \n",
    "                // See https://www.cog-genomics.org/plink/1.9/formats#fam for encoding\n",
    "                name=Map(\"1\" -> \"Male\", \"2\" -> \"Female\")(g),\n",
    "                xbins=Bins(0.7, 1.01, .01)\n",
    "            )\n",
    "        ).toSeq.plot(\n",
    "            title=\"Sex Chromosome Homozygosity Rates\",\n",
    "            yaxis=Axis(`type`=AxisType.Log, title=\"Sample Count\"),\n",
    "            xaxis=Axis(title=\"Homozygosity Rate\", range=(0.7, 1.01))\n",
    "        )\n",
    "    })"
   ]
  },
  {
   "cell_type": "code",
   "execution_count": 29,
   "metadata": {
    "ExecuteTime": {
     "end_time": "2020-01-15T23:33:37.116566Z",
     "start_time": "2020-01-15T23:33:36.049Z"
    }
   },
   "outputs": [
    {
     "name": "stdout",
     "output_type": "stream",
     "text": [
      "(1430443,165)\n",
      "Elapsed time: 0.9 seconds\n"
     ]
    },
    {
     "data": {
      "text/plain": [
       "\u001b[36mmt_qc2\u001b[39m: \u001b[32mMatrixTable\u001b[39m = ammonite.$sess.cmd3$Helper$MatrixTable@4d943b98"
      ]
     },
     "execution_count": 29,
     "metadata": {},
     "output_type": "execute_result"
    }
   ],
   "source": [
    "val mt_qc2 = timeop(\"qc2\") {\n",
    "    mt_qc1\n",
    "    .transform(mt => {\n",
    "        new MatrixTable(\n",
    "            rows=mt.rows,\n",
    "            cols=mt.cols.drop(\"gender\").join(\n",
    "                mt_qc2_stat\n",
    "                    .withColumn(\"gender\", when($\"gender\" === \"2\" && $\"homRate\" > .9, \"1\").otherwise($\"gender\"))\n",
    "                    .select(\"colId\", \"gender\"),\n",
    "                Seq(\"colId\"), \"inner\"\n",
    "            ),\n",
    "            entries=mt.entries\n",
    "        )\n",
    "    })\n",
    "    .transform(mt => {println(mt.count); mt})\n",
    "}"
   ]
  },
  {
   "cell_type": "code",
   "execution_count": null,
   "metadata": {},
   "outputs": [],
   "source": [
    "mt_qc2.save(data_dir / QC2_FILE + \".gmt\" toString)"
   ]
  },
  {
   "cell_type": "markdown",
   "metadata": {},
   "source": [
    "<h2><a id=\"step_3\">Step 3: Autosomal Variants and MAF Filtering</a></h2>"
   ]
  },
  {
   "cell_type": "markdown",
   "metadata": {},
   "source": [
    "<h2><a id=\"step_4\">Step 4: Hardy-Weinberg Equilibrium Filtering</a></h2>\n",
    "\n",
    "Just need nHet + nHomAlt + nHomRef for this:\n",
    "\n",
    "- https://github.com/projectglow/glow/blob/master/core/src/main/scala/io/projectglow/sql/expressions/VariantQcExprs.scala#L54\n",
    "- import io.projectglow.sql.util.LeveneHaldanea"
   ]
  }
 ],
 "metadata": {
  "kernelspec": {
   "display_name": "Scala",
   "language": "scala",
   "name": "scala"
  },
  "language_info": {
   "codemirror_mode": "text/x-scala",
   "file_extension": ".scala",
   "mimetype": "text/x-scala",
   "name": "scala",
   "nbconvert_exporter": "script",
   "version": "2.11.12"
  }
 },
 "nbformat": 4,
 "nbformat_minor": 4
}
