{
 "cells": [
  {
   "cell_type": "markdown",
   "metadata": {},
   "source": [
    "### Breeze Benchmarks"
   ]
  },
  {
   "cell_type": "code",
   "execution_count": 1,
   "metadata": {},
   "outputs": [
    {
     "data": {
      "text/plain": [
       "\u001b[32mimport \u001b[39m\u001b[36m$ivy.$                         \n",
       "\u001b[39m\n",
       "\u001b[32mimport \u001b[39m\u001b[36m$ivy.$                                 \n",
       "\u001b[39m\n",
       "\u001b[32mimport \u001b[39m\u001b[36m$file.$               , benchmark._\n",
       "\u001b[39m\n",
       "\u001b[32mimport \u001b[39m\u001b[36mbreeze.linalg._\n",
       "\u001b[39m\n",
       "\u001b[32mimport \u001b[39m\u001b[36mbreeze.numerics._\n",
       "\u001b[39m\n",
       "defined \u001b[32mfunction\u001b[39m \u001b[36mtimeop\u001b[39m"
      ]
     },
     "execution_count": 1,
     "metadata": {},
     "output_type": "execute_result"
    }
   ],
   "source": [
    "import $ivy.`org.scalanlp::breeze:1.0`\n",
    "import $ivy.`org.scalanlp::breeze-natives:1.0`\n",
    "import $file.^.init.benchmark, benchmark._\n",
    "import breeze.linalg._\n",
    "import breeze.numerics._\n",
    "def timeop[T](op: String)(block: => T) = optimer(\"breeze\", op, block)"
   ]
  },
  {
   "cell_type": "code",
   "execution_count": 2,
   "metadata": {},
   "outputs": [
    {
     "name": "stdout",
     "output_type": "stream",
     "text": [
      "Elapsed time: 35.0 seconds\n"
     ]
    },
    {
     "data": {
      "text/plain": [
       "\u001b[36mx\u001b[39m: \u001b[32mDenseMatrix\u001b[39m[\u001b[32mDouble\u001b[39m] = 0.3272790734203541    0.21361821516737156    ... (1000 total)\n",
       "0.8480326490205032    0.6865920878277496     ...\n",
       "0.5995226470897899    0.6346011584580735     ...\n",
       "0.27960896503068655   0.9940294893015593     ...\n",
       "0.8862166772725182    0.39287135270575924    ...\n",
       "0.30856076991768355   0.20959467913648822    ...\n",
       "0.878108858353702     0.024420639285824386   ...\n",
       "0.4962170600408362    0.01920146044429938    ...\n",
       "0.036034810908293524  0.03691835904230634    ...\n",
       "0.7724182089249743    0.4513595757090314     ...\n",
       "0.8490861121330515    0.5228339404484548     ...\n",
       "0.11084479656263535   0.2894621194590843     ...\n",
       "0.016893867183844335  0.7722508436051561     ...\n",
       "0.5765531301004048    0.43406755614841086    ...\n",
       "0.33507887598765485   0.7084403740424778     ...\n",
       "0.18536232335990466   0.6838787592881923     ...\n",
       "0.509737006328939     0.4112610799482499     ...\n",
       "0.773862229210472     0.08444402516348815    ...\n",
       "0.2220686113457051    0.8938881172966819     ...\n",
       "0.030762762744945382  0.479840773876697      ...\n",
       "0.4491766357674347    0.24003899164967213    ...\n",
       "0.4067191359503244    0.1741234447505715     ...\n",
       "0.9778695791219176    0.0382478003872182     ...\n",
       "0.6473751731366963    0.3625562008466163     ...\n",
       "0.9728952198119714    0.21036818750032338    ...\n",
       "0.6995241957319416    0.08857972502792855    ...\n",
       "0.4005831067350467    0.15328913401762723    ...\n",
       "0.3194989813504061    0.5652407616342447     ...\n",
       "0.4193710168700431    0.2220731006026968     ...\n",
       "0.31806662485861836   0.4661120193388155     ...\n",
       "0.05413743006680782   0.9230374758795779     ...\n",
       "0.1525789958745769    0.6868642589871734     ...\n",
       "0.5851917781065532    0.6250296979880803     ...\n",
       "0.9921028986095228    0.7744728744583562     ...\n",
       "0.8999405645830862    0.028688885964319955   ...\n",
       "0.6099698392370354    0.6514399344448036     ...\n",
       "0.8908540247415286    0.28399020541872155    ...\n",
       "0.7420766914696078    0.07166853881537327    ...\n",
       "0.22692895016922665   0.9364797278166623     ...\n",
       "...\n",
       "\u001b[36mres1_1\u001b[39m: (\u001b[32mInt\u001b[39m, \u001b[32mInt\u001b[39m, \u001b[32mInt\u001b[39m) = (\u001b[32m2000000\u001b[39m, \u001b[32m1000\u001b[39m, \u001b[32m2000000000\u001b[39m)"
      ]
     },
     "execution_count": 2,
     "metadata": {},
     "output_type": "execute_result"
    }
   ],
   "source": [
    "val x = timeop(\"create_rand_mat\") {\n",
    "    DenseMatrix.rand(2000000, 1000)\n",
    "}\n",
    "(x.rows, x.cols, x.size)"
   ]
  },
  {
   "cell_type": "markdown",
   "metadata": {},
   "source": [
    "### Axis Sums"
   ]
  },
  {
   "cell_type": "code",
   "execution_count": 3,
   "metadata": {},
   "outputs": [
    {
     "name": "stdout",
     "output_type": "stream",
     "text": [
      "Elapsed time: 2.2 seconds\n"
     ]
    },
    {
     "data": {
      "text/plain": [
       "\u001b[36mres2\u001b[39m: \u001b[32mInt\u001b[39m = \u001b[32m1000\u001b[39m"
      ]
     },
     "execution_count": 3,
     "metadata": {},
     "output_type": "execute_result"
    }
   ],
   "source": [
    "timeop(\"sum_cols\") {\n",
    "    sum(x(::, *)).t.size\n",
    "}"
   ]
  },
  {
   "cell_type": "code",
   "execution_count": 4,
   "metadata": {},
   "outputs": [
    {
     "name": "stdout",
     "output_type": "stream",
     "text": [
      "Elapsed time: 5.7 seconds\n"
     ]
    },
    {
     "data": {
      "text/plain": [
       "\u001b[36mres3\u001b[39m: \u001b[32mInt\u001b[39m = \u001b[32m1000\u001b[39m"
      ]
     },
     "execution_count": 4,
     "metadata": {},
     "output_type": "execute_result"
    }
   ],
   "source": [
    "timeop(\"sum_cols_t\") {\n",
    "    sum(x.t(*, ::)).size\n",
    "}"
   ]
  },
  {
   "cell_type": "code",
   "execution_count": 5,
   "metadata": {},
   "outputs": [
    {
     "name": "stdout",
     "output_type": "stream",
     "text": [
      "Elapsed time: 2.5 seconds\n"
     ]
    },
    {
     "data": {
      "text/plain": [
       "\u001b[36mres4\u001b[39m: \u001b[32mInt\u001b[39m = \u001b[32m2000000\u001b[39m"
      ]
     },
     "execution_count": 5,
     "metadata": {},
     "output_type": "execute_result"
    }
   ],
   "source": [
    "timeop(\"sum_rows\") {\n",
    "    sum(x(*, ::)).size\n",
    "}"
   ]
  },
  {
   "cell_type": "code",
   "execution_count": 6,
   "metadata": {},
   "outputs": [
    {
     "name": "stdout",
     "output_type": "stream",
     "text": [
      "Elapsed time: 14.4 seconds\n"
     ]
    },
    {
     "data": {
      "text/plain": [
       "\u001b[36mres5\u001b[39m: \u001b[32mInt\u001b[39m = \u001b[32m2000000\u001b[39m"
      ]
     },
     "execution_count": 6,
     "metadata": {},
     "output_type": "execute_result"
    }
   ],
   "source": [
    "timeop(\"sum_rows_t\") {\n",
    "    sum(x.t(::, *)).t.size\n",
    "}"
   ]
  },
  {
   "cell_type": "markdown",
   "metadata": {},
   "source": [
    "### Transformed Sums"
   ]
  },
  {
   "cell_type": "code",
   "execution_count": 4,
   "metadata": {},
   "outputs": [
    {
     "name": "stdout",
     "output_type": "stream",
     "text": [
      "Elapsed time: 25.3 seconds\n"
     ]
    },
    {
     "data": {
      "text/plain": [
       "\u001b[36mres3\u001b[39m: \u001b[32mInt\u001b[39m = \u001b[32m1000\u001b[39m"
      ]
     },
     "execution_count": 4,
     "metadata": {},
     "output_type": "execute_result"
    }
   ],
   "source": [
    "timeop(\"sum_cols_trans\") {\n",
    "    val y = x <:< .5\n",
    "    sum(y(::, *)).t.size\n",
    "}"
   ]
  },
  {
   "cell_type": "code",
   "execution_count": 5,
   "metadata": {},
   "outputs": [
    {
     "name": "stdout",
     "output_type": "stream",
     "text": [
      "Elapsed time: 43.3 seconds\n"
     ]
    },
    {
     "data": {
      "text/plain": [
       "\u001b[36mres4\u001b[39m: \u001b[32mInt\u001b[39m = \u001b[32m2000000\u001b[39m"
      ]
     },
     "execution_count": 5,
     "metadata": {},
     "output_type": "execute_result"
    }
   ],
   "source": [
    "timeop(\"sum_rows_trans\") {\n",
    "    val y = x <:< .5\n",
    "    sum(y(*, ::)).size\n",
    "}"
   ]
  }
 ],
 "metadata": {
  "kernelspec": {
   "display_name": "Scala",
   "language": "scala",
   "name": "scala"
  },
  "language_info": {
   "codemirror_mode": "text/x-scala",
   "file_extension": ".scala",
   "mimetype": "text/x-scala",
   "name": "scala",
   "nbconvert_exporter": "script",
   "version": "2.11.12"
  }
 },
 "nbformat": 4,
 "nbformat_minor": 4
}
