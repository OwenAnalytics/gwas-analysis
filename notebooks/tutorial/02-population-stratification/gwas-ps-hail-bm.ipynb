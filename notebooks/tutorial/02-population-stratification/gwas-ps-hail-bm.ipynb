{
 "cells": [
  {
   "cell_type": "markdown",
   "metadata": {},
   "source": [
    "### Hail BlockMatrix QC Tests\n",
    "\n",
    "This experiment tests performance on variant/sample call rate filtering of 1KG data using the Hail BlockMatrix API rather than MatrixTable.\n",
    "\n",
    "It is approximately 3x faster than MatrixTable for this one set of QC ops, but still nowhere near as fast as PLINK or Dask."
   ]
  },
  {
   "cell_type": "code",
   "execution_count": 1,
   "metadata": {},
   "outputs": [
    {
     "name": "stderr",
     "output_type": "stream",
     "text": [
      "Running on Apache Spark version 2.4.4\n",
      "SparkUI available at http://d42c6af5a4e5:4040\n",
      "Welcome to\n",
      "     __  __     <>__\n",
      "    / /_/ /__  __/ /\n",
      "   / __  / _ `/ / /\n",
      "  /_/ /_/\\_,_/_/_/   version 0.2.30-2ae07d872f43\n",
      "LOGGING: writing to /home/eczech/repos/gwas-analysis/notebooks/tutorial/02-population-stratification/hail-20200206-2049-0.2.30-2ae07d872f43.log\n"
     ]
    }
   ],
   "source": [
    "import hail as hl\n",
    "import pandas as pd\n",
    "import numpy as np\n",
    "import plotnine as pn\n",
    "import matplotlib.pyplot as plt\n",
    "import os.path as osp\n",
    "%run ../init/paths.py\n",
    "data_dir = osp.expanduser('~/data/gwas/tutorial/2_PS_GWAS')\n",
    "hl.init() "
   ]
  },
  {
   "cell_type": "code",
   "execution_count": 29,
   "metadata": {},
   "outputs": [],
   "source": [
    "#mt = hl.balding_nichols_model(3, 25, 50)\n",
    "mt = hl.read_matrix_table(osp.join(data_dir, PS1_1KG_RAW_FILE + '.mt'))"
   ]
  },
  {
   "cell_type": "code",
   "execution_count": 31,
   "metadata": {},
   "outputs": [
    {
     "data": {
      "text/plain": [
       "(25488488, 629)"
      ]
     },
     "execution_count": 31,
     "metadata": {},
     "output_type": "execute_result"
    }
   ],
   "source": [
    "mt.count()"
   ]
  },
  {
   "cell_type": "code",
   "execution_count": 3,
   "metadata": {},
   "outputs": [
    {
     "data": {
      "text/plain": [
       "4096"
      ]
     },
     "execution_count": 3,
     "metadata": {},
     "output_type": "execute_result"
    }
   ],
   "source": [
    "hl.linalg.BlockMatrix.default_block_size()"
   ]
  },
  {
   "cell_type": "code",
   "execution_count": 2,
   "metadata": {},
   "outputs": [
    {
     "data": {
      "text/plain": [
       "'/home/eczech/data/gwas/tutorial/2_PS_GWAS/ALL.2of4intersection.20100804.genotypes.is_defined.bm'"
      ]
     },
     "execution_count": 2,
     "metadata": {},
     "output_type": "execute_result"
    }
   ],
   "source": [
    "path = osp.join(data_dir, PS1_1KG_RAW_FILE + '.is_defined.bm')\n",
    "path"
   ]
  },
  {
   "cell_type": "code",
   "execution_count": 5,
   "metadata": {},
   "outputs": [
    {
     "data": {
      "text/plain": [
       "dtype('bool')"
      ]
     },
     "execution_count": 5,
     "metadata": {},
     "output_type": "execute_result"
    }
   ],
   "source": [
    "hl.is_defined(mt.GT).dtype"
   ]
  },
  {
   "cell_type": "code",
   "execution_count": 6,
   "metadata": {},
   "outputs": [
    {
     "name": "stdout",
     "output_type": "stream",
     "text": [
      "CPU times: user 212 ms, sys: 99.1 ms, total: 311 ms\n",
      "Wall time: 22min 28s\n"
     ]
    },
    {
     "name": "stderr",
     "output_type": "stream",
     "text": [
      "2020-02-06 13:23:46 Hail: INFO: Wrote all 6223 blocks of 25488488 x 629 matrix with block size 4096.\n"
     ]
    }
   ],
   "source": [
    "%%time\n",
    "# block size 16384 gives OOM \n",
    "# block size 8192 gives java.lang.RuntimeException: error while applying lowering 'InterpretNonCompilable'\n",
    "hl.linalg.BlockMatrix.write_from_entry_expr(hl.is_defined(mt.GT), path, overwrite=True, block_size=4096)"
   ]
  },
  {
   "cell_type": "code",
   "execution_count": 3,
   "metadata": {},
   "outputs": [],
   "source": [
    "bm = hl.linalg.BlockMatrix.read(path)"
   ]
  },
  {
   "cell_type": "code",
   "execution_count": 4,
   "metadata": {},
   "outputs": [
    {
     "data": {
      "text/plain": [
       "False"
      ]
     },
     "execution_count": 4,
     "metadata": {},
     "output_type": "execute_result"
    }
   ],
   "source": [
    "bm.is_sparse"
   ]
  },
  {
   "cell_type": "code",
   "execution_count": 5,
   "metadata": {},
   "outputs": [
    {
     "data": {
      "text/plain": [
       "dtype('float64')"
      ]
     },
     "execution_count": 5,
     "metadata": {},
     "output_type": "execute_result"
    }
   ],
   "source": [
    "bm.element_type"
   ]
  },
  {
   "cell_type": "code",
   "execution_count": 6,
   "metadata": {},
   "outputs": [
    {
     "name": "stdout",
     "output_type": "stream",
     "text": [
      "CPU times: user 20 s, sys: 2.13 s, total: 22.1 s\n",
      "Wall time: 6min 56s\n"
     ]
    },
    {
     "data": {
      "text/plain": [
       "(8240745, 629)"
      ]
     },
     "execution_count": 6,
     "metadata": {},
     "output_type": "execute_result"
    }
   ],
   "source": [
    "%%time\n",
    "\n",
    "def filter_by_variant_call_rate(bm, threshold):\n",
    "    idx = np.argwhere((bm.sum(axis=1) / bm.shape[1]).to_numpy().squeeze() >= threshold).squeeze()\n",
    "    return bm.filter_rows(idx.tolist())\n",
    "\n",
    "def filter_by_sample_call_rate(bm, threshold):\n",
    "    idx = np.argwhere((bm.sum(axis=0) / bm.shape[0]).to_numpy().squeeze() >= threshold).squeeze()\n",
    "    return bm.filter_cols(idx.tolist())\n",
    "\n",
    "bmf = filter_by_variant_call_rate(bm, .8)\n",
    "bmf = filter_by_sample_call_rate(bmf, .8)\n",
    "bmf = filter_by_variant_call_rate(bmf, .98)\n",
    "bmf = filter_by_sample_call_rate(bmf, .98)\n",
    "bmf.shape"
   ]
  },
  {
   "cell_type": "code",
   "execution_count": 27,
   "metadata": {},
   "outputs": [
    {
     "name": "stdout",
     "output_type": "stream",
     "text": [
      "CPU times: user 2min 7s, sys: 3.12 s, total: 2min 10s\n",
      "Wall time: 12min 31s\n"
     ]
    },
    {
     "data": {
      "text/plain": [
       "(8240745, 629)"
      ]
     },
     "execution_count": 27,
     "metadata": {},
     "output_type": "execute_result"
    }
   ],
   "source": [
    "%%time\n",
    "\n",
    "# Try using matrix + vector multiplication instead of sums \n",
    "\n",
    "def filter_by_variant_call_rate(bm, threshold):\n",
    "    cr = ((bm @ np.ones((bm.shape[1], 1))) / bm.shape[1]).to_numpy().squeeze()\n",
    "    idx = np.argwhere(cr >= threshold).squeeze()\n",
    "    return bm.filter_rows(idx.tolist())\n",
    "\n",
    "def filter_by_sample_call_rate(bm, threshold):\n",
    "    cr = ((bm.T @ np.ones((bm.shape[0], 1))) / bm.shape[0]).to_numpy().squeeze()\n",
    "    idx = np.argwhere(cr >= threshold).squeeze()\n",
    "    return bm.filter_cols(idx.tolist())\n",
    "\n",
    "bmf = filter_by_variant_call_rate(bm, .8)\n",
    "bmf = filter_by_sample_call_rate(bmf, .8)\n",
    "bmf = filter_by_variant_call_rate(bmf, .98)\n",
    "bmf = filter_by_sample_call_rate(bmf, .98)\n",
    "bmf.shape"
   ]
  }
 ],
 "metadata": {
  "kernelspec": {
   "display_name": "Python 3",
   "language": "python",
   "name": "python3"
  },
  "language_info": {
   "codemirror_mode": {
    "name": "ipython",
    "version": 3
   },
   "file_extension": ".py",
   "mimetype": "text/x-python",
   "name": "python",
   "nbconvert_exporter": "python",
   "pygments_lexer": "ipython3",
   "version": "3.7.6"
  }
 },
 "nbformat": 4,
 "nbformat_minor": 4
}
