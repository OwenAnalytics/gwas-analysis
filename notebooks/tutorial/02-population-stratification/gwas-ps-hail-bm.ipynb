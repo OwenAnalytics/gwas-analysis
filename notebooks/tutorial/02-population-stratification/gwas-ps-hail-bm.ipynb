{
 "cells": [
  {
   "cell_type": "markdown",
   "metadata": {},
   "source": [
    "### Hail BlockMatrix QC Tests\n",
    "\n",
    "This experiment tests performance on variant/sample call rate filtering of 1KG data using the Hail BlockMatrix API rather than MatrixTable.\n",
    "\n",
    "It is approximately 3x faster than MatrixTable for this one set of QC ops, but still nowhere near as fast as PLINK or Dask."
   ]
  },
  {
   "cell_type": "code",
   "execution_count": 1,
   "metadata": {},
   "outputs": [
    {
     "name": "stderr",
     "output_type": "stream",
     "text": [
      "Running on Apache Spark version 2.4.4\n",
      "SparkUI available at http://d42c6af5a4e5:4040\n",
      "Welcome to\n",
      "     __  __     <>__\n",
      "    / /_/ /__  __/ /\n",
      "   / __  / _ `/ / /\n",
      "  /_/ /_/\\_,_/_/_/   version 0.2.30-2ae07d872f43\n",
      "LOGGING: writing to /home/eczech/repos/gwas-analysis/notebooks/tutorial/ext/dask/hail-20200205-2241-0.2.30-2ae07d872f43.log\n"
     ]
    }
   ],
   "source": [
    "import hail as hl\n",
    "import pandas as pd\n",
    "import numpy as np\n",
    "import plotnine as pn\n",
    "import matplotlib.pyplot as plt\n",
    "import os.path as osp\n",
    "%run ../../init/paths.py\n",
    "data_dir = osp.expanduser('~/data/gwas/tutorial/2_PS_GWAS')\n",
    "hl.init() "
   ]
  },
  {
   "cell_type": "code",
   "execution_count": 2,
   "metadata": {},
   "outputs": [
    {
     "name": "stderr",
     "output_type": "stream",
     "text": [
      "2020-02-05 22:24:57 Hail: INFO: balding_nichols_model: generating genotypes for 3 populations, 25 samples, and 50 variants...\n"
     ]
    }
   ],
   "source": [
    "mt = hl.balding_nichols_model(3, 25, 50)\n",
    "#mt = hl.read_matrix_table(osp.join(data_dir, PS1_1KG_RAW_FILE + '.mt'))"
   ]
  },
  {
   "cell_type": "code",
   "execution_count": 12,
   "metadata": {},
   "outputs": [
    {
     "data": {
      "text/plain": [
       "4096"
      ]
     },
     "execution_count": 12,
     "metadata": {},
     "output_type": "execute_result"
    }
   ],
   "source": [
    "hl.linalg.BlockMatrix.default_block_size()"
   ]
  },
  {
   "cell_type": "code",
   "execution_count": 24,
   "metadata": {},
   "outputs": [
    {
     "name": "stdout",
     "output_type": "stream",
     "text": [
      "CPU times: user 39.5 ms, sys: 0 ns, total: 39.5 ms\n",
      "Wall time: 430 ms\n"
     ]
    },
    {
     "name": "stderr",
     "output_type": "stream",
     "text": [
      "2020-02-05 22:39:43 Hail: INFO: Coerced sorted dataset\n",
      "2020-02-05 22:39:43 Hail: INFO: Wrote all 1 blocks of 50 x 25 matrix with block size 4096.\n"
     ]
    }
   ],
   "source": [
    "%%time\n",
    "bm = hl.linalg.BlockMatrix.from_entry_expr(hl.is_defined(mt.GT))"
   ]
  },
  {
   "cell_type": "code",
   "execution_count": 2,
   "metadata": {},
   "outputs": [],
   "source": [
    "bm = hl.linalg.BlockMatrix.read(osp.join(data_dir, PS1_1KG_RAW_FILE + '.is_defined.bm'))"
   ]
  },
  {
   "cell_type": "code",
   "execution_count": 3,
   "metadata": {},
   "outputs": [
    {
     "data": {
      "text/plain": [
       "False"
      ]
     },
     "execution_count": 3,
     "metadata": {},
     "output_type": "execute_result"
    }
   ],
   "source": [
    "bm.is_sparse"
   ]
  },
  {
   "cell_type": "code",
   "execution_count": 4,
   "metadata": {},
   "outputs": [
    {
     "data": {
      "text/plain": [
       "dtype('float64')"
      ]
     },
     "execution_count": 4,
     "metadata": {},
     "output_type": "execute_result"
    }
   ],
   "source": [
    "bm.element_type"
   ]
  },
  {
   "cell_type": "code",
   "execution_count": 5,
   "metadata": {},
   "outputs": [
    {
     "name": "stdout",
     "output_type": "stream",
     "text": [
      "v 9007422\n",
      "s 629\n",
      "v 8240745\n",
      "s 629\n",
      "CPU times: user 20.2 s, sys: 2.11 s, total: 22.3 s\n",
      "Wall time: 6min 57s\n"
     ]
    },
    {
     "data": {
      "text/plain": [
       "(8240745, 629)"
      ]
     },
     "execution_count": 5,
     "metadata": {},
     "output_type": "execute_result"
    }
   ],
   "source": [
    "%%time\n",
    "\n",
    "def filter_by_variant_call_rate(bm, threshold):\n",
    "    idx = np.argwhere((bm.sum(axis=1) / bm.shape[1]).to_numpy().squeeze() >= threshold).squeeze()\n",
    "    return bm.filter_rows(idx.tolist())\n",
    "\n",
    "def filter_by_sample_call_rate(bm, threshold):\n",
    "    idx = np.argwhere((bm.sum(axis=0) / bm.shape[0]).to_numpy().squeeze() >= threshold).squeeze()\n",
    "    return bm.filter_cols(idx.tolist())\n",
    "\n",
    "bmf = filter_by_variant_call_rate(bm, .8)\n",
    "bmf = filter_by_sample_call_rate(bmf, .8)\n",
    "bmf = filter_by_variant_call_rate(bmf, .98)\n",
    "bmf = filter_by_sample_call_rate(bmf, .98)\n",
    "bmf.shape"
   ]
  }
 ],
 "metadata": {
  "kernelspec": {
   "display_name": "Python 3",
   "language": "python",
   "name": "python3"
  },
  "language_info": {
   "codemirror_mode": {
    "name": "ipython",
    "version": 3
   },
   "file_extension": ".py",
   "mimetype": "text/x-python",
   "name": "python",
   "nbconvert_exporter": "python",
   "pygments_lexer": "ipython3",
   "version": "3.7.6"
  }
 },
 "nbformat": 4,
 "nbformat_minor": 4
}
