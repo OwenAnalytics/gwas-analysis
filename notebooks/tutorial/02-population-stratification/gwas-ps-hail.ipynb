{
 "cells": [
  {
   "cell_type": "markdown",
   "metadata": {},
   "source": [
    "## Hail GWAS Population Stratification Tutorial\n",
    "\n",
    "This notebook shows how to replicate the steps taken in the PLINK tutorial for population stratification (from Marees et al. 2018 publication) in Hail."
   ]
  },
  {
   "cell_type": "code",
   "execution_count": 1,
   "metadata": {},
   "outputs": [
    {
     "name": "stderr",
     "output_type": "stream",
     "text": [
      "Running on Apache Spark version 2.4.4\n",
      "SparkUI available at http://3d498b83ee57:4040\n",
      "Welcome to\n",
      "     __  __     <>__\n",
      "    / /_/ /__  __/ /\n",
      "   / __  / _ `/ / /\n",
      "  /_/ /_/\\_,_/_/_/   version 0.2.30-2ae07d872f43\n",
      "LOGGING: writing to /home/eczech/repos/gwas-analysis/notebooks/tutorial/02-population-stratification/hail-20200121-1804-0.2.30-2ae07d872f43.log\n"
     ]
    }
   ],
   "source": [
    "import hail as hl\n",
    "import pandas as pd\n",
    "import numpy as np\n",
    "import seaborn as sns\n",
    "import plotnine as pn\n",
    "import matplotlib.pyplot as plt\n",
    "from scipy.stats import describe as mat_stats\n",
    "import os.path as osp\n",
    "import multiprocessing\n",
    "%run ../init/paths.py\n",
    "%run ../init/reference_genome.py\n",
    "\n",
    "# Benchmarking utilities\n",
    "%run ../init/benchmark.py\n",
    "register_timeop_magic(get_ipython(), 'hail')\n",
    "prev_dir = osp.expanduser('~/data/gwas/tutorial/1_QC_GWAS')\n",
    "data_dir = osp.expanduser('~/data/gwas/tutorial/2_PS_GWAS')\n",
    "\n",
    "hl.init() "
   ]
  },
  {
   "cell_type": "markdown",
   "metadata": {},
   "source": [
    "## Step 1: 1KG QC"
   ]
  },
  {
   "cell_type": "markdown",
   "metadata": {},
   "source": [
    "#### Load 1KG Raw Data\n",
    "\n",
    "The reference build for 1KG data used in the Marees et al. 2018 publication (hosted at ftp://ftp-trace.ncbi.nih.gov/1000genomes/ftp/release/20100804) does not appear to be mentioned in the publication or in any supporting material in the ftp site directory.  This is generally not hard to figure out though and there are a couple strategies that can be used:\n",
    "\n",
    "1. Look at the contig names.  Many reference builds use different naming conventions for contigs (namely chromosomes) so finding the unique contigs in the file and cross referencing them with the [NCBI Assembly Search Page](https://www.ncbi.nlm.nih.gov/assembly) is one way.\n",
    "2. Find a few variants in the data file (something like ``` gzip -dc <vcf_file> | head -n 100 | grep -oP \".{0,100}rs.{0,20}\"```), look them up at ```https://www.ncbi.nlm.nih.gov/snp/<snp_id>``` and if the stated genomic positions + chromosomes differ for GRCh37 and GRCh38, then the build is likely whichever matches your data. \n",
    "\n",
    "Of these two, the second is pretty laborious if you don't quickly find a SNP with different positions in the builds so we use the first here.  These commands showed it was clear that the GRCh37 build is the correct one:\n",
    "\n",
    "```\n",
    "mt = hl.import_plink(\n",
    "    osp.join(data_dir, PS1_1KG_RAW + '.bed'),\n",
    "    osp.join(data_dir, PS1_1KG_RAW + '.bim'),\n",
    "    osp.join(data_dir, PS1_1KG_RAW + '.fam'),\n",
    "    skip_invalid_loci=True\n",
    ")\n",
    "mt.aggregate_rows(hl.agg.counter(mt.locus.contig))\n",
    "{\n",
    "  1: 2001208, 2: 2141926, 3: 1855381, 4: 1760520, 5: 1627741, 6: 1634598, 7: 1475488, 8: 1417830, \n",
    "  9: 1141124, 10: 1244258, 11: 1223116, 12: 1229720, 13: 916963, 14: 854596, 15: 780317, 16: 862462, \n",
    "  17: 720267, 18: 736082, 19: 552201, 20: 594377, 21: 371653, 22: 346660\n",
    "}\n",
    "# These contigs are used in the GRCh37 build but not GRCh38 (which uses 'chrN' instead)\n",
    "# NOTE: There are only autosomal variants in the 1KG data so sex chromosome filters/operations can be skipped\n",
    "```\n",
    "\n",
    "Hail also fails to process this data when setting the reference build to GRCh38 with errors like:\n",
    "\n",
    "```FatalError: HailException: Invalid locus 'chr1:249059077' found. Position '249059077' is not within the range [1-248956422] for reference genome 'GRCh38'```\n",
    "\n",
    "No such errors are encountered with GRCh37."
   ]
  },
  {
   "cell_type": "code",
   "execution_count": 2,
   "metadata": {},
   "outputs": [
    {
     "name": "stderr",
     "output_type": "stream",
     "text": [
      "2020-01-21 18:06:14 Hail: INFO: Found 629 samples in fam file.\n",
      "2020-01-21 18:06:14 Hail: INFO: Found 25488488 variants in bim file.\n"
     ]
    }
   ],
   "source": [
    "# Load PLINK dataset using our custom reference\n",
    "mt = hl.import_plink(\n",
    "    osp.join(data_dir, PS1_1KG_RAW_FILE + '.bed'),\n",
    "    osp.join(data_dir, PS1_1KG_RAW_FILE + '.bim'),\n",
    "    osp.join(data_dir, PS1_1KG_RAW_FILE + '.fam'),\n",
    "    skip_invalid_loci=False,\n",
    "    reference_genome='GRCh37'\n",
    ")"
   ]
  },
  {
   "cell_type": "code",
   "execution_count": 3,
   "metadata": {},
   "outputs": [
    {
     "name": "stdout",
     "output_type": "stream",
     "text": [
      "----------------------------------------\n",
      "Global fields:\n",
      "    None\n",
      "----------------------------------------\n",
      "Column fields:\n",
      "    's': str\n",
      "    'fam_id': str\n",
      "    'pat_id': str\n",
      "    'mat_id': str\n",
      "    'is_female': bool\n",
      "    'is_case': bool\n",
      "----------------------------------------\n",
      "Row fields:\n",
      "    'locus': locus<GRCh37>\n",
      "    'alleles': array<str>\n",
      "    'rsid': str\n",
      "    'cm_position': float64\n",
      "----------------------------------------\n",
      "Entry fields:\n",
      "    'GT': call\n",
      "----------------------------------------\n",
      "Column key: ['s']\n",
      "Row key: ['locus', 'alleles']\n",
      "----------------------------------------\n"
     ]
    }
   ],
   "source": [
    "mt.describe()"
   ]
  },
  {
   "cell_type": "code",
   "execution_count": 4,
   "metadata": {},
   "outputs": [
    {
     "name": "stderr",
     "output_type": "stream",
     "text": [
      "2020-01-21 18:08:18 Hail: INFO: Coerced sorted dataset\n"
     ]
    },
    {
     "data": {
      "text/plain": [
       "(25488488, 629)"
      ]
     },
     "execution_count": 4,
     "metadata": {},
     "output_type": "execute_result"
    }
   ],
   "source": [
    "mt.count()"
   ]
  },
  {
   "cell_type": "code",
   "execution_count": 4,
   "metadata": {},
   "outputs": [
    {
     "name": "stderr",
     "output_type": "stream",
     "text": [
      "2020-01-19 00:00:40 Hail: INFO: Coerced sorted dataset\n",
      "2020-01-19 00:05:03 Hail: INFO: wrote matrix table with 25488488 rows and 629 columns in 120 partitions to /home/eczech/data/gwas/tutorial/2_PS_GWAS/ALL.2of4intersection.20100804.genotypes.mt\n"
     ]
    }
   ],
   "source": [
    "# Write the full dataset out as a Hail table for faster downstream operations\n",
    "mt.write(osp.join(data_dir, PS1_1KG_RAW_FILE + '.mt'), overwrite=True)"
   ]
  },
  {
   "cell_type": "code",
   "execution_count": 5,
   "metadata": {},
   "outputs": [],
   "source": [
    "mt_qc0 = hl.read_matrix_table(osp.join(data_dir, PS1_1KG_RAW_FILE + '.mt'))"
   ]
  },
  {
   "cell_type": "code",
   "execution_count": 6,
   "metadata": {},
   "outputs": [
    {
     "data": {
      "text/plain": [
       "(25488488, 629)"
      ]
     },
     "execution_count": 6,
     "metadata": {},
     "output_type": "execute_result"
    }
   ],
   "source": [
    "mt_qc0.count()"
   ]
  },
  {
   "cell_type": "code",
   "execution_count": 33,
   "metadata": {},
   "outputs": [
    {
     "data": {
      "text/plain": [
       "{None: 629}"
      ]
     },
     "execution_count": 33,
     "metadata": {},
     "output_type": "execute_result"
    }
   ],
   "source": [
    "mt_qc0.aggregate_cols(hl.agg.counter(mt_qc0.is_female))"
   ]
  },
  {
   "cell_type": "code",
   "execution_count": 34,
   "metadata": {},
   "outputs": [
    {
     "data": {
      "text/plain": [
       "{None: 629}"
      ]
     },
     "execution_count": 34,
     "metadata": {},
     "output_type": "execute_result"
    }
   ],
   "source": [
    "mt_qc0.aggregate_cols(hl.agg.counter(mt_qc0.is_case))"
   ]
  },
  {
   "cell_type": "markdown",
   "metadata": {},
   "source": [
    "#### Filter by Call Rate and MAF"
   ]
  },
  {
   "cell_type": "markdown",
   "metadata": {},
   "source": [
    "Proceed with QC on the 1KG data the same way as with the HapMap data -- filter samples and variants with an aggressive threshold first followed by a more conservative one:"
   ]
  },
  {
   "cell_type": "code",
   "execution_count": 7,
   "metadata": {},
   "outputs": [
    {
     "data": {
      "image/png": "[encoded data removed]",
      "text/plain": [
       "<Figure size 1152x216 with 1 Axes>"
      ]
     },
     "metadata": {
      "needs_background": "light"
     },
     "output_type": "display_data"
    }
   ],
   "source": [
    "ax = pd.Series(\n",
    "    hl.min(hl.variant_qc(mt_qc0).variant_qc.AF).collect()\n",
    ").plot(kind='hist', bins=64)\n",
    "ax.set_yscale('log')\n",
    "ax.set_title('MAF Distribution')\n",
    "plt.gcf().set_size_inches(16, 3)"
   ]
  },
  {
   "cell_type": "code",
   "execution_count": 6,
   "metadata": {},
   "outputs": [
    {
     "data": {
      "text/plain": [
       "(8240745, 629)"
      ]
     },
     "execution_count": 6,
     "metadata": {},
     "output_type": "execute_result"
    },
    {
     "name": "stdout",
     "output_type": "stream",
     "text": [
      "Elapsed time: 1207.4 seconds\n"
     ]
    },
    {
     "data": {
      "text/plain": [
       "(8240745, 629)"
      ]
     },
     "execution_count": 6,
     "metadata": {},
     "output_type": "execute_result"
    }
   ],
   "source": [
    "%%timeop -o ps1\n",
    "\n",
    "def qc_1(mt):\n",
    "    # Filter call rates\n",
    "    mt = hl.variant_qc(mt)\n",
    "    mt = mt.filter_rows(mt.variant_qc.call_rate >= .8)\n",
    "    mt = hl.sample_qc(mt)\n",
    "    mt = mt.filter_cols(mt.sample_qc.call_rate >= .8)\n",
    "    mt = hl.variant_qc(mt)\n",
    "    mt = mt.filter_rows(mt.variant_qc.call_rate >= .98)\n",
    "    mt = hl.sample_qc(mt)\n",
    "    mt = mt.filter_cols(mt.sample_qc.call_rate >= .98)\n",
    "    \n",
    "    # Filter MAF\n",
    "    mtv = hl.variant_qc(mt) \n",
    "    mtv = mtv.filter_rows(hl.min(mtv.variant_qc.AF) >= 0.05)    \n",
    "    return mt.semi_join_rows(mtv.rows())\n",
    "\n",
    "mt_qc1 = qc_1(mt_qc0)\n",
    "mt_qc1.count()"
   ]
  },
  {
   "cell_type": "code",
   "execution_count": 9,
   "metadata": {},
   "outputs": [
    {
     "name": "stderr",
     "output_type": "stream",
     "text": [
      "2020-01-19 01:55:25 Hail: INFO: wrote matrix table with 5808310 rows and 629 columns in 120 partitions to /home/eczech/data/gwas/tutorial/2_PS_GWAS/1KG_QC.mt\n"
     ]
    }
   ],
   "source": [
    "mt_qc1.write(osp.join(data_dir, PS1_1KG_QC_FILE + \".mt\"), overwrite=True)"
   ]
  },
  {
   "cell_type": "markdown",
   "metadata": {},
   "source": [
    "## Step 2: Prepare Datasets"
   ]
  },
  {
   "cell_type": "markdown",
   "metadata": {},
   "source": [
    "##### Load 1KG"
   ]
  },
  {
   "cell_type": "code",
   "execution_count": 8,
   "metadata": {},
   "outputs": [
    {
     "data": {
      "text/html": [
       "<div>\n",
       "<style scoped>\n",
       "    .dataframe tbody tr th:only-of-type {\n",
       "        vertical-align: middle;\n",
       "    }\n",
       "\n",
       "    .dataframe tbody tr th {\n",
       "        vertical-align: top;\n",
       "    }\n",
       "\n",
       "    .dataframe thead th {\n",
       "        text-align: right;\n",
       "    }\n",
       "</style>\n",
       "<table border=\"1\" class=\"dataframe\">\n",
       "  <thead>\n",
       "    <tr style=\"text-align: right;\">\n",
       "      <th></th>\n",
       "      <th>s</th>\n",
       "      <th>pop</th>\n",
       "      <th>race</th>\n",
       "    </tr>\n",
       "  </thead>\n",
       "  <tbody>\n",
       "    <tr>\n",
       "      <th>0</th>\n",
       "      <td>HG00098</td>\n",
       "      <td>GBR</td>\n",
       "      <td>EUR</td>\n",
       "    </tr>\n",
       "    <tr>\n",
       "      <th>1</th>\n",
       "      <td>HG00100</td>\n",
       "      <td>GBR</td>\n",
       "      <td>EUR</td>\n",
       "    </tr>\n",
       "    <tr>\n",
       "      <th>2</th>\n",
       "      <td>HG00106</td>\n",
       "      <td>GBR</td>\n",
       "      <td>EUR</td>\n",
       "    </tr>\n",
       "    <tr>\n",
       "      <th>3</th>\n",
       "      <td>HG00112</td>\n",
       "      <td>GBR</td>\n",
       "      <td>EUR</td>\n",
       "    </tr>\n",
       "    <tr>\n",
       "      <th>4</th>\n",
       "      <td>HG00114</td>\n",
       "      <td>GBR</td>\n",
       "      <td>EUR</td>\n",
       "    </tr>\n",
       "  </tbody>\n",
       "</table>\n",
       "</div>"
      ],
      "text/plain": [
       "         s  pop race\n",
       "0  HG00098  GBR  EUR\n",
       "1  HG00100  GBR  EUR\n",
       "2  HG00106  GBR  EUR\n",
       "3  HG00112  GBR  EUR\n",
       "4  HG00114  GBR  EUR"
      ]
     },
     "execution_count": 8,
     "metadata": {},
     "output_type": "execute_result"
    }
   ],
   "source": [
    "def get_1kg_pd():\n",
    "    def get_race(pop):\n",
    "        return dict(\n",
    "            JPT='ASN', ASW='AFR', CEU='EUR', CHB='ASN', CHD='ASN', YRI='AFR', \n",
    "            LWK='AFR', TSI='EUR', MXL='AMR', GBR='EUR', FIN='EUR', CHS='ASN', PUR='AMR'\n",
    "        ).get(pop, 'UNK')\n",
    "    return pd.read_csv(osp.join(data_dir, '20100804.ALL.panel'), sep=\"\\t\", header=None, names=['s', 'pop', 'p1', 'p2'])\\\n",
    "        .assign(race=lambda df: df['pop'].apply(get_race)).drop(['p1', 'p2'], axis=1)\n",
    "get_1kg_pd().head()"
   ]
  },
  {
   "cell_type": "markdown",
   "metadata": {},
   "source": [
    "The demographic information for the 1KG data is tab delimited but some lines contain 3 values instead of 4 (there should be 4 in every row).  Hail's ```import_table``` function can't handle this so first use pandas to re-write this data into a file with no malformed records after collapsing populations into less granular super populations:"
   ]
  },
  {
   "cell_type": "code",
   "execution_count": 9,
   "metadata": {},
   "outputs": [],
   "source": [
    "get_1kg_pd().to_csv(osp.join(data_dir, '20100804.ALL.panel.clean'), sep=\"\\t\", index=False)"
   ]
  },
  {
   "cell_type": "markdown",
   "metadata": {},
   "source": [
    "Now load it back out with Hail:"
   ]
  },
  {
   "cell_type": "code",
   "execution_count": 10,
   "metadata": {},
   "outputs": [
    {
     "name": "stdout",
     "output_type": "stream",
     "text": [
      "----------------------------------------\n",
      "Global fields:\n",
      "    None\n",
      "----------------------------------------\n",
      "Row fields:\n",
      "    's': str \n",
      "    'race': str \n",
      "----------------------------------------\n",
      "Key: ['s']\n",
      "----------------------------------------\n"
     ]
    },
    {
     "name": "stderr",
     "output_type": "stream",
     "text": [
      "2020-01-21 18:13:56 Hail: INFO: Reading table with no type imputation\n",
      "  Loading column 's' as type 'str' (type not specified)\n",
      "  Loading column 'pop' as type 'str' (type not specified)\n",
      "  Loading column 'race' as type 'str' (type not specified)\n",
      "\n"
     ]
    }
   ],
   "source": [
    "ht_1kg_pd = hl.import_table(osp.join(data_dir, '20100804.ALL.panel.clean'), delimiter=\"\\t\", key=\"s\").drop('pop')\n",
    "ht_1kg_pd.describe()"
   ]
  },
  {
   "cell_type": "code",
   "execution_count": 11,
   "metadata": {},
   "outputs": [
    {
     "name": "stdout",
     "output_type": "stream",
     "text": [
      "----------------------------------------\n",
      "Global fields:\n",
      "    None\n",
      "----------------------------------------\n",
      "Column fields:\n",
      "    's': str\n",
      "    'fam_id': str\n",
      "    'pat_id': str\n",
      "    'mat_id': str\n",
      "    'is_female': bool\n",
      "    'is_case': bool\n",
      "    'race': str\n",
      "    'source': str\n",
      "----------------------------------------\n",
      "Row fields:\n",
      "    'locus': locus<GRCh37>\n",
      "    'alleles': array<str>\n",
      "    'rsid': str\n",
      "    'cm_position': float64\n",
      "----------------------------------------\n",
      "Entry fields:\n",
      "    'GT': call\n",
      "----------------------------------------\n",
      "Column key: ['source', 's']\n",
      "Row key: ['rsid']\n",
      "----------------------------------------\n"
     ]
    }
   ],
   "source": [
    "# Load the Hail MT from the previous step and attach the demographic info\n",
    "mt_kg = hl.read_matrix_table(osp.join(data_dir, PS1_1KG_QC_FILE + \".mt\")).drop(\"sample_qc\", \"variant_qc\")\n",
    "mt_kg = mt_kg.annotate_cols(race=ht_1kg_pd[mt_kg.s].race, source=\"1KG\")\n",
    "mt_kg = mt_kg.key_rows_by(\"rsid\")\n",
    "mt_kg = mt_kg.key_cols_by(\"source\", \"s\")\n",
    "mt_kg.describe()"
   ]
  },
  {
   "cell_type": "code",
   "execution_count": 12,
   "metadata": {},
   "outputs": [
    {
     "data": {
      "text/plain": [
       "(5808310, 629)"
      ]
     },
     "execution_count": 12,
     "metadata": {},
     "output_type": "execute_result"
    }
   ],
   "source": [
    "mt_kg.count()"
   ]
  },
  {
   "cell_type": "markdown",
   "metadata": {},
   "source": [
    "##### Load HapMap"
   ]
  },
  {
   "cell_type": "code",
   "execution_count": 13,
   "metadata": {},
   "outputs": [
    {
     "data": {
      "text/plain": [
       "ReferenceGenome(name=hapmap3_hg18, contigs=['1', '2', '3', '4', '5', '6', '7', '8', '9', '10', '11', '12', '13', '14', '15', '16', '17', '18', '19', '20', '21', '22', '23', '25'], lengths={'1': 247249719, '2': 242951149, '3': 199501827, '4': 191273063, '5': 180857866, '6': 170899992, '7': 158821424, '8': 146274826, '9': 140273252, '10': 135374737, '11': 134452384, '12': 132349534, '13': 114142980, '14': 106368585, '15': 100338915, '16': 88827254, '17': 78774742, '18': 76117153, '19': 63811651, '20': 62435964, '21': 46944323, '22': 49691432, '23': 154913754, '25': 154913754}, x_contigs=['23'], y_contigs=[], mt_contigs=[], par=[])"
      ]
     },
     "execution_count": 13,
     "metadata": {},
     "output_type": "execute_result"
    }
   ],
   "source": [
    "hl.ReferenceGenome(**hapmap3_hg18_rg())"
   ]
  },
  {
   "cell_type": "code",
   "execution_count": 14,
   "metadata": {},
   "outputs": [
    {
     "name": "stdout",
     "output_type": "stream",
     "text": [
      "----------------------------------------\n",
      "Global fields:\n",
      "    None\n",
      "----------------------------------------\n",
      "Column fields:\n",
      "    's': str\n",
      "    'fam_id': str\n",
      "    'pat_id': str\n",
      "    'mat_id': str\n",
      "    'is_female': bool\n",
      "    'is_case': bool\n",
      "    'race': str\n",
      "    'source': str\n",
      "----------------------------------------\n",
      "Row fields:\n",
      "    'locus': locus<hapmap3_hg18>\n",
      "    'alleles': array<str>\n",
      "    'rsid': str\n",
      "    'cm_position': float64\n",
      "----------------------------------------\n",
      "Entry fields:\n",
      "    'GT': call\n",
      "----------------------------------------\n",
      "Column key: ['source', 's']\n",
      "Row key: ['rsid']\n",
      "----------------------------------------\n"
     ]
    },
    {
     "name": "stderr",
     "output_type": "stream",
     "text": [
      "2020-01-21 18:13:58 Hail: INFO: Found 109 samples in fam file.\n",
      "2020-01-21 18:13:58 Hail: INFO: Found 1073226 variants in bim file.\n"
     ]
    }
   ],
   "source": [
    "mt_hm = hl.import_plink(\n",
    "    osp.join(data_dir, QC6_FILE + '.bed'),\n",
    "    osp.join(data_dir, QC6_FILE + '.bim'),\n",
    "    osp.join(data_dir, QC6_FILE + '.fam'),\n",
    "    skip_invalid_loci=False,\n",
    "    reference_genome='hapmap3_hg18'\n",
    ")\n",
    "# Add a race file to indicate ethnicity, which will be set here to a sentinel value\n",
    "# as race for HapMap data is what is in question for this part of the tutorial.  The \n",
    "# source of the data will also be carried along (HMIII = HapMap Phase III)\n",
    "mt_hm = mt_hm.annotate_cols(race='OWN', source='HMIII')\n",
    "mt_hm = mt_hm.key_rows_by(\"rsid\")\n",
    "mt_hm = mt_hm.key_cols_by(\"source\", \"s\")\n",
    "mt_hm.describe()"
   ]
  },
  {
   "cell_type": "code",
   "execution_count": 15,
   "metadata": {},
   "outputs": [
    {
     "name": "stderr",
     "output_type": "stream",
     "text": [
      "2020-01-21 18:14:01 Hail: INFO: Coerced sorted dataset\n"
     ]
    },
    {
     "data": {
      "text/plain": [
       "(1073226, 109)"
      ]
     },
     "execution_count": 15,
     "metadata": {},
     "output_type": "execute_result"
    }
   ],
   "source": [
    "mt_hm.count()"
   ]
  },
  {
   "cell_type": "markdown",
   "metadata": {},
   "source": [
    "##### Check Shared Individuals\n",
    "\n",
    "The HapMap and 1KG datsets have some shared individuals.  This is why ```source``` is included as part of the key that defines a sample/individual above.\n",
    "\n",
    "Inspect the intersection and differences between the individuals:"
   ]
  },
  {
   "cell_type": "code",
   "execution_count": 65,
   "metadata": {},
   "outputs": [
    {
     "name": "stdout",
     "output_type": "stream",
     "text": [
      "N Shared    : 77  Ex:  ['NA06984', 'NA06985', 'NA06986', 'NA06989', 'NA06994', 'NA07000', 'NA07037', 'NA07051']\n",
      "N HMIII Only: 32  Ex:  ['NA06993', 'NA07022', 'NA07031', 'NA07045', 'NA07055', 'NA07345', 'NA07435', 'NA11839']\n",
      "N 1KG Only  : 552  Ex:  ['HG00098', 'HG00100', 'HG00106', 'HG00112', 'HG00114', 'HG00116', 'HG00117', 'HG00118']\n"
     ]
    },
    {
     "name": "stderr",
     "output_type": "stream",
     "text": [
      "2020-01-21 13:09:20 Hail: INFO: Coerced sorted dataset\n"
     ]
    }
   ],
   "source": [
    "s_hm, s_kg = mt_hm.s.collect(), mt_kg.s.collect()\n",
    "print('N Shared    :', len(np.intersect1d(s_hm, s_kg)), ' Ex: ', list(np.intersect1d(s_hm, s_kg)[:8]))\n",
    "print('N HMIII Only:', len(np.setdiff1d(s_hm, s_kg)), ' Ex: ', list(np.setdiff1d(s_hm, s_kg)[:8]))\n",
    "print('N 1KG Only  :', len(np.setdiff1d(s_kg, s_hm)), ' Ex: ', list(np.setdiff1d(s_kg, s_hm)[:8]))"
   ]
  },
  {
   "cell_type": "markdown",
   "metadata": {},
   "source": [
    "## Step 3: Variant Liftover\n",
    "\n",
    "There are 3 common ways to apply liftover ([source](https://genome.sph.umich.edu/wiki/LiftOver)):\n",
    "    \n",
    "- **Coordinate Liftover**: Convert genome position from one genome assembly to another genome assembly \n",
    "    - [Chain](https://genome.ucsc.edu/goldenPath/help/chain.html) files necessary for doing this can be found [here](http://hgdownload.soe.ucsc.edu/downloads.html#source_downloads)\n",
    "- **Variant Liftover**: Convert dbSNP rs number from one build to another, swap reference \n",
    "- Both coordinate and variant liftover\n",
    "\n",
    "https://glow.readthedocs.io/en/latest/etl/lift-over.html#variant-liftover\n",
    "\n",
    "The need for any of the above depends on the application and in this case we will follow the Marees et al. 2018 tutorial by merging variants between HapMap and 1KG data based on rsID before resolving any strand or reference allele swaps.  The Hail [liftover](https://hail.is/docs/0.2/guides/genetics.html#liftover-variants-from-one-coordinate-system-to-another) function seems like it might be helpful for this, but it will only liftover coordinates.  This isn't necessary here where the reference allele / strand swaps are more relevant. "
   ]
  },
  {
   "cell_type": "code",
   "execution_count": 16,
   "metadata": {},
   "outputs": [],
   "source": [
    "# Function used to join on variants between the two datasets for allele comparison\n",
    "def get_allele_info(mt_hm, mt_kg):\n",
    "    ht1, ht2 = mt_hm.rows(), mt_kg.rows()\n",
    "    ht1 = ht1.key_by(\"rsid\")\n",
    "    ht1 = ht1.select(alleles=ht1.alleles[0] + ht1.alleles[1]).rename({'alleles': 'hm_alleles'})\n",
    "    ht2 = ht2.key_by(\"rsid\")\n",
    "    ht2 = ht2.select(alleles=ht2.alleles[0] + ht2.alleles[1]).rename({'alleles': 'kg_alleles'})\n",
    "    return ht1.join(ht2)\n",
    "\n",
    "def get_allele_info_counts(ht):\n",
    "    cts = ht.aggregate(hl.agg.counter(hl.struct(hm_alleles=ht.hm_alleles, kg_alleles=ht.kg_alleles)))\n",
    "    return (\n",
    "        pd.DataFrame([{**k, **{'count': v}} for k, v in cts.items()])\n",
    "        .pivot(index='hm_alleles', columns='kg_alleles', values='count')\n",
    "        .fillna(0).astype(int)\n",
    "    )"
   ]
  },
  {
   "cell_type": "code",
   "execution_count": 167,
   "metadata": {},
   "outputs": [
    {
     "name": "stderr",
     "output_type": "stream",
     "text": [
      "2020-01-21 17:41:31 Hail: INFO: Coerced sorted dataset\n",
      "2020-01-21 17:41:32 Hail: INFO: Ordering unsorted dataset with network shuffle\n",
      "2020-01-21 17:41:33 Hail: INFO: Ordering unsorted dataset with network shuffle\n"
     ]
    },
    {
     "data": {
      "text/html": [
       "<style  type=\"text/css\" >\n",
       "    #T_52623c94_3c75_11ea_ad6f_0242ac110002row0_col0 {\n",
       "            background-color:  #023858;\n",
       "            color:  #f1f1f1;\n",
       "        }    #T_52623c94_3c75_11ea_ad6f_0242ac110002row0_col1 {\n",
       "            background-color:  #fff7fb;\n",
       "            color:  #000000;\n",
       "        }    #T_52623c94_3c75_11ea_ad6f_0242ac110002row0_col2 {\n",
       "            background-color:  #fff7fb;\n",
       "            color:  #000000;\n",
       "        }    #T_52623c94_3c75_11ea_ad6f_0242ac110002row0_col3 {\n",
       "            background-color:  #eee8f3;\n",
       "            color:  #000000;\n",
       "        }    #T_52623c94_3c75_11ea_ad6f_0242ac110002row0_col4 {\n",
       "            background-color:  #fff7fb;\n",
       "            color:  #000000;\n",
       "        }    #T_52623c94_3c75_11ea_ad6f_0242ac110002row0_col5 {\n",
       "            background-color:  #fff7fb;\n",
       "            color:  #000000;\n",
       "        }    #T_52623c94_3c75_11ea_ad6f_0242ac110002row0_col6 {\n",
       "            background-color:  #fff7fb;\n",
       "            color:  #000000;\n",
       "        }    #T_52623c94_3c75_11ea_ad6f_0242ac110002row0_col7 {\n",
       "            background-color:  #fff7fb;\n",
       "            color:  #000000;\n",
       "        }    #T_52623c94_3c75_11ea_ad6f_0242ac110002row0_col8 {\n",
       "            background-color:  #fff7fb;\n",
       "            color:  #000000;\n",
       "        }    #T_52623c94_3c75_11ea_ad6f_0242ac110002row0_col9 {\n",
       "            background-color:  #fff7fb;\n",
       "            color:  #000000;\n",
       "        }    #T_52623c94_3c75_11ea_ad6f_0242ac110002row0_col10 {\n",
       "            background-color:  #fff7fb;\n",
       "            color:  #000000;\n",
       "        }    #T_52623c94_3c75_11ea_ad6f_0242ac110002row0_col11 {\n",
       "            background-color:  #fff7fb;\n",
       "            color:  #000000;\n",
       "        }    #T_52623c94_3c75_11ea_ad6f_0242ac110002row1_col0 {\n",
       "            background-color:  #fff7fb;\n",
       "            color:  #000000;\n",
       "        }    #T_52623c94_3c75_11ea_ad6f_0242ac110002row1_col1 {\n",
       "            background-color:  #023858;\n",
       "            color:  #f1f1f1;\n",
       "        }    #T_52623c94_3c75_11ea_ad6f_0242ac110002row1_col2 {\n",
       "            background-color:  #fff7fb;\n",
       "            color:  #000000;\n",
       "        }    #T_52623c94_3c75_11ea_ad6f_0242ac110002row1_col3 {\n",
       "            background-color:  #fff7fb;\n",
       "            color:  #000000;\n",
       "        }    #T_52623c94_3c75_11ea_ad6f_0242ac110002row1_col4 {\n",
       "            background-color:  #fff7fb;\n",
       "            color:  #000000;\n",
       "        }    #T_52623c94_3c75_11ea_ad6f_0242ac110002row1_col5 {\n",
       "            background-color:  #fff7fb;\n",
       "            color:  #000000;\n",
       "        }    #T_52623c94_3c75_11ea_ad6f_0242ac110002row1_col6 {\n",
       "            background-color:  #eee8f3;\n",
       "            color:  #000000;\n",
       "        }    #T_52623c94_3c75_11ea_ad6f_0242ac110002row1_col7 {\n",
       "            background-color:  #fff7fb;\n",
       "            color:  #000000;\n",
       "        }    #T_52623c94_3c75_11ea_ad6f_0242ac110002row1_col8 {\n",
       "            background-color:  #fff7fb;\n",
       "            color:  #000000;\n",
       "        }    #T_52623c94_3c75_11ea_ad6f_0242ac110002row1_col9 {\n",
       "            background-color:  #fff7fb;\n",
       "            color:  #000000;\n",
       "        }    #T_52623c94_3c75_11ea_ad6f_0242ac110002row1_col10 {\n",
       "            background-color:  #fff7fb;\n",
       "            color:  #000000;\n",
       "        }    #T_52623c94_3c75_11ea_ad6f_0242ac110002row1_col11 {\n",
       "            background-color:  #fff7fb;\n",
       "            color:  #000000;\n",
       "        }    #T_52623c94_3c75_11ea_ad6f_0242ac110002row2_col0 {\n",
       "            background-color:  #fff7fb;\n",
       "            color:  #000000;\n",
       "        }    #T_52623c94_3c75_11ea_ad6f_0242ac110002row2_col1 {\n",
       "            background-color:  #fff7fb;\n",
       "            color:  #000000;\n",
       "        }    #T_52623c94_3c75_11ea_ad6f_0242ac110002row2_col2 {\n",
       "            background-color:  #023858;\n",
       "            color:  #f1f1f1;\n",
       "        }    #T_52623c94_3c75_11ea_ad6f_0242ac110002row2_col3 {\n",
       "            background-color:  #fff7fb;\n",
       "            color:  #000000;\n",
       "        }    #T_52623c94_3c75_11ea_ad6f_0242ac110002row2_col4 {\n",
       "            background-color:  #fff7fb;\n",
       "            color:  #000000;\n",
       "        }    #T_52623c94_3c75_11ea_ad6f_0242ac110002row2_col5 {\n",
       "            background-color:  #fff7fb;\n",
       "            color:  #000000;\n",
       "        }    #T_52623c94_3c75_11ea_ad6f_0242ac110002row2_col6 {\n",
       "            background-color:  #fff7fb;\n",
       "            color:  #000000;\n",
       "        }    #T_52623c94_3c75_11ea_ad6f_0242ac110002row2_col7 {\n",
       "            background-color:  #fff7fb;\n",
       "            color:  #000000;\n",
       "        }    #T_52623c94_3c75_11ea_ad6f_0242ac110002row2_col8 {\n",
       "            background-color:  #fff7fb;\n",
       "            color:  #000000;\n",
       "        }    #T_52623c94_3c75_11ea_ad6f_0242ac110002row2_col9 {\n",
       "            background-color:  #ede8f3;\n",
       "            color:  #000000;\n",
       "        }    #T_52623c94_3c75_11ea_ad6f_0242ac110002row2_col10 {\n",
       "            background-color:  #fff7fb;\n",
       "            color:  #000000;\n",
       "        }    #T_52623c94_3c75_11ea_ad6f_0242ac110002row2_col11 {\n",
       "            background-color:  #fff7fb;\n",
       "            color:  #000000;\n",
       "        }    #T_52623c94_3c75_11ea_ad6f_0242ac110002row3_col0 {\n",
       "            background-color:  #ede8f3;\n",
       "            color:  #000000;\n",
       "        }    #T_52623c94_3c75_11ea_ad6f_0242ac110002row3_col1 {\n",
       "            background-color:  #fff7fb;\n",
       "            color:  #000000;\n",
       "        }    #T_52623c94_3c75_11ea_ad6f_0242ac110002row3_col2 {\n",
       "            background-color:  #fff7fb;\n",
       "            color:  #000000;\n",
       "        }    #T_52623c94_3c75_11ea_ad6f_0242ac110002row3_col3 {\n",
       "            background-color:  #023858;\n",
       "            color:  #f1f1f1;\n",
       "        }    #T_52623c94_3c75_11ea_ad6f_0242ac110002row3_col4 {\n",
       "            background-color:  #fff7fb;\n",
       "            color:  #000000;\n",
       "        }    #T_52623c94_3c75_11ea_ad6f_0242ac110002row3_col5 {\n",
       "            background-color:  #fff7fb;\n",
       "            color:  #000000;\n",
       "        }    #T_52623c94_3c75_11ea_ad6f_0242ac110002row3_col6 {\n",
       "            background-color:  #fff7fb;\n",
       "            color:  #000000;\n",
       "        }    #T_52623c94_3c75_11ea_ad6f_0242ac110002row3_col7 {\n",
       "            background-color:  #fff7fb;\n",
       "            color:  #000000;\n",
       "        }    #T_52623c94_3c75_11ea_ad6f_0242ac110002row3_col8 {\n",
       "            background-color:  #fff7fb;\n",
       "            color:  #000000;\n",
       "        }    #T_52623c94_3c75_11ea_ad6f_0242ac110002row3_col9 {\n",
       "            background-color:  #fff7fb;\n",
       "            color:  #000000;\n",
       "        }    #T_52623c94_3c75_11ea_ad6f_0242ac110002row3_col10 {\n",
       "            background-color:  #fff7fb;\n",
       "            color:  #000000;\n",
       "        }    #T_52623c94_3c75_11ea_ad6f_0242ac110002row3_col11 {\n",
       "            background-color:  #fff7fb;\n",
       "            color:  #000000;\n",
       "        }    #T_52623c94_3c75_11ea_ad6f_0242ac110002row4_col0 {\n",
       "            background-color:  #fff7fb;\n",
       "            color:  #000000;\n",
       "        }    #T_52623c94_3c75_11ea_ad6f_0242ac110002row4_col1 {\n",
       "            background-color:  #fff7fb;\n",
       "            color:  #000000;\n",
       "        }    #T_52623c94_3c75_11ea_ad6f_0242ac110002row4_col2 {\n",
       "            background-color:  #fff7fb;\n",
       "            color:  #000000;\n",
       "        }    #T_52623c94_3c75_11ea_ad6f_0242ac110002row4_col3 {\n",
       "            background-color:  #fff7fb;\n",
       "            color:  #000000;\n",
       "        }    #T_52623c94_3c75_11ea_ad6f_0242ac110002row4_col4 {\n",
       "            background-color:  #023858;\n",
       "            color:  #f1f1f1;\n",
       "        }    #T_52623c94_3c75_11ea_ad6f_0242ac110002row4_col5 {\n",
       "            background-color:  #fff7fb;\n",
       "            color:  #000000;\n",
       "        }    #T_52623c94_3c75_11ea_ad6f_0242ac110002row4_col6 {\n",
       "            background-color:  #fff7fb;\n",
       "            color:  #000000;\n",
       "        }    #T_52623c94_3c75_11ea_ad6f_0242ac110002row4_col7 {\n",
       "            background-color:  #ede8f3;\n",
       "            color:  #000000;\n",
       "        }    #T_52623c94_3c75_11ea_ad6f_0242ac110002row4_col8 {\n",
       "            background-color:  #fff7fb;\n",
       "            color:  #000000;\n",
       "        }    #T_52623c94_3c75_11ea_ad6f_0242ac110002row4_col9 {\n",
       "            background-color:  #fff7fb;\n",
       "            color:  #000000;\n",
       "        }    #T_52623c94_3c75_11ea_ad6f_0242ac110002row4_col10 {\n",
       "            background-color:  #fff7fb;\n",
       "            color:  #000000;\n",
       "        }    #T_52623c94_3c75_11ea_ad6f_0242ac110002row4_col11 {\n",
       "            background-color:  #fff7fb;\n",
       "            color:  #000000;\n",
       "        }    #T_52623c94_3c75_11ea_ad6f_0242ac110002row5_col0 {\n",
       "            background-color:  #fff7fb;\n",
       "            color:  #000000;\n",
       "        }    #T_52623c94_3c75_11ea_ad6f_0242ac110002row5_col1 {\n",
       "            background-color:  #fff7fb;\n",
       "            color:  #000000;\n",
       "        }    #T_52623c94_3c75_11ea_ad6f_0242ac110002row5_col2 {\n",
       "            background-color:  #fff7fb;\n",
       "            color:  #000000;\n",
       "        }    #T_52623c94_3c75_11ea_ad6f_0242ac110002row5_col3 {\n",
       "            background-color:  #fff7fb;\n",
       "            color:  #000000;\n",
       "        }    #T_52623c94_3c75_11ea_ad6f_0242ac110002row5_col4 {\n",
       "            background-color:  #fff7fb;\n",
       "            color:  #000000;\n",
       "        }    #T_52623c94_3c75_11ea_ad6f_0242ac110002row5_col5 {\n",
       "            background-color:  #023858;\n",
       "            color:  #f1f1f1;\n",
       "        }    #T_52623c94_3c75_11ea_ad6f_0242ac110002row5_col6 {\n",
       "            background-color:  #fff7fb;\n",
       "            color:  #000000;\n",
       "        }    #T_52623c94_3c75_11ea_ad6f_0242ac110002row5_col7 {\n",
       "            background-color:  #fff7fb;\n",
       "            color:  #000000;\n",
       "        }    #T_52623c94_3c75_11ea_ad6f_0242ac110002row5_col8 {\n",
       "            background-color:  #fff7fb;\n",
       "            color:  #000000;\n",
       "        }    #T_52623c94_3c75_11ea_ad6f_0242ac110002row5_col9 {\n",
       "            background-color:  #fff7fb;\n",
       "            color:  #000000;\n",
       "        }    #T_52623c94_3c75_11ea_ad6f_0242ac110002row5_col10 {\n",
       "            background-color:  #eee8f3;\n",
       "            color:  #000000;\n",
       "        }    #T_52623c94_3c75_11ea_ad6f_0242ac110002row5_col11 {\n",
       "            background-color:  #fff7fb;\n",
       "            color:  #000000;\n",
       "        }    #T_52623c94_3c75_11ea_ad6f_0242ac110002row6_col0 {\n",
       "            background-color:  #fff7fb;\n",
       "            color:  #000000;\n",
       "        }    #T_52623c94_3c75_11ea_ad6f_0242ac110002row6_col1 {\n",
       "            background-color:  #eee8f3;\n",
       "            color:  #000000;\n",
       "        }    #T_52623c94_3c75_11ea_ad6f_0242ac110002row6_col2 {\n",
       "            background-color:  #fff7fb;\n",
       "            color:  #000000;\n",
       "        }    #T_52623c94_3c75_11ea_ad6f_0242ac110002row6_col3 {\n",
       "            background-color:  #fff7fb;\n",
       "            color:  #000000;\n",
       "        }    #T_52623c94_3c75_11ea_ad6f_0242ac110002row6_col4 {\n",
       "            background-color:  #fff7fb;\n",
       "            color:  #000000;\n",
       "        }    #T_52623c94_3c75_11ea_ad6f_0242ac110002row6_col5 {\n",
       "            background-color:  #fff7fb;\n",
       "            color:  #000000;\n",
       "        }    #T_52623c94_3c75_11ea_ad6f_0242ac110002row6_col6 {\n",
       "            background-color:  #023858;\n",
       "            color:  #f1f1f1;\n",
       "        }    #T_52623c94_3c75_11ea_ad6f_0242ac110002row6_col7 {\n",
       "            background-color:  #fff7fb;\n",
       "            color:  #000000;\n",
       "        }    #T_52623c94_3c75_11ea_ad6f_0242ac110002row6_col8 {\n",
       "            background-color:  #fff7fb;\n",
       "            color:  #000000;\n",
       "        }    #T_52623c94_3c75_11ea_ad6f_0242ac110002row6_col9 {\n",
       "            background-color:  #fff7fb;\n",
       "            color:  #000000;\n",
       "        }    #T_52623c94_3c75_11ea_ad6f_0242ac110002row6_col10 {\n",
       "            background-color:  #fff7fb;\n",
       "            color:  #000000;\n",
       "        }    #T_52623c94_3c75_11ea_ad6f_0242ac110002row6_col11 {\n",
       "            background-color:  #fff7fb;\n",
       "            color:  #000000;\n",
       "        }    #T_52623c94_3c75_11ea_ad6f_0242ac110002row7_col0 {\n",
       "            background-color:  #fff7fb;\n",
       "            color:  #000000;\n",
       "        }    #T_52623c94_3c75_11ea_ad6f_0242ac110002row7_col1 {\n",
       "            background-color:  #fff7fb;\n",
       "            color:  #000000;\n",
       "        }    #T_52623c94_3c75_11ea_ad6f_0242ac110002row7_col2 {\n",
       "            background-color:  #fff7fb;\n",
       "            color:  #000000;\n",
       "        }    #T_52623c94_3c75_11ea_ad6f_0242ac110002row7_col3 {\n",
       "            background-color:  #fff7fb;\n",
       "            color:  #000000;\n",
       "        }    #T_52623c94_3c75_11ea_ad6f_0242ac110002row7_col4 {\n",
       "            background-color:  #ede8f3;\n",
       "            color:  #000000;\n",
       "        }    #T_52623c94_3c75_11ea_ad6f_0242ac110002row7_col5 {\n",
       "            background-color:  #fff7fb;\n",
       "            color:  #000000;\n",
       "        }    #T_52623c94_3c75_11ea_ad6f_0242ac110002row7_col6 {\n",
       "            background-color:  #fff7fb;\n",
       "            color:  #000000;\n",
       "        }    #T_52623c94_3c75_11ea_ad6f_0242ac110002row7_col7 {\n",
       "            background-color:  #023858;\n",
       "            color:  #f1f1f1;\n",
       "        }    #T_52623c94_3c75_11ea_ad6f_0242ac110002row7_col8 {\n",
       "            background-color:  #fff7fb;\n",
       "            color:  #000000;\n",
       "        }    #T_52623c94_3c75_11ea_ad6f_0242ac110002row7_col9 {\n",
       "            background-color:  #fff7fb;\n",
       "            color:  #000000;\n",
       "        }    #T_52623c94_3c75_11ea_ad6f_0242ac110002row7_col10 {\n",
       "            background-color:  #fff7fb;\n",
       "            color:  #000000;\n",
       "        }    #T_52623c94_3c75_11ea_ad6f_0242ac110002row7_col11 {\n",
       "            background-color:  #fff7fb;\n",
       "            color:  #000000;\n",
       "        }    #T_52623c94_3c75_11ea_ad6f_0242ac110002row8_col0 {\n",
       "            background-color:  #fff7fb;\n",
       "            color:  #000000;\n",
       "        }    #T_52623c94_3c75_11ea_ad6f_0242ac110002row8_col1 {\n",
       "            background-color:  #fff7fb;\n",
       "            color:  #000000;\n",
       "        }    #T_52623c94_3c75_11ea_ad6f_0242ac110002row8_col2 {\n",
       "            background-color:  #fff7fb;\n",
       "            color:  #000000;\n",
       "        }    #T_52623c94_3c75_11ea_ad6f_0242ac110002row8_col3 {\n",
       "            background-color:  #fff7fb;\n",
       "            color:  #000000;\n",
       "        }    #T_52623c94_3c75_11ea_ad6f_0242ac110002row8_col4 {\n",
       "            background-color:  #fff7fb;\n",
       "            color:  #000000;\n",
       "        }    #T_52623c94_3c75_11ea_ad6f_0242ac110002row8_col5 {\n",
       "            background-color:  #fff7fb;\n",
       "            color:  #000000;\n",
       "        }    #T_52623c94_3c75_11ea_ad6f_0242ac110002row8_col6 {\n",
       "            background-color:  #fff7fb;\n",
       "            color:  #000000;\n",
       "        }    #T_52623c94_3c75_11ea_ad6f_0242ac110002row8_col7 {\n",
       "            background-color:  #fff7fb;\n",
       "            color:  #000000;\n",
       "        }    #T_52623c94_3c75_11ea_ad6f_0242ac110002row8_col8 {\n",
       "            background-color:  #023858;\n",
       "            color:  #f1f1f1;\n",
       "        }    #T_52623c94_3c75_11ea_ad6f_0242ac110002row8_col9 {\n",
       "            background-color:  #fff7fb;\n",
       "            color:  #000000;\n",
       "        }    #T_52623c94_3c75_11ea_ad6f_0242ac110002row8_col10 {\n",
       "            background-color:  #fff7fb;\n",
       "            color:  #000000;\n",
       "        }    #T_52623c94_3c75_11ea_ad6f_0242ac110002row8_col11 {\n",
       "            background-color:  #eee8f3;\n",
       "            color:  #000000;\n",
       "        }    #T_52623c94_3c75_11ea_ad6f_0242ac110002row9_col0 {\n",
       "            background-color:  #fff7fb;\n",
       "            color:  #000000;\n",
       "        }    #T_52623c94_3c75_11ea_ad6f_0242ac110002row9_col1 {\n",
       "            background-color:  #fff7fb;\n",
       "            color:  #000000;\n",
       "        }    #T_52623c94_3c75_11ea_ad6f_0242ac110002row9_col2 {\n",
       "            background-color:  #ede8f3;\n",
       "            color:  #000000;\n",
       "        }    #T_52623c94_3c75_11ea_ad6f_0242ac110002row9_col3 {\n",
       "            background-color:  #fff7fb;\n",
       "            color:  #000000;\n",
       "        }    #T_52623c94_3c75_11ea_ad6f_0242ac110002row9_col4 {\n",
       "            background-color:  #fff7fb;\n",
       "            color:  #000000;\n",
       "        }    #T_52623c94_3c75_11ea_ad6f_0242ac110002row9_col5 {\n",
       "            background-color:  #fff7fb;\n",
       "            color:  #000000;\n",
       "        }    #T_52623c94_3c75_11ea_ad6f_0242ac110002row9_col6 {\n",
       "            background-color:  #fff7fb;\n",
       "            color:  #000000;\n",
       "        }    #T_52623c94_3c75_11ea_ad6f_0242ac110002row9_col7 {\n",
       "            background-color:  #fff7fb;\n",
       "            color:  #000000;\n",
       "        }    #T_52623c94_3c75_11ea_ad6f_0242ac110002row9_col8 {\n",
       "            background-color:  #fff7fb;\n",
       "            color:  #000000;\n",
       "        }    #T_52623c94_3c75_11ea_ad6f_0242ac110002row9_col9 {\n",
       "            background-color:  #023858;\n",
       "            color:  #f1f1f1;\n",
       "        }    #T_52623c94_3c75_11ea_ad6f_0242ac110002row9_col10 {\n",
       "            background-color:  #fff7fb;\n",
       "            color:  #000000;\n",
       "        }    #T_52623c94_3c75_11ea_ad6f_0242ac110002row9_col11 {\n",
       "            background-color:  #fff7fb;\n",
       "            color:  #000000;\n",
       "        }    #T_52623c94_3c75_11ea_ad6f_0242ac110002row10_col0 {\n",
       "            background-color:  #fff7fb;\n",
       "            color:  #000000;\n",
       "        }    #T_52623c94_3c75_11ea_ad6f_0242ac110002row10_col1 {\n",
       "            background-color:  #fff7fb;\n",
       "            color:  #000000;\n",
       "        }    #T_52623c94_3c75_11ea_ad6f_0242ac110002row10_col2 {\n",
       "            background-color:  #fff7fb;\n",
       "            color:  #000000;\n",
       "        }    #T_52623c94_3c75_11ea_ad6f_0242ac110002row10_col3 {\n",
       "            background-color:  #fff7fb;\n",
       "            color:  #000000;\n",
       "        }    #T_52623c94_3c75_11ea_ad6f_0242ac110002row10_col4 {\n",
       "            background-color:  #fff7fb;\n",
       "            color:  #000000;\n",
       "        }    #T_52623c94_3c75_11ea_ad6f_0242ac110002row10_col5 {\n",
       "            background-color:  #eee8f3;\n",
       "            color:  #000000;\n",
       "        }    #T_52623c94_3c75_11ea_ad6f_0242ac110002row10_col6 {\n",
       "            background-color:  #fff7fb;\n",
       "            color:  #000000;\n",
       "        }    #T_52623c94_3c75_11ea_ad6f_0242ac110002row10_col7 {\n",
       "            background-color:  #fff7fb;\n",
       "            color:  #000000;\n",
       "        }    #T_52623c94_3c75_11ea_ad6f_0242ac110002row10_col8 {\n",
       "            background-color:  #fff7fb;\n",
       "            color:  #000000;\n",
       "        }    #T_52623c94_3c75_11ea_ad6f_0242ac110002row10_col9 {\n",
       "            background-color:  #fff7fb;\n",
       "            color:  #000000;\n",
       "        }    #T_52623c94_3c75_11ea_ad6f_0242ac110002row10_col10 {\n",
       "            background-color:  #023858;\n",
       "            color:  #f1f1f1;\n",
       "        }    #T_52623c94_3c75_11ea_ad6f_0242ac110002row10_col11 {\n",
       "            background-color:  #fff7fb;\n",
       "            color:  #000000;\n",
       "        }    #T_52623c94_3c75_11ea_ad6f_0242ac110002row11_col0 {\n",
       "            background-color:  #fff7fb;\n",
       "            color:  #000000;\n",
       "        }    #T_52623c94_3c75_11ea_ad6f_0242ac110002row11_col1 {\n",
       "            background-color:  #fff7fb;\n",
       "            color:  #000000;\n",
       "        }    #T_52623c94_3c75_11ea_ad6f_0242ac110002row11_col2 {\n",
       "            background-color:  #fff7fb;\n",
       "            color:  #000000;\n",
       "        }    #T_52623c94_3c75_11ea_ad6f_0242ac110002row11_col3 {\n",
       "            background-color:  #fff7fb;\n",
       "            color:  #000000;\n",
       "        }    #T_52623c94_3c75_11ea_ad6f_0242ac110002row11_col4 {\n",
       "            background-color:  #fff7fb;\n",
       "            color:  #000000;\n",
       "        }    #T_52623c94_3c75_11ea_ad6f_0242ac110002row11_col5 {\n",
       "            background-color:  #fff7fb;\n",
       "            color:  #000000;\n",
       "        }    #T_52623c94_3c75_11ea_ad6f_0242ac110002row11_col6 {\n",
       "            background-color:  #fff7fb;\n",
       "            color:  #000000;\n",
       "        }    #T_52623c94_3c75_11ea_ad6f_0242ac110002row11_col7 {\n",
       "            background-color:  #fff7fb;\n",
       "            color:  #000000;\n",
       "        }    #T_52623c94_3c75_11ea_ad6f_0242ac110002row11_col8 {\n",
       "            background-color:  #eee8f3;\n",
       "            color:  #000000;\n",
       "        }    #T_52623c94_3c75_11ea_ad6f_0242ac110002row11_col9 {\n",
       "            background-color:  #fff7fb;\n",
       "            color:  #000000;\n",
       "        }    #T_52623c94_3c75_11ea_ad6f_0242ac110002row11_col10 {\n",
       "            background-color:  #fff7fb;\n",
       "            color:  #000000;\n",
       "        }    #T_52623c94_3c75_11ea_ad6f_0242ac110002row11_col11 {\n",
       "            background-color:  #023858;\n",
       "            color:  #f1f1f1;\n",
       "        }</style><table id=\"T_52623c94_3c75_11ea_ad6f_0242ac110002\" ><thead>    <tr>        <th class=\"index_name level0\" >kg_alleles</th>        <th class=\"col_heading level0 col0\" >AC</th>        <th class=\"col_heading level0 col1\" >AG</th>        <th class=\"col_heading level0 col2\" >AT</th>        <th class=\"col_heading level0 col3\" >CA</th>        <th class=\"col_heading level0 col4\" >CG</th>        <th class=\"col_heading level0 col5\" >CT</th>        <th class=\"col_heading level0 col6\" >GA</th>        <th class=\"col_heading level0 col7\" >GC</th>        <th class=\"col_heading level0 col8\" >GT</th>        <th class=\"col_heading level0 col9\" >TA</th>        <th class=\"col_heading level0 col10\" >TC</th>        <th class=\"col_heading level0 col11\" >TG</th>    </tr>    <tr>        <th class=\"index_name level0\" >hm_alleles</th>        <th class=\"blank\" ></th>        <th class=\"blank\" ></th>        <th class=\"blank\" ></th>        <th class=\"blank\" ></th>        <th class=\"blank\" ></th>        <th class=\"blank\" ></th>        <th class=\"blank\" ></th>        <th class=\"blank\" ></th>        <th class=\"blank\" ></th>        <th class=\"blank\" ></th>        <th class=\"blank\" ></th>        <th class=\"blank\" ></th>    </tr></thead><tbody>\n",
       "                <tr>\n",
       "                        <th id=\"T_52623c94_3c75_11ea_ad6f_0242ac110002level0_row0\" class=\"row_heading level0 row0\" >AC</th>\n",
       "                        <td id=\"T_52623c94_3c75_11ea_ad6f_0242ac110002row0_col0\" class=\"data row0 col0\" >37018</td>\n",
       "                        <td id=\"T_52623c94_3c75_11ea_ad6f_0242ac110002row0_col1\" class=\"data row0 col1\" >3</td>\n",
       "                        <td id=\"T_52623c94_3c75_11ea_ad6f_0242ac110002row0_col2\" class=\"data row0 col2\" >0</td>\n",
       "                        <td id=\"T_52623c94_3c75_11ea_ad6f_0242ac110002row0_col3\" class=\"data row0 col3\" >4697</td>\n",
       "                        <td id=\"T_52623c94_3c75_11ea_ad6f_0242ac110002row0_col4\" class=\"data row0 col4\" >0</td>\n",
       "                        <td id=\"T_52623c94_3c75_11ea_ad6f_0242ac110002row0_col5\" class=\"data row0 col5\" >0</td>\n",
       "                        <td id=\"T_52623c94_3c75_11ea_ad6f_0242ac110002row0_col6\" class=\"data row0 col6\" >0</td>\n",
       "                        <td id=\"T_52623c94_3c75_11ea_ad6f_0242ac110002row0_col7\" class=\"data row0 col7\" >0</td>\n",
       "                        <td id=\"T_52623c94_3c75_11ea_ad6f_0242ac110002row0_col8\" class=\"data row0 col8\" >3</td>\n",
       "                        <td id=\"T_52623c94_3c75_11ea_ad6f_0242ac110002row0_col9\" class=\"data row0 col9\" >0</td>\n",
       "                        <td id=\"T_52623c94_3c75_11ea_ad6f_0242ac110002row0_col10\" class=\"data row0 col10\" >0</td>\n",
       "                        <td id=\"T_52623c94_3c75_11ea_ad6f_0242ac110002row0_col11\" class=\"data row0 col11\" >32</td>\n",
       "            </tr>\n",
       "            <tr>\n",
       "                        <th id=\"T_52623c94_3c75_11ea_ad6f_0242ac110002level0_row1\" class=\"row_heading level0 row1\" >AG</th>\n",
       "                        <td id=\"T_52623c94_3c75_11ea_ad6f_0242ac110002row1_col0\" class=\"data row1 col0\" >4</td>\n",
       "                        <td id=\"T_52623c94_3c75_11ea_ad6f_0242ac110002row1_col1\" class=\"data row1 col1\" >158080</td>\n",
       "                        <td id=\"T_52623c94_3c75_11ea_ad6f_0242ac110002row1_col2\" class=\"data row1 col2\" >1</td>\n",
       "                        <td id=\"T_52623c94_3c75_11ea_ad6f_0242ac110002row1_col3\" class=\"data row1 col3\" >0</td>\n",
       "                        <td id=\"T_52623c94_3c75_11ea_ad6f_0242ac110002row1_col4\" class=\"data row1 col4\" >0</td>\n",
       "                        <td id=\"T_52623c94_3c75_11ea_ad6f_0242ac110002row1_col5\" class=\"data row1 col5\" >19</td>\n",
       "                        <td id=\"T_52623c94_3c75_11ea_ad6f_0242ac110002row1_col6\" class=\"data row1 col6\" >20425</td>\n",
       "                        <td id=\"T_52623c94_3c75_11ea_ad6f_0242ac110002row1_col7\" class=\"data row1 col7\" >0</td>\n",
       "                        <td id=\"T_52623c94_3c75_11ea_ad6f_0242ac110002row1_col8\" class=\"data row1 col8\" >1</td>\n",
       "                        <td id=\"T_52623c94_3c75_11ea_ad6f_0242ac110002row1_col9\" class=\"data row1 col9\" >0</td>\n",
       "                        <td id=\"T_52623c94_3c75_11ea_ad6f_0242ac110002row1_col10\" class=\"data row1 col10\" >141</td>\n",
       "                        <td id=\"T_52623c94_3c75_11ea_ad6f_0242ac110002row1_col11\" class=\"data row1 col11\" >0</td>\n",
       "            </tr>\n",
       "            <tr>\n",
       "                        <th id=\"T_52623c94_3c75_11ea_ad6f_0242ac110002level0_row2\" class=\"row_heading level0 row2\" >AT</th>\n",
       "                        <td id=\"T_52623c94_3c75_11ea_ad6f_0242ac110002row2_col0\" class=\"data row2 col0\" >0</td>\n",
       "                        <td id=\"T_52623c94_3c75_11ea_ad6f_0242ac110002row2_col1\" class=\"data row2 col1\" >0</td>\n",
       "                        <td id=\"T_52623c94_3c75_11ea_ad6f_0242ac110002row2_col2\" class=\"data row2 col2\" >14194</td>\n",
       "                        <td id=\"T_52623c94_3c75_11ea_ad6f_0242ac110002row2_col3\" class=\"data row2 col3\" >0</td>\n",
       "                        <td id=\"T_52623c94_3c75_11ea_ad6f_0242ac110002row2_col4\" class=\"data row2 col4\" >0</td>\n",
       "                        <td id=\"T_52623c94_3c75_11ea_ad6f_0242ac110002row2_col5\" class=\"data row2 col5\" >0</td>\n",
       "                        <td id=\"T_52623c94_3c75_11ea_ad6f_0242ac110002row2_col6\" class=\"data row2 col6\" >0</td>\n",
       "                        <td id=\"T_52623c94_3c75_11ea_ad6f_0242ac110002row2_col7\" class=\"data row2 col7\" >0</td>\n",
       "                        <td id=\"T_52623c94_3c75_11ea_ad6f_0242ac110002row2_col8\" class=\"data row2 col8\" >0</td>\n",
       "                        <td id=\"T_52623c94_3c75_11ea_ad6f_0242ac110002row2_col9\" class=\"data row2 col9\" >1663</td>\n",
       "                        <td id=\"T_52623c94_3c75_11ea_ad6f_0242ac110002row2_col10\" class=\"data row2 col10\" >0</td>\n",
       "                        <td id=\"T_52623c94_3c75_11ea_ad6f_0242ac110002row2_col11\" class=\"data row2 col11\" >0</td>\n",
       "            </tr>\n",
       "            <tr>\n",
       "                        <th id=\"T_52623c94_3c75_11ea_ad6f_0242ac110002level0_row3\" class=\"row_heading level0 row3\" >CA</th>\n",
       "                        <td id=\"T_52623c94_3c75_11ea_ad6f_0242ac110002row3_col0\" class=\"data row3 col0\" >4404</td>\n",
       "                        <td id=\"T_52623c94_3c75_11ea_ad6f_0242ac110002row3_col1\" class=\"data row3 col1\" >0</td>\n",
       "                        <td id=\"T_52623c94_3c75_11ea_ad6f_0242ac110002row3_col2\" class=\"data row3 col2\" >0</td>\n",
       "                        <td id=\"T_52623c94_3c75_11ea_ad6f_0242ac110002row3_col3\" class=\"data row3 col3\" >40192</td>\n",
       "                        <td id=\"T_52623c94_3c75_11ea_ad6f_0242ac110002row3_col4\" class=\"data row3 col4\" >1</td>\n",
       "                        <td id=\"T_52623c94_3c75_11ea_ad6f_0242ac110002row3_col5\" class=\"data row3 col5\" >5</td>\n",
       "                        <td id=\"T_52623c94_3c75_11ea_ad6f_0242ac110002row3_col6\" class=\"data row3 col6\" >0</td>\n",
       "                        <td id=\"T_52623c94_3c75_11ea_ad6f_0242ac110002row3_col7\" class=\"data row3 col7\" >1</td>\n",
       "                        <td id=\"T_52623c94_3c75_11ea_ad6f_0242ac110002row3_col8\" class=\"data row3 col8\" >37</td>\n",
       "                        <td id=\"T_52623c94_3c75_11ea_ad6f_0242ac110002row3_col9\" class=\"data row3 col9\" >0</td>\n",
       "                        <td id=\"T_52623c94_3c75_11ea_ad6f_0242ac110002row3_col10\" class=\"data row3 col10\" >0</td>\n",
       "                        <td id=\"T_52623c94_3c75_11ea_ad6f_0242ac110002row3_col11\" class=\"data row3 col11\" >1</td>\n",
       "            </tr>\n",
       "            <tr>\n",
       "                        <th id=\"T_52623c94_3c75_11ea_ad6f_0242ac110002level0_row4\" class=\"row_heading level0 row4\" >CG</th>\n",
       "                        <td id=\"T_52623c94_3c75_11ea_ad6f_0242ac110002row4_col0\" class=\"data row4 col0\" >0</td>\n",
       "                        <td id=\"T_52623c94_3c75_11ea_ad6f_0242ac110002row4_col1\" class=\"data row4 col1\" >0</td>\n",
       "                        <td id=\"T_52623c94_3c75_11ea_ad6f_0242ac110002row4_col2\" class=\"data row4 col2\" >0</td>\n",
       "                        <td id=\"T_52623c94_3c75_11ea_ad6f_0242ac110002row4_col3\" class=\"data row4 col3\" >0</td>\n",
       "                        <td id=\"T_52623c94_3c75_11ea_ad6f_0242ac110002row4_col4\" class=\"data row4 col4\" >20673</td>\n",
       "                        <td id=\"T_52623c94_3c75_11ea_ad6f_0242ac110002row4_col5\" class=\"data row4 col5\" >0</td>\n",
       "                        <td id=\"T_52623c94_3c75_11ea_ad6f_0242ac110002row4_col6\" class=\"data row4 col6\" >0</td>\n",
       "                        <td id=\"T_52623c94_3c75_11ea_ad6f_0242ac110002row4_col7\" class=\"data row4 col7\" >2428</td>\n",
       "                        <td id=\"T_52623c94_3c75_11ea_ad6f_0242ac110002row4_col8\" class=\"data row4 col8\" >0</td>\n",
       "                        <td id=\"T_52623c94_3c75_11ea_ad6f_0242ac110002row4_col9\" class=\"data row4 col9\" >0</td>\n",
       "                        <td id=\"T_52623c94_3c75_11ea_ad6f_0242ac110002row4_col10\" class=\"data row4 col10\" >0</td>\n",
       "                        <td id=\"T_52623c94_3c75_11ea_ad6f_0242ac110002row4_col11\" class=\"data row4 col11\" >0</td>\n",
       "            </tr>\n",
       "            <tr>\n",
       "                        <th id=\"T_52623c94_3c75_11ea_ad6f_0242ac110002level0_row5\" class=\"row_heading level0 row5\" >CT</th>\n",
       "                        <td id=\"T_52623c94_3c75_11ea_ad6f_0242ac110002row5_col0\" class=\"data row5 col0\" >0</td>\n",
       "                        <td id=\"T_52623c94_3c75_11ea_ad6f_0242ac110002row5_col1\" class=\"data row5 col1\" >15</td>\n",
       "                        <td id=\"T_52623c94_3c75_11ea_ad6f_0242ac110002row5_col2\" class=\"data row5 col2\" >0</td>\n",
       "                        <td id=\"T_52623c94_3c75_11ea_ad6f_0242ac110002row5_col3\" class=\"data row5 col3\" >0</td>\n",
       "                        <td id=\"T_52623c94_3c75_11ea_ad6f_0242ac110002row5_col4\" class=\"data row5 col4\" >2</td>\n",
       "                        <td id=\"T_52623c94_3c75_11ea_ad6f_0242ac110002row5_col5\" class=\"data row5 col5\" >178160</td>\n",
       "                        <td id=\"T_52623c94_3c75_11ea_ad6f_0242ac110002row5_col6\" class=\"data row5 col6\" >144</td>\n",
       "                        <td id=\"T_52623c94_3c75_11ea_ad6f_0242ac110002row5_col7\" class=\"data row5 col7\" >0</td>\n",
       "                        <td id=\"T_52623c94_3c75_11ea_ad6f_0242ac110002row5_col8\" class=\"data row5 col8\" >0</td>\n",
       "                        <td id=\"T_52623c94_3c75_11ea_ad6f_0242ac110002row5_col9\" class=\"data row5 col9\" >0</td>\n",
       "                        <td id=\"T_52623c94_3c75_11ea_ad6f_0242ac110002row5_col10\" class=\"data row5 col10\" >18431</td>\n",
       "                        <td id=\"T_52623c94_3c75_11ea_ad6f_0242ac110002row5_col11\" class=\"data row5 col11\" >0</td>\n",
       "            </tr>\n",
       "            <tr>\n",
       "                        <th id=\"T_52623c94_3c75_11ea_ad6f_0242ac110002level0_row6\" class=\"row_heading level0 row6\" >GA</th>\n",
       "                        <td id=\"T_52623c94_3c75_11ea_ad6f_0242ac110002row6_col0\" class=\"data row6 col0\" >0</td>\n",
       "                        <td id=\"T_52623c94_3c75_11ea_ad6f_0242ac110002row6_col1\" class=\"data row6 col1\" >18171</td>\n",
       "                        <td id=\"T_52623c94_3c75_11ea_ad6f_0242ac110002row6_col2\" class=\"data row6 col2\" >0</td>\n",
       "                        <td id=\"T_52623c94_3c75_11ea_ad6f_0242ac110002row6_col3\" class=\"data row6 col3\" >0</td>\n",
       "                        <td id=\"T_52623c94_3c75_11ea_ad6f_0242ac110002row6_col4\" class=\"data row6 col4\" >0</td>\n",
       "                        <td id=\"T_52623c94_3c75_11ea_ad6f_0242ac110002row6_col5\" class=\"data row6 col5\" >131</td>\n",
       "                        <td id=\"T_52623c94_3c75_11ea_ad6f_0242ac110002row6_col6\" class=\"data row6 col6\" >177760</td>\n",
       "                        <td id=\"T_52623c94_3c75_11ea_ad6f_0242ac110002row6_col7\" class=\"data row6 col7\" >1</td>\n",
       "                        <td id=\"T_52623c94_3c75_11ea_ad6f_0242ac110002row6_col8\" class=\"data row6 col8\" >8</td>\n",
       "                        <td id=\"T_52623c94_3c75_11ea_ad6f_0242ac110002row6_col9\" class=\"data row6 col9\" >0</td>\n",
       "                        <td id=\"T_52623c94_3c75_11ea_ad6f_0242ac110002row6_col10\" class=\"data row6 col10\" >17</td>\n",
       "                        <td id=\"T_52623c94_3c75_11ea_ad6f_0242ac110002row6_col11\" class=\"data row6 col11\" >0</td>\n",
       "            </tr>\n",
       "            <tr>\n",
       "                        <th id=\"T_52623c94_3c75_11ea_ad6f_0242ac110002level0_row7\" class=\"row_heading level0 row7\" >GC</th>\n",
       "                        <td id=\"T_52623c94_3c75_11ea_ad6f_0242ac110002row7_col0\" class=\"data row7 col0\" >0</td>\n",
       "                        <td id=\"T_52623c94_3c75_11ea_ad6f_0242ac110002row7_col1\" class=\"data row7 col1\" >0</td>\n",
       "                        <td id=\"T_52623c94_3c75_11ea_ad6f_0242ac110002row7_col2\" class=\"data row7 col2\" >0</td>\n",
       "                        <td id=\"T_52623c94_3c75_11ea_ad6f_0242ac110002row7_col3\" class=\"data row7 col3\" >0</td>\n",
       "                        <td id=\"T_52623c94_3c75_11ea_ad6f_0242ac110002row7_col4\" class=\"data row7 col4\" >2434</td>\n",
       "                        <td id=\"T_52623c94_3c75_11ea_ad6f_0242ac110002row7_col5\" class=\"data row7 col5\" >0</td>\n",
       "                        <td id=\"T_52623c94_3c75_11ea_ad6f_0242ac110002row7_col6\" class=\"data row7 col6\" >1</td>\n",
       "                        <td id=\"T_52623c94_3c75_11ea_ad6f_0242ac110002row7_col7\" class=\"data row7 col7\" >20583</td>\n",
       "                        <td id=\"T_52623c94_3c75_11ea_ad6f_0242ac110002row7_col8\" class=\"data row7 col8\" >1</td>\n",
       "                        <td id=\"T_52623c94_3c75_11ea_ad6f_0242ac110002row7_col9\" class=\"data row7 col9\" >0</td>\n",
       "                        <td id=\"T_52623c94_3c75_11ea_ad6f_0242ac110002row7_col10\" class=\"data row7 col10\" >0</td>\n",
       "                        <td id=\"T_52623c94_3c75_11ea_ad6f_0242ac110002row7_col11\" class=\"data row7 col11\" >0</td>\n",
       "            </tr>\n",
       "            <tr>\n",
       "                        <th id=\"T_52623c94_3c75_11ea_ad6f_0242ac110002level0_row8\" class=\"row_heading level0 row8\" >GT</th>\n",
       "                        <td id=\"T_52623c94_3c75_11ea_ad6f_0242ac110002row8_col0\" class=\"data row8 col0\" >2</td>\n",
       "                        <td id=\"T_52623c94_3c75_11ea_ad6f_0242ac110002row8_col1\" class=\"data row8 col1\" >0</td>\n",
       "                        <td id=\"T_52623c94_3c75_11ea_ad6f_0242ac110002row8_col2\" class=\"data row8 col2\" >0</td>\n",
       "                        <td id=\"T_52623c94_3c75_11ea_ad6f_0242ac110002row8_col3\" class=\"data row8 col3\" >27</td>\n",
       "                        <td id=\"T_52623c94_3c75_11ea_ad6f_0242ac110002row8_col4\" class=\"data row8 col4\" >0</td>\n",
       "                        <td id=\"T_52623c94_3c75_11ea_ad6f_0242ac110002row8_col5\" class=\"data row8 col5\" >1</td>\n",
       "                        <td id=\"T_52623c94_3c75_11ea_ad6f_0242ac110002row8_col6\" class=\"data row8 col6\" >4</td>\n",
       "                        <td id=\"T_52623c94_3c75_11ea_ad6f_0242ac110002row8_col7\" class=\"data row8 col7\" >0</td>\n",
       "                        <td id=\"T_52623c94_3c75_11ea_ad6f_0242ac110002row8_col8\" class=\"data row8 col8\" >39760</td>\n",
       "                        <td id=\"T_52623c94_3c75_11ea_ad6f_0242ac110002row8_col9\" class=\"data row8 col9\" >0</td>\n",
       "                        <td id=\"T_52623c94_3c75_11ea_ad6f_0242ac110002row8_col10\" class=\"data row8 col10\" >0</td>\n",
       "                        <td id=\"T_52623c94_3c75_11ea_ad6f_0242ac110002row8_col11\" class=\"data row8 col11\" >4353</td>\n",
       "            </tr>\n",
       "            <tr>\n",
       "                        <th id=\"T_52623c94_3c75_11ea_ad6f_0242ac110002level0_row9\" class=\"row_heading level0 row9\" >TA</th>\n",
       "                        <td id=\"T_52623c94_3c75_11ea_ad6f_0242ac110002row9_col0\" class=\"data row9 col0\" >0</td>\n",
       "                        <td id=\"T_52623c94_3c75_11ea_ad6f_0242ac110002row9_col1\" class=\"data row9 col1\" >0</td>\n",
       "                        <td id=\"T_52623c94_3c75_11ea_ad6f_0242ac110002row9_col2\" class=\"data row9 col2\" >1681</td>\n",
       "                        <td id=\"T_52623c94_3c75_11ea_ad6f_0242ac110002row9_col3\" class=\"data row9 col3\" >0</td>\n",
       "                        <td id=\"T_52623c94_3c75_11ea_ad6f_0242ac110002row9_col4\" class=\"data row9 col4\" >0</td>\n",
       "                        <td id=\"T_52623c94_3c75_11ea_ad6f_0242ac110002row9_col5\" class=\"data row9 col5\" >0</td>\n",
       "                        <td id=\"T_52623c94_3c75_11ea_ad6f_0242ac110002row9_col6\" class=\"data row9 col6\" >0</td>\n",
       "                        <td id=\"T_52623c94_3c75_11ea_ad6f_0242ac110002row9_col7\" class=\"data row9 col7\" >0</td>\n",
       "                        <td id=\"T_52623c94_3c75_11ea_ad6f_0242ac110002row9_col8\" class=\"data row9 col8\" >0</td>\n",
       "                        <td id=\"T_52623c94_3c75_11ea_ad6f_0242ac110002row9_col9\" class=\"data row9 col9\" >14092</td>\n",
       "                        <td id=\"T_52623c94_3c75_11ea_ad6f_0242ac110002row9_col10\" class=\"data row9 col10\" >0</td>\n",
       "                        <td id=\"T_52623c94_3c75_11ea_ad6f_0242ac110002row9_col11\" class=\"data row9 col11\" >0</td>\n",
       "            </tr>\n",
       "            <tr>\n",
       "                        <th id=\"T_52623c94_3c75_11ea_ad6f_0242ac110002level0_row10\" class=\"row_heading level0 row10\" >TC</th>\n",
       "                        <td id=\"T_52623c94_3c75_11ea_ad6f_0242ac110002row10_col0\" class=\"data row10 col0\" >1</td>\n",
       "                        <td id=\"T_52623c94_3c75_11ea_ad6f_0242ac110002row10_col1\" class=\"data row10 col1\" >136</td>\n",
       "                        <td id=\"T_52623c94_3c75_11ea_ad6f_0242ac110002row10_col2\" class=\"data row10 col2\" >0</td>\n",
       "                        <td id=\"T_52623c94_3c75_11ea_ad6f_0242ac110002row10_col3\" class=\"data row10 col3\" >0</td>\n",
       "                        <td id=\"T_52623c94_3c75_11ea_ad6f_0242ac110002row10_col4\" class=\"data row10 col4\" >0</td>\n",
       "                        <td id=\"T_52623c94_3c75_11ea_ad6f_0242ac110002row10_col5\" class=\"data row10 col5\" >20508</td>\n",
       "                        <td id=\"T_52623c94_3c75_11ea_ad6f_0242ac110002row10_col6\" class=\"data row10 col6\" >9</td>\n",
       "                        <td id=\"T_52623c94_3c75_11ea_ad6f_0242ac110002row10_col7\" class=\"data row10 col7\" >0</td>\n",
       "                        <td id=\"T_52623c94_3c75_11ea_ad6f_0242ac110002row10_col8\" class=\"data row10 col8\" >0</td>\n",
       "                        <td id=\"T_52623c94_3c75_11ea_ad6f_0242ac110002row10_col9\" class=\"data row10 col9\" >2</td>\n",
       "                        <td id=\"T_52623c94_3c75_11ea_ad6f_0242ac110002row10_col10\" class=\"data row10 col10\" >158641</td>\n",
       "                        <td id=\"T_52623c94_3c75_11ea_ad6f_0242ac110002row10_col11\" class=\"data row10 col11\" >2</td>\n",
       "            </tr>\n",
       "            <tr>\n",
       "                        <th id=\"T_52623c94_3c75_11ea_ad6f_0242ac110002level0_row11\" class=\"row_heading level0 row11\" >TG</th>\n",
       "                        <td id=\"T_52623c94_3c75_11ea_ad6f_0242ac110002row11_col0\" class=\"data row11 col0\" >54</td>\n",
       "                        <td id=\"T_52623c94_3c75_11ea_ad6f_0242ac110002row11_col1\" class=\"data row11 col1\" >0</td>\n",
       "                        <td id=\"T_52623c94_3c75_11ea_ad6f_0242ac110002row11_col2\" class=\"data row11 col2\" >0</td>\n",
       "                        <td id=\"T_52623c94_3c75_11ea_ad6f_0242ac110002row11_col3\" class=\"data row11 col3\" >2</td>\n",
       "                        <td id=\"T_52623c94_3c75_11ea_ad6f_0242ac110002row11_col4\" class=\"data row11 col4\" >0</td>\n",
       "                        <td id=\"T_52623c94_3c75_11ea_ad6f_0242ac110002row11_col5\" class=\"data row11 col5\" >0</td>\n",
       "                        <td id=\"T_52623c94_3c75_11ea_ad6f_0242ac110002row11_col6\" class=\"data row11 col6\" >0</td>\n",
       "                        <td id=\"T_52623c94_3c75_11ea_ad6f_0242ac110002row11_col7\" class=\"data row11 col7\" >0</td>\n",
       "                        <td id=\"T_52623c94_3c75_11ea_ad6f_0242ac110002row11_col8\" class=\"data row11 col8\" >4654</td>\n",
       "                        <td id=\"T_52623c94_3c75_11ea_ad6f_0242ac110002row11_col9\" class=\"data row11 col9\" >0</td>\n",
       "                        <td id=\"T_52623c94_3c75_11ea_ad6f_0242ac110002row11_col10\" class=\"data row11 col10\" >3</td>\n",
       "                        <td id=\"T_52623c94_3c75_11ea_ad6f_0242ac110002row11_col11\" class=\"data row11 col11\" >37179</td>\n",
       "            </tr>\n",
       "    </tbody></table>"
      ],
      "text/plain": [
       "<pandas.io.formats.style.Styler at 0x7f2d7c4fae10>"
      ]
     },
     "execution_count": 167,
     "metadata": {},
     "output_type": "execute_result"
    }
   ],
   "source": [
    "ht_ai = get_allele_info(mt_hm, mt_kg)\n",
    "get_allele_info_counts(ht_ai).style.background_gradient()"
   ]
  },
  {
   "cell_type": "markdown",
   "metadata": {},
   "source": [
    "TODO: Explain this classification"
   ]
  },
  {
   "cell_type": "code",
   "execution_count": 18,
   "metadata": {},
   "outputs": [],
   "source": [
    "ht_ai = ht_ai.annotate(\n",
    "    classification=hl.case()\n",
    "    .when(ht_ai.hm_alleles == ht_ai.kg_alleles, 'same')\n",
    "    .when(ht_ai.hm_alleles == ht_ai.kg_alleles.reverse(), 'ref_swap')\n",
    "    .when(ht_ai.hm_alleles == hl.reverse_complement(ht_ai.kg_alleles).reverse(), 'strand_swap')\n",
    "    .when(ht_ai.hm_alleles == hl.reverse_complement(ht_ai.kg_alleles), 'ref_swap+strand_swap')\n",
    "    .default('other')\n",
    ")"
   ]
  },
  {
   "cell_type": "code",
   "execution_count": 170,
   "metadata": {},
   "outputs": [
    {
     "name": "stderr",
     "output_type": "stream",
     "text": [
      "2020-01-21 17:50:15 Hail: INFO: Coerced sorted dataset\n",
      "2020-01-21 17:50:16 Hail: INFO: Ordering unsorted dataset with network shuffle\n",
      "2020-01-21 17:50:17 Hail: INFO: Ordering unsorted dataset with network shuffle\n",
      "2020-01-21 17:50:43 Hail: INFO: Ordering unsorted dataset with network shuffle\n"
     ]
    },
    {
     "data": {
      "text/html": [
       "<div>\n",
       "<style scoped>\n",
       "    .dataframe tbody tr th:only-of-type {\n",
       "        vertical-align: middle;\n",
       "    }\n",
       "\n",
       "    .dataframe tbody tr th {\n",
       "        vertical-align: top;\n",
       "    }\n",
       "\n",
       "    .dataframe thead th {\n",
       "        text-align: right;\n",
       "    }\n",
       "</style>\n",
       "<table border=\"1\" class=\"dataframe\">\n",
       "  <thead>\n",
       "    <tr style=\"text-align: right;\">\n",
       "      <th></th>\n",
       "      <th>classification</th>\n",
       "      <th>count</th>\n",
       "      <th>hm_alleles</th>\n",
       "      <th>kg_alleles</th>\n",
       "    </tr>\n",
       "  </thead>\n",
       "  <tbody>\n",
       "    <tr>\n",
       "      <th>43</th>\n",
       "      <td>same</td>\n",
       "      <td>178160</td>\n",
       "      <td>CT</td>\n",
       "      <td>CT</td>\n",
       "    </tr>\n",
       "    <tr>\n",
       "      <th>44</th>\n",
       "      <td>same</td>\n",
       "      <td>177760</td>\n",
       "      <td>GA</td>\n",
       "      <td>GA</td>\n",
       "    </tr>\n",
       "    <tr>\n",
       "      <th>48</th>\n",
       "      <td>same</td>\n",
       "      <td>158641</td>\n",
       "      <td>TC</td>\n",
       "      <td>TC</td>\n",
       "    </tr>\n",
       "    <tr>\n",
       "      <th>39</th>\n",
       "      <td>same</td>\n",
       "      <td>158080</td>\n",
       "      <td>AG</td>\n",
       "      <td>AG</td>\n",
       "    </tr>\n",
       "    <tr>\n",
       "      <th>41</th>\n",
       "      <td>same</td>\n",
       "      <td>40192</td>\n",
       "      <td>CA</td>\n",
       "      <td>CA</td>\n",
       "    </tr>\n",
       "    <tr>\n",
       "      <th>46</th>\n",
       "      <td>same</td>\n",
       "      <td>39760</td>\n",
       "      <td>GT</td>\n",
       "      <td>GT</td>\n",
       "    </tr>\n",
       "    <tr>\n",
       "      <th>49</th>\n",
       "      <td>same</td>\n",
       "      <td>37179</td>\n",
       "      <td>TG</td>\n",
       "      <td>TG</td>\n",
       "    </tr>\n",
       "    <tr>\n",
       "      <th>38</th>\n",
       "      <td>same</td>\n",
       "      <td>37018</td>\n",
       "      <td>AC</td>\n",
       "      <td>AC</td>\n",
       "    </tr>\n",
       "    <tr>\n",
       "      <th>42</th>\n",
       "      <td>same</td>\n",
       "      <td>20673</td>\n",
       "      <td>CG</td>\n",
       "      <td>CG</td>\n",
       "    </tr>\n",
       "    <tr>\n",
       "      <th>45</th>\n",
       "      <td>same</td>\n",
       "      <td>20583</td>\n",
       "      <td>GC</td>\n",
       "      <td>GC</td>\n",
       "    </tr>\n",
       "    <tr>\n",
       "      <th>28</th>\n",
       "      <td>ref_swap</td>\n",
       "      <td>20508</td>\n",
       "      <td>TC</td>\n",
       "      <td>CT</td>\n",
       "    </tr>\n",
       "    <tr>\n",
       "      <th>19</th>\n",
       "      <td>ref_swap</td>\n",
       "      <td>20425</td>\n",
       "      <td>AG</td>\n",
       "      <td>GA</td>\n",
       "    </tr>\n",
       "    <tr>\n",
       "      <th>23</th>\n",
       "      <td>ref_swap</td>\n",
       "      <td>18431</td>\n",
       "      <td>CT</td>\n",
       "      <td>TC</td>\n",
       "    </tr>\n",
       "    <tr>\n",
       "      <th>24</th>\n",
       "      <td>ref_swap</td>\n",
       "      <td>18171</td>\n",
       "      <td>GA</td>\n",
       "      <td>AG</td>\n",
       "    </tr>\n",
       "    <tr>\n",
       "      <th>40</th>\n",
       "      <td>same</td>\n",
       "      <td>14194</td>\n",
       "      <td>AT</td>\n",
       "      <td>AT</td>\n",
       "    </tr>\n",
       "    <tr>\n",
       "      <th>47</th>\n",
       "      <td>same</td>\n",
       "      <td>14092</td>\n",
       "      <td>TA</td>\n",
       "      <td>TA</td>\n",
       "    </tr>\n",
       "    <tr>\n",
       "      <th>18</th>\n",
       "      <td>ref_swap</td>\n",
       "      <td>4697</td>\n",
       "      <td>AC</td>\n",
       "      <td>CA</td>\n",
       "    </tr>\n",
       "    <tr>\n",
       "      <th>29</th>\n",
       "      <td>ref_swap</td>\n",
       "      <td>4654</td>\n",
       "      <td>TG</td>\n",
       "      <td>GT</td>\n",
       "    </tr>\n",
       "    <tr>\n",
       "      <th>21</th>\n",
       "      <td>ref_swap</td>\n",
       "      <td>4404</td>\n",
       "      <td>CA</td>\n",
       "      <td>AC</td>\n",
       "    </tr>\n",
       "    <tr>\n",
       "      <th>26</th>\n",
       "      <td>ref_swap</td>\n",
       "      <td>4353</td>\n",
       "      <td>GT</td>\n",
       "      <td>TG</td>\n",
       "    </tr>\n",
       "    <tr>\n",
       "      <th>25</th>\n",
       "      <td>ref_swap</td>\n",
       "      <td>2434</td>\n",
       "      <td>GC</td>\n",
       "      <td>CG</td>\n",
       "    </tr>\n",
       "    <tr>\n",
       "      <th>22</th>\n",
       "      <td>ref_swap</td>\n",
       "      <td>2428</td>\n",
       "      <td>CG</td>\n",
       "      <td>GC</td>\n",
       "    </tr>\n",
       "    <tr>\n",
       "      <th>27</th>\n",
       "      <td>ref_swap</td>\n",
       "      <td>1681</td>\n",
       "      <td>TA</td>\n",
       "      <td>AT</td>\n",
       "    </tr>\n",
       "    <tr>\n",
       "      <th>20</th>\n",
       "      <td>ref_swap</td>\n",
       "      <td>1663</td>\n",
       "      <td>AT</td>\n",
       "      <td>TA</td>\n",
       "    </tr>\n",
       "    <tr>\n",
       "      <th>53</th>\n",
       "      <td>strand_swap</td>\n",
       "      <td>144</td>\n",
       "      <td>CT</td>\n",
       "      <td>GA</td>\n",
       "    </tr>\n",
       "    <tr>\n",
       "      <th>51</th>\n",
       "      <td>strand_swap</td>\n",
       "      <td>141</td>\n",
       "      <td>AG</td>\n",
       "      <td>TC</td>\n",
       "    </tr>\n",
       "    <tr>\n",
       "      <th>56</th>\n",
       "      <td>strand_swap</td>\n",
       "      <td>136</td>\n",
       "      <td>TC</td>\n",
       "      <td>AG</td>\n",
       "    </tr>\n",
       "    <tr>\n",
       "      <th>54</th>\n",
       "      <td>strand_swap</td>\n",
       "      <td>131</td>\n",
       "      <td>GA</td>\n",
       "      <td>CT</td>\n",
       "    </tr>\n",
       "    <tr>\n",
       "      <th>57</th>\n",
       "      <td>strand_swap</td>\n",
       "      <td>54</td>\n",
       "      <td>TG</td>\n",
       "      <td>AC</td>\n",
       "    </tr>\n",
       "    <tr>\n",
       "      <th>52</th>\n",
       "      <td>strand_swap</td>\n",
       "      <td>37</td>\n",
       "      <td>CA</td>\n",
       "      <td>GT</td>\n",
       "    </tr>\n",
       "    <tr>\n",
       "      <th>50</th>\n",
       "      <td>strand_swap</td>\n",
       "      <td>32</td>\n",
       "      <td>AC</td>\n",
       "      <td>TG</td>\n",
       "    </tr>\n",
       "    <tr>\n",
       "      <th>55</th>\n",
       "      <td>strand_swap</td>\n",
       "      <td>27</td>\n",
       "      <td>GT</td>\n",
       "      <td>CA</td>\n",
       "    </tr>\n",
       "    <tr>\n",
       "      <th>31</th>\n",
       "      <td>ref_swap+strand_swap</td>\n",
       "      <td>19</td>\n",
       "      <td>AG</td>\n",
       "      <td>CT</td>\n",
       "    </tr>\n",
       "    <tr>\n",
       "      <th>34</th>\n",
       "      <td>ref_swap+strand_swap</td>\n",
       "      <td>17</td>\n",
       "      <td>GA</td>\n",
       "      <td>TC</td>\n",
       "    </tr>\n",
       "    <tr>\n",
       "      <th>33</th>\n",
       "      <td>ref_swap+strand_swap</td>\n",
       "      <td>15</td>\n",
       "      <td>CT</td>\n",
       "      <td>AG</td>\n",
       "    </tr>\n",
       "    <tr>\n",
       "      <th>36</th>\n",
       "      <td>ref_swap+strand_swap</td>\n",
       "      <td>9</td>\n",
       "      <td>TC</td>\n",
       "      <td>GA</td>\n",
       "    </tr>\n",
       "    <tr>\n",
       "      <th>9</th>\n",
       "      <td>other</td>\n",
       "      <td>8</td>\n",
       "      <td>GA</td>\n",
       "      <td>GT</td>\n",
       "    </tr>\n",
       "    <tr>\n",
       "      <th>5</th>\n",
       "      <td>other</td>\n",
       "      <td>5</td>\n",
       "      <td>CA</td>\n",
       "      <td>CT</td>\n",
       "    </tr>\n",
       "    <tr>\n",
       "      <th>1</th>\n",
       "      <td>other</td>\n",
       "      <td>4</td>\n",
       "      <td>AG</td>\n",
       "      <td>AC</td>\n",
       "    </tr>\n",
       "    <tr>\n",
       "      <th>13</th>\n",
       "      <td>other</td>\n",
       "      <td>4</td>\n",
       "      <td>GT</td>\n",
       "      <td>GA</td>\n",
       "    </tr>\n",
       "    <tr>\n",
       "      <th>30</th>\n",
       "      <td>ref_swap+strand_swap</td>\n",
       "      <td>3</td>\n",
       "      <td>AC</td>\n",
       "      <td>GT</td>\n",
       "    </tr>\n",
       "    <tr>\n",
       "      <th>0</th>\n",
       "      <td>other</td>\n",
       "      <td>3</td>\n",
       "      <td>AC</td>\n",
       "      <td>AG</td>\n",
       "    </tr>\n",
       "    <tr>\n",
       "      <th>17</th>\n",
       "      <td>other</td>\n",
       "      <td>3</td>\n",
       "      <td>TG</td>\n",
       "      <td>TC</td>\n",
       "    </tr>\n",
       "    <tr>\n",
       "      <th>15</th>\n",
       "      <td>other</td>\n",
       "      <td>2</td>\n",
       "      <td>TC</td>\n",
       "      <td>TA</td>\n",
       "    </tr>\n",
       "    <tr>\n",
       "      <th>16</th>\n",
       "      <td>other</td>\n",
       "      <td>2</td>\n",
       "      <td>TC</td>\n",
       "      <td>TG</td>\n",
       "    </tr>\n",
       "    <tr>\n",
       "      <th>7</th>\n",
       "      <td>other</td>\n",
       "      <td>2</td>\n",
       "      <td>CT</td>\n",
       "      <td>CG</td>\n",
       "    </tr>\n",
       "    <tr>\n",
       "      <th>37</th>\n",
       "      <td>ref_swap+strand_swap</td>\n",
       "      <td>2</td>\n",
       "      <td>TG</td>\n",
       "      <td>CA</td>\n",
       "    </tr>\n",
       "    <tr>\n",
       "      <th>35</th>\n",
       "      <td>ref_swap+strand_swap</td>\n",
       "      <td>2</td>\n",
       "      <td>GT</td>\n",
       "      <td>AC</td>\n",
       "    </tr>\n",
       "    <tr>\n",
       "      <th>14</th>\n",
       "      <td>other</td>\n",
       "      <td>1</td>\n",
       "      <td>TC</td>\n",
       "      <td>AC</td>\n",
       "    </tr>\n",
       "    <tr>\n",
       "      <th>11</th>\n",
       "      <td>other</td>\n",
       "      <td>1</td>\n",
       "      <td>GC</td>\n",
       "      <td>GT</td>\n",
       "    </tr>\n",
       "    <tr>\n",
       "      <th>10</th>\n",
       "      <td>other</td>\n",
       "      <td>1</td>\n",
       "      <td>GC</td>\n",
       "      <td>GA</td>\n",
       "    </tr>\n",
       "    <tr>\n",
       "      <th>8</th>\n",
       "      <td>other</td>\n",
       "      <td>1</td>\n",
       "      <td>GA</td>\n",
       "      <td>GC</td>\n",
       "    </tr>\n",
       "    <tr>\n",
       "      <th>6</th>\n",
       "      <td>other</td>\n",
       "      <td>1</td>\n",
       "      <td>CA</td>\n",
       "      <td>GC</td>\n",
       "    </tr>\n",
       "    <tr>\n",
       "      <th>4</th>\n",
       "      <td>other</td>\n",
       "      <td>1</td>\n",
       "      <td>CA</td>\n",
       "      <td>CG</td>\n",
       "    </tr>\n",
       "    <tr>\n",
       "      <th>3</th>\n",
       "      <td>other</td>\n",
       "      <td>1</td>\n",
       "      <td>AG</td>\n",
       "      <td>GT</td>\n",
       "    </tr>\n",
       "    <tr>\n",
       "      <th>32</th>\n",
       "      <td>ref_swap+strand_swap</td>\n",
       "      <td>1</td>\n",
       "      <td>CA</td>\n",
       "      <td>TG</td>\n",
       "    </tr>\n",
       "    <tr>\n",
       "      <th>2</th>\n",
       "      <td>other</td>\n",
       "      <td>1</td>\n",
       "      <td>AG</td>\n",
       "      <td>AT</td>\n",
       "    </tr>\n",
       "    <tr>\n",
       "      <th>12</th>\n",
       "      <td>other</td>\n",
       "      <td>1</td>\n",
       "      <td>GT</td>\n",
       "      <td>CT</td>\n",
       "    </tr>\n",
       "  </tbody>\n",
       "</table>\n",
       "</div>"
      ],
      "text/plain": [
       "          classification   count hm_alleles kg_alleles\n",
       "43                  same  178160         CT         CT\n",
       "44                  same  177760         GA         GA\n",
       "48                  same  158641         TC         TC\n",
       "39                  same  158080         AG         AG\n",
       "41                  same   40192         CA         CA\n",
       "46                  same   39760         GT         GT\n",
       "49                  same   37179         TG         TG\n",
       "38                  same   37018         AC         AC\n",
       "42                  same   20673         CG         CG\n",
       "45                  same   20583         GC         GC\n",
       "28              ref_swap   20508         TC         CT\n",
       "19              ref_swap   20425         AG         GA\n",
       "23              ref_swap   18431         CT         TC\n",
       "24              ref_swap   18171         GA         AG\n",
       "40                  same   14194         AT         AT\n",
       "47                  same   14092         TA         TA\n",
       "18              ref_swap    4697         AC         CA\n",
       "29              ref_swap    4654         TG         GT\n",
       "21              ref_swap    4404         CA         AC\n",
       "26              ref_swap    4353         GT         TG\n",
       "25              ref_swap    2434         GC         CG\n",
       "22              ref_swap    2428         CG         GC\n",
       "27              ref_swap    1681         TA         AT\n",
       "20              ref_swap    1663         AT         TA\n",
       "53           strand_swap     144         CT         GA\n",
       "51           strand_swap     141         AG         TC\n",
       "56           strand_swap     136         TC         AG\n",
       "54           strand_swap     131         GA         CT\n",
       "57           strand_swap      54         TG         AC\n",
       "52           strand_swap      37         CA         GT\n",
       "50           strand_swap      32         AC         TG\n",
       "55           strand_swap      27         GT         CA\n",
       "31  ref_swap+strand_swap      19         AG         CT\n",
       "34  ref_swap+strand_swap      17         GA         TC\n",
       "33  ref_swap+strand_swap      15         CT         AG\n",
       "36  ref_swap+strand_swap       9         TC         GA\n",
       "9                  other       8         GA         GT\n",
       "5                  other       5         CA         CT\n",
       "1                  other       4         AG         AC\n",
       "13                 other       4         GT         GA\n",
       "30  ref_swap+strand_swap       3         AC         GT\n",
       "0                  other       3         AC         AG\n",
       "17                 other       3         TG         TC\n",
       "15                 other       2         TC         TA\n",
       "16                 other       2         TC         TG\n",
       "7                  other       2         CT         CG\n",
       "37  ref_swap+strand_swap       2         TG         CA\n",
       "35  ref_swap+strand_swap       2         GT         AC\n",
       "14                 other       1         TC         AC\n",
       "11                 other       1         GC         GT\n",
       "10                 other       1         GC         GA\n",
       "8                  other       1         GA         GC\n",
       "6                  other       1         CA         GC\n",
       "4                  other       1         CA         CG\n",
       "3                  other       1         AG         GT\n",
       "32  ref_swap+strand_swap       1         CA         TG\n",
       "2                  other       1         AG         AT\n",
       "12                 other       1         GT         CT"
      ]
     },
     "execution_count": 170,
     "metadata": {},
     "output_type": "execute_result"
    }
   ],
   "source": [
    "pd.DataFrame(\n",
    "    ht_ai\n",
    "    .group_by(ht_ai.classification, ht_ai.hm_alleles, ht_ai.kg_alleles)\n",
    "    .aggregate(count=hl.agg.count())\n",
    "    .collect()\n",
    ").sort_values('count', ascending=False)"
   ]
  },
  {
   "cell_type": "code",
   "execution_count": 19,
   "metadata": {},
   "outputs": [],
   "source": [
    "def invert_calls(mt, ai):\n",
    "    mt = mt.annotate_rows(classification=ai[mt.rsid].classification)\n",
    "    swap_classes = hl.set(['ref_swap', 'ref_swap+strand_swap'])\n",
    "    return mt.annotate_entries(\n",
    "        GT=hl.case()\n",
    "        .when(\n",
    "            swap_classes.contains(mt.classification), \n",
    "            hl.unphased_diploid_gt_index_call(2 - mt.GT.n_alt_alleles())\n",
    "        ).default(mt.GT)\n",
    "    )\n",
    "    \n",
    "mt_hm_lo = invert_calls(mt_hm, ht_ai)"
   ]
  },
  {
   "cell_type": "code",
   "execution_count": 22,
   "metadata": {},
   "outputs": [
    {
     "name": "stderr",
     "output_type": "stream",
     "text": [
      "2020-01-21 18:15:15 Hail: INFO: Coerced sorted dataset\n",
      "2020-01-21 18:15:19 Hail: INFO: Coerced sorted dataset\n"
     ]
    },
    {
     "data": {
      "text/plain": [
       "(1073226, 109)"
      ]
     },
     "execution_count": 22,
     "metadata": {},
     "output_type": "execute_result"
    }
   ],
   "source": [
    "# Make sure no variants or samples were lost in the liftover\n",
    "cts = (mt_hm.count(), mt_hm_lo.count())\n",
    "assert cts[0] == cts[1]\n",
    "cts[1]"
   ]
  },
  {
   "cell_type": "code",
   "execution_count": 23,
   "metadata": {},
   "outputs": [
    {
     "name": "stderr",
     "output_type": "stream",
     "text": [
      "2020-01-21 18:15:42 Hail: INFO: Ordering unsorted dataset with network shuffle\n",
      "2020-01-21 18:18:40 Hail: INFO: wrote matrix table with 5808310 rows and 629 columns in 118 partitions to /home/eczech/data/gwas/tutorial/2_PS_GWAS/Hail_1KG_Prep.mt\n"
     ]
    }
   ],
   "source": [
    "mt_kg.write(osp.join(data_dir, PS3_1KG_FILE + \".mt\"), overwrite=True)"
   ]
  },
  {
   "cell_type": "code",
   "execution_count": 175,
   "metadata": {},
   "outputs": [
    {
     "name": "stderr",
     "output_type": "stream",
     "text": [
      "2020-01-21 17:55:59 Hail: INFO: Coerced sorted dataset\n",
      "2020-01-21 17:56:03 Hail: INFO: Ordering unsorted dataset with network shuffle\n",
      "2020-01-21 17:56:06 Hail: INFO: Coerced sorted dataset\n",
      "2020-01-21 17:56:07 Hail: INFO: Ordering unsorted dataset with network shuffle\n",
      "2020-01-21 17:56:08 Hail: INFO: Ordering unsorted dataset with network shuffle\n",
      "2020-01-21 17:58:33 Hail: INFO: wrote matrix table with 1073226 rows and 109 columns in 2 partitions to /home/eczech/data/gwas/tutorial/2_PS_GWAS/HMIII_LIFTOVER.mt\n"
     ]
    }
   ],
   "source": [
    "mt_hm_lo.write(osp.join(data_dir, PS3_HM_FILE + \".mt\"), overwrite=True)"
   ]
  },
  {
   "cell_type": "markdown",
   "metadata": {},
   "source": [
    "## Step 4: Merge Datasets\n",
    "\n",
    "This step needs to combine the 1KG and HapMap data based on variant id.  This can be done easily in Hail with the [union_cols](https://hail.is/docs/0.2/hail.MatrixTable.html?highlight=union_cols#hail.MatrixTable.union_cols) function."
   ]
  },
  {
   "cell_type": "markdown",
   "metadata": {},
   "source": [
    "##### Combine\n",
    "\n",
    "Merge the datasets column-wise where the rows will be matched based on the row keys shown above:"
   ]
  },
  {
   "cell_type": "code",
   "execution_count": 26,
   "metadata": {},
   "outputs": [],
   "source": [
    "mt_kg = hl.read_matrix_table(osp.join(data_dir, PS3_1KG_FILE + \".mt\"))"
   ]
  },
  {
   "cell_type": "code",
   "execution_count": 33,
   "metadata": {},
   "outputs": [],
   "source": [
    "mt_hm_lo = hl.read_matrix_table(osp.join(data_dir, PS3_HM_FILE + \".mt\"))"
   ]
  },
  {
   "cell_type": "code",
   "execution_count": 34,
   "metadata": {},
   "outputs": [
    {
     "data": {
      "text/plain": [
       "(1000993, 738)"
      ]
     },
     "execution_count": 34,
     "metadata": {},
     "output_type": "execute_result"
    },
    {
     "name": "stdout",
     "output_type": "stream",
     "text": [
      "Elapsed time: 4.7 seconds\n"
     ]
    },
    {
     "data": {
      "text/plain": [
       "(1000993, 738)"
      ]
     },
     "execution_count": 34,
     "metadata": {},
     "output_type": "execute_result"
    }
   ],
   "source": [
    "%%timeop -o ps2\n",
    "# Note here that according to the docs \"The row fields in the resulting dataset are the row fields from the\n",
    "# first dataset\" meaning that aside from rsid, no data about the variants that get merged needs to be equal\n",
    "# and whatever other values for contig/chromosome, locus, and ref/alt allele will come from the HapMap data\n",
    "mt_mg = mt_hm_lo.union_cols(mt_kg.annotate_rows(original_alleles=mt_kg.alleles), row_join_type='inner')\n",
    "mt_mg.count()"
   ]
  },
  {
   "cell_type": "code",
   "execution_count": 35,
   "metadata": {},
   "outputs": [
    {
     "name": "stdout",
     "output_type": "stream",
     "text": [
      "----------------------------------------\n",
      "Global fields:\n",
      "    None\n",
      "----------------------------------------\n",
      "Column fields:\n",
      "    's': str\n",
      "    'fam_id': str\n",
      "    'pat_id': str\n",
      "    'mat_id': str\n",
      "    'is_female': bool\n",
      "    'is_case': bool\n",
      "    'race': str\n",
      "    'source': str\n",
      "----------------------------------------\n",
      "Row fields:\n",
      "    'locus': locus<hapmap3_hg18>\n",
      "    'alleles': array<str>\n",
      "    'rsid': str\n",
      "    'cm_position': float64\n",
      "    'classification': str\n",
      "----------------------------------------\n",
      "Entry fields:\n",
      "    'GT': call\n",
      "----------------------------------------\n",
      "Column key: ['source', 's']\n",
      "Row key: ['rsid']\n",
      "----------------------------------------\n"
     ]
    }
   ],
   "source": [
    "mt_mg.describe()"
   ]
  },
  {
   "cell_type": "code",
   "execution_count": 38,
   "metadata": {},
   "outputs": [
    {
     "name": "stderr",
     "output_type": "stream",
     "text": [
      "2020-01-21 18:23:08 Hail: INFO: wrote matrix table with 1000993 rows and 738 columns in 118 partitions to /home/eczech/data/gwas/tutorial/2_PS_GWAS/Hail_1KG_HapMap_Merge.mt\n"
     ]
    }
   ],
   "source": [
    "mt_mg.write(osp.join(data_dir, PS4_MERGE_FILE + '.mt'), overwrite=True)"
   ]
  },
  {
   "cell_type": "markdown",
   "metadata": {},
   "source": [
    "## Step 5: Population Structure Projection\n",
    "\n",
    "This step will show how the compatibility of the HapMap population with 1KG populations can be assessed.  It will do this by subsetting our merged dataset to only pruned (i.e. independent) variants and then running a dimensionality reduction algorithm to visualize how similar the 1KG European population is the putative European HapMap population."
   ]
  },
  {
   "cell_type": "markdown",
   "metadata": {},
   "source": [
    "Load the merged but unpruned dataset:"
   ]
  },
  {
   "cell_type": "code",
   "execution_count": 40,
   "metadata": {},
   "outputs": [
    {
     "name": "stdout",
     "output_type": "stream",
     "text": [
      "----------------------------------------\n",
      "Global fields:\n",
      "    None\n",
      "----------------------------------------\n",
      "Column fields:\n",
      "    's': str\n",
      "    'fam_id': str\n",
      "    'pat_id': str\n",
      "    'mat_id': str\n",
      "    'is_female': bool\n",
      "    'is_case': bool\n",
      "    'race': str\n",
      "    'source': str\n",
      "----------------------------------------\n",
      "Row fields:\n",
      "    'locus': locus<hapmap3_hg18>\n",
      "    'alleles': array<str>\n",
      "    'rsid': str\n",
      "    'cm_position': float64\n",
      "    'classification': str\n",
      "----------------------------------------\n",
      "Entry fields:\n",
      "    'GT': call\n",
      "----------------------------------------\n",
      "Column key: ['source', 's']\n",
      "Row key: ['rsid']\n",
      "----------------------------------------\n"
     ]
    }
   ],
   "source": [
    "mt_mg = hl.read_matrix_table(osp.join(data_dir, PS4_MERGE_FILE + '.mt')).key_rows_by('rsid')\n",
    "mt_mg.describe()"
   ]
  },
  {
   "cell_type": "code",
   "execution_count": 41,
   "metadata": {},
   "outputs": [
    {
     "data": {
      "text/plain": [
       "{'ASN': 177, 'OWN': 109, 'AFR': 169, 'AMR': 22, 'EUR': 261}"
      ]
     },
     "execution_count": 41,
     "metadata": {},
     "output_type": "execute_result"
    }
   ],
   "source": [
    "mt_mg.aggregate_cols(hl.agg.counter(mt_mg.race))"
   ]
  },
  {
   "cell_type": "code",
   "execution_count": 42,
   "metadata": {},
   "outputs": [
    {
     "data": {
      "text/plain": [
       "(1000993, 738)"
      ]
     },
     "execution_count": 42,
     "metadata": {},
     "output_type": "execute_result"
    }
   ],
   "source": [
    "mt_mg.count()"
   ]
  },
  {
   "cell_type": "markdown",
   "metadata": {},
   "source": [
    "Load the pruned variant table from the QC tutorial to be used as a filter:"
   ]
  },
  {
   "cell_type": "code",
   "execution_count": 66,
   "metadata": {},
   "outputs": [
    {
     "name": "stdout",
     "output_type": "stream",
     "text": [
      "----------------------------------------\n",
      "Global fields:\n",
      "    None\n",
      "----------------------------------------\n",
      "Row fields:\n",
      "    'locus': locus<hapmap3_hg18> \n",
      "    'alleles': array<str> \n",
      "    'rsid': str \n",
      "    'cm_position': float64 \n",
      "----------------------------------------\n",
      "Key: ['rsid']\n",
      "----------------------------------------\n"
     ]
    }
   ],
   "source": [
    "ht_var = hl.read_table(osp.join(prev_dir, QC5_PRUNED_VARIANTS_FILE + '.ht')).drop(\"variant_qc\").key_by('rsid')\n",
    "ht_var.describe()"
   ]
  },
  {
   "cell_type": "code",
   "execution_count": 52,
   "metadata": {},
   "outputs": [
    {
     "data": {
      "text/plain": [
       "104144"
      ]
     },
     "execution_count": 52,
     "metadata": {},
     "output_type": "execute_result"
    }
   ],
   "source": [
    "ht_var.count()"
   ]
  },
  {
   "cell_type": "markdown",
   "metadata": {},
   "source": [
    "Filter to only pruned variants in the merged data (both must be keyed by rsid alone):"
   ]
  },
  {
   "cell_type": "code",
   "execution_count": 53,
   "metadata": {},
   "outputs": [
    {
     "name": "stderr",
     "output_type": "stream",
     "text": [
      "2020-01-21 18:29:38 Hail: INFO: Ordering unsorted dataset with network shuffle\n"
     ]
    },
    {
     "data": {
      "text/plain": [
       "(93335, 738)"
      ]
     },
     "execution_count": 53,
     "metadata": {},
     "output_type": "execute_result"
    }
   ],
   "source": [
    "mt_mg_pr = mt_mg.semi_join_rows(ht_var)\n",
    "mt_mg_pr.count()"
   ]
  },
  {
   "cell_type": "code",
   "execution_count": 54,
   "metadata": {},
   "outputs": [
    {
     "name": "stderr",
     "output_type": "stream",
     "text": [
      "2020-01-21 18:29:39 Hail: INFO: Ordering unsorted dataset with network shuffle\n",
      "2020-01-21 18:29:41 Hail: INFO: Ordering unsorted dataset with network shuffle\n",
      "2020-01-21 18:29:42 Hail: INFO: Coerced sorted dataset\n"
     ]
    },
    {
     "data": {
      "text/html": [
       "<table><thead style=\"font-weight: bold;\"><tr><td>source</td><td>stats.mean</td><td>stats.stdev</td><td>stats.min</td><td>stats.max</td><td>stats.n</td><td>stats.sum</td></tr>\n",
       "<tr><td>str</td><td>float64</td><td>float64</td><td>float64</td><td>float64</td><td>int64</td><td>float64</td></tr>\n",
       "</thead><tbody><tr><td>&quot;1KG&quot;</td><td>9.99e-01</td><td>2.02e-03</td><td>9.81e-01</td><td>1.00e+00</td><td>629</td><td>6.29e+02</td></tr>\n",
       "<tr><td>&quot;HMIII&quot;</td><td>9.98e-01</td><td>2.57e-03</td><td>9.82e-01</td><td>1.00e+00</td><td>109</td><td>1.09e+02</td></tr>\n",
       "</tbody></table>"
      ],
      "text/plain": [
       "+---------+------------+-------------+-----------+-----------+---------+-----------+\n",
       "| source  | stats.mean | stats.stdev | stats.min | stats.max | stats.n | stats.sum |\n",
       "+---------+------------+-------------+-----------+-----------+---------+-----------+\n",
       "| str     |    float64 |     float64 |   float64 |   float64 |   int64 |   float64 |\n",
       "+---------+------------+-------------+-----------+-----------+---------+-----------+\n",
       "| \"1KG\"   |   9.99e-01 |    2.02e-03 |  9.81e-01 |  1.00e+00 |     629 |  6.29e+02 |\n",
       "| \"HMIII\" |   9.98e-01 |    2.57e-03 |  9.82e-01 |  1.00e+00 |     109 |  1.09e+02 |\n",
       "+---------+------------+-------------+-----------+-----------+---------+-----------+"
      ]
     },
     "metadata": {},
     "output_type": "display_data"
    }
   ],
   "source": [
    "# As a preliminary check, look at the call rate status betweeen 1KG and HMIII samples\n",
    "mt_mg_pr_cols = hl.sample_qc(mt_mg_pr.key_rows_by(\"locus\", \"alleles\")).cols()\n",
    "mt_mg_pr_cols.group_by(mt_mg_pr_cols.source).aggregate(stats=hl.agg.stats(mt_mg_pr_cols.sample_qc.call_rate)).show()"
   ]
  },
  {
   "cell_type": "markdown",
   "metadata": {},
   "source": [
    "##### Dimensionality Reduction"
   ]
  },
  {
   "cell_type": "code",
   "execution_count": 55,
   "metadata": {},
   "outputs": [
    {
     "name": "stderr",
     "output_type": "stream",
     "text": [
      "2020-01-21 18:29:43 Hail: INFO: Ordering unsorted dataset with network shuffle\n",
      "2020-01-21 18:29:45 Hail: INFO: hwe_normalized_pca: running PCA using 93335 variants.\n",
      "2020-01-21 18:29:45 Hail: INFO: Ordering unsorted dataset with network shuffle\n",
      "2020-01-21 18:29:48 Hail: INFO: pca: running PCA with 10 components...\n",
      "2020-01-21 18:30:41 Hail: INFO: Coerced sorted dataset\n"
     ]
    },
    {
     "data": {
      "text/html": [
       "<table><thead style=\"font-weight: bold;\"><tr><td>source</td><td>s</td><td>scores</td></tr>\n",
       "<tr><td>str</td><td>str</td><td>array&lt;float64&gt;</td></tr>\n",
       "</thead><tbody><tr><td>&quot;1KG&quot;</td><td>&quot;HG00098&quot;</td><td>[-2.00e-01,1.90e-01,1.96e-02,1.74e-03,-5.71e-03,1.14e-03,5.39e-04,8.32e-03,3.70e-03,-1.39e-04]</td></tr>\n",
       "<tr><td>&quot;1KG&quot;</td><td>&quot;HG00100&quot;</td><td>[-2.07e-01,1.96e-01,1.70e-02,-3.11e-03,-1.48e-02,-2.55e-03,-1.54e-03,3.27e-03,1.13e-03,3.97e-03]</td></tr>\n",
       "<tr><td>&quot;1KG&quot;</td><td>&quot;HG00106&quot;</td><td>[-2.04e-01,1.93e-01,2.15e-02,-5.69e-03,5.05e-03,3.10e-04,-1.56e-02,1.70e-02,1.08e-02,-4.24e-03]</td></tr>\n",
       "<tr><td>&quot;1KG&quot;</td><td>&quot;HG00112&quot;</td><td>[-2.13e-01,1.98e-01,3.17e-02,4.35e-03,3.69e-03,-2.09e-03,-8.85e-03,1.28e-02,-7.13e-04,3.94e-03]</td></tr>\n",
       "<tr><td>&quot;1KG&quot;</td><td>&quot;HG00114&quot;</td><td>[-2.00e-01,1.88e-01,1.69e-03,-1.97e-04,1.68e-03,-1.60e-04,-1.78e-03,1.37e-02,3.36e-03,-4.46e-03]</td></tr>\n",
       "</tbody></table><p style=\"background: #fdd; padding: 0.4em;\">showing top 5 rows</p>\n"
      ],
      "text/plain": [
       "+--------+-----------+\n",
       "| source | s         |\n",
       "+--------+-----------+\n",
       "| str    | str       |\n",
       "+--------+-----------+\n",
       "| \"1KG\"  | \"HG00098\" |\n",
       "| \"1KG\"  | \"HG00100\" |\n",
       "| \"1KG\"  | \"HG00106\" |\n",
       "| \"1KG\"  | \"HG00112\" |\n",
       "| \"1KG\"  | \"HG00114\" |\n",
       "+--------+-----------+\n",
       "\n",
       "+--------------------------------------------------------------------------------------------------+\n",
       "| scores                                                                                           |\n",
       "+--------------------------------------------------------------------------------------------------+\n",
       "| array<float64>                                                                                   |\n",
       "+--------------------------------------------------------------------------------------------------+\n",
       "| [-2.00e-01,1.90e-01,1.96e-02,1.74e-03,-5.71e-03,1.14e-03,5.39e-04,8.32e-03,3.70e-03,-1.39e-04]   |\n",
       "| [-2.07e-01,1.96e-01,1.70e-02,-3.11e-03,-1.48e-02,-2.55e-03,-1.54e-03,3.27e-03,1.13e-03,3.97e-03] |\n",
       "| [-2.04e-01,1.93e-01,2.15e-02,-5.69e-03,5.05e-03,3.10e-04,-1.56e-02,1.70e-02,1.08e-02,-4.24e-03]  |\n",
       "| [-2.13e-01,1.98e-01,3.17e-02,4.35e-03,3.69e-03,-2.09e-03,-8.85e-03,1.28e-02,-7.13e-04,3.94e-03]  |\n",
       "| [-2.00e-01,1.88e-01,1.69e-03,-1.97e-04,1.68e-03,-1.60e-04,-1.78e-03,1.37e-02,3.36e-03,-4.46e-03] |\n",
       "+--------------------------------------------------------------------------------------------------+\n",
       "showing top 5 rows"
      ]
     },
     "metadata": {},
     "output_type": "display_data"
    }
   ],
   "source": [
    "# Run PCA\n",
    "# See: https://hail.is/docs/0.2/tutorials/01-genome-wide-association-study.html\n",
    "eigenvalues, pcs, loadings = hl.hwe_normalized_pca(mt_mg_pr.GT, k=10, compute_loadings=True)\n",
    "pcs.show(5, width=100)"
   ]
  },
  {
   "cell_type": "markdown",
   "metadata": {},
   "source": [
    "Write the PC table out for later use as covariates in regressions:"
   ]
  },
  {
   "cell_type": "code",
   "execution_count": 75,
   "metadata": {
    "ExecuteTime": {
     "end_time": "2020-01-26T21:19:37.384078Z",
     "start_time": "2020-01-26T21:19:37.098878Z"
    }
   },
   "outputs": [
    {
     "name": "stderr",
     "output_type": "stream",
     "text": [
      "2020-01-26 21:19:37 Hail: INFO: Ordering unsorted dataset with network shuffle\n",
      "2020-01-26 21:19:37 Hail: INFO: wrote table with 738 rows in 2 partitions to /home/eczech/data/gwas/tutorial/2_PS_GWAS/covar_pca.mt\n"
     ]
    },
    {
     "data": {
      "text/plain": [
       "'/home/eczech/data/gwas/tutorial/2_PS_GWAS/covar_pca.mt'"
      ]
     },
     "execution_count": 75,
     "metadata": {},
     "output_type": "execute_result"
    }
   ],
   "source": [
    "path = osp.join(data_dir, PS5_COVAR_PCA_FILE + '.mt')\n",
    "pcs.write(path, overwrite=True)\n",
    "path"
   ]
  },
  {
   "cell_type": "markdown",
   "metadata": {},
   "source": [
    "Convert to data frame for visualization:"
   ]
  },
  {
   "cell_type": "code",
   "execution_count": 68,
   "metadata": {
    "ExecuteTime": {
     "end_time": "2020-01-26T21:09:19.342905Z",
     "start_time": "2020-01-26T21:09:18.981206Z"
    }
   },
   "outputs": [
    {
     "data": {
      "text/html": [
       "<div>\n",
       "<style scoped>\n",
       "    .dataframe tbody tr th:only-of-type {\n",
       "        vertical-align: middle;\n",
       "    }\n",
       "\n",
       "    .dataframe tbody tr th {\n",
       "        vertical-align: top;\n",
       "    }\n",
       "\n",
       "    .dataframe thead th {\n",
       "        text-align: right;\n",
       "    }\n",
       "</style>\n",
       "<table border=\"1\" class=\"dataframe\">\n",
       "  <thead>\n",
       "    <tr style=\"text-align: right;\">\n",
       "      <th></th>\n",
       "      <th>PC1</th>\n",
       "      <th>PC2</th>\n",
       "      <th>race</th>\n",
       "      <th>s</th>\n",
       "      <th>source</th>\n",
       "    </tr>\n",
       "  </thead>\n",
       "  <tbody>\n",
       "    <tr>\n",
       "      <th>0</th>\n",
       "      <td>-0.198013</td>\n",
       "      <td>0.195232</td>\n",
       "      <td>OWN</td>\n",
       "      <td>NA06989</td>\n",
       "      <td>HMIII</td>\n",
       "    </tr>\n",
       "    <tr>\n",
       "      <th>1</th>\n",
       "      <td>-0.200173</td>\n",
       "      <td>0.188231</td>\n",
       "      <td>OWN</td>\n",
       "      <td>NA11891</td>\n",
       "      <td>HMIII</td>\n",
       "    </tr>\n",
       "    <tr>\n",
       "      <th>2</th>\n",
       "      <td>-0.197197</td>\n",
       "      <td>0.204136</td>\n",
       "      <td>OWN</td>\n",
       "      <td>NA11843</td>\n",
       "      <td>HMIII</td>\n",
       "    </tr>\n",
       "    <tr>\n",
       "      <th>3</th>\n",
       "      <td>-0.189178</td>\n",
       "      <td>0.193970</td>\n",
       "      <td>OWN</td>\n",
       "      <td>NA12341</td>\n",
       "      <td>HMIII</td>\n",
       "    </tr>\n",
       "    <tr>\n",
       "      <th>4</th>\n",
       "      <td>-0.196459</td>\n",
       "      <td>0.195150</td>\n",
       "      <td>OWN</td>\n",
       "      <td>NA06984</td>\n",
       "      <td>HMIII</td>\n",
       "    </tr>\n",
       "  </tbody>\n",
       "</table>\n",
       "</div>"
      ],
      "text/plain": [
       "        PC1       PC2 race        s source\n",
       "0 -0.198013  0.195232  OWN  NA06989  HMIII\n",
       "1 -0.200173  0.188231  OWN  NA11891  HMIII\n",
       "2 -0.197197  0.204136  OWN  NA11843  HMIII\n",
       "3 -0.189178  0.193970  OWN  NA12341  HMIII\n",
       "4 -0.196459  0.195150  OWN  NA06984  HMIII"
      ]
     },
     "execution_count": 68,
     "metadata": {},
     "output_type": "execute_result"
    }
   ],
   "source": [
    "def get_pca_data(mt, pcs):\n",
    "    mt = mt.annotate_cols(scores = pcs[(mt.source, mt.s)].scores)\n",
    "    return pd.DataFrame(hl.struct(source=mt.source, s=mt.s, race=mt.race, PC1=mt.scores[0], PC2=mt.scores[1]).collect())\n",
    "df_pca = get_pca_data(mt_mg_pr, pcs)\n",
    "df_pca.head()"
   ]
  },
  {
   "cell_type": "markdown",
   "metadata": {},
   "source": [
    "##### Visualize"
   ]
  },
  {
   "cell_type": "code",
   "execution_count": 69,
   "metadata": {
    "ExecuteTime": {
     "end_time": "2020-01-26T21:09:21.463784Z",
     "start_time": "2020-01-26T21:09:20.803660Z"
    }
   },
   "outputs": [
    {
     "data": {
      "image/png": "[encoded data removed]",
      "text/plain": [
       "<Figure size 1600x600 with 1 Axes>"
      ]
     },
     "metadata": {},
     "output_type": "display_data"
    },
    {
     "data": {
      "text/plain": [
       "<ggplot: (8782051329653)>"
      ]
     },
     "execution_count": 69,
     "metadata": {},
     "output_type": "execute_result"
    }
   ],
   "source": [
    "# Show all the different 1KG populations superimposed on the HMIII population\n",
    "def pca_plot(df):\n",
    "    return (\n",
    "        pn.ggplot(\n",
    "            df\n",
    "                .assign(alpha=lambda df: df['source'].apply(lambda v: 1 if v == 'HMIII' else 0))\n",
    "                .assign(size=lambda df: df['race'].apply(lambda v: 1 if v == 'OWN' else 0))\n",
    "                .assign(shape=lambda df: df['race'].apply(lambda v: 'OWN' if v == 'OWN' else 'OTHER'))\n",
    "            , \n",
    "            pn.aes(x='PC1', y='PC2', fill='race', color='race', shape='shape', alpha='alpha', size='size')\n",
    "        ) +\n",
    "        pn.geom_point() + \n",
    "        pn.scale_shape_manual(values=['o', 'x']) +\n",
    "        pn.scale_size_continuous(range=(4, 8)) + \n",
    "        pn.scale_alpha_continuous(range=(.2, 1)) +\n",
    "        pn.theme_bw() +\n",
    "        pn.labs(title='Population Stratification') + \n",
    "        pn.theme(figure_size=(16, 6)) \n",
    "    )\n",
    "pca_plot(df_pca)"
   ]
  },
  {
   "cell_type": "code",
   "execution_count": 70,
   "metadata": {
    "ExecuteTime": {
     "end_time": "2020-01-26T21:09:22.625042Z",
     "start_time": "2020-01-26T21:09:22.162057Z"
    }
   },
   "outputs": [
    {
     "data": {
      "image/png": "[encoded data removed]",
      "text/plain": [
       "<Figure size 1600x600 with 1 Axes>"
      ]
     },
     "metadata": {},
     "output_type": "display_data"
    },
    {
     "data": {
      "text/plain": [
       "<ggplot: (8782051976065)>"
      ]
     },
     "execution_count": 70,
     "metadata": {},
     "output_type": "execute_result"
    }
   ],
   "source": [
    "# Zoom in on OWN + EUR populations \n",
    "pca_plot(df_pca.pipe(lambda df: df[df['race'].isin(['OWN', 'EUR'])]))"
   ]
  },
  {
   "cell_type": "markdown",
   "metadata": {},
   "source": [
    "##### Run PLINK PCA on this data"
   ]
  },
  {
   "cell_type": "code",
   "execution_count": 59,
   "metadata": {},
   "outputs": [
    {
     "name": "stderr",
     "output_type": "stream",
     "text": [
      "2020-01-21 18:38:19 Hail: INFO: Ordering unsorted dataset with network shuffle\n",
      "2020-01-21 18:38:21 Hail: INFO: Ordering unsorted dataset with network shuffle\n",
      "2020-01-21 18:38:25 Hail: INFO: merging 119 files totalling 16.5M...\n",
      "2020-01-21 18:38:25 Hail: INFO: while writing:\n",
      "    /tmp/mt_mg_pr.bed\n",
      "  merge time: 54.974ms\n",
      "2020-01-21 18:38:25 Hail: INFO: merging 118 files totalling 3.1M...\n",
      "2020-01-21 18:38:25 Hail: INFO: while writing:\n",
      "    /tmp/mt_mg_pr.bim\n",
      "  merge time: 27.471ms\n",
      "2020-01-21 18:38:26 Hail: INFO: merging 16 files totalling 16.8K...\n",
      "2020-01-21 18:38:26 Hail: INFO: while writing:\n",
      "    /tmp/mt_mg_pr.fam\n",
      "  merge time: 12.141ms\n",
      "2020-01-21 18:38:26 Hail: INFO: wrote 93335 variants and 738 samples to '/tmp/mt_mg_pr'\n"
     ]
    }
   ],
   "source": [
    "hl.export_plink(\n",
    "    mt_mg_pr\n",
    "        .annotate_cols(sample_id=mt_mg_pr.source + '_' + mt_mg_pr.s)\n",
    "        .key_rows_by(\"locus\", \"alleles\")\n",
    "        .key_cols_by(\"sample_id\"), \n",
    "    '/tmp/mt_mg_pr'\n",
    ")"
   ]
  },
  {
   "cell_type": "code",
   "execution_count": 60,
   "metadata": {},
   "outputs": [
    {
     "name": "stdout",
     "output_type": "stream",
     "text": [
      "PLINK v1.90b6.14 64-bit (7 Jan 2020)           www.cog-genomics.org/plink/1.9/\n",
      "(C) 2005-2020 Shaun Purcell, Christopher Chang   GNU General Public License v3\n",
      "Logging to mt_mg_pr_pca.log.\n",
      "Options in effect:\n",
      "  --bfile mt_mg_pr\n",
      "  --out mt_mg_pr_pca\n",
      "  --pca 10 header\n",
      "\n",
      "128535 MB RAM detected; reserving 64267 MB for main workspace.\n",
      "93335 variants loaded from .bim file.\n",
      "738 people (0 males, 0 females, 738 ambiguous) loaded from .fam.\n",
      "Ambiguous sex IDs written to mt_mg_pr_pca.nosex .\n",
      "Using up to 15 threads (change this with --threads).\n",
      "Before main variant filters, 738 founders and 0 nonfounders present.\n",
      "Calculating allele frequencies... 10111213141516171819202122232425262728293031323334353637383940414243444546474849505152535455565758596061626364656667686970717273747576777879808182838485868788899091929394959697989 done.\n",
      "Total genotyping rate is 0.99925.\n",
      "93335 variants and 738 people pass filters and QC.\n",
      "Note: No phenotypes present.\n",
      "Relationship matrix calculation complete.\n",
      "--pca: Results saved to mt_mg_pr_pca.eigenval and mt_mg_pr_pca.eigenvec .\n"
     ]
    }
   ],
   "source": [
    "%%bash\n",
    "set -e; cd /tmp\n",
    "plink --bfile mt_mg_pr --pca 10 header --out mt_mg_pr_pca"
   ]
  },
  {
   "cell_type": "code",
   "execution_count": 61,
   "metadata": {},
   "outputs": [
    {
     "name": "stdout",
     "output_type": "stream",
     "text": [
      "FID IID PC1 PC2 PC3 PC4 PC5 PC6 PC7 PC8 PC9 PC10\n",
      "0 HMIII_NA06989 -0.0234795 -0.0274196 0.0433127 0.0447726 0.284258 0.146767 0.0378291 -0.0883927 0.00692538 0.100445\n",
      "0 HMIII_NA11891 -0.0239533 -0.0266804 0.0120315 0.0076026 -0.000458243 0.0136464 0.00275993 0.00243033 0.00586864 0.000546752\n",
      "0 HMIII_NA11843 -0.023346 -0.0286243 0.00226148 0.0458144 -0.0130366 -0.167813 0.13401 0.00542654 0.00208108 -0.0849135\n",
      "0 HMIII_NA12341 -0.0224502 -0.0272645 0.0410155 0.016035 -0.0201151 0.110557 -0.00690638 -0.0720943 -0.048481 0.0820583\n",
      "0 HMIII_NA06984 -0.0233654 -0.0274911 0.0242398 0.016546 0.0313921 -0.0950159 0.0557937 -0.214443 -0.0218069 -0.0843819\n",
      "0 HMIII_NA12275 -0.0236013 -0.0276942 0.0108257 0.0149722 -0.0839384 0.123264 -0.0332875 0.0666898 -0.047207 0.041668\n",
      "0 HMIII_NA06986 -0.0230251 -0.0284001 0.0498557 0.0717368 -0.0180021 -0.112204 -0.0910138 0.138171 -0.0176416 0.128533\n",
      "0 HMIII_NA12272 -0.0236025 -0.0281391 -0.00237622 0.0169355 -0.0185441 -0.0781406 0.0186605 0.0339921 0.0270782 0.0391225\n",
      "0 HMIII_NA07051 -0.024902 -0.0283621 0.0918095 0.0121294 -0.0851684 0.244024 0.0947627 -0.0100297 0.119433 -0.066644\n"
     ]
    }
   ],
   "source": [
    "%%bash\n",
    "set -e; cd /tmp\n",
    "head mt_mg_pr_pca.eigenvec"
   ]
  },
  {
   "cell_type": "code",
   "execution_count": 63,
   "metadata": {},
   "outputs": [
    {
     "data": {
      "text/html": [
       "<div>\n",
       "<style scoped>\n",
       "    .dataframe tbody tr th:only-of-type {\n",
       "        vertical-align: middle;\n",
       "    }\n",
       "\n",
       "    .dataframe tbody tr th {\n",
       "        vertical-align: top;\n",
       "    }\n",
       "\n",
       "    .dataframe thead th {\n",
       "        text-align: right;\n",
       "    }\n",
       "</style>\n",
       "<table border=\"1\" class=\"dataframe\">\n",
       "  <thead>\n",
       "    <tr style=\"text-align: right;\">\n",
       "      <th></th>\n",
       "      <th>FID</th>\n",
       "      <th>IID</th>\n",
       "      <th>PC1</th>\n",
       "      <th>PC2</th>\n",
       "      <th>PC3</th>\n",
       "      <th>PC4</th>\n",
       "      <th>PC5</th>\n",
       "      <th>PC6</th>\n",
       "      <th>PC7</th>\n",
       "      <th>PC8</th>\n",
       "      <th>PC9</th>\n",
       "      <th>PC10</th>\n",
       "      <th>race</th>\n",
       "      <th>source</th>\n",
       "      <th>s</th>\n",
       "    </tr>\n",
       "  </thead>\n",
       "  <tbody>\n",
       "    <tr>\n",
       "      <th>0</th>\n",
       "      <td>0</td>\n",
       "      <td>HMIII_NA06989</td>\n",
       "      <td>-0.023480</td>\n",
       "      <td>-0.027420</td>\n",
       "      <td>0.043313</td>\n",
       "      <td>0.044773</td>\n",
       "      <td>0.284258</td>\n",
       "      <td>0.146767</td>\n",
       "      <td>0.037829</td>\n",
       "      <td>-0.088393</td>\n",
       "      <td>0.006925</td>\n",
       "      <td>0.100445</td>\n",
       "      <td>OWN</td>\n",
       "      <td>HMIII</td>\n",
       "      <td>NA06989</td>\n",
       "    </tr>\n",
       "    <tr>\n",
       "      <th>1</th>\n",
       "      <td>0</td>\n",
       "      <td>HMIII_NA11891</td>\n",
       "      <td>-0.023953</td>\n",
       "      <td>-0.026680</td>\n",
       "      <td>0.012032</td>\n",
       "      <td>0.007603</td>\n",
       "      <td>-0.000458</td>\n",
       "      <td>0.013646</td>\n",
       "      <td>0.002760</td>\n",
       "      <td>0.002430</td>\n",
       "      <td>0.005869</td>\n",
       "      <td>0.000547</td>\n",
       "      <td>OWN</td>\n",
       "      <td>HMIII</td>\n",
       "      <td>NA11891</td>\n",
       "    </tr>\n",
       "    <tr>\n",
       "      <th>2</th>\n",
       "      <td>0</td>\n",
       "      <td>HMIII_NA11843</td>\n",
       "      <td>-0.023346</td>\n",
       "      <td>-0.028624</td>\n",
       "      <td>0.002261</td>\n",
       "      <td>0.045814</td>\n",
       "      <td>-0.013037</td>\n",
       "      <td>-0.167813</td>\n",
       "      <td>0.134010</td>\n",
       "      <td>0.005427</td>\n",
       "      <td>0.002081</td>\n",
       "      <td>-0.084914</td>\n",
       "      <td>OWN</td>\n",
       "      <td>HMIII</td>\n",
       "      <td>NA11843</td>\n",
       "    </tr>\n",
       "    <tr>\n",
       "      <th>3</th>\n",
       "      <td>0</td>\n",
       "      <td>HMIII_NA12341</td>\n",
       "      <td>-0.022450</td>\n",
       "      <td>-0.027264</td>\n",
       "      <td>0.041015</td>\n",
       "      <td>0.016035</td>\n",
       "      <td>-0.020115</td>\n",
       "      <td>0.110557</td>\n",
       "      <td>-0.006906</td>\n",
       "      <td>-0.072094</td>\n",
       "      <td>-0.048481</td>\n",
       "      <td>0.082058</td>\n",
       "      <td>OWN</td>\n",
       "      <td>HMIII</td>\n",
       "      <td>NA12341</td>\n",
       "    </tr>\n",
       "    <tr>\n",
       "      <th>4</th>\n",
       "      <td>0</td>\n",
       "      <td>HMIII_NA06984</td>\n",
       "      <td>-0.023365</td>\n",
       "      <td>-0.027491</td>\n",
       "      <td>0.024240</td>\n",
       "      <td>0.016546</td>\n",
       "      <td>0.031392</td>\n",
       "      <td>-0.095016</td>\n",
       "      <td>0.055794</td>\n",
       "      <td>-0.214443</td>\n",
       "      <td>-0.021807</td>\n",
       "      <td>-0.084382</td>\n",
       "      <td>OWN</td>\n",
       "      <td>HMIII</td>\n",
       "      <td>NA06984</td>\n",
       "    </tr>\n",
       "  </tbody>\n",
       "</table>\n",
       "</div>"
      ],
      "text/plain": [
       "   FID            IID       PC1       PC2       PC3       PC4       PC5  \\\n",
       "0    0  HMIII_NA06989 -0.023480 -0.027420  0.043313  0.044773  0.284258   \n",
       "1    0  HMIII_NA11891 -0.023953 -0.026680  0.012032  0.007603 -0.000458   \n",
       "2    0  HMIII_NA11843 -0.023346 -0.028624  0.002261  0.045814 -0.013037   \n",
       "3    0  HMIII_NA12341 -0.022450 -0.027264  0.041015  0.016035 -0.020115   \n",
       "4    0  HMIII_NA06984 -0.023365 -0.027491  0.024240  0.016546  0.031392   \n",
       "\n",
       "        PC6       PC7       PC8       PC9      PC10 race source        s  \n",
       "0  0.146767  0.037829 -0.088393  0.006925  0.100445  OWN  HMIII  NA06989  \n",
       "1  0.013646  0.002760  0.002430  0.005869  0.000547  OWN  HMIII  NA11891  \n",
       "2 -0.167813  0.134010  0.005427  0.002081 -0.084914  OWN  HMIII  NA11843  \n",
       "3  0.110557 -0.006906 -0.072094 -0.048481  0.082058  OWN  HMIII  NA12341  \n",
       "4 -0.095016  0.055794 -0.214443 -0.021807 -0.084382  OWN  HMIII  NA06984  "
      ]
     },
     "execution_count": 63,
     "metadata": {},
     "output_type": "execute_result"
    }
   ],
   "source": [
    "df_plink_pca = (\n",
    "    pd.read_csv('/tmp/mt_mg_pr_pca.eigenvec', sep='\\s+')\n",
    "    .assign(race=lambda df: df['IID'].map(df_pca.assign(sample_id=lambda df: df['source'] + '_' + df['s']).set_index('sample_id')['race'].to_dict()))\n",
    "    .assign(source=lambda df: df['IID'].str.split('_').str[0])\n",
    "    .assign(s=lambda df: df['IID'].str.split('_').str[1])\n",
    ")\n",
    "df_plink_pca.head()"
   ]
  },
  {
   "cell_type": "code",
   "execution_count": 65,
   "metadata": {},
   "outputs": [
    {
     "data": {
      "image/png": "[encoded data removed]",
      "text/plain": [
       "<Figure size 1600x600 with 1 Axes>"
      ]
     },
     "metadata": {},
     "output_type": "display_data"
    },
    {
     "data": {
      "text/plain": [
       "<ggplot: (8782052666341)>"
      ]
     },
     "execution_count": 65,
     "metadata": {},
     "output_type": "execute_result"
    }
   ],
   "source": [
    "pca_plot(df_plink_pca)"
   ]
  },
  {
   "cell_type": "code",
   "execution_count": 64,
   "metadata": {},
   "outputs": [
    {
     "data": {
      "image/png": "[encoded data removed]",
      "text/plain": [
       "<Figure size 1600x600 with 1 Axes>"
      ]
     },
     "metadata": {},
     "output_type": "display_data"
    },
    {
     "data": {
      "text/plain": [
       "<ggplot: (8782051376073)>"
      ]
     },
     "execution_count": 64,
     "metadata": {},
     "output_type": "execute_result"
    }
   ],
   "source": [
    "# Zoom in on OWN + EUR populations \n",
    "pca_plot(df_plink_pca.pipe(lambda df: df[df['race'].isin(['OWN', 'EUR'])]))"
   ]
  }
 ],
 "metadata": {
  "kernelspec": {
   "display_name": "Python 3",
   "language": "python",
   "name": "python3"
  },
  "language_info": {
   "codemirror_mode": {
    "name": "ipython",
    "version": 3
   },
   "file_extension": ".py",
   "mimetype": "text/x-python",
   "name": "python",
   "nbconvert_exporter": "python",
   "pygments_lexer": "ipython3",
   "version": "3.7.6"
  }
 },
 "nbformat": 4,
 "nbformat_minor": 4
}
