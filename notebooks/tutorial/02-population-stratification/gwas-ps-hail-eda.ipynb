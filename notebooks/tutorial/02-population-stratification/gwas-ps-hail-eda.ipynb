{
 "cells": [
  {
   "cell_type": "code",
   "execution_count": 1,
   "metadata": {},
   "outputs": [
    {
     "name": "stderr",
     "output_type": "stream",
     "text": [
      "Running on Apache Spark version 2.4.4\n",
      "SparkUI available at http://3d498b83ee57:4040\n",
      "Welcome to\n",
      "     __  __     <>__\n",
      "    / /_/ /__  __/ /\n",
      "   / __  / _ `/ / /\n",
      "  /_/ /_/\\_,_/_/_/   version 0.2.30-2ae07d872f43\n",
      "LOGGING: writing to /home/eczech/repos/gwas-analysis/notebooks/tutorial/02-population-stratification/hail-20200119-0238-0.2.30-2ae07d872f43.log\n"
     ]
    }
   ],
   "source": [
    "import pandas as pd\n",
    "import numpy as np\n",
    "import seaborn as sns\n",
    "import matplotlib.pyplot as plt\n",
    "import hail as hl\n",
    "import os.path as osp\n",
    "import multiprocessing\n",
    "\n",
    "# Benchmarking utilities\n",
    "%run ../init/benchmark.py\n",
    "register_timeop_magic(get_ipython(), 'hail')\n",
    "data_dir = osp.expanduser('~/data/gwas/tutorial/2_PS_GWAS')\n",
    "\n",
    "hl.init() "
   ]
  },
  {
   "cell_type": "code",
   "execution_count": 2,
   "metadata": {},
   "outputs": [],
   "source": [
    "#hl.spark_context()._conf.set(\"spark.sql.shuffle.partitions\", 1)"
   ]
  },
  {
   "cell_type": "code",
   "execution_count": 2,
   "metadata": {},
   "outputs": [
    {
     "name": "stderr",
     "output_type": "stream",
     "text": [
      "2020-01-16 13:33:15 Hail: INFO: Found 629 samples in fam file.\n",
      "2020-01-16 13:33:15 Hail: INFO: Found 25488488 variants in bim file.\n"
     ]
    }
   ],
   "source": [
    "# # Load PLINK dataset using our custom reference\n",
    "# PS1_FILE = \"ALL.2of4intersection.20100804.genotypes_no_missing_IDs\"\n",
    "# mt = hl.import_plink(\n",
    "#     osp.join(data_dir, PS1_FILE + '.bed'),\n",
    "#     osp.join(data_dir, PS1_FILE + '.bim'),\n",
    "#     osp.join(data_dir, PS1_FILE + '.fam'),\n",
    "#     skip_invalid_loci=True,\n",
    "#     #reference_genome='hapmap3_hg18'\n",
    "# )"
   ]
  },
  {
   "cell_type": "code",
   "execution_count": 3,
   "metadata": {},
   "outputs": [
    {
     "name": "stderr",
     "output_type": "stream",
     "text": [
      "2020-01-16 15:39:45 Hail: INFO: Found 629 samples in fam file.\n",
      "2020-01-16 15:39:45 Hail: INFO: Found 25488488 variants in bim file.\n"
     ]
    }
   ],
   "source": [
    "# Load PLINK dataset using our custom reference\n",
    "PS1_FILE = \"ALL.2of4intersection.20100804.genotypes_no_missing_IDs\"\n",
    "#PS1_FILE = \"ALL.2of4intersection.20100804.genotypes\"\n",
    "mt = hl.import_plink(\n",
    "    osp.join(data_dir, PS1_FILE + '.bed'),\n",
    "    osp.join(data_dir, PS1_FILE + '.bim'),\n",
    "    osp.join(data_dir, PS1_FILE + '.fam'),\n",
    "    skip_invalid_loci=False,\n",
    "    reference_genome='GRCh37'\n",
    ")"
   ]
  },
  {
   "cell_type": "code",
   "execution_count": 4,
   "metadata": {},
   "outputs": [
    {
     "name": "stdout",
     "output_type": "stream",
     "text": [
      "----------------------------------------\n",
      "Global fields:\n",
      "    None\n",
      "----------------------------------------\n",
      "Column fields:\n",
      "    's': str\n",
      "    'fam_id': str\n",
      "    'pat_id': str\n",
      "    'mat_id': str\n",
      "    'is_female': bool\n",
      "    'is_case': bool\n",
      "----------------------------------------\n",
      "Row fields:\n",
      "    'locus': locus<GRCh37>\n",
      "    'alleles': array<str>\n",
      "    'rsid': str\n",
      "    'cm_position': float64\n",
      "----------------------------------------\n",
      "Entry fields:\n",
      "    'GT': call\n",
      "----------------------------------------\n",
      "Column key: ['s']\n",
      "Row key: ['locus', 'alleles']\n",
      "----------------------------------------\n"
     ]
    }
   ],
   "source": [
    "mt.describe()"
   ]
  },
  {
   "cell_type": "code",
   "execution_count": 5,
   "metadata": {},
   "outputs": [
    {
     "name": "stderr",
     "output_type": "stream",
     "text": [
      "2020-01-16 15:41:44 Hail: INFO: Coerced sorted dataset\n",
      "2020-01-16 15:46:06 Hail: INFO: wrote matrix table with 25488488 rows and 629 columns in 120 partitions to /home/eczech/data/gwas/tutorial/2_PS_GWAS/ALL.2of4intersection.20100804.genotypes_no_missing_IDs.mt\n"
     ]
    }
   ],
   "source": [
    "mt.write(osp.join(data_dir, 'ALL.2of4intersection.20100804.genotypes_no_missing_IDs.mt'), overwrite=True)"
   ]
  },
  {
   "cell_type": "code",
   "execution_count": 2,
   "metadata": {},
   "outputs": [],
   "source": [
    "mt = hl.read_matrix_table(osp.join(data_dir, 'ALL.2of4intersection.20100804.genotypes_no_missing_IDs.mt'))"
   ]
  },
  {
   "cell_type": "code",
   "execution_count": 3,
   "metadata": {},
   "outputs": [
    {
     "data": {
      "text/plain": [
       "(25488488, 629)"
      ]
     },
     "execution_count": 3,
     "metadata": {},
     "output_type": "execute_result"
    }
   ],
   "source": [
    "mt.count()"
   ]
  },
  {
   "cell_type": "code",
   "execution_count": 4,
   "metadata": {},
   "outputs": [],
   "source": [
    "rows = mt.rows()\n",
    "cts = rows.group_by(rows.rsid).aggregate(n=hl.agg.count())"
   ]
  },
  {
   "cell_type": "code",
   "execution_count": 7,
   "metadata": {},
   "outputs": [
    {
     "name": "stderr",
     "output_type": "stream",
     "text": [
      "2020-01-16 15:55:10 Hail: INFO: Ordering unsorted dataset with network shuffle\n",
      "2020-01-16 15:55:45 Hail: INFO: Coerced sorted dataset\n"
     ]
    },
    {
     "data": {
      "text/html": [
       "<table><thead style=\"font-weight: bold;\"><tr><td>n</td><td>nn</td></tr>\n",
       "<tr><td>int64</td><td>int64</td></tr>\n",
       "</thead><tbody><tr><td>1</td><td>25488488</td></tr>\n",
       "</tbody></table>"
      ],
      "text/plain": [
       "+-------+----------+\n",
       "|     n |       nn |\n",
       "+-------+----------+\n",
       "| int64 |    int64 |\n",
       "+-------+----------+\n",
       "|     1 | 25488488 |\n",
       "+-------+----------+"
      ]
     },
     "metadata": {},
     "output_type": "display_data"
    }
   ],
   "source": [
    "cts.group_by(cts.n).aggregate(nn=hl.agg.count()).show()"
   ]
  },
  {
   "cell_type": "markdown",
   "metadata": {},
   "source": [
    "#### Write vcf for glow "
   ]
  },
  {
   "cell_type": "code",
   "execution_count": 2,
   "metadata": {},
   "outputs": [],
   "source": [
    "mt = hl.read_matrix_table(osp.join(data_dir, 'ALL.2of4intersection.20100804.genotypes_no_missing_IDs.mt'))"
   ]
  },
  {
   "cell_type": "code",
   "execution_count": 7,
   "metadata": {},
   "outputs": [
    {
     "name": "stderr",
     "output_type": "stream",
     "text": [
      "2020-01-19 03:24:20 Hail: INFO: merging 49 files totalling 1.5G...\n",
      "2020-01-19 03:24:21 Hail: INFO: while writing:\n",
      "    /home/eczech/data/gwas/tutorial/2_PS_GWAS/ALL.2of4intersection.20100804.genotypes_no_missing_IDs.glowmt.bed\n",
      "  merge time: 1.481s\n",
      "2020-01-19 03:24:21 Hail: INFO: merging 48 files totalling 332.1M...\n",
      "2020-01-19 03:24:22 Hail: INFO: while writing:\n",
      "    /home/eczech/data/gwas/tutorial/2_PS_GWAS/ALL.2of4intersection.20100804.genotypes_no_missing_IDs.glowmt.bim\n",
      "  merge time: 370.854ms\n",
      "2020-01-19 03:24:22 Hail: INFO: merging 16 files totalling 11.7K...\n",
      "2020-01-19 03:24:22 Hail: INFO: while writing:\n",
      "    /home/eczech/data/gwas/tutorial/2_PS_GWAS/ALL.2of4intersection.20100804.genotypes_no_missing_IDs.glowmt.fam\n",
      "  merge time: 5.362ms\n",
      "2020-01-19 03:24:22 Hail: INFO: wrote 10000000 variants and 629 samples to '/home/eczech/data/gwas/tutorial/2_PS_GWAS/ALL.2of4intersection.20100804.genotypes_no_missing_IDs.glowmt'\n"
     ]
    }
   ],
   "source": [
    "# Result must be less than 2G to not produce overflow in PLINKFileFormat within Glow\n",
    "hl.export_plink(mt.head(10000000), osp.join(data_dir, 'ALL.2of4intersection.20100804.genotypes_no_missing_IDs.glowmt'))"
   ]
  },
  {
   "cell_type": "markdown",
   "metadata": {},
   "source": [
    "```\n",
    "cat ALL.2of4intersection.20100804.genotypes_no_missing_IDs.glowmt.fam | sed 's/\\t/ /g' > ALL.2of4intersection.20100804.genotypes_no_missing_IDs.glowmt.fam.tmp\n",
    "\n",
    "mv ALL.2of4intersection.20100804.genotypes_no_missing_IDs.glowmt.fam.tmp ALL.2of4intersection.20100804.genotypes_no_missing_IDs.glowmt.fam\n",
    "```"
   ]
  }
 ],
 "metadata": {
  "kernelspec": {
   "display_name": "Python 3",
   "language": "python",
   "name": "python3"
  },
  "language_info": {
   "codemirror_mode": {
    "name": "ipython",
    "version": 3
   },
   "file_extension": ".py",
   "mimetype": "text/x-python",
   "name": "python",
   "nbconvert_exporter": "python",
   "pygments_lexer": "ipython3",
   "version": "3.7.6"
  }
 },
 "nbformat": 4,
 "nbformat_minor": 4
}
