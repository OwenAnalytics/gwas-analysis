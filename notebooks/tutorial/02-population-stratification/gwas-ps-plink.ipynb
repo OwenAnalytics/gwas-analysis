{
 "cells": [
  {
   "cell_type": "code",
   "execution_count": 1,
   "metadata": {},
   "outputs": [
    {
     "data": {
      "text/plain": [
       "'/home/eczech/data/gwas/tutorial/2_PS_GWAS'"
      ]
     },
     "execution_count": 1,
     "metadata": {},
     "output_type": "execute_result"
    }
   ],
   "source": [
    "import os.path as osp\n",
    "import pandas as pd\n",
    "%run ../init/benchmark.py\n",
    "register_timeop_magic(get_ipython(), 'plink')\n",
    "data_dir = osp.expanduser('~/data/gwas/tutorial/2_PS_GWAS')\n",
    "data_dir"
   ]
  },
  {
   "cell_type": "markdown",
   "metadata": {},
   "source": [
    "### Step 1: Convert VCF to PLINK"
   ]
  },
  {
   "cell_type": "code",
   "execution_count": 2,
   "metadata": {},
   "outputs": [
    {
     "name": "stdout",
     "output_type": "stream",
     "text": [
      "PLINK v1.90b6.14 64-bit (7 Jan 2020)           www.cog-genomics.org/plink/1.9/\n",
      "(C) 2005-2020 Shaun Purcell, Christopher Chang   GNU General Public License v3\n",
      "Logging to ALL.2of4intersection.20100804.genotypes.log.\n",
      "Options in effect:\n",
      "  --make-bed\n",
      "  --out ALL.2of4intersection.20100804.genotypes\n",
      "  --vcf ALL.2of4intersection.20100804.genotypes.vcf.gz\n",
      "\n",
      "128535 MB RAM detected; reserving 64267 MB for main workspace.\n",
      "--vcf: ALL.2of4intersection.20100804.genotypes-temporary.bed +\n",
      "ALL.2of4intersection.20100804.genotypes-temporary.bim +\n",
      "ALL.2of4intersection.20100804.genotypes-temporary.fam written.\n",
      "25488488 variants loaded from .bim file.\n",
      "629 people (0 males, 0 females, 629 ambiguous) loaded from .fam.\n",
      "Ambiguous sex IDs written to ALL.2of4intersection.20100804.genotypes.nosex .\n",
      "Using 1 thread (no multithreaded calculations invoked).\n",
      "Before main variant filters, 629 founders and 0 nonfounders present.\n",
      "Calculating allele frequencies... 10111213141516171819202122232425262728293031323334353637383940414243444546474849505152535455565758596061626364656667686970717273747576777879808182838485868788899091929394959697989 done.\n",
      "Total genotyping rate is 0.615305.\n",
      "25488488 variants and 629 people pass filters and QC.\n",
      "Note: No phenotypes present.\n",
      "--make-bed to ALL.2of4intersection.20100804.genotypes.bed +\n",
      "ALL.2of4intersection.20100804.genotypes.bim +\n",
      "ALL.2of4intersection.20100804.genotypes.fam ... 101112131415161718192021222324252627282930313233343536373839404142434445464748495051525354555657585960616263646566676869707172737475767778798081828384858687888990919293949596979899done.\n"
     ]
    }
   ],
   "source": [
    "%%timeop -o ps1-convert\n",
    "%%bash -s \"$data_dir\"\n",
    "set -e\n",
    "cd $1\n",
    "\n",
    "## Download 1000 Genomes data ##\n",
    "# This file from the 1000 Genomes contains genetic data of 629 individuals from different ethnic backgrounds.\n",
    "# Note, this file is quite large (>60 gigabyte).  \n",
    "#*# Do this externally in background process:\n",
    "# wget ftp://ftp-trace.ncbi.nih.gov/1000genomes/ftp/release/20100804/ALL.2of4intersection.20100804.genotypes.vcf.gz\n",
    "\n",
    "# Convert vcf to Plink format.\n",
    "plink --vcf ALL.2of4intersection.20100804.genotypes.vcf.gz --make-bed --out ALL.2of4intersection.20100804.genotypes"
   ]
  },
  {
   "cell_type": "markdown",
   "metadata": {},
   "source": [
    "Note that the original 62G gzipped vcf converts to a ~4.5G PLINK dataset:"
   ]
  },
  {
   "cell_type": "code",
   "execution_count": 5,
   "metadata": {},
   "outputs": [
    {
     "name": "stdout",
     "output_type": "stream",
     "text": [
      "3.8G\tALL.2of4intersection.20100804.genotypes.bed\n",
      "607M\tALL.2of4intersection.20100804.genotypes.bim\n",
      "16K\tALL.2of4intersection.20100804.genotypes.fam\n",
      "4.0K\tALL.2of4intersection.20100804.genotypes.log\n",
      "12K\tALL.2of4intersection.20100804.genotypes.nosex\n",
      "62G\tALL.2of4intersection.20100804.genotypes.vcf.gz\n",
      "66G\ttotal\n"
     ]
    }
   ],
   "source": [
    "%%bash -s \"$data_dir\"\n",
    "set -e\n",
    "cd $1\n",
    "du -ch ALL.2of4intersection.20100804.genotypes*"
   ]
  },
  {
   "cell_type": "code",
   "execution_count": 2,
   "metadata": {},
   "outputs": [
    {
     "name": "stdout",
     "output_type": "stream",
     "text": [
      "PLINK v1.90b6.14 64-bit (7 Jan 2020)           www.cog-genomics.org/plink/1.9/\n",
      "(C) 2005-2020 Shaun Purcell, Christopher Chang   GNU General Public License v3\n",
      "Logging to ALL.2of4intersection.20100804.genotypes_no_missing_IDs.log.\n",
      "Options in effect:\n",
      "  --bfile ALL.2of4intersection.20100804.genotypes\n",
      "  --make-bed\n",
      "  --out ALL.2of4intersection.20100804.genotypes_no_missing_IDs\n",
      "  --set-missing-var-ids @:#[b37]$1,$2\n",
      "\n",
      "128535 MB RAM detected; reserving 64267 MB for main workspace.\n",
      "25488488 variants loaded from .bim file.\n",
      "10375501 missing IDs set.\n",
      "629 people (0 males, 0 females, 629 ambiguous) loaded from .fam.\n",
      "Ambiguous sex IDs written to\n",
      "ALL.2of4intersection.20100804.genotypes_no_missing_IDs.nosex .\n",
      "Using 1 thread (no multithreaded calculations invoked).\n",
      "Before main variant filters, 629 founders and 0 nonfounders present.\n",
      "Calculating allele frequencies... 10111213141516171819202122232425262728293031323334353637383940414243444546474849505152535455565758596061626364656667686970717273747576777879808182838485868788899091929394959697989 done.\n",
      "Total genotyping rate is 0.615305.\n",
      "25488488 variants and 629 people pass filters and QC.\n",
      "Note: No phenotypes present.\n",
      "--make-bed to ALL.2of4intersection.20100804.genotypes_no_missing_IDs.bed +\n",
      "ALL.2of4intersection.20100804.genotypes_no_missing_IDs.bim +\n",
      "ALL.2of4intersection.20100804.genotypes_no_missing_IDs.fam ... 101112131415161718192021222324252627282930313233343536373839404142434445464748495051525354555657585960616263646566676869707172737475767778798081828384858687888990919293949596979899done.\n",
      "Elapsed time: 14.8 seconds\n",
      "benchmarks/benchmarks_plink_1579177786337.csv\n"
     ]
    }
   ],
   "source": [
    "%%timeop -o ps1-assignrsid\n",
    "%%bash -s \"$data_dir\"\n",
    "set -e\n",
    "cd $1\n",
    "\n",
    "# Noteworthy, the file 'ALL.2of4intersection.20100804.genotypes.bim' contains SNPs without an rs-identifier, these SNPs are indicated with \".\". This can also be observed in the file 'ALL.2of4intersection.20100804.genotypes.vcf.gz'. To check this file use this command: zmore ALL.2of4intersection.20100804.genotypes.vcf.gz .\n",
    "# The missing rs-identifiers in the 1000 Genomes data are not a problem for this tutorial.\n",
    "# However, for good practice, we will assign unique indentifiers to the SNPs with a missing rs-identifier (i.e., the SNPs with \".\").\n",
    "plink --bfile ALL.2of4intersection.20100804.genotypes --set-missing-var-ids @:#[b37]\\$1,\\$2 --make-bed --out ALL.2of4intersection.20100804.genotypes_no_missing_IDs"
   ]
  },
  {
   "cell_type": "markdown",
   "metadata": {},
   "source": [
    "### Step 2: Sample/Variant Absence Filter\n",
    "\n",
    "Much like as was done with the HapMap data in QC steps, remove samples and variants with low call rates:"
   ]
  },
  {
   "cell_type": "code",
   "execution_count": 4,
   "metadata": {},
   "outputs": [
    {
     "name": "stdout",
     "output_type": "stream",
     "text": [
      "PLINK v1.90b6.14 64-bit (7 Jan 2020)           www.cog-genomics.org/plink/1.9/\n",
      "(C) 2005-2020 Shaun Purcell, Christopher Chang   GNU General Public License v3\n",
      "Logging to 1kG_MDS.log.\n",
      "Options in effect:\n",
      "  --allow-no-sex\n",
      "  --bfile ALL.2of4intersection.20100804.genotypes_no_missing_IDs\n",
      "  --geno 0.2\n",
      "  --make-bed\n",
      "  --out 1kG_MDS\n",
      "\n",
      "128535 MB RAM detected; reserving 64267 MB for main workspace.\n",
      "25488488 variants loaded from .bim file.\n",
      "629 people (0 males, 0 females, 629 ambiguous) loaded from .fam.\n",
      "Ambiguous sex IDs written to 1kG_MDS.nosex .\n",
      "Using 1 thread (no multithreaded calculations invoked).\n",
      "Before main variant filters, 629 founders and 0 nonfounders present.\n",
      "Calculating allele frequencies... 10111213141516171819202122232425262728293031323334353637383940414243444546474849505152535455565758596061626364656667686970717273747576777879808182838485868788899091929394959697989 done.\n",
      "Total genotyping rate is 0.615305.\n",
      "16481066 variants removed due to missing genotype data (--geno).\n",
      "9007422 variants and 629 people pass filters and QC.\n",
      "Note: No phenotypes present.\n",
      "--make-bed to 1kG_MDS.bed + 1kG_MDS.bim + 1kG_MDS.fam ... 101112131415161718192021222324252627282930313233343536373839404142434445464748495051525354555657585960616263646566676869707172737475767778798081828384858687888990919293949596979899done.\n",
      "PLINK v1.90b6.14 64-bit (7 Jan 2020)           www.cog-genomics.org/plink/1.9/\n",
      "(C) 2005-2020 Shaun Purcell, Christopher Chang   GNU General Public License v3\n",
      "Logging to 1kG_MDS2.log.\n",
      "Options in effect:\n",
      "  --allow-no-sex\n",
      "  --bfile 1kG_MDS\n",
      "  --make-bed\n",
      "  --mind 0.2\n",
      "  --out 1kG_MDS2\n",
      "\n",
      "128535 MB RAM detected; reserving 64267 MB for main workspace.\n",
      "9007422 variants loaded from .bim file.\n",
      "629 people (0 males, 0 females, 629 ambiguous) loaded from .fam.\n",
      "Ambiguous sex IDs written to 1kG_MDS2.nosex .\n",
      "0 people removed due to missing genotype data (--mind).\n",
      "Using 1 thread (no multithreaded calculations invoked).\n",
      "Before main variant filters, 629 founders and 0 nonfounders present.\n",
      "Calculating allele frequencies... 10111213141516171819202122232425262728293031323334353637383940414243444546474849505152535455565758596061626364656667686970717273747576777879808182838485868788899091929394959697989 done.\n",
      "Total genotyping rate is 0.995911.\n",
      "9007422 variants and 629 people pass filters and QC.\n",
      "Note: No phenotypes present.\n",
      "--make-bed to 1kG_MDS2.bed + 1kG_MDS2.bim + 1kG_MDS2.fam ... 101112131415161718192021222324252627282930313233343536373839404142434445464748495051525354555657585960616263646566676869707172737475767778798081828384858687888990919293949596979899done.\n",
      "PLINK v1.90b6.14 64-bit (7 Jan 2020)           www.cog-genomics.org/plink/1.9/\n",
      "(C) 2005-2020 Shaun Purcell, Christopher Chang   GNU General Public License v3\n",
      "Logging to 1kG_MDS3.log.\n",
      "Options in effect:\n",
      "  --allow-no-sex\n",
      "  --bfile 1kG_MDS2\n",
      "  --geno 0.02\n",
      "  --make-bed\n",
      "  --out 1kG_MDS3\n",
      "\n",
      "128535 MB RAM detected; reserving 64267 MB for main workspace.\n",
      "9007422 variants loaded from .bim file.\n",
      "629 people (0 males, 0 females, 629 ambiguous) loaded from .fam.\n",
      "Ambiguous sex IDs written to 1kG_MDS3.nosex .\n",
      "Using 1 thread (no multithreaded calculations invoked).\n",
      "Before main variant filters, 629 founders and 0 nonfounders present.\n",
      "Calculating allele frequencies... 10111213141516171819202122232425262728293031323334353637383940414243444546474849505152535455565758596061626364656667686970717273747576777879808182838485868788899091929394959697989 done.\n",
      "Total genotyping rate is 0.995911.\n",
      "766677 variants removed due to missing genotype data (--geno).\n",
      "8240745 variants and 629 people pass filters and QC.\n",
      "Note: No phenotypes present.\n",
      "--make-bed to 1kG_MDS3.bed + 1kG_MDS3.bim + 1kG_MDS3.fam ... 101112131415161718192021222324252627282930313233343536373839404142434445464748495051525354555657585960616263646566676869707172737475767778798081828384858687888990919293949596979899done.\n",
      "PLINK v1.90b6.14 64-bit (7 Jan 2020)           www.cog-genomics.org/plink/1.9/\n",
      "(C) 2005-2020 Shaun Purcell, Christopher Chang   GNU General Public License v3\n",
      "Logging to 1kG_MDS4.log.\n",
      "Options in effect:\n",
      "  --allow-no-sex\n",
      "  --bfile 1kG_MDS3\n",
      "  --make-bed\n",
      "  --mind 0.02\n",
      "  --out 1kG_MDS4\n",
      "\n",
      "128535 MB RAM detected; reserving 64267 MB for main workspace.\n",
      "8240745 variants loaded from .bim file.\n",
      "629 people (0 males, 0 females, 629 ambiguous) loaded from .fam.\n",
      "Ambiguous sex IDs written to 1kG_MDS4.nosex .\n",
      "0 people removed due to missing genotype data (--mind).\n",
      "Using 1 thread (no multithreaded calculations invoked).\n",
      "Before main variant filters, 629 founders and 0 nonfounders present.\n",
      "Calculating allele frequencies... 10111213141516171819202122232425262728293031323334353637383940414243444546474849505152535455565758596061626364656667686970717273747576777879808182838485868788899091929394959697989 done.\n",
      "Total genotyping rate is 0.999477.\n",
      "8240745 variants and 629 people pass filters and QC.\n",
      "Note: No phenotypes present.\n",
      "--make-bed to 1kG_MDS4.bed + 1kG_MDS4.bim + 1kG_MDS4.fam ... 101112131415161718192021222324252627282930313233343536373839404142434445464748495051525354555657585960616263646566676869707172737475767778798081828384858687888990919293949596979899done.\n",
      "PLINK v1.90b6.14 64-bit (7 Jan 2020)           www.cog-genomics.org/plink/1.9/\n",
      "(C) 2005-2020 Shaun Purcell, Christopher Chang   GNU General Public License v3\n",
      "Logging to 1kG_MDS5.log.\n",
      "Options in effect:\n",
      "  --allow-no-sex\n",
      "  --bfile 1kG_MDS4\n",
      "  --maf 0.05\n",
      "  --make-bed\n",
      "  --out 1kG_MDS5\n",
      "\n",
      "128535 MB RAM detected; reserving 64267 MB for main workspace.\n",
      "8240745 variants loaded from .bim file.\n",
      "629 people (0 males, 0 females, 629 ambiguous) loaded from .fam.\n",
      "Ambiguous sex IDs written to 1kG_MDS5.nosex .\n",
      "Using 1 thread (no multithreaded calculations invoked).\n",
      "Before main variant filters, 629 founders and 0 nonfounders present.\n",
      "Calculating allele frequencies... 10111213141516171819202122232425262728293031323334353637383940414243444546474849505152535455565758596061626364656667686970717273747576777879808182838485868788899091929394959697989 done.\n",
      "Total genotyping rate is 0.999477.\n",
      "2432435 variants removed due to minor allele threshold(s)\n",
      "(--maf/--max-maf/--mac/--max-mac).\n",
      "5808310 variants and 629 people pass filters and QC.\n",
      "Note: No phenotypes present.\n",
      "--make-bed to 1kG_MDS5.bed + 1kG_MDS5.bim + 1kG_MDS5.fam ... 101112131415161718192021222324252627282930313233343536373839404142434445464748495051525354555657585960616263646566676869707172737475767778798081828384858687888990919293949596979899done.\n",
      "Elapsed time: 38.2 seconds\n",
      "benchmarks/benchmarks_plink_1579177786337.csv\n"
     ]
    }
   ],
   "source": [
    "%%timeop -o ps2-qc\n",
    "%%bash -s \"$data_dir\"\n",
    "set -e\n",
    "cd $1\n",
    "\n",
    "## QC on 1000 Genomes data.\n",
    "# Remove variants based on missing genotype data.\n",
    "plink --bfile ALL.2of4intersection.20100804.genotypes_no_missing_IDs --geno 0.2 --allow-no-sex --make-bed --out 1kG_MDS\n",
    "\n",
    "# Remove individuals based on missing genotype data.\n",
    "plink --bfile 1kG_MDS --mind 0.2 --allow-no-sex --make-bed --out 1kG_MDS2\n",
    "\n",
    "# Remove variants based on missing genotype data.\n",
    "plink --bfile 1kG_MDS2 --geno 0.02 --allow-no-sex --make-bed --out 1kG_MDS3\n",
    "\n",
    "# Remove individuals based on missing genotype data.\n",
    "plink --bfile 1kG_MDS3 --mind 0.02 --allow-no-sex --make-bed --out 1kG_MDS4\n",
    "\n",
    "# Remove variants based on MAF.\n",
    "plink --bfile 1kG_MDS4 --maf 0.05 --allow-no-sex --make-bed --out 1kG_MDS5"
   ]
  }
 ],
 "metadata": {
  "kernelspec": {
   "display_name": "Python 3",
   "language": "python",
   "name": "python3"
  },
  "language_info": {
   "codemirror_mode": {
    "name": "ipython",
    "version": 3
   },
   "file_extension": ".py",
   "mimetype": "text/x-python",
   "name": "python",
   "nbconvert_exporter": "python",
   "pygments_lexer": "ipython3",
   "version": "3.7.6"
  }
 },
 "nbformat": 4,
 "nbformat_minor": 4
}
