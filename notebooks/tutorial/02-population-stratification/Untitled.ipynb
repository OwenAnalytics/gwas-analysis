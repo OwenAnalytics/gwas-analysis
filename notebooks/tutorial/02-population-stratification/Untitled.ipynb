{
 "cells": [
  {
   "cell_type": "code",
   "execution_count": 1,
   "metadata": {},
   "outputs": [
    {
     "name": "stderr",
     "output_type": "stream",
     "text": [
      "Running on Apache Spark version 2.4.4\n",
      "SparkUI available at http://3d498b83ee57:4040\n",
      "Welcome to\n",
      "     __  __     <>__\n",
      "    / /_/ /__  __/ /\n",
      "   / __  / _ `/ / /\n",
      "  /_/ /_/\\_,_/_/_/   version 0.2.30-2ae07d872f43\n",
      "LOGGING: writing to /home/eczech/repos/gwas-analysis/notebooks/tutorial/02-population-stratification/hail-20200116-1515-0.2.30-2ae07d872f43.log\n"
     ]
    }
   ],
   "source": [
    "import pandas as pd\n",
    "import numpy as np\n",
    "import seaborn as sns\n",
    "import matplotlib.pyplot as plt\n",
    "import hail as hl\n",
    "import os.path as osp\n",
    "import multiprocessing\n",
    "\n",
    "# Benchmarking utilities\n",
    "%run ../init/benchmark.py\n",
    "register_timeop_magic(get_ipython(), 'hail')\n",
    "data_dir = osp.expanduser('~/data/gwas/tutorial/2_PS_GWAS')\n",
    "\n",
    "# from pyspark.sql import SparkSession\n",
    "# spark = SparkSession.builder \\\n",
    "#        .master(\"local[*]\") \\\n",
    "#        .appName(\"Hail\") \\\n",
    "#        .config(\"spark.sql.shuffle.partitions\", 1) \\\n",
    "#        .getOrCreate()\n",
    "hl.init() "
   ]
  },
  {
   "cell_type": "code",
   "execution_count": 5,
   "metadata": {},
   "outputs": [
    {
     "data": {
      "text/plain": [
       "<pyspark.conf.SparkConf at 0x7f0f23d99410>"
      ]
     },
     "execution_count": 5,
     "metadata": {},
     "output_type": "execute_result"
    }
   ],
   "source": [
    "# hl.spark_context()._conf.set(\"spark.sql.shuffle.partitions\", 1)"
   ]
  },
  {
   "cell_type": "code",
   "execution_count": 2,
   "metadata": {},
   "outputs": [
    {
     "name": "stderr",
     "output_type": "stream",
     "text": [
      "2020-01-16 13:33:15 Hail: INFO: Found 629 samples in fam file.\n",
      "2020-01-16 13:33:15 Hail: INFO: Found 25488488 variants in bim file.\n"
     ]
    }
   ],
   "source": [
    "# # Load PLINK dataset using our custom reference\n",
    "# PS1_FILE = \"ALL.2of4intersection.20100804.genotypes_no_missing_IDs\"\n",
    "# mt = hl.import_plink(\n",
    "#     osp.join(data_dir, PS1_FILE + '.bed'),\n",
    "#     osp.join(data_dir, PS1_FILE + '.bim'),\n",
    "#     osp.join(data_dir, PS1_FILE + '.fam'),\n",
    "#     skip_invalid_loci=True,\n",
    "#     #reference_genome='hapmap3_hg18'\n",
    "# )"
   ]
  },
  {
   "cell_type": "code",
   "execution_count": 2,
   "metadata": {},
   "outputs": [
    {
     "name": "stderr",
     "output_type": "stream",
     "text": [
      "2020-01-16 15:18:14 Hail: INFO: Found 629 samples in fam file.\n",
      "2020-01-16 15:18:14 Hail: INFO: Found 25488488 variants in bim file.\n"
     ]
    }
   ],
   "source": [
    "# Load PLINK dataset using our custom reference\n",
    "PS1_FILE = \"ALL.2of4intersection.20100804.genotypes_no_missing_IDs\"\n",
    "#PS1_FILE = \"ALL.2of4intersection.20100804.genotypes\"\n",
    "mt = hl.import_plink(\n",
    "    osp.join(data_dir, PS1_FILE + '.bed'),\n",
    "    osp.join(data_dir, PS1_FILE + '.bim'),\n",
    "    osp.join(data_dir, PS1_FILE + '.fam'),\n",
    "    skip_invalid_loci=False,\n",
    "    reference_genome='GRCh37'\n",
    ")"
   ]
  },
  {
   "cell_type": "code",
   "execution_count": 3,
   "metadata": {},
   "outputs": [
    {
     "name": "stdout",
     "output_type": "stream",
     "text": [
      "----------------------------------------\n",
      "Global fields:\n",
      "    None\n",
      "----------------------------------------\n",
      "Column fields:\n",
      "    's': str\n",
      "    'fam_id': str\n",
      "    'pat_id': str\n",
      "    'mat_id': str\n",
      "    'is_female': bool\n",
      "    'is_case': bool\n",
      "----------------------------------------\n",
      "Row fields:\n",
      "    'locus': locus<GRCh37>\n",
      "    'alleles': array<str>\n",
      "    'rsid': str\n",
      "    'cm_position': float64\n",
      "----------------------------------------\n",
      "Entry fields:\n",
      "    'GT': call\n",
      "----------------------------------------\n",
      "Column key: ['s']\n",
      "Row key: ['locus', 'alleles']\n",
      "----------------------------------------\n"
     ]
    }
   ],
   "source": [
    "mt.describe()"
   ]
  },
  {
   "cell_type": "code",
   "execution_count": null,
   "metadata": {},
   "outputs": [],
   "source": [
    "# mt.write(osp.join(data_dir, 'ALL.2of4intersection.20100804.genotypes_no_missing_IDs.mt'), overwrite=True)"
   ]
  },
  {
   "cell_type": "code",
   "execution_count": 3,
   "metadata": {},
   "outputs": [
    {
     "name": "stderr",
     "output_type": "stream",
     "text": [
      "2020-01-16 13:36:07 Hail: INFO: Found 629 samples in fam file.\n",
      "2020-01-16 13:36:07 Hail: INFO: Found 25488488 variants in bim file.\n",
      "2020-01-16 13:39:43 Hail: INFO: Coerced sorted dataset\n"
     ]
    },
    {
     "data": {
      "text/plain": [
       "(25488488, 629)"
      ]
     },
     "execution_count": 3,
     "metadata": {},
     "output_type": "execute_result"
    }
   ],
   "source": [
    "mt.count()"
   ]
  },
  {
   "cell_type": "code",
   "execution_count": 7,
   "metadata": {},
   "outputs": [],
   "source": [
    "rscts = (\n",
    "    mt.group_rows_by(mt.rsid)\n",
    "    .aggregate(n=hl.agg.count())\n",
    ")"
   ]
  },
  {
   "cell_type": "code",
   "execution_count": 8,
   "metadata": {},
   "outputs": [
    {
     "name": "stdout",
     "output_type": "stream",
     "text": [
      "----------------------------------------\n",
      "Global fields:\n",
      "    None\n",
      "----------------------------------------\n",
      "Column fields:\n",
      "    's': str\n",
      "    'fam_id': str\n",
      "    'pat_id': str\n",
      "    'mat_id': str\n",
      "    'is_female': bool\n",
      "    'is_case': bool\n",
      "----------------------------------------\n",
      "Row fields:\n",
      "    'rsid': str\n",
      "----------------------------------------\n",
      "Entry fields:\n",
      "    'n': int64\n",
      "----------------------------------------\n",
      "Column key: ['s']\n",
      "Row key: ['rsid']\n",
      "----------------------------------------\n"
     ]
    }
   ],
   "source": [
    "rscts.describe()"
   ]
  },
  {
   "cell_type": "code",
   "execution_count": 9,
   "metadata": {},
   "outputs": [
    {
     "name": "stderr",
     "output_type": "stream",
     "text": [
      "2020-01-16 15:19:53 Hail: WARN: entries(): Resulting entries table is sorted by '(row_key, col_key)'.\n",
      "    To preserve row-major matrix table order, first unkey columns with 'key_cols_by()'\n"
     ]
    }
   ],
   "source": [
    "rscte = rscts.entries()"
   ]
  },
  {
   "cell_type": "code",
   "execution_count": null,
   "metadata": {},
   "outputs": [
    {
     "name": "stderr",
     "output_type": "stream",
     "text": [
      "2020-01-16 15:22:41 Hail: INFO: Coerced sorted dataset\n"
     ]
    }
   ],
   "source": [
    "rscte.group_by(rscte.n).aggregate(n_n=hl.agg.count()).show()"
   ]
  },
  {
   "cell_type": "code",
   "execution_count": null,
   "metadata": {},
   "outputs": [],
   "source": [
    "cts = pd.Series(rscts)"
   ]
  },
  {
   "cell_type": "code",
   "execution_count": null,
   "metadata": {},
   "outputs": [],
   "source": [
    "cts.head()"
   ]
  },
  {
   "cell_type": "code",
   "execution_count": null,
   "metadata": {},
   "outputs": [],
   "source": [
    "# no missing ids\n",
    "cts.value_counts()"
   ]
  },
  {
   "cell_type": "code",
   "execution_count": 7,
   "metadata": {},
   "outputs": [
    {
     "data": {
      "text/plain": [
       "1           15112987\n",
       "10375501           1\n",
       "dtype: int64"
      ]
     },
     "execution_count": 7,
     "metadata": {},
     "output_type": "execute_result"
    }
   ],
   "source": [
    "# w/ missing ids\n",
    "cts.value_counts()"
   ]
  },
  {
   "cell_type": "code",
   "execution_count": 8,
   "metadata": {},
   "outputs": [
    {
     "data": {
      "text/plain": [
       ".    10375501\n",
       "dtype: int64"
      ]
     },
     "execution_count": 8,
     "metadata": {},
     "output_type": "execute_result"
    }
   ],
   "source": [
    "cts[cts > 1].head()"
   ]
  },
  {
   "cell_type": "code",
   "execution_count": null,
   "metadata": {},
   "outputs": [],
   "source": [
    "cts.value_counts()"
   ]
  },
  {
   "cell_type": "code",
   "execution_count": null,
   "metadata": {},
   "outputs": [],
   "source": [
    "ss.read.format(\"plink\").load(data_dir / \"ALL.2of4intersection.20100804.genotypes_no_missing_IDs.bed\" toString).count"
   ]
  }
 ],
 "metadata": {
  "kernelspec": {
   "display_name": "Python 3",
   "language": "python",
   "name": "python3"
  },
  "language_info": {
   "codemirror_mode": {
    "name": "ipython",
    "version": 3
   },
   "file_extension": ".py",
   "mimetype": "text/x-python",
   "name": "python",
   "nbconvert_exporter": "python",
   "pygments_lexer": "ipython3",
   "version": "3.7.6"
  }
 },
 "nbformat": 4,
 "nbformat_minor": 4
}
