{
 "cells": [
  {
   "cell_type": "code",
   "execution_count": 1,
   "metadata": {},
   "outputs": [
    {
     "name": "stderr",
     "output_type": "stream",
     "text": [
      "Running on Apache Spark version 2.4.4\n",
      "SparkUI available at http://2e4e0c6972f9:4041\n",
      "Welcome to\n",
      "     __  __     <>__\n",
      "    / /_/ /__  __/ /\n",
      "   / __  / _ `/ / /\n",
      "  /_/ /_/\\_,_/_/_/   version 0.2.32-a5876a0a2853\n",
      "LOGGING: writing to /home/eczech/repos/gwas-analysis/notebooks/benchmark/method/ld_prune/lsh/hail-20200223-2352-0.2.32-a5876a0a2853.log\n"
     ]
    }
   ],
   "source": [
    "import os\n",
    "import hail as hl\n",
    "%run {os.environ['NB_DIR']}/nb.py\n",
    "%run $BENCHMARK_METHOD_DIR/common.py\n",
    "\n",
    "sample_rate = .1\n",
    "ds_name = DATASET_HM\n",
    "min_ld = .1\n",
    "\n",
    "# sample_rate = 1\n",
    "# ds_name = DATASET_SIM\n",
    "# min_ld = .1\n",
    "\n",
    "ds_config = DATASET_CONFIG[ds_name]\n",
    "ds_export_path = dataset_path(ds_name, sr=sample_rate)\n",
    "hail_init()"
   ]
  },
  {
   "cell_type": "code",
   "execution_count": 2,
   "metadata": {},
   "outputs": [
    {
     "name": "stderr",
     "output_type": "stream",
     "text": [
      "2020-02-23 23:52:59 Hail: INFO: Found 165 samples in fam file.\n",
      "2020-02-23 23:52:59 Hail: INFO: Found 10451 variants in bim file.\n",
      "2020-02-23 23:53:00 Hail: INFO: Coerced sorted dataset\n"
     ]
    },
    {
     "data": {
      "text/plain": [
       "(10451, 165)"
      ]
     },
     "execution_count": 2,
     "metadata": {},
     "output_type": "execute_result"
    }
   ],
   "source": [
    "mt = hl.import_plink(\n",
    "    *plink_files(osp.dirname(ds_export_path), osp.basename(ds_export_path)),\n",
    "    skip_invalid_loci=False,\n",
    "    reference_genome=ds_config['reference_genome']\n",
    ")\n",
    "mt.count()"
   ]
  },
  {
   "cell_type": "code",
   "execution_count": 3,
   "metadata": {},
   "outputs": [
    {
     "name": "stderr",
     "output_type": "stream",
     "text": [
      "2020-02-23 23:53:01 Hail: INFO: Coerced sorted dataset\n",
      "2020-02-23 23:53:02 Hail: INFO: Wrote all 3 blocks of 10451 x 165 matrix with block size 4096.\n",
      "2020-02-23 23:53:02 Hail: INFO: Coerced sorted dataset\n"
     ]
    },
    {
     "data": {
      "text/plain": [
       "(10451, 10451)"
      ]
     },
     "execution_count": 3,
     "metadata": {},
     "output_type": "execute_result"
    }
   ],
   "source": [
    "# Run LD calculations with no effective radius limit (longest known genome < 150B bp)\n",
    "ld = hl.ld_matrix(mt.GT.n_alt_alleles(), mt.locus, radius=150e9)\n",
    "ld.shape"
   ]
  },
  {
   "cell_type": "code",
   "execution_count": 6,
   "metadata": {},
   "outputs": [
    {
     "name": "stdout",
     "output_type": "stream",
     "text": [
      "----------------------------------------\n",
      "Global fields:\n",
      "    None\n",
      "----------------------------------------\n",
      "Row fields:\n",
      "    'i': int64 \n",
      "    'j': int64 \n",
      "    'entry': float64 \n",
      "----------------------------------------\n",
      "Key: ['i', 'j']\n",
      "----------------------------------------\n"
     ]
    }
   ],
   "source": [
    "lde = ld.entries()\n",
    "assert lde.aggregate(hl.agg.counter(hl.is_nan(lde.entry))).get(True, 0) == 0, \\\n",
    "    'Some LD values are null which will make comparisons from the same source dataset incompatible'\n",
    "if min_ld is not None:\n",
    "    lde = lde.filter(lde.entry >= min_ld)\n",
    "# Filter to upper triangle (no diagonal)\n",
    "lde = lde.filter(lde.j > lde.i)\n",
    "lde.describe()"
   ]
  },
  {
   "cell_type": "code",
   "execution_count": 7,
   "metadata": {},
   "outputs": [],
   "source": [
    "if ds_name == DATASET_SIM:\n",
    "    import seaborn as sns\n",
    "    sns.heatmap(lde.to_pandas().set_index(['i', 'j'])['entry'].unstack(), cmap='Spectral')"
   ]
  },
  {
   "cell_type": "code",
   "execution_count": 8,
   "metadata": {},
   "outputs": [
    {
     "name": "stdout",
     "output_type": "stream",
     "text": [
      "68M\t/home/eczech/data/gwas/benchmark/datasets/hapmap-sr=0.1-minld=0.1.parquet\n",
      "68M\ttotal\n",
      "CPU times: user 37.4 ms, sys: 12.6 ms, total: 50 ms\n",
      "Wall time: 32.3 s\n"
     ]
    }
   ],
   "source": [
    "%%time\n",
    "path = dataset_path(ds_name, sr=sample_rate, minld=min_ld) + '.parquet'\n",
    "lde.to_spark().write.parquet(path, mode='overwrite')\n",
    "!du -ch $path"
   ]
  }
 ],
 "metadata": {
  "kernelspec": {
   "display_name": "Python 3",
   "language": "python",
   "name": "python3"
  },
  "language_info": {
   "codemirror_mode": {
    "name": "ipython",
    "version": 3
   },
   "file_extension": ".py",
   "mimetype": "text/x-python",
   "name": "python",
   "nbconvert_exporter": "python",
   "pygments_lexer": "ipython3",
   "version": "3.7.6"
  }
 },
 "nbformat": 4,
 "nbformat_minor": 4
}
