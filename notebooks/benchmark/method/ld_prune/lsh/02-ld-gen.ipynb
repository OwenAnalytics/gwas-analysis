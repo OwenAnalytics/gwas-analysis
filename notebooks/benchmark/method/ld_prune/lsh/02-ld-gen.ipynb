{
 "cells": [
  {
   "cell_type": "code",
   "execution_count": 1,
   "metadata": {},
   "outputs": [
    {
     "name": "stderr",
     "output_type": "stream",
     "text": [
      "Running on Apache Spark version 2.4.4\n",
      "SparkUI available at http://2e4e0c6972f9:4040\n",
      "Welcome to\n",
      "     __  __     <>__\n",
      "    / /_/ /__  __/ /\n",
      "   / __  / _ `/ / /\n",
      "  /_/ /_/\\_,_/_/_/   version 0.2.32-a5876a0a2853\n",
      "LOGGING: writing to /home/eczech/repos/gwas-analysis/notebooks/benchmark/method/ld_prune/lsh/hail-20200221-1251-0.2.32-a5876a0a2853.log\n"
     ]
    }
   ],
   "source": [
    "import os\n",
    "import hail as hl\n",
    "%run {os.environ['NB_DIR']}/nb.py\n",
    "%run $BENCHMARK_METHOD_DIR/common.py\n",
    "sample_rate = .05\n",
    "ds_name = DATASET_HM\n",
    "ds_config = DATASET_CONFIG[ds_name]\n",
    "ds_export_path = dataset_path(ds_name, sr=sample_rate)\n",
    "MIN_LD = .1\n",
    "hail_init()"
   ]
  },
  {
   "cell_type": "code",
   "execution_count": 2,
   "metadata": {},
   "outputs": [
    {
     "name": "stderr",
     "output_type": "stream",
     "text": [
      "2020-02-20 22:34:34 Hail: INFO: Found 165 samples in fam file.\n",
      "2020-02-20 22:34:34 Hail: INFO: Found 72732 variants in bim file.\n",
      "2020-02-20 22:34:36 Hail: INFO: Coerced sorted dataset\n"
     ]
    },
    {
     "data": {
      "text/plain": [
       "(72732, 165)"
      ]
     },
     "execution_count": 2,
     "metadata": {},
     "output_type": "execute_result"
    }
   ],
   "source": [
    "mt = hl.import_plink(\n",
    "    *plink_files(osp.dirname(ds_export_path), osp.basename(ds_export_path)),\n",
    "    skip_invalid_loci=False,\n",
    "    reference_genome=ds_config['reference_genome']\n",
    ")\n",
    "mt.count()"
   ]
  },
  {
   "cell_type": "code",
   "execution_count": 3,
   "metadata": {},
   "outputs": [
    {
     "name": "stderr",
     "output_type": "stream",
     "text": [
      "2020-02-20 22:34:37 Hail: INFO: Coerced sorted dataset\n",
      "2020-02-20 22:34:39 Hail: INFO: Wrote all 18 blocks of 72732 x 165 matrix with block size 4096.\n",
      "2020-02-20 22:34:39 Hail: INFO: Coerced sorted dataset\n"
     ]
    },
    {
     "data": {
      "text/plain": [
       "(72732, 72732)"
      ]
     },
     "execution_count": 3,
     "metadata": {},
     "output_type": "execute_result"
    }
   ],
   "source": [
    "# Run LD calculations with no effective radius limit (longest known genome < 150B bp)\n",
    "ld = hl.ld_matrix(mt.GT.n_alt_alleles(), mt.locus, radius=150e9)\n",
    "ld.shape"
   ]
  },
  {
   "cell_type": "code",
   "execution_count": 9,
   "metadata": {},
   "outputs": [
    {
     "name": "stdout",
     "output_type": "stream",
     "text": [
      "----------------------------------------\n",
      "Global fields:\n",
      "    None\n",
      "----------------------------------------\n",
      "Row fields:\n",
      "    'i': int64 \n",
      "    'j': int64 \n",
      "    'entry': float64 \n",
      "----------------------------------------\n",
      "Key: ['i', 'j']\n",
      "----------------------------------------\n"
     ]
    }
   ],
   "source": [
    "%%time\n",
    "lde = ld.entries()\n",
    "lde = lde.filter(lde.entry >= MIN_LD)\n",
    "lde.describe()"
   ]
  },
  {
   "cell_type": "code",
   "execution_count": 17,
   "metadata": {},
   "outputs": [
    {
     "name": "stdout",
     "output_type": "stream",
     "text": [
      "268M\t/tmp/benchmark_datasets/hapmap-0.05-ld-0.1\n",
      "268M\ttotal\n"
     ]
    }
   ],
   "source": [
    "%%time\n",
    "path = dataset_path(ds_name, sr=sample_rate, minld=MIN_LD) + '.parquet'\n",
    "lde.to_spark().write.parquet(path, mode='overwrite')\n",
    "!du -ch $path"
   ]
  }
 ],
 "metadata": {
  "kernelspec": {
   "display_name": "Python 3",
   "language": "python",
   "name": "python3"
  },
  "language_info": {
   "codemirror_mode": {
    "name": "ipython",
    "version": 3
   },
   "file_extension": ".py",
   "mimetype": "text/x-python",
   "name": "python",
   "nbconvert_exporter": "python",
   "pygments_lexer": "ipython3",
   "version": "3.7.6"
  }
 },
 "nbformat": 4,
 "nbformat_minor": 4
}
