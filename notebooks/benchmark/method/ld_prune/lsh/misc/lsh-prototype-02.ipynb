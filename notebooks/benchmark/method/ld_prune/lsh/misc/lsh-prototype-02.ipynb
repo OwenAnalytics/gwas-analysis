{
 "cells": [
  {
   "cell_type": "markdown",
   "metadata": {},
   "source": [
    "## LSH Prototype 2\n",
    "\n",
    "[SimHash](https://en.wikipedia.org/wiki/SimHash) implementation over Xarray/Dask."
   ]
  },
  {
   "cell_type": "code",
   "execution_count": 4,
   "metadata": {
    "tags": [
     "parameters"
    ]
   },
   "outputs": [],
   "source": [
    "h = None              # Number of individual signed projections to compute\n",
    "g = None              # Number of composite hashes (groupings of signs)\n",
    "sample_rate = None    # Variant sampling rate used in extraction\n",
    "ds_name = None        # Dataset name \n",
    "n_workers = 8         # Number of dask workers\n",
    "mem_fraction = .9     # Maximum fraction of system memory to use\n",
    "projection = 'random'\n",
    "\n",
    "# Example Settings\n",
    "# h = 24\n",
    "# g = 100        \n",
    "# sample_rate = .05\n",
    "# ds_name = 'hapmap'\n",
    "# n_workers = 8\n",
    "# mem_fraction = .9\n",
    "# projection = 'orthogonal'"
   ]
  },
  {
   "cell_type": "code",
   "execution_count": 5,
   "metadata": {
    "ExecuteTime": {
     "end_time": "2020-02-22T19:11:48.741167Z",
     "start_time": "2020-02-22T19:11:47.974415Z"
    }
   },
   "outputs": [
    {
     "data": {
      "text/plain": [
       "'/home/eczech/data/gwas/benchmark/datasets/ld_prune/lsh/hapmap-sr=0.05'"
      ]
     },
     "execution_count": 5,
     "metadata": {},
     "output_type": "execute_result"
    }
   ],
   "source": [
    "import os\n",
    "import pandas as pd\n",
    "import numpy as np\n",
    "from dask.distributed import Client\n",
    "from gwas_analysis.dask import get_dask_client\n",
    "import dask.array as da\n",
    "import dask.dataframe as dd\n",
    "import xarray as xr\n",
    "%run {os.environ['NB_DIR']}/nb.py\n",
    "%run $BENCHMARK_METHOD_DIR/common.py\n",
    "assert h is not None\n",
    "assert g is not None\n",
    "assert sample_rate is not None\n",
    "assert ds_name is not None\n",
    "ds_config = DATASET_CONFIG[ds_name]\n",
    "n_projections = h * g\n",
    "ds_path = ld_prune_lsh.dataset_path(ds_name, sr=sample_rate)\n",
    "ds_path"
   ]
  },
  {
   "cell_type": "markdown",
   "metadata": {},
   "source": [
    "### Initialization"
   ]
  },
  {
   "cell_type": "code",
   "execution_count": 6,
   "metadata": {
    "ExecuteTime": {
     "end_time": "2020-02-22T19:11:50.493291Z",
     "start_time": "2020-02-22T19:11:49.686654Z"
    }
   },
   "outputs": [
    {
     "data": {
      "text/html": [
       "<table style=\"border: 2px solid white;\">\n",
       "<tr>\n",
       "<td style=\"vertical-align: top; border: 0px solid white\">\n",
       "<h3 style=\"text-align: left;\">Client</h3>\n",
       "<ul style=\"text-align: left; list-style: none; margin: 0; padding: 0;\">\n",
       "  <li><b>Scheduler: </b>tcp://127.0.0.1:45899</li>\n",
       "  <li><b>Dashboard: </b><a href='http://127.0.0.1:8787/status' target='_blank'>http://127.0.0.1:8787/status</a>\n",
       "</ul>\n",
       "</td>\n",
       "<td style=\"vertical-align: top; border: 0px solid white\">\n",
       "<h3 style=\"text-align: left;\">Cluster</h3>\n",
       "<ul style=\"text-align: left; list-style:none; margin: 0; padding: 0;\">\n",
       "  <li><b>Workers: </b>8</li>\n",
       "  <li><b>Cores: </b>8</li>\n",
       "  <li><b>Memory: </b>120.00 GB</li>\n",
       "</ul>\n",
       "</td>\n",
       "</tr>\n",
       "</table>"
      ],
      "text/plain": [
       "<Client: 'tcp://127.0.0.1:45899' processes=8 threads=8, memory=120.00 GB>"
      ]
     },
     "execution_count": 6,
     "metadata": {},
     "output_type": "execute_result"
    }
   ],
   "source": [
    "client = get_dask_client(n_workers=n_workers, max_mem_fraction=mem_fraction)\n",
    "client"
   ]
  },
  {
   "cell_type": "code",
   "execution_count": 7,
   "metadata": {
    "ExecuteTime": {
     "end_time": "2020-02-22T19:11:54.648284Z",
     "start_time": "2020-02-22T19:11:54.602526Z"
    }
   },
   "outputs": [
    {
     "data": {
      "text/html": [
       "<table>\n",
       "<tr>\n",
       "<td>\n",
       "<table>\n",
       "  <thead>\n",
       "    <tr><td> </td><th> Array </th><th> Chunk </th></tr>\n",
       "  </thead>\n",
       "  <tbody>\n",
       "    <tr><th> Bytes </th><td> 12.00 MB </td> <td> 1.50 MB </td></tr>\n",
       "    <tr><th> Shape </th><td> (72732, 165) </td> <td> (9091, 165) </td></tr>\n",
       "    <tr><th> Count </th><td> 20 Tasks </td><td> 9 Chunks </td></tr>\n",
       "    <tr><th> Type </th><td> uint8 </td><td> numpy.ndarray </td></tr>\n",
       "  </tbody>\n",
       "</table>\n",
       "</td>\n",
       "<td>\n",
       "<svg width=\"75\" height=\"170\" style=\"stroke:rgb(0,0,0);stroke-width:1\" >\n",
       "\n",
       "  <!-- Horizontal lines -->\n",
       "  <line x1=\"0\" y1=\"0\" x2=\"25\" y2=\"0\" style=\"stroke-width:2\" />\n",
       "  <line x1=\"0\" y1=\"14\" x2=\"25\" y2=\"14\" />\n",
       "  <line x1=\"0\" y1=\"29\" x2=\"25\" y2=\"29\" />\n",
       "  <line x1=\"0\" y1=\"44\" x2=\"25\" y2=\"44\" />\n",
       "  <line x1=\"0\" y1=\"59\" x2=\"25\" y2=\"59\" />\n",
       "  <line x1=\"0\" y1=\"74\" x2=\"25\" y2=\"74\" />\n",
       "  <line x1=\"0\" y1=\"89\" x2=\"25\" y2=\"89\" />\n",
       "  <line x1=\"0\" y1=\"104\" x2=\"25\" y2=\"104\" />\n",
       "  <line x1=\"0\" y1=\"119\" x2=\"25\" y2=\"119\" />\n",
       "  <line x1=\"0\" y1=\"120\" x2=\"25\" y2=\"120\" style=\"stroke-width:2\" />\n",
       "\n",
       "  <!-- Vertical lines -->\n",
       "  <line x1=\"0\" y1=\"0\" x2=\"0\" y2=\"120\" style=\"stroke-width:2\" />\n",
       "  <line x1=\"25\" y1=\"0\" x2=\"25\" y2=\"120\" style=\"stroke-width:2\" />\n",
       "\n",
       "  <!-- Colored Rectangle -->\n",
       "  <polygon points=\"0.000000,0.000000 25.412617,0.000000 25.412617,120.000000 0.000000,120.000000\" style=\"fill:#ECB172A0;stroke-width:0\"/>\n",
       "\n",
       "  <!-- Text -->\n",
       "  <text x=\"12.706308\" y=\"140.000000\" font-size=\"1.0rem\" font-weight=\"100\" text-anchor=\"middle\" >165</text>\n",
       "  <text x=\"45.412617\" y=\"60.000000\" font-size=\"1.0rem\" font-weight=\"100\" text-anchor=\"middle\" transform=\"rotate(-90,45.412617,60.000000)\">72732</text>\n",
       "</svg>\n",
       "</td>\n",
       "</tr>\n",
       "</table>"
      ],
      "text/plain": [
       "dask.array<rechunk-merge, shape=(72732, 165), dtype=uint8, chunksize=(9091, 165), chunktype=numpy.ndarray>"
      ]
     },
     "execution_count": 7,
     "metadata": {},
     "output_type": "execute_result"
    }
   ],
   "source": [
    "# Load the coded call data\n",
    "X = da.from_zarr(ds_path + '.zarr')\n",
    "\n",
    "# Rechunk to ensure that more than one worker is used downstream\n",
    "# (which is the case with a relatively small number of variants < 1M)\n",
    "def blocks(n, n_workers):\n",
    "    if n <= n_workers:\n",
    "        return n\n",
    "    return n // n_workers\n",
    "X = X.rechunk(chunks=(blocks(X.shape[0], n_workers), -1))\n",
    "X"
   ]
  },
  {
   "cell_type": "code",
   "execution_count": 8,
   "metadata": {
    "ExecuteTime": {
     "end_time": "2020-02-22T19:11:56.035252Z",
     "start_time": "2020-02-22T19:11:55.830940Z"
    }
   },
   "outputs": [
    {
     "data": {
      "text/html": [
       "<pre>&lt;xarray.DataArray &#x27;calls&#x27; (variant: 72732, sample: 165)&gt;\n",
       "dask.array&lt;truediv, shape=(72732, 165), dtype=float64, chunksize=(9091, 165), chunktype=numpy.ndarray&gt;\n",
       "Coordinates:\n",
       "  * variant  (variant) int32 0 1 2 3 4 5 ... 72726 72727 72728 72729 72730 72731\n",
       "  * sample   (sample) int32 0 1 2 3 4 5 6 7 ... 157 158 159 160 161 162 163 164</pre>"
      ],
      "text/plain": [
       "<xarray.DataArray 'calls' (variant: 72732, sample: 165)>\n",
       "dask.array<truediv, shape=(72732, 165), dtype=float64, chunksize=(9091, 165), chunktype=numpy.ndarray>\n",
       "Coordinates:\n",
       "  * variant  (variant) int32 0 1 2 3 4 5 ... 72726 72727 72728 72729 72730 72731\n",
       "  * sample   (sample) int32 0 1 2 3 4 5 6 7 ... 157 158 159 160 161 162 163 164"
      ]
     },
     "execution_count": 8,
     "metadata": {},
     "output_type": "execute_result"
    }
   ],
   "source": [
    "# Convert to xarray and center variant vectors (to make dot product equivalent to un-normalized cosine)\n",
    "X = xr.DataArray(\n",
    "    data=X, \n",
    "    dims=['variant', 'sample'],\n",
    "    coords=dict(\n",
    "        variant=da.arange(X.shape[0], dtype=np.int32),\n",
    "        sample=da.arange(X.shape[1], dtype=np.int32)\n",
    "    ),\n",
    "    name='calls'\n",
    ")\n",
    "X -= X.mean(dim='sample')\n",
    "X /= X.std(dim='sample')\n",
    "X"
   ]
  },
  {
   "cell_type": "code",
   "execution_count": 21,
   "metadata": {
    "ExecuteTime": {
     "end_time": "2020-02-22T19:11:57.453243Z",
     "start_time": "2020-02-22T19:11:57.367238Z"
    }
   },
   "outputs": [
    {
     "name": "stdout",
     "output_type": "stream",
     "text": [
      "Using orthogonal projection\n"
     ]
    },
    {
     "data": {
      "text/html": [
       "<pre>&lt;xarray.DataArray &#x27;random&#x27; (sample: 165, projection: 2400)&gt;\n",
       "dask.array&lt;getitem, shape=(165, 2400), dtype=float64, chunksize=(165, 165), chunktype=numpy.ndarray&gt;\n",
       "Coordinates:\n",
       "  * sample      (sample) int32 0 1 2 3 4 5 6 7 ... 158 159 160 161 162 163 164\n",
       "  * projection  (projection) int32 0 1 2 3 4 5 ... 2394 2395 2396 2397 2398 2399</pre>"
      ],
      "text/plain": [
       "<xarray.DataArray 'random' (sample: 165, projection: 2400)>\n",
       "dask.array<getitem, shape=(165, 2400), dtype=float64, chunksize=(165, 165), chunktype=numpy.ndarray>\n",
       "Coordinates:\n",
       "  * sample      (sample) int32 0 1 2 3 4 5 6 7 ... 158 159 160 161 162 163 164\n",
       "  * projection  (projection) int32 0 1 2 3 4 5 ... 2394 2395 2396 2397 2398 2399"
      ]
     },
     "execution_count": 21,
     "metadata": {},
     "output_type": "execute_result"
    }
   ],
   "source": [
    "# Generate random vectors for projection\n",
    "da.random.seed(seed=1)\n",
    "\n",
    "def get_random_matrix(m, n):\n",
    "    if projection == 'random':\n",
    "        print('Using random projection')\n",
    "        return da.random.normal(\n",
    "            size=(m, n), \n",
    "            chunks='auto'\n",
    "            # Split the random array into chunks here as well\n",
    "            # chunks=(-1, blocks(n_projections, n_workers))\n",
    "        )\n",
    "    elif projection == 'orthogonal':\n",
    "        print('Using orthogonal projection')\n",
    "        n_batch = int(np.ceil(n / m))\n",
    "        R = []\n",
    "        for i in range(n_batch):\n",
    "            rm = da.random.normal(\n",
    "                size=(m, m), \n",
    "                chunks='auto'\n",
    "            )\n",
    "            R.append(da.linalg.qr(rm)[0])\n",
    "        R = da.concatenate(R, axis=1)[:,:n]\n",
    "        # rms = (rms - rms.mean(axis=1, keepdims=True)) / rms.std(axis=1, keepdims=True)\n",
    "        return R\n",
    "    else:\n",
    "        raise ValueError(f'Projection type ${projection} not supported')\n",
    "\n",
    "R = xr.DataArray(\n",
    "    data=get_random_matrix(len(X['sample']), n_projections), \n",
    "    dims=('sample', 'projection'),\n",
    "    coords=dict(\n",
    "        sample=da.arange(len(X['sample']), dtype=np.int32),\n",
    "        projection=da.arange(n_projections, dtype=np.int32)\n",
    "    ),\n",
    "    name='random'\n",
    ")\n",
    "R"
   ]
  },
  {
   "cell_type": "markdown",
   "metadata": {},
   "source": [
    "### Compute Hash Bits"
   ]
  },
  {
   "cell_type": "code",
   "execution_count": 9,
   "metadata": {
    "ExecuteTime": {
     "end_time": "2020-02-22T19:11:59.655426Z",
     "start_time": "2020-02-22T19:11:59.619686Z"
    }
   },
   "outputs": [
    {
     "data": {
      "text/html": [
       "<pre>&lt;xarray.DataArray &#x27;projections&#x27; (variant: 72732, projection: 2400)&gt;\n",
       "dask.array&lt;sum-aggregate, shape=(72732, 2400), dtype=float64, chunksize=(9091, 165), chunktype=numpy.ndarray&gt;\n",
       "Coordinates:\n",
       "  * variant     (variant) int32 0 1 2 3 4 5 ... 72727 72728 72729 72730 72731\n",
       "  * projection  (projection) int32 0 1 2 3 4 5 ... 2394 2395 2396 2397 2398 2399\n",
       "    hash_group  (projection) int32 0 0 0 0 0 0 0 0 0 ... 99 99 99 99 99 99 99 99</pre>"
      ],
      "text/plain": [
       "<xarray.DataArray 'projections' (variant: 72732, projection: 2400)>\n",
       "dask.array<sum-aggregate, shape=(72732, 2400), dtype=float64, chunksize=(9091, 165), chunktype=numpy.ndarray>\n",
       "Coordinates:\n",
       "  * variant     (variant) int32 0 1 2 3 4 5 ... 72727 72728 72729 72730 72731\n",
       "  * projection  (projection) int32 0 1 2 3 4 5 ... 2394 2395 2396 2397 2398 2399\n",
       "    hash_group  (projection) int32 0 0 0 0 0 0 0 0 0 ... 99 99 99 99 99 99 99 99"
      ]
     },
     "execution_count": 9,
     "metadata": {},
     "output_type": "execute_result"
    }
   ],
   "source": [
    "# Apply projection and attach hash signature grouping\n",
    "P = (\n",
    "    (X @ R)\n",
    "    .rename('projections')\n",
    "    .pipe(lambda x: x.assign_coords(hash_group=('projection', x['projection']//h)))\n",
    ")\n",
    "P"
   ]
  },
  {
   "cell_type": "code",
   "execution_count": 10,
   "metadata": {
    "ExecuteTime": {
     "end_time": "2020-02-22T19:12:17.994763Z",
     "start_time": "2020-02-22T19:12:07.811482Z"
    }
   },
   "outputs": [
    {
     "name": "stdout",
     "output_type": "stream",
     "text": [
      "CPU times: user 4.25 s, sys: 263 ms, total: 4.51 s\n",
      "Wall time: 8.27 s\n"
     ]
    },
    {
     "data": {
      "text/html": [
       "<pre>&lt;xarray.DataArray &#x27;hash_value&#x27; (variant: 72732, hash_group: 100)&gt;\n",
       "array([[ 9211463383448702463,  9211463383448702463,  9211463383448702463,\n",
       "        ...,  9211463383448702463,  9211463383448702463,\n",
       "         9211463383448702463],\n",
       "       [ 9026079278111564080,  5661112445353150241, -3771982521852361316,\n",
       "        ...,  4849714807315179642, -6093200631416099740,\n",
       "        -7468402551411233512],\n",
       "       [ 5999424552054545239, -6184309992976564201, -2586143666721030789,\n",
       "        ...,  4462098396900665507,  8607758996508153999,\n",
       "         2175538935838262745],\n",
       "       ...,\n",
       "       [ 1370098240885390287, -7845127138016530328, -6673106811747358496,\n",
       "        ...,  6787399535287662200,   245145152600339443,\n",
       "        -7596342074426975805],\n",
       "       [-2078553008261575876, -5474094659864797808, -3808765067197286568,\n",
       "        ..., -7916451212079717075,  4334415905978059335,\n",
       "         2688946145284035568],\n",
       "       [ -159237968148333966,  6554171523862759015, -5056391517307163421,\n",
       "        ...,  1138327009588986916, -7770434725901858807,\n",
       "         2601080266670832558]])\n",
       "Coordinates:\n",
       "  * variant     (variant) int32 0 1 2 3 4 5 ... 72727 72728 72729 72730 72731\n",
       "  * hash_group  (hash_group) int64 0 1 2 3 4 5 6 7 8 ... 92 93 94 95 96 97 98 99</pre>"
      ],
      "text/plain": [
       "<xarray.DataArray 'hash_value' (variant: 72732, hash_group: 100)>\n",
       "array([[ 9211463383448702463,  9211463383448702463,  9211463383448702463,\n",
       "        ...,  9211463383448702463,  9211463383448702463,\n",
       "         9211463383448702463],\n",
       "       [ 9026079278111564080,  5661112445353150241, -3771982521852361316,\n",
       "        ...,  4849714807315179642, -6093200631416099740,\n",
       "        -7468402551411233512],\n",
       "       [ 5999424552054545239, -6184309992976564201, -2586143666721030789,\n",
       "        ...,  4462098396900665507,  8607758996508153999,\n",
       "         2175538935838262745],\n",
       "       ...,\n",
       "       [ 1370098240885390287, -7845127138016530328, -6673106811747358496,\n",
       "        ...,  6787399535287662200,   245145152600339443,\n",
       "        -7596342074426975805],\n",
       "       [-2078553008261575876, -5474094659864797808, -3808765067197286568,\n",
       "        ..., -7916451212079717075,  4334415905978059335,\n",
       "         2688946145284035568],\n",
       "       [ -159237968148333966,  6554171523862759015, -5056391517307163421,\n",
       "        ...,  1138327009588986916, -7770434725901858807,\n",
       "         2601080266670832558]])\n",
       "Coordinates:\n",
       "  * variant     (variant) int32 0 1 2 3 4 5 ... 72727 72728 72729 72730 72731\n",
       "  * hash_group  (hash_group) int64 0 1 2 3 4 5 6 7 8 ... 92 93 94 95 96 97 98 99"
      ]
     },
     "execution_count": 10,
     "metadata": {},
     "output_type": "execute_result"
    }
   ],
   "source": [
    "%%time\n",
    "# Group by hash signature group (i.e. columns) and compute row-wise hashes\n",
    "# within those columns, which will each be boolean vectors indicating sign\n",
    "# TODO: This should operate on rows across hash group boundaries since the number\n",
    "# of groups can be high and making many small chunks is inefficient\n",
    "def hash_bits(x):\n",
    "    return np.expand_dims(np.apply_along_axis(\n",
    "        lambda r: hash(np.asarray(r).tobytes()), \n",
    "        axis=1, arr=x\n",
    "    ), 1)\n",
    "H = xr.DataArray(\n",
    "    (P > 0).data.rechunk(chunks=(P.data.chunksize[0], h))\n",
    "    .map_blocks(hash_bits, chunks=(P.data.chunksize[0], 1))\n",
    "    .compute(),\n",
    "    dims=('variant', 'hash_group'),\n",
    "    coords=dict(\n",
    "        variant=P['variant'],\n",
    "        hash_group=np.arange(g)\n",
    "    ),\n",
    "    name='hash_value'\n",
    ")\n",
    "H"
   ]
  },
  {
   "cell_type": "markdown",
   "metadata": {},
   "source": [
    "Note that the above is unfortunately much faster than using the xarray API directly:"
   ]
  },
  {
   "cell_type": "code",
   "execution_count": 10,
   "metadata": {
    "ExecuteTime": {
     "end_time": "2020-02-22T19:12:17.998284Z",
     "start_time": "2020-02-22T19:12:17.996140Z"
    }
   },
   "outputs": [],
   "source": [
    "# %%time\n",
    "# def hash_bits(x, axis=None):\n",
    "#     # NOTE: It makes little difference if the np conversion is done\n",
    "#     # per row or initially for this group (it must all be loaded into memory already)\n",
    "#     return xr.DataArray(da.apply_along_axis(\n",
    "#         lambda r: hash(np.asarray(r).tobytes()), \n",
    "#         axis=axis, arr=x\n",
    "#     ))\n",
    "\n",
    "# H = (\n",
    "#     (P > 0)\n",
    "#     .groupby('hash_group')\n",
    "#     .reduce(hash_bits, dim='projection')\n",
    "#     .rename('hash_value')\n",
    "# )\n",
    "# H\n",
    "\n",
    "# For h = 24, g = 100:\n",
    "# CPU times: user 24 s, sys: 1.64 s, total: 25.6 s\n",
    "# Wall time: 2min 10s (compared to ~10s for Dask version w/ same parameters)"
   ]
  },
  {
   "cell_type": "markdown",
   "metadata": {},
   "source": [
    "### Compute Hash Bucket"
   ]
  },
  {
   "cell_type": "code",
   "execution_count": 11,
   "metadata": {
    "ExecuteTime": {
     "end_time": "2020-02-22T19:12:20.871718Z",
     "start_time": "2020-02-22T19:12:20.706566Z"
    }
   },
   "outputs": [
    {
     "data": {
      "text/html": [
       "<pre>&lt;xarray.DataArray &#x27;hash_value&#x27; (i: 7273200)&gt;\n",
       "array([ 9211463383448702463,  9211463383448702463,  9211463383448702463,\n",
       "       ...,  1138327009588986916, -7770434725901858807,\n",
       "        2601080266670832558])\n",
       "Coordinates:\n",
       "    variant     (i) int64 0 0 0 0 0 0 0 ... 72731 72731 72731 72731 72731 72731\n",
       "    hash_group  (i) int64 0 1 2 3 4 5 6 7 8 9 ... 90 91 92 93 94 95 96 97 98 99\n",
       "Dimensions without coordinates: i</pre>"
      ],
      "text/plain": [
       "<xarray.DataArray 'hash_value' (i: 7273200)>\n",
       "array([ 9211463383448702463,  9211463383448702463,  9211463383448702463,\n",
       "       ...,  1138327009588986916, -7770434725901858807,\n",
       "        2601080266670832558])\n",
       "Coordinates:\n",
       "    variant     (i) int64 0 0 0 0 0 0 0 ... 72731 72731 72731 72731 72731 72731\n",
       "    hash_group  (i) int64 0 1 2 3 4 5 6 7 8 9 ... 90 91 92 93 94 95 96 97 98 99\n",
       "Dimensions without coordinates: i"
      ]
     },
     "execution_count": 11,
     "metadata": {},
     "output_type": "execute_result"
    }
   ],
   "source": [
    "L = H.stack(i=('variant', 'hash_group')).reset_index('i')\n",
    "L"
   ]
  },
  {
   "cell_type": "code",
   "execution_count": 12,
   "metadata": {
    "ExecuteTime": {
     "end_time": "2020-02-22T19:12:49.874948Z",
     "start_time": "2020-02-22T19:12:21.634700Z"
    }
   },
   "outputs": [
    {
     "name": "stdout",
     "output_type": "stream",
     "text": [
      "CPU times: user 2.66 s, sys: 522 ms, total: 3.18 s\n",
      "Wall time: 30.1 s\n"
     ]
    },
    {
     "data": {
      "text/html": [
       "<pre>&lt;xarray.DataArray &#x27;hash_value&#x27; (i: 7273200)&gt;\n",
       "array([ 9211463383448702463,  9211463383448702463,  9211463383448702463,\n",
       "       ...,  1138327009588986916, -7770434725901858807,\n",
       "        2601080266670832558])\n",
       "Coordinates:\n",
       "    variant      (i) int64 0 0 0 0 0 0 0 ... 72731 72731 72731 72731 72731 72731\n",
       "    hash_group   (i) int64 0 1 2 3 4 5 6 7 8 9 ... 90 91 92 93 94 95 96 97 98 99\n",
       "    hash_bucket  (i) int64 -9112397201106482923 ... -2191225813726004513\n",
       "Dimensions without coordinates: i</pre>"
      ],
      "text/plain": [
       "<xarray.DataArray 'hash_value' (i: 7273200)>\n",
       "array([ 9211463383448702463,  9211463383448702463,  9211463383448702463,\n",
       "       ...,  1138327009588986916, -7770434725901858807,\n",
       "        2601080266670832558])\n",
       "Coordinates:\n",
       "    variant      (i) int64 0 0 0 0 0 0 0 ... 72731 72731 72731 72731 72731 72731\n",
       "    hash_group   (i) int64 0 1 2 3 4 5 6 7 8 9 ... 90 91 92 93 94 95 96 97 98 99\n",
       "    hash_bucket  (i) int64 -9112397201106482923 ... -2191225813726004513\n",
       "Dimensions without coordinates: i"
      ]
     },
     "execution_count": 12,
     "metadata": {},
     "output_type": "execute_result"
    }
   ],
   "source": [
    "%%time\n",
    "def hash_bucket(x, axis=None):\n",
    "    return xr.DataArray(da.apply_along_axis(\n",
    "        lambda r: hash(np.asarray(r).tobytes()), \n",
    "        axis=axis, arr=x\n",
    "    ))\n",
    "L = L.assign_coords(hash_bucket=\n",
    "    xr.concat([L, L['hash_group']], dim='component', coords='minimal').T\n",
    "    .pipe(lambda x: x.reduce(hash_bucket, dim='component'))\n",
    "    .rename('hash_bucket')\n",
    ")\n",
    "L"
   ]
  },
  {
   "cell_type": "markdown",
   "metadata": {},
   "source": [
    "### Export"
   ]
  },
  {
   "cell_type": "code",
   "execution_count": 13,
   "metadata": {
    "ExecuteTime": {
     "end_time": "2020-02-22T19:12:52.433218Z",
     "start_time": "2020-02-22T19:12:49.877044Z"
    }
   },
   "outputs": [
    {
     "data": {
      "text/html": [
       "<div>\n",
       "<style scoped>\n",
       "    .dataframe tbody tr th:only-of-type {\n",
       "        vertical-align: middle;\n",
       "    }\n",
       "\n",
       "    .dataframe tbody tr th {\n",
       "        vertical-align: top;\n",
       "    }\n",
       "\n",
       "    .dataframe thead th {\n",
       "        text-align: right;\n",
       "    }\n",
       "</style>\n",
       "<table border=\"1\" class=\"dataframe\">\n",
       "  <thead>\n",
       "    <tr style=\"text-align: right;\">\n",
       "      <th></th>\n",
       "      <th>variant</th>\n",
       "      <th>hash_group</th>\n",
       "      <th>hash_bucket</th>\n",
       "      <th>hash_value</th>\n",
       "    </tr>\n",
       "  </thead>\n",
       "  <tbody>\n",
       "    <tr>\n",
       "      <th>0</th>\n",
       "      <td>0</td>\n",
       "      <td>0</td>\n",
       "      <td>-9112397201106482923</td>\n",
       "      <td>9211463383448702463</td>\n",
       "    </tr>\n",
       "    <tr>\n",
       "      <th>1</th>\n",
       "      <td>0</td>\n",
       "      <td>1</td>\n",
       "      <td>-3507714323226662759</td>\n",
       "      <td>9211463383448702463</td>\n",
       "    </tr>\n",
       "    <tr>\n",
       "      <th>2</th>\n",
       "      <td>0</td>\n",
       "      <td>2</td>\n",
       "      <td>8817343152979801908</td>\n",
       "      <td>9211463383448702463</td>\n",
       "    </tr>\n",
       "    <tr>\n",
       "      <th>3</th>\n",
       "      <td>0</td>\n",
       "      <td>3</td>\n",
       "      <td>3299391009333304604</td>\n",
       "      <td>9211463383448702463</td>\n",
       "    </tr>\n",
       "    <tr>\n",
       "      <th>4</th>\n",
       "      <td>0</td>\n",
       "      <td>4</td>\n",
       "      <td>555232255770496111</td>\n",
       "      <td>9211463383448702463</td>\n",
       "    </tr>\n",
       "    <tr>\n",
       "      <th>5</th>\n",
       "      <td>0</td>\n",
       "      <td>5</td>\n",
       "      <td>4082874934278889961</td>\n",
       "      <td>9211463383448702463</td>\n",
       "    </tr>\n",
       "    <tr>\n",
       "      <th>6</th>\n",
       "      <td>0</td>\n",
       "      <td>6</td>\n",
       "      <td>5795625952918698016</td>\n",
       "      <td>9211463383448702463</td>\n",
       "    </tr>\n",
       "    <tr>\n",
       "      <th>7</th>\n",
       "      <td>0</td>\n",
       "      <td>7</td>\n",
       "      <td>-4491241682868907049</td>\n",
       "      <td>9211463383448702463</td>\n",
       "    </tr>\n",
       "  </tbody>\n",
       "</table>\n",
       "</div>"
      ],
      "text/plain": [
       "   variant  hash_group          hash_bucket           hash_value\n",
       "0        0           0 -9112397201106482923  9211463383448702463\n",
       "1        0           1 -3507714323226662759  9211463383448702463\n",
       "2        0           2  8817343152979801908  9211463383448702463\n",
       "3        0           3  3299391009333304604  9211463383448702463\n",
       "4        0           4   555232255770496111  9211463383448702463\n",
       "5        0           5  4082874934278889961  9211463383448702463\n",
       "6        0           6  5795625952918698016  9211463383448702463\n",
       "7        0           7 -4491241682868907049  9211463383448702463"
      ]
     },
     "execution_count": 13,
     "metadata": {},
     "output_type": "execute_result"
    }
   ],
   "source": [
    "df = L.to_dataset().to_dask_dataframe().drop('i', axis='columns')\n",
    "df.head(8)"
   ]
  },
  {
   "cell_type": "code",
   "execution_count": 17,
   "metadata": {},
   "outputs": [
    {
     "name": "stdout",
     "output_type": "stream",
     "text": [
      "CPU times: user 395 ms, sys: 225 ms, total: 620 ms\n",
      "Wall time: 2.8 s\n"
     ]
    },
    {
     "data": {
      "text/plain": [
       "'/home/eczech/data/gwas/benchmark/datasets/ld_prune/lsh/hapmap-sr=0.05-h=24-g=100-p=orthogonal.parquet'"
      ]
     },
     "execution_count": 17,
     "metadata": {},
     "output_type": "execute_result"
    }
   ],
   "source": [
    "%%time\n",
    "path = ld_prune_lsh.dataset_path(ds_name, sr=sample_rate, h=h, g=g, p=projection) + '.parquet'\n",
    "df.to_parquet(path)\n",
    "path"
   ]
  },
  {
   "cell_type": "code",
   "execution_count": 18,
   "metadata": {
    "ExecuteTime": {
     "end_time": "2020-02-22T19:14:02.706761Z",
     "start_time": "2020-02-22T19:14:02.700377Z"
    }
   },
   "outputs": [
    {
     "name": "stderr",
     "output_type": "stream",
     "text": [
      "distributed.client - ERROR - Failed to reconnect to scheduler after 10.00 seconds, closing client\n",
      "_GatheringFuture exception was never retrieved\n",
      "future: <_GatheringFuture finished exception=CancelledError()>\n",
      "concurrent.futures._base.CancelledError\n"
     ]
    }
   ],
   "source": [
    "client.shutdown()"
   ]
  }
 ],
 "metadata": {
  "kernelspec": {
   "display_name": "Python 3",
   "language": "python",
   "name": "python3"
  },
  "language_info": {
   "codemirror_mode": {
    "name": "ipython",
    "version": 3
   },
   "file_extension": ".py",
   "mimetype": "text/x-python",
   "name": "python",
   "nbconvert_exporter": "python",
   "pygments_lexer": "ipython3",
   "version": "3.7.6"
  }
 },
 "nbformat": 4,
 "nbformat_minor": 4
}
