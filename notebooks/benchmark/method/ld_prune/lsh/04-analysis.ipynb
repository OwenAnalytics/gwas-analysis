{
 "cells": [
  {
   "cell_type": "markdown",
   "metadata": {},
   "source": [
    "## LSH Analysis\n",
    "\n",
    "Compare predicted and actual variant correlations.\n",
    "\n",
    "Steps:\n",
    "\n",
    "- Select a subset of variants to scope evaluation to (optional)\n",
    "- Load ground-truth pair-wise LD\n",
    "- Load hashes and determine pair-wise collision\n",
    "- Analyze results, looking for when collisions start occurring as the true LD increases"
   ]
  },
  {
   "cell_type": "code",
   "execution_count": 1,
   "metadata": {},
   "outputs": [],
   "source": [
    "from pyspark.sql import SparkSession\n",
    "from pyspark.sql.types import ByteType, IntegerType\n",
    "from pyspark.sql import functions as F\n",
    "import os\n",
    "import pandas as pd\n",
    "import numpy as np\n",
    "%run {os.environ['NB_DIR']}/nb.py\n",
    "%run $BENCHMARK_METHOD_DIR/common.py\n",
    "\n",
    "ds_name = DATASET_HM\n",
    "sample_rate = .1\n",
    "min_ld = .1\n",
    "eval_sample_rate = .25\n",
    "\n",
    "# ds_name = DATASET_SIM\n",
    "# sample_rate = 1\n",
    "# min_ld = .1\n",
    "# eval_sample_rate = None\n",
    "\n",
    "ds_config = DATASET_CONFIG[ds_name]\n",
    "spark = SparkSession.builder.master(\"local[*]\").getOrCreate()"
   ]
  },
  {
   "cell_type": "code",
   "execution_count": 2,
   "metadata": {},
   "outputs": [],
   "source": [
    "# h, g = 4096, 4\n",
    "#h, g = 64, 4096\n",
    "#h, g = 32, 4096\n",
    "h, g = 28, 16384"
   ]
  },
  {
   "cell_type": "markdown",
   "metadata": {},
   "source": [
    "### Select Variants"
   ]
  },
  {
   "cell_type": "code",
   "execution_count": 4,
   "metadata": {},
   "outputs": [
    {
     "data": {
      "text/plain": [
       "2664"
      ]
     },
     "execution_count": 4,
     "metadata": {},
     "output_type": "execute_result"
    }
   ],
   "source": [
    "#/tmp/benchmark_datasets/hapmap-sr=0.05.parquet\n",
    "dfv = spark.read.parquet(dataset_path(ds_name, ext='parquet', sr=sample_rate)).select('row_idx')\n",
    "if eval_sample_rate is not None:\n",
    "    dfv = dfv.sample(fraction=eval_sample_rate, seed=1, withReplacement=False)\n",
    "variants = list(map(int, dfv.toPandas()['row_idx'].unique()))\n",
    "len(variants)"
   ]
  },
  {
   "cell_type": "markdown",
   "metadata": {},
   "source": [
    "### Load True Pairwise LD"
   ]
  },
  {
   "cell_type": "code",
   "execution_count": 5,
   "metadata": {},
   "outputs": [
    {
     "data": {
      "text/plain": [
       "DataFrame[i: bigint, j: bigint, value: double]"
      ]
     },
     "execution_count": 5,
     "metadata": {},
     "output_type": "execute_result"
    }
   ],
   "source": [
    "def get_ld_matrix(rows=None):\n",
    "    path = dataset_path(ds_name, ext='parquet', sr=sample_rate, minld=min_ld) \n",
    "    df = spark.read.parquet(path).withColumnRenamed('entry', 'value')\n",
    "    if rows is not None:\n",
    "        df = df.filter(df.i.isin(rows) & df.j.isin(rows))\n",
    "    return df\n",
    "dfp = get_ld_matrix(variants)\n",
    "dfp"
   ]
  },
  {
   "cell_type": "code",
   "execution_count": 6,
   "metadata": {},
   "outputs": [
    {
     "data": {
      "text/plain": [
       "476295"
      ]
     },
     "execution_count": 6,
     "metadata": {},
     "output_type": "execute_result"
    }
   ],
   "source": [
    "dfp.count()"
   ]
  },
  {
   "cell_type": "code",
   "execution_count": 7,
   "metadata": {},
   "outputs": [
    {
     "data": {
      "text/plain": [
       "count    476295.000000\n",
       "mean          0.150158\n",
       "std           0.051158\n",
       "min           0.100000\n",
       "25%           0.116402\n",
       "50%           0.137240\n",
       "75%           0.169508\n",
       "max           1.000000\n",
       "Name: value, dtype: float64"
      ]
     },
     "execution_count": 7,
     "metadata": {},
     "output_type": "execute_result"
    }
   ],
   "source": [
    "dfp.toPandas()['value'].describe()"
   ]
  },
  {
   "cell_type": "markdown",
   "metadata": {},
   "source": [
    "### Load Hash Buckets"
   ]
  },
  {
   "cell_type": "code",
   "execution_count": 8,
   "metadata": {},
   "outputs": [
    {
     "name": "stdout",
     "output_type": "stream",
     "text": [
      "/home/eczech/data/gwas/benchmark/datasets/ld_prune/lsh/hapmap-sr=0.1-h=28-g=16384.parquet\n"
     ]
    },
    {
     "data": {
      "text/plain": [
       "DataFrame[hash_bucket: bigint, variant: bigint, hash_group: bigint, hash_value: bigint, index: bigint]"
      ]
     },
     "execution_count": 8,
     "metadata": {},
     "output_type": "execute_result"
    }
   ],
   "source": [
    "def get_hashes(h, g, rows=None, remove_singletons=True):\n",
    "    path = dataset_path(ds_name, ext='parquet', sr=sample_rate, h=h, g=g)\n",
    "    print(path)\n",
    "    df = spark.read.parquet(path)\n",
    "    if rows is not None:\n",
    "        df = df.filter(df.variant.isin(rows))\n",
    "    \n",
    "    # Remove singleton buckets since they imply no pairs\n",
    "    if remove_singletons:\n",
    "        cts = df.groupby('hash_bucket').count()\n",
    "        cts = cts.filter(cts['count'] > 1)\n",
    "        df = df.join(cts, 'hash_bucket', 'left_semi')\n",
    "    return df\n",
    "\n",
    "dfh = get_hashes(h, g, rows=variants, remove_singletons=True)\n",
    "dfh"
   ]
  },
  {
   "cell_type": "code",
   "execution_count": 9,
   "metadata": {},
   "outputs": [],
   "source": [
    "assert dfh.agg(F.countDistinct(dfh['variant']).alias('ct')).select('ct').head(1)[0]['ct'] <= len(variants)"
   ]
  },
  {
   "cell_type": "code",
   "execution_count": 10,
   "metadata": {},
   "outputs": [
    {
     "data": {
      "text/plain": [
       "1882047"
      ]
     },
     "execution_count": 10,
     "metadata": {},
     "output_type": "execute_result"
    }
   ],
   "source": [
    "dfh.count()"
   ]
  },
  {
   "cell_type": "markdown",
   "metadata": {},
   "source": [
    "### Compute Collisions"
   ]
  },
  {
   "cell_type": "code",
   "execution_count": 11,
   "metadata": {},
   "outputs": [],
   "source": [
    "def get_hashed_pairs(h, g, **kwargs):\n",
    "    path = dataset_path(ds_name, sr=sample_rate, h=h, g=g) + '.parquet'\n",
    "    dfh = get_hashes(h, g, **kwargs)\n",
    "    \n",
    "    df1 = dfh.select('variant', 'hash_bucket')\\\n",
    "        .withColumnRenamed('variant', 'i')\\\n",
    "        .withColumnRenamed('hash_bucket', 'i_hb')\n",
    "    df2 = dfh.select('variant', 'hash_bucket')\\\n",
    "        .withColumnRenamed('variant', 'j')\\\n",
    "        .withColumnRenamed('hash_bucket', 'j_hb')\n",
    "\n",
    "    df = df1.join(df2, [df1.i_hb == df2.j_hb], how='inner')\n",
    "    df = df.filter(df.j > df.i) # Upper triangle only\n",
    "    df = df.groupby(['i', 'j']).count()\n",
    "    return df\n",
    "\n",
    "def write_hashed_pairs(h, g, **kwargs):\n",
    "    df = get_hashed_pairs(h, g, **kwargs)\n",
    "    path = module_path('analysis', 'hash_pairs', ext='parquet', h=h, g=g)\n",
    "    df.write.parquet(path, mode='overwrite')\n",
    "    return path"
   ]
  },
  {
   "cell_type": "code",
   "execution_count": 12,
   "metadata": {},
   "outputs": [
    {
     "name": "stdout",
     "output_type": "stream",
     "text": [
      "/home/eczech/data/gwas/benchmark/datasets/ld_prune/lsh/hapmap-sr=0.1-h=28-g=16384.parquet\n",
      "CPU times: user 904 ms, sys: 255 ms, total: 1.16 s\n",
      "Wall time: 25.5 s\n"
     ]
    },
    {
     "data": {
      "text/plain": [
       "'/home/eczech/data/gwas/benchmark/analysis/ld_prune/lsh/hash_pairs-h=28-g=16384.parquet'"
      ]
     },
     "execution_count": 12,
     "metadata": {},
     "output_type": "execute_result"
    }
   ],
   "source": [
    "%%time\n",
    "path = write_hashed_pairs(h, g, rows=variants, remove_singletons=True)\n",
    "path"
   ]
  },
  {
   "cell_type": "markdown",
   "metadata": {},
   "source": [
    "### Merge "
   ]
  },
  {
   "cell_type": "code",
   "execution_count": 13,
   "metadata": {},
   "outputs": [
    {
     "data": {
      "text/plain": [
       "DataFrame[i: bigint, j: bigint, h_count: bigint, p_value: double, status: string]"
      ]
     },
     "execution_count": 13,
     "metadata": {},
     "output_type": "execute_result"
    }
   ],
   "source": [
    "def get_merged_results(dfh, dfp):\n",
    "    dfh = dfh.withColumnRenamed('count', 'h_count')\n",
    "    dfp = dfp.withColumnRenamed('value', 'p_value')\n",
    "    \n",
    "    df = dfh.join(dfp, ['i', 'j'], how='outer')\n",
    "    df = df.withColumn(\n",
    "        'status', \n",
    "        F.when(df.h_count.isNull(), 'only_p')\n",
    "        .when(df.p_value.isNull(), 'only_h')\n",
    "        .otherwise('both')\n",
    "    )\n",
    "    return df\n",
    "dfm = get_merged_results(spark.read.parquet(path), dfp)\n",
    "dfm"
   ]
  },
  {
   "cell_type": "code",
   "execution_count": 14,
   "metadata": {},
   "outputs": [
    {
     "name": "stdout",
     "output_type": "stream",
     "text": [
      "<class 'pandas.core.frame.DataFrame'>\n",
      "RangeIndex: 476532 entries, 0 to 476531\n",
      "Data columns (total 5 columns):\n",
      "i          476532 non-null int64\n",
      "j          476532 non-null int64\n",
      "h_count    1445 non-null float64\n",
      "p_value    476295 non-null float64\n",
      "status     476532 non-null object\n",
      "dtypes: float64(2), int64(2), object(1)\n",
      "memory usage: 18.2+ MB\n",
      "None\n"
     ]
    },
    {
     "data": {
      "text/html": [
       "<div>\n",
       "<style scoped>\n",
       "    .dataframe tbody tr th:only-of-type {\n",
       "        vertical-align: middle;\n",
       "    }\n",
       "\n",
       "    .dataframe tbody tr th {\n",
       "        vertical-align: top;\n",
       "    }\n",
       "\n",
       "    .dataframe thead th {\n",
       "        text-align: right;\n",
       "    }\n",
       "</style>\n",
       "<table border=\"1\" class=\"dataframe\">\n",
       "  <thead>\n",
       "    <tr style=\"text-align: right;\">\n",
       "      <th></th>\n",
       "      <th>i</th>\n",
       "      <th>j</th>\n",
       "      <th>h_count</th>\n",
       "      <th>p_value</th>\n",
       "      <th>status</th>\n",
       "    </tr>\n",
       "  </thead>\n",
       "  <tbody>\n",
       "    <tr>\n",
       "      <th>0</th>\n",
       "      <td>1</td>\n",
       "      <td>5486</td>\n",
       "      <td>NaN</td>\n",
       "      <td>0.150639</td>\n",
       "      <td>only_p</td>\n",
       "    </tr>\n",
       "    <tr>\n",
       "      <th>1</th>\n",
       "      <td>7</td>\n",
       "      <td>4635</td>\n",
       "      <td>NaN</td>\n",
       "      <td>0.121675</td>\n",
       "      <td>only_p</td>\n",
       "    </tr>\n",
       "    <tr>\n",
       "      <th>2</th>\n",
       "      <td>10</td>\n",
       "      <td>8846</td>\n",
       "      <td>NaN</td>\n",
       "      <td>0.141519</td>\n",
       "      <td>only_p</td>\n",
       "    </tr>\n",
       "    <tr>\n",
       "      <th>3</th>\n",
       "      <td>10</td>\n",
       "      <td>9641</td>\n",
       "      <td>NaN</td>\n",
       "      <td>0.173441</td>\n",
       "      <td>only_p</td>\n",
       "    </tr>\n",
       "    <tr>\n",
       "      <th>4</th>\n",
       "      <td>12</td>\n",
       "      <td>4589</td>\n",
       "      <td>NaN</td>\n",
       "      <td>0.176680</td>\n",
       "      <td>only_p</td>\n",
       "    </tr>\n",
       "  </tbody>\n",
       "</table>\n",
       "</div>"
      ],
      "text/plain": [
       "    i     j  h_count   p_value  status\n",
       "0   1  5486      NaN  0.150639  only_p\n",
       "1   7  4635      NaN  0.121675  only_p\n",
       "2  10  8846      NaN  0.141519  only_p\n",
       "3  10  9641      NaN  0.173441  only_p\n",
       "4  12  4589      NaN  0.176680  only_p"
      ]
     },
     "execution_count": 14,
     "metadata": {},
     "output_type": "execute_result"
    }
   ],
   "source": [
    "df = dfm.toPandas()\n",
    "print(df.info())\n",
    "df.head()"
   ]
  },
  {
   "cell_type": "code",
   "execution_count": 15,
   "metadata": {},
   "outputs": [
    {
     "data": {
      "text/plain": [
       "only_p    475087\n",
       "both        1208\n",
       "only_h       237\n",
       "Name: status, dtype: int64"
      ]
     },
     "execution_count": 15,
     "metadata": {},
     "output_type": "execute_result"
    }
   ],
   "source": [
    "df['status'].value_counts()"
   ]
  },
  {
   "cell_type": "code",
   "execution_count": 16,
   "metadata": {},
   "outputs": [
    {
     "data": {
      "text/plain": [
       "False    476274\n",
       "True         21\n",
       "Name: p_value, dtype: int64"
      ]
     },
     "execution_count": 16,
     "metadata": {},
     "output_type": "execute_result"
    }
   ],
   "source": [
    "(df[df['p_value'].notnull()]['p_value'] >= 1).value_counts()"
   ]
  },
  {
   "cell_type": "code",
   "execution_count": 17,
   "metadata": {},
   "outputs": [
    {
     "data": {
      "text/plain": [
       "both      193\n",
       "only_p      6\n",
       "Name: status, dtype: int64"
      ]
     },
     "execution_count": 17,
     "metadata": {},
     "output_type": "execute_result"
    }
   ],
   "source": [
    "df[df['p_value'] >= .9]['status'].value_counts()"
   ]
  },
  {
   "cell_type": "code",
   "execution_count": 19,
   "metadata": {},
   "outputs": [
    {
     "data": {
      "text/plain": [
       "<matplotlib.axes._subplots.AxesSubplot at 0x7f1c130a1410>"
      ]
     },
     "execution_count": 19,
     "metadata": {},
     "output_type": "execute_result"
    },
    {
     "data": {
      "image/png": "[encoded data removed]",
      "text/plain": [
       "<Figure size 432x288 with 1 Axes>"
      ]
     },
     "metadata": {
      "needs_background": "light"
     },
     "output_type": "display_data"
    }
   ],
   "source": [
    "df['p_value'].plot(kind='hist', bins=32)"
   ]
  },
  {
   "cell_type": "markdown",
   "metadata": {},
   "source": [
    "### Visualize"
   ]
  },
  {
   "cell_type": "code",
   "execution_count": 66,
   "metadata": {},
   "outputs": [],
   "source": [
    "def get_metrics(df, threshold, step):\n",
    "    df = df.copy()\n",
    "    def get_filtered_status(r):\n",
    "        if pd.isnull(r['p_value']):\n",
    "            return 'only_h'\n",
    "        if r['p_value'] < threshold and r['status'] == 'both':\n",
    "            return 'only_h'\n",
    "        # Drop this case from further calculations\n",
    "        if r['p_value'] < threshold and r['status'] == 'only_p':\n",
    "            return None\n",
    "        return r['status']\n",
    "        \n",
    "    # Calculate integrated statistics \n",
    "    df['status'] = df.apply(get_filtered_status, axis=1)\n",
    "    df = df[df['status'].notnull()]\n",
    "    cts = df['status'].value_counts().to_dict()\n",
    "    ntot = len(df)\n",
    "    nbt = cts.get('both', 0)\n",
    "    nop = cts.get('only_p', 0)\n",
    "    noh = cts.get('only_h', 0)\n",
    "    \n",
    "    # Calculate interval statistics\n",
    "    df = df[(df['p_value'] >= threshold) & (df['p_value'] < threshold + step)]\n",
    "    cts = df['status'].value_counts().to_dict()\n",
    "    nibt = cts.get('both', 0) \n",
    "    niop = cts.get('only_p', 0)\n",
    "    return dict(\n",
    "        threshold=threshold,\n",
    "        n_total=ntot,\n",
    "        n_both=nbt,\n",
    "        n_only_p=nop,\n",
    "        n_only_h=noh,\n",
    "        precision=nbt / (nbt + noh) if nbt + noh > 0 else 0,\n",
    "        recall=nbt / (nbt + nop) if nbt + nop > 0 else 0,\n",
    "        n_int_bt=nibt,\n",
    "        n_int_op=niop,\n",
    "        ecp=nibt / (nibt + niop) if nibt + niop > 0 else 0\n",
    "    )"
   ]
  },
  {
   "cell_type": "code",
   "execution_count": 67,
   "metadata": {},
   "outputs": [
    {
     "data": {
      "text/plain": [
       "'/home/eczech/data/gwas/benchmark/analysis/ld_prune/lsh/stats-ds=hapmap-esr=0.25-h=28-g=16384.csv'"
      ]
     },
     "execution_count": 67,
     "metadata": {},
     "output_type": "execute_result"
    }
   ],
   "source": [
    "dfstat = pd.DataFrame([\n",
    "    pd.Series(get_metrics(df, t, step=.1))\n",
    "    for t in list(np.arange(.1, 1, step=.1))\n",
    "]).assign(tcp=lambda df: hash_collision_probability(df['threshold'], h=h, g=g))\n",
    "path = module_path('analysis', 'stats', ext='csv', ds=ds_name, esr=eval_sample_rate, h=h, g=g)\n",
    "dfstat.to_csv(path, index=False)\n",
    "path"
   ]
  },
  {
   "cell_type": "code",
   "execution_count": 68,
   "metadata": {},
   "outputs": [
    {
     "data": {
      "text/html": [
       "<div>\n",
       "<style scoped>\n",
       "    .dataframe tbody tr th:only-of-type {\n",
       "        vertical-align: middle;\n",
       "    }\n",
       "\n",
       "    .dataframe tbody tr th {\n",
       "        vertical-align: top;\n",
       "    }\n",
       "\n",
       "    .dataframe thead th {\n",
       "        text-align: right;\n",
       "    }\n",
       "</style>\n",
       "<table border=\"1\" class=\"dataframe\">\n",
       "  <thead>\n",
       "    <tr style=\"text-align: right;\">\n",
       "      <th></th>\n",
       "      <th>threshold</th>\n",
       "      <th>n_total</th>\n",
       "      <th>n_both</th>\n",
       "      <th>n_only_p</th>\n",
       "      <th>n_only_h</th>\n",
       "      <th>precision</th>\n",
       "      <th>recall</th>\n",
       "      <th>n_int_bt</th>\n",
       "      <th>n_int_op</th>\n",
       "      <th>ecp</th>\n",
       "      <th>tcp</th>\n",
       "    </tr>\n",
       "  </thead>\n",
       "  <tbody>\n",
       "    <tr>\n",
       "      <th>0</th>\n",
       "      <td>0.1</td>\n",
       "      <td>476532.0</td>\n",
       "      <td>1208.0</td>\n",
       "      <td>475087.0</td>\n",
       "      <td>237.0</td>\n",
       "      <td>0.835986</td>\n",
       "      <td>0.002536</td>\n",
       "      <td>282.0</td>\n",
       "      <td>417505.0</td>\n",
       "      <td>0.000675</td>\n",
       "      <td>0.000345</td>\n",
       "    </tr>\n",
       "    <tr>\n",
       "      <th>1</th>\n",
       "      <td>0.2</td>\n",
       "      <td>59027.0</td>\n",
       "      <td>926.0</td>\n",
       "      <td>57582.0</td>\n",
       "      <td>519.0</td>\n",
       "      <td>0.640830</td>\n",
       "      <td>0.015827</td>\n",
       "      <td>162.0</td>\n",
       "      <td>52972.0</td>\n",
       "      <td>0.003049</td>\n",
       "      <td>0.001786</td>\n",
       "    </tr>\n",
       "    <tr>\n",
       "      <th>2</th>\n",
       "      <td>0.3</td>\n",
       "      <td>6055.0</td>\n",
       "      <td>764.0</td>\n",
       "      <td>4610.0</td>\n",
       "      <td>681.0</td>\n",
       "      <td>0.528720</td>\n",
       "      <td>0.142166</td>\n",
       "      <td>78.0</td>\n",
       "      <td>3777.0</td>\n",
       "      <td>0.020233</td>\n",
       "      <td>0.008700</td>\n",
       "    </tr>\n",
       "    <tr>\n",
       "      <th>3</th>\n",
       "      <td>0.4</td>\n",
       "      <td>2278.0</td>\n",
       "      <td>686.0</td>\n",
       "      <td>833.0</td>\n",
       "      <td>759.0</td>\n",
       "      <td>0.474740</td>\n",
       "      <td>0.451613</td>\n",
       "      <td>65.0</td>\n",
       "      <td>585.0</td>\n",
       "      <td>0.100000</td>\n",
       "      <td>0.040377</td>\n",
       "    </tr>\n",
       "    <tr>\n",
       "      <th>4</th>\n",
       "      <td>0.5</td>\n",
       "      <td>1693.0</td>\n",
       "      <td>621.0</td>\n",
       "      <td>248.0</td>\n",
       "      <td>824.0</td>\n",
       "      <td>0.429758</td>\n",
       "      <td>0.714614</td>\n",
       "      <td>77.0</td>\n",
       "      <td>187.0</td>\n",
       "      <td>0.291667</td>\n",
       "      <td>0.174900</td>\n",
       "    </tr>\n",
       "    <tr>\n",
       "      <th>5</th>\n",
       "      <td>0.6</td>\n",
       "      <td>1506.0</td>\n",
       "      <td>544.0</td>\n",
       "      <td>61.0</td>\n",
       "      <td>901.0</td>\n",
       "      <td>0.376471</td>\n",
       "      <td>0.899174</td>\n",
       "      <td>137.0</td>\n",
       "      <td>35.0</td>\n",
       "      <td>0.796512</td>\n",
       "      <td>0.598995</td>\n",
       "    </tr>\n",
       "    <tr>\n",
       "      <th>6</th>\n",
       "      <td>0.7</td>\n",
       "      <td>1471.0</td>\n",
       "      <td>407.0</td>\n",
       "      <td>26.0</td>\n",
       "      <td>1038.0</td>\n",
       "      <td>0.281661</td>\n",
       "      <td>0.939954</td>\n",
       "      <td>124.0</td>\n",
       "      <td>20.0</td>\n",
       "      <td>0.861111</td>\n",
       "      <td>0.990130</td>\n",
       "    </tr>\n",
       "    <tr>\n",
       "      <th>7</th>\n",
       "      <td>0.8</td>\n",
       "      <td>1451.0</td>\n",
       "      <td>283.0</td>\n",
       "      <td>6.0</td>\n",
       "      <td>1162.0</td>\n",
       "      <td>0.195848</td>\n",
       "      <td>0.979239</td>\n",
       "      <td>90.0</td>\n",
       "      <td>0.0</td>\n",
       "      <td>1.000000</td>\n",
       "      <td>1.000000</td>\n",
       "    </tr>\n",
       "    <tr>\n",
       "      <th>8</th>\n",
       "      <td>0.9</td>\n",
       "      <td>1451.0</td>\n",
       "      <td>193.0</td>\n",
       "      <td>6.0</td>\n",
       "      <td>1252.0</td>\n",
       "      <td>0.133564</td>\n",
       "      <td>0.969849</td>\n",
       "      <td>172.0</td>\n",
       "      <td>6.0</td>\n",
       "      <td>0.966292</td>\n",
       "      <td>1.000000</td>\n",
       "    </tr>\n",
       "  </tbody>\n",
       "</table>\n",
       "</div>"
      ],
      "text/plain": [
       "   threshold   n_total  n_both  n_only_p  n_only_h  precision    recall  \\\n",
       "0        0.1  476532.0  1208.0  475087.0     237.0   0.835986  0.002536   \n",
       "1        0.2   59027.0   926.0   57582.0     519.0   0.640830  0.015827   \n",
       "2        0.3    6055.0   764.0    4610.0     681.0   0.528720  0.142166   \n",
       "3        0.4    2278.0   686.0     833.0     759.0   0.474740  0.451613   \n",
       "4        0.5    1693.0   621.0     248.0     824.0   0.429758  0.714614   \n",
       "5        0.6    1506.0   544.0      61.0     901.0   0.376471  0.899174   \n",
       "6        0.7    1471.0   407.0      26.0    1038.0   0.281661  0.939954   \n",
       "7        0.8    1451.0   283.0       6.0    1162.0   0.195848  0.979239   \n",
       "8        0.9    1451.0   193.0       6.0    1252.0   0.133564  0.969849   \n",
       "\n",
       "   n_int_bt  n_int_op       ecp       tcp  \n",
       "0     282.0  417505.0  0.000675  0.000345  \n",
       "1     162.0   52972.0  0.003049  0.001786  \n",
       "2      78.0    3777.0  0.020233  0.008700  \n",
       "3      65.0     585.0  0.100000  0.040377  \n",
       "4      77.0     187.0  0.291667  0.174900  \n",
       "5     137.0      35.0  0.796512  0.598995  \n",
       "6     124.0      20.0  0.861111  0.990130  \n",
       "7      90.0       0.0  1.000000  1.000000  \n",
       "8     172.0       6.0  0.966292  1.000000  "
      ]
     },
     "execution_count": 68,
     "metadata": {},
     "output_type": "execute_result"
    }
   ],
   "source": [
    "# Hapmap: h, g = 28, 16384\n",
    "dfstat"
   ]
  },
  {
   "cell_type": "code",
   "execution_count": 86,
   "metadata": {},
   "outputs": [
    {
     "data": {
      "image/png": "[encoded data removed]",
      "text/plain": [
       "<Figure size 1440x360 with 2 Axes>"
      ]
     },
     "metadata": {
      "needs_background": "light"
     },
     "output_type": "display_data"
    }
   ],
   "source": [
    "def plot_stats(df):\n",
    "    fig, axs = plt.subplots(1, 2)\n",
    "    fig.set_size_inches(20, 5)\n",
    "    df.set_index('threshold')[['precision', 'recall']].plot(\n",
    "        ax=axs[0], title='Integrated Statistics\\nCalculated for x >= LD')\n",
    "    df.set_index('threshold')[['ecp', 'tcp']].rename(columns={\n",
    "        'ecp': 'empirical_collision_probability',\n",
    "        'tcp': 'theoretical_collision_probability'\n",
    "    }).plot(ax=axs[1], title='Interval Statistics\\nCalculated for LD <= x < LD + step')\n",
    "    for ax in axs:\n",
    "        ax.set_xlabel('True Cosine Similarity (LD)')\n",
    "    fig.suptitle(f'LSH Results\\n(dataset={ds_name}, sample_rate={sample_rate}, h={h}, g={g})')\n",
    "plot_stats(dfstat)"
   ]
  },
  {
   "cell_type": "code",
   "execution_count": 21,
   "metadata": {},
   "outputs": [
    {
     "data": {
      "text/html": [
       "<div>\n",
       "<style scoped>\n",
       "    .dataframe tbody tr th:only-of-type {\n",
       "        vertical-align: middle;\n",
       "    }\n",
       "\n",
       "    .dataframe tbody tr th {\n",
       "        vertical-align: top;\n",
       "    }\n",
       "\n",
       "    .dataframe thead th {\n",
       "        text-align: right;\n",
       "    }\n",
       "</style>\n",
       "<table border=\"1\" class=\"dataframe\">\n",
       "  <thead>\n",
       "    <tr style=\"text-align: right;\">\n",
       "      <th></th>\n",
       "      <th>threshold</th>\n",
       "      <th>n_total</th>\n",
       "      <th>n_both</th>\n",
       "      <th>n_only_p</th>\n",
       "      <th>n_only_h</th>\n",
       "      <th>precision</th>\n",
       "      <th>recall</th>\n",
       "    </tr>\n",
       "  </thead>\n",
       "  <tbody>\n",
       "    <tr>\n",
       "      <th>0</th>\n",
       "      <td>0.10</td>\n",
       "      <td>476295.0</td>\n",
       "      <td>155.0</td>\n",
       "      <td>476140.0</td>\n",
       "      <td>0.0</td>\n",
       "      <td>1.000000</td>\n",
       "      <td>0.000325</td>\n",
       "    </tr>\n",
       "    <tr>\n",
       "      <th>1</th>\n",
       "      <td>0.20</td>\n",
       "      <td>58508.0</td>\n",
       "      <td>155.0</td>\n",
       "      <td>58353.0</td>\n",
       "      <td>0.0</td>\n",
       "      <td>1.000000</td>\n",
       "      <td>0.002649</td>\n",
       "    </tr>\n",
       "    <tr>\n",
       "      <th>2</th>\n",
       "      <td>0.30</td>\n",
       "      <td>5374.0</td>\n",
       "      <td>155.0</td>\n",
       "      <td>5219.0</td>\n",
       "      <td>0.0</td>\n",
       "      <td>1.000000</td>\n",
       "      <td>0.028843</td>\n",
       "    </tr>\n",
       "    <tr>\n",
       "      <th>3</th>\n",
       "      <td>0.40</td>\n",
       "      <td>1519.0</td>\n",
       "      <td>155.0</td>\n",
       "      <td>1364.0</td>\n",
       "      <td>0.0</td>\n",
       "      <td>1.000000</td>\n",
       "      <td>0.102041</td>\n",
       "    </tr>\n",
       "    <tr>\n",
       "      <th>4</th>\n",
       "      <td>0.50</td>\n",
       "      <td>869.0</td>\n",
       "      <td>155.0</td>\n",
       "      <td>714.0</td>\n",
       "      <td>0.0</td>\n",
       "      <td>1.000000</td>\n",
       "      <td>0.178366</td>\n",
       "    </tr>\n",
       "    <tr>\n",
       "      <th>5</th>\n",
       "      <td>0.60</td>\n",
       "      <td>605.0</td>\n",
       "      <td>155.0</td>\n",
       "      <td>450.0</td>\n",
       "      <td>0.0</td>\n",
       "      <td>1.000000</td>\n",
       "      <td>0.256198</td>\n",
       "    </tr>\n",
       "    <tr>\n",
       "      <th>6</th>\n",
       "      <td>0.70</td>\n",
       "      <td>433.0</td>\n",
       "      <td>155.0</td>\n",
       "      <td>278.0</td>\n",
       "      <td>0.0</td>\n",
       "      <td>1.000000</td>\n",
       "      <td>0.357968</td>\n",
       "    </tr>\n",
       "    <tr>\n",
       "      <th>7</th>\n",
       "      <td>0.80</td>\n",
       "      <td>289.0</td>\n",
       "      <td>155.0</td>\n",
       "      <td>134.0</td>\n",
       "      <td>0.0</td>\n",
       "      <td>1.000000</td>\n",
       "      <td>0.536332</td>\n",
       "    </tr>\n",
       "    <tr>\n",
       "      <th>8</th>\n",
       "      <td>0.90</td>\n",
       "      <td>200.0</td>\n",
       "      <td>154.0</td>\n",
       "      <td>45.0</td>\n",
       "      <td>1.0</td>\n",
       "      <td>0.993548</td>\n",
       "      <td>0.773869</td>\n",
       "    </tr>\n",
       "    <tr>\n",
       "      <th>9</th>\n",
       "      <td>0.95</td>\n",
       "      <td>179.0</td>\n",
       "      <td>127.0</td>\n",
       "      <td>24.0</td>\n",
       "      <td>28.0</td>\n",
       "      <td>0.819355</td>\n",
       "      <td>0.841060</td>\n",
       "    </tr>\n",
       "  </tbody>\n",
       "</table>\n",
       "</div>"
      ],
      "text/plain": [
       "   threshold   n_total  n_both  n_only_p  n_only_h  precision    recall\n",
       "0       0.10  476295.0   155.0  476140.0       0.0   1.000000  0.000325\n",
       "1       0.20   58508.0   155.0   58353.0       0.0   1.000000  0.002649\n",
       "2       0.30    5374.0   155.0    5219.0       0.0   1.000000  0.028843\n",
       "3       0.40    1519.0   155.0    1364.0       0.0   1.000000  0.102041\n",
       "4       0.50     869.0   155.0     714.0       0.0   1.000000  0.178366\n",
       "5       0.60     605.0   155.0     450.0       0.0   1.000000  0.256198\n",
       "6       0.70     433.0   155.0     278.0       0.0   1.000000  0.357968\n",
       "7       0.80     289.0   155.0     134.0       0.0   1.000000  0.536332\n",
       "8       0.90     200.0   154.0      45.0       1.0   0.993548  0.773869\n",
       "9       0.95     179.0   127.0      24.0      28.0   0.819355  0.841060"
      ]
     },
     "execution_count": 21,
     "metadata": {},
     "output_type": "execute_result"
    }
   ],
   "source": [
    "# HapMap: h, g = 64, 4096\n",
    "pd.DataFrame([\n",
    "    pd.Series(get_metrics(df, t))\n",
    "    for t in list(np.linspace(.1, .9, 9)) + [.95]\n",
    "])"
   ]
  }
 ],
 "metadata": {
  "kernelspec": {
   "display_name": "Python 3",
   "language": "python",
   "name": "python3"
  },
  "language_info": {
   "codemirror_mode": {
    "name": "ipython",
    "version": 3
   },
   "file_extension": ".py",
   "mimetype": "text/x-python",
   "name": "python",
   "nbconvert_exporter": "python",
   "pygments_lexer": "ipython3",
   "version": "3.7.6"
  }
 },
 "nbformat": 4,
 "nbformat_minor": 4
}
