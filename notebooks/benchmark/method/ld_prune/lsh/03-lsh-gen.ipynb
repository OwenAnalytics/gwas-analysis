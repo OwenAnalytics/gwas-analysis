{
 "cells": [
  {
   "cell_type": "markdown",
   "metadata": {},
   "source": [
    "### LSH Hash Bucket Generator\n",
    "\n",
    "Compute hashes for a variety of parameterizations."
   ]
  },
  {
   "cell_type": "code",
   "execution_count": 1,
   "metadata": {
    "ExecuteTime": {
     "end_time": "2020-02-23T11:44:42.274728Z",
     "start_time": "2020-02-23T11:44:42.254796Z"
    }
   },
   "outputs": [],
   "source": [
    "import papermill as pm\n",
    "import tqdm\n",
    "import os\n",
    "%run {os.environ['NB_DIR']}/nb.py\n",
    "%run $BENCHMARK_METHOD_DIR/common.py\n",
    "render_dir = ld_prune_lsh.render_dir\n",
    "\n",
    "ds_name = DATASET_HM\n",
    "sample_rate = .1\n",
    "\n",
    "# ds_name = DATASET_SIM\n",
    "# sample_rate = 1\n",
    "\n",
    "# If you see 'AttributeError: module 'dask.bytes.core' has no attribute 'FileSystem'', run\n",
    "# pip uninstall gcsfs # papermill relies on this which assumes old dask, though pm will ignore it if not present"
   ]
  },
  {
   "cell_type": "code",
   "execution_count": 4,
   "metadata": {
    "ExecuteTime": {
     "end_time": "2020-02-23T11:44:43.795973Z",
     "start_time": "2020-02-23T11:44:43.790343Z"
    }
   },
   "outputs": [],
   "source": [
    "if not osp.exists(render_dir):\n",
    "    os.makedirs(render_dir)"
   ]
  },
  {
   "cell_type": "code",
   "execution_count": 5,
   "metadata": {
    "ExecuteTime": {
     "end_time": "2020-02-23T12:24:43.310093Z",
     "start_time": "2020-02-23T12:24:43.297620Z"
    }
   },
   "outputs": [
    {
     "data": {
      "text/plain": [
       "[{'h': 28,\n",
       "  'g': 16384,\n",
       "  'sample_rate': 0.1,\n",
       "  'ds_name': 'hapmap',\n",
       "  'projection': 'random',\n",
       "  'n_workers': 2}]"
      ]
     },
     "execution_count": 5,
     "metadata": {},
     "output_type": "execute_result"
    }
   ],
   "source": [
    "params = [\n",
    "    dict(h=h, g=g, sample_rate=sample_rate, ds_name=ds_name, projection=p, n_workers=2)\n",
    "    for h in [28]\n",
    "    for g in [16384]\n",
    "    #for p in ['orthogonal']\n",
    "    for p in ['random']\n",
    "]\n",
    "params"
   ]
  },
  {
   "cell_type": "code",
   "execution_count": 6,
   "metadata": {
    "ExecuteTime": {
     "end_time": "2020-02-23T12:27:10.725889Z",
     "start_time": "2020-02-23T12:24:44.525260Z"
    }
   },
   "outputs": [
    {
     "name": "stderr",
     "output_type": "stream",
     "text": [
      "  0%|          | 0/1 [00:00<?, ?it/s]"
     ]
    },
    {
     "name": "stdout",
     "output_type": "stream",
     "text": [
      "/home/eczech/data/gwas/benchmark/renders/ld_prune/lsh/lsh-gen-h=28-g=16384-sample_rate=0.1-ds_name=hapmap-projection=random-n_workers=2.ipynb\n"
     ]
    },
    {
     "name": "stderr",
     "output_type": "stream",
     "text": [
      "100%|██████████| 1/1 [29:43<00:00, 1783.40s/it]"
     ]
    },
    {
     "name": "stdout",
     "output_type": "stream",
     "text": [
      "CPU times: user 1.64 s, sys: 293 ms, total: 1.93 s\n",
      "Wall time: 29min 43s\n"
     ]
    },
    {
     "name": "stderr",
     "output_type": "stream",
     "text": [
      "\n"
     ]
    }
   ],
   "source": [
    "%%time\n",
    "input_path = 'misc/lsh-prototype-02.ipynb'\n",
    "for p in tqdm.tqdm(params):\n",
    "    output_path = osp.join(render_dir, filename('lsh-gen', **p) + '.ipynb')\n",
    "    print(output_path)\n",
    "    pm.execute_notebook(input_path, output_path, parameters=p, progress_bar=False)"
   ]
  }
 ],
 "metadata": {
  "kernelspec": {
   "display_name": "Python 3",
   "language": "python",
   "name": "python3"
  },
  "language_info": {
   "codemirror_mode": {
    "name": "ipython",
    "version": 3
   },
   "file_extension": ".py",
   "mimetype": "text/x-python",
   "name": "python",
   "nbconvert_exporter": "python",
   "pygments_lexer": "ipython3",
   "version": "3.7.6"
  }
 },
 "nbformat": 4,
 "nbformat_minor": 4
}
