{
 "cells": [
  {
   "cell_type": "code",
   "execution_count": 1,
   "metadata": {},
   "outputs": [
    {
     "name": "stderr",
     "output_type": "stream",
     "text": [
      "Running on Apache Spark version 2.4.4\n",
      "SparkUI available at http://2e4e0c6972f9:4041\n",
      "Welcome to\n",
      "     __  __     <>__\n",
      "    / /_/ /__  __/ /\n",
      "   / __  / _ `/ / /\n",
      "  /_/ /_/\\_,_/_/_/   version 0.2.32-a5876a0a2853\n",
      "LOGGING: writing to /home/eczech/repos/gwas-analysis/notebooks/benchmark/method/ld_prune/lsh/hail-20200220-2218-0.2.32-a5876a0a2853.log\n"
     ]
    }
   ],
   "source": [
    "import os\n",
    "import hail as hl\n",
    "from gwas_analysis.dask import io\n",
    "from pysnptools import snpreader\n",
    "import dask.array as da\n",
    "%run {os.environ['NB_DIR']}/nb.py\n",
    "%run $BENCHMARK_METHOD_DIR/common.py\n",
    "sample_rate = .05\n",
    "ds_name = DATASET_HM\n",
    "ds_config = DATASET_CONFIG[ds_name]\n",
    "ds_export_path = dataset_path(ds_name, sample_rate)\n",
    "hail_init()"
   ]
  },
  {
   "cell_type": "code",
   "execution_count": 2,
   "metadata": {},
   "outputs": [
    {
     "name": "stderr",
     "output_type": "stream",
     "text": [
      "2020-02-20 22:18:17 Hail: INFO: Found 165 samples in fam file.\n",
      "2020-02-20 22:18:17 Hail: INFO: Found 1457897 variants in bim file.\n",
      "2020-02-20 22:18:24 Hail: INFO: Coerced sorted dataset\n"
     ]
    },
    {
     "data": {
      "text/plain": [
       "(72732, 165)"
      ]
     },
     "execution_count": 2,
     "metadata": {},
     "output_type": "execute_result"
    }
   ],
   "source": [
    "mt = hl.import_plink(\n",
    "    *plink_files(osp.dirname(ds_config['path']), osp.basename(ds_config['path'])),\n",
    "    skip_invalid_loci=False,\n",
    "    reference_genome=ds_config['reference_genome']\n",
    ")\n",
    "mt = mt.sample_rows(p=sample_rate, seed=1)\n",
    "mt.count()"
   ]
  },
  {
   "cell_type": "code",
   "execution_count": 3,
   "metadata": {},
   "outputs": [
    {
     "name": "stderr",
     "output_type": "stream",
     "text": [
      "2020-02-20 22:01:16 Hail: INFO: Coerced sorted dataset\n",
      "2020-02-20 22:01:21 Hail: INFO: Coerced sorted dataset\n",
      "2020-02-20 22:01:26 Hail: INFO: Coerced sorted dataset\n",
      "2020-02-20 22:01:31 Hail: INFO: Coerced sorted dataset\n",
      "2020-02-20 22:01:36 Hail: INFO: Coerced sorted dataset\n",
      "2020-02-20 22:01:44 Hail: INFO: merging 3 files totalling 2.9M...\n",
      "2020-02-20 22:01:44 Hail: INFO: while writing:\n",
      "    /tmp/benchmark_datasets/hapmap-0.05.bed\n",
      "  merge time: 33.845ms\n",
      "2020-02-20 22:01:44 Hail: INFO: merging 2 files totalling 2.1M...\n",
      "2020-02-20 22:01:44 Hail: INFO: while writing:\n",
      "    /tmp/benchmark_datasets/hapmap-0.05.bim\n",
      "  merge time: 26.052ms\n",
      "2020-02-20 22:01:45 Hail: INFO: merging 16 files totalling 4.0K...\n",
      "2020-02-20 22:01:45 Hail: INFO: while writing:\n",
      "    /tmp/benchmark_datasets/hapmap-0.05.fam\n",
      "  merge time: 10.007ms\n",
      "2020-02-20 22:01:45 Hail: INFO: wrote 72732 variants and 165 samples to '/tmp/benchmark_datasets/hapmap-0.05'\n"
     ]
    },
    {
     "data": {
      "text/plain": [
       "'/tmp/benchmark_datasets/hapmap-0.05'"
      ]
     },
     "execution_count": 3,
     "metadata": {},
     "output_type": "execute_result"
    }
   ],
   "source": [
    "def export(mt, path):\n",
    "    hl.export_plink(\n",
    "        mt, path, \n",
    "        fam_id=mt.fam_id,\n",
    "        pat_id=mt.pat_id,\n",
    "        mat_id=mt.mat_id,\n",
    "        is_female=mt.is_female,\n",
    "        pheno=mt.is_case,\n",
    "        varid=mt.rsid\n",
    "    )\n",
    "export(mt, ds_export_path)\n",
    "ds_export_path"
   ]
  },
  {
   "cell_type": "code",
   "execution_count": 9,
   "metadata": {},
   "outputs": [
    {
     "name": "stderr",
     "output_type": "stream",
     "text": [
      "/opt/conda/envs/hail/lib/python3.7/site-packages/distributed/dashboard/core.py:79: UserWarning: \n",
      "Port 8787 is already in use. \n",
      "Perhaps you already have a cluster running?\n",
      "Hosting the diagnostics dashboard on a random port instead.\n",
      "  warnings.warn(\"\\n\" + msg)\n"
     ]
    },
    {
     "data": {
      "text/html": [
       "<table style=\"border: 2px solid white;\">\n",
       "<tr>\n",
       "<td style=\"vertical-align: top; border: 0px solid white\">\n",
       "<h3 style=\"text-align: left;\">Client</h3>\n",
       "<ul style=\"text-align: left; list-style: none; margin: 0; padding: 0;\">\n",
       "  <li><b>Scheduler: </b>tcp://127.0.0.1:37681</li>\n",
       "  <li><b>Dashboard: </b><a href='http://127.0.0.1:40611/status' target='_blank'>http://127.0.0.1:40611/status</a>\n",
       "</ul>\n",
       "</td>\n",
       "<td style=\"vertical-align: top; border: 0px solid white\">\n",
       "<h3 style=\"text-align: left;\">Cluster</h3>\n",
       "<ul style=\"text-align: left; list-style:none; margin: 0; padding: 0;\">\n",
       "  <li><b>Workers: </b>4</li>\n",
       "  <li><b>Cores: </b>4</li>\n",
       "  <li><b>Memory: </b>132.00 GB</li>\n",
       "</ul>\n",
       "</td>\n",
       "</tr>\n",
       "</table>"
      ],
      "text/plain": [
       "<Client: 'tcp://127.0.0.1:37681' processes=4 threads=4, memory=132.00 GB>"
      ]
     },
     "execution_count": 9,
     "metadata": {},
     "output_type": "execute_result"
    }
   ],
   "source": [
    "client = get_dask_client(n_workers=4)\n",
    "client"
   ]
  },
  {
   "cell_type": "code",
   "execution_count": 12,
   "metadata": {},
   "outputs": [
    {
     "data": {
      "text/html": [
       "<table>\n",
       "<tr>\n",
       "<td>\n",
       "<table>\n",
       "  <thead>\n",
       "    <tr><td> </td><th> Array </th><th> Chunk </th></tr>\n",
       "  </thead>\n",
       "  <tbody>\n",
       "    <tr><th> Bytes </th><td> 12.00 MB </td> <td> 12.00 MB </td></tr>\n",
       "    <tr><th> Shape </th><td> (72732, 165) </td> <td> (72732, 165) </td></tr>\n",
       "    <tr><th> Count </th><td> 2 Tasks </td><td> 1 Chunks </td></tr>\n",
       "    <tr><th> Type </th><td> uint8 </td><td> numpy.ndarray </td></tr>\n",
       "  </tbody>\n",
       "</table>\n",
       "</td>\n",
       "<td>\n",
       "<svg width=\"75\" height=\"170\" style=\"stroke:rgb(0,0,0);stroke-width:1\" >\n",
       "\n",
       "  <!-- Horizontal lines -->\n",
       "  <line x1=\"0\" y1=\"0\" x2=\"25\" y2=\"0\" style=\"stroke-width:2\" />\n",
       "  <line x1=\"0\" y1=\"120\" x2=\"25\" y2=\"120\" style=\"stroke-width:2\" />\n",
       "\n",
       "  <!-- Vertical lines -->\n",
       "  <line x1=\"0\" y1=\"0\" x2=\"0\" y2=\"120\" style=\"stroke-width:2\" />\n",
       "  <line x1=\"25\" y1=\"0\" x2=\"25\" y2=\"120\" style=\"stroke-width:2\" />\n",
       "\n",
       "  <!-- Colored Rectangle -->\n",
       "  <polygon points=\"0.000000,0.000000 25.412617,0.000000 25.412617,120.000000 0.000000,120.000000\" style=\"fill:#ECB172A0;stroke-width:0\"/>\n",
       "\n",
       "  <!-- Text -->\n",
       "  <text x=\"12.706308\" y=\"140.000000\" font-size=\"1.0rem\" font-weight=\"100\" text-anchor=\"middle\" >165</text>\n",
       "  <text x=\"45.412617\" y=\"60.000000\" font-size=\"1.0rem\" font-weight=\"100\" text-anchor=\"middle\" transform=\"rotate(-90,45.412617,60.000000)\">72732</text>\n",
       "</svg>\n",
       "</td>\n",
       "</tr>\n",
       "</table>"
      ],
      "text/plain": [
       "dask.array<array, shape=(72732, 165), dtype=uint8, chunksize=(72732, 165), chunktype=numpy.ndarray>"
      ]
     },
     "execution_count": 12,
     "metadata": {},
     "output_type": "execute_result"
    }
   ],
   "source": [
    "gt = da.from_array(io.BedArray(snpreader.Bed(ds_export_path, count_A1=True)), lock=False)\n",
    "gt"
   ]
  },
  {
   "cell_type": "code",
   "execution_count": 13,
   "metadata": {},
   "outputs": [
    {
     "data": {
      "text/plain": [
       "'/tmp/benchmark_datasets/hapmap-0.05.zarr'"
      ]
     },
     "execution_count": 13,
     "metadata": {},
     "output_type": "execute_result"
    }
   ],
   "source": [
    "path = ds_export_path + '.zarr'\n",
    "gt.to_zarr(path, overwrite=True)\n",
    "!du -ch $path"
   ]
  }
 ],
 "metadata": {
  "kernelspec": {
   "display_name": "Python 3",
   "language": "python",
   "name": "python3"
  },
  "language_info": {
   "codemirror_mode": {
    "name": "ipython",
    "version": 3
   },
   "file_extension": ".py",
   "mimetype": "text/x-python",
   "name": "python",
   "nbconvert_exporter": "python",
   "pygments_lexer": "ipython3",
   "version": "3.7.6"
  }
 },
 "nbformat": 4,
 "nbformat_minor": 4
}
