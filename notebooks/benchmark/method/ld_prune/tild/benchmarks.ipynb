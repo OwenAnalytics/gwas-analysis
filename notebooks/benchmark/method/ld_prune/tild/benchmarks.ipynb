{
 "cells": [
  {
   "cell_type": "code",
   "execution_count": 1,
   "metadata": {},
   "outputs": [],
   "source": [
    "import os\n",
    "from gwas_analysis.dask import get_dask_client\n",
    "from gwas_analysis.dask.io import BedArray\n",
    "from pysnptools.snpreader import Bed\n",
    "from gwas_analysis.method import pruning\n",
    "import dask.array as da\n",
    "import os.path as osp\n",
    "import numpy as np\n",
    "import pandas as pd\n",
    "import hail as hl\n",
    "%run {os.environ['NB_DIR']}/nb.py\n",
    "%run $BENCHMARK_METHOD_DIR/common.py"
   ]
  },
  {
   "cell_type": "markdown",
   "metadata": {},
   "source": [
    "### Initialize"
   ]
  },
  {
   "cell_type": "code",
   "execution_count": 2,
   "metadata": {},
   "outputs": [
    {
     "data": {
      "text/plain": [
       "('/home/eczech/data/gwas/tutorial/1_QC_GWAS/HapMap_3_r3_1',\n",
       " '/home/eczech/data/gwas/benchmark/datasets/ld_prune/tild/hapmap',\n",
       " '/home/eczech/data/gwas/benchmark/datasets/ld_prune/tild/hapmap-pos.csv',\n",
       " '/home/eczech/data/gwas/benchmark/datasets/ld_prune/tild/hapmap-calls.zarr',\n",
       " '/home/eczech/data/gwas/benchmark/datasets/ld_prune/tild/hapmap-plink-prune')"
      ]
     },
     "execution_count": 2,
     "metadata": {},
     "output_type": "execute_result"
    }
   ],
   "source": [
    "plink_path = HAPMAP_PLINK_FILE\n",
    "ds_path = ld_prune_tild.dataset_path(DATASET_HM)\n",
    "ds_pos_path = ds_path + '-pos.csv'\n",
    "ds_calls_path = ds_path + '-calls.zarr'\n",
    "ds_path_out_plink = ds_path + '-plink-prune'\n",
    "plink_path, ds_path, ds_pos_path, ds_calls_path, ds_path_out_plink"
   ]
  },
  {
   "cell_type": "markdown",
   "metadata": {},
   "source": [
    "## Dataset Prep"
   ]
  },
  {
   "cell_type": "code",
   "execution_count": 9,
   "metadata": {},
   "outputs": [
    {
     "name": "stderr",
     "output_type": "stream",
     "text": [
      "Running on Apache Spark version 2.4.4\n",
      "SparkUI available at http://015d228af3f1:4040\n",
      "Welcome to\n",
      "     __  __     <>__\n",
      "    / /_/ /__  __/ /\n",
      "   / __  / _ `/ / /\n",
      "  /_/ /_/\\_,_/_/_/   version 0.2.32-a5876a0a2853\n",
      "LOGGING: writing to /home/eczech/repos/gwas-analysis/notebooks/benchmark/method/ld_prune/tild/hail-20200303-1933-0.2.32-a5876a0a2853.log\n"
     ]
    }
   ],
   "source": [
    "hail_init()"
   ]
  },
  {
   "cell_type": "code",
   "execution_count": 10,
   "metadata": {},
   "outputs": [
    {
     "name": "stderr",
     "output_type": "stream",
     "text": [
      "2020-03-03 19:33:16 Hail: INFO: Found 165 samples in fam file.\n",
      "2020-03-03 19:33:16 Hail: INFO: Found 1457897 variants in bim file.\n",
      "2020-03-03 19:33:25 Hail: INFO: Coerced sorted dataset\n",
      "2020-03-03 19:33:25 Hail: INFO: reading 1 of 2 data partitions\n"
     ]
    },
    {
     "data": {
      "text/plain": [
       "1    103646\n",
       "dtype: int64"
      ]
     },
     "execution_count": 10,
     "metadata": {},
     "output_type": "execute_result"
    }
   ],
   "source": [
    "mt = hl.import_plink(\n",
    "    *plink_files(osp.dirname(HAPMAP_PLINK_FILE), osp.basename(HAPMAP_PLINK_FILE)),\n",
    "    reference_genome='hapmap3_hg18'\n",
    ")\n",
    "# Remove small contigs (especially 25 for HapMap)\n",
    "mt = mt.filter_rows(hl.set(['1']).contains(mt.locus.contig))\n",
    "# Remove rows with no variance\n",
    "mt = mt.annotate_rows(stdev=hl.agg.stats(mt.GT.n_alt_alleles()).stdev)\n",
    "mt = mt.filter_rows(mt.stdev > 0)\n",
    "pd.Series(mt.aggregate_rows(hl.agg.counter(mt.locus.contig))).sort_index()"
   ]
  },
  {
   "cell_type": "code",
   "execution_count": 11,
   "metadata": {},
   "outputs": [
    {
     "name": "stderr",
     "output_type": "stream",
     "text": [
      "2020-03-03 19:33:39 Hail: INFO: Coerced sorted dataset\n",
      "2020-03-03 19:33:39 Hail: INFO: reading 1 of 2 data partitions\n",
      "2020-03-03 19:33:44 Hail: INFO: Coerced sorted dataset\n",
      "2020-03-03 19:33:44 Hail: INFO: reading 1 of 2 data partitions\n",
      "2020-03-03 19:33:49 Hail: INFO: Coerced sorted dataset\n",
      "2020-03-03 19:33:49 Hail: INFO: reading 1 of 2 data partitions\n",
      "2020-03-03 19:33:55 Hail: INFO: Coerced sorted dataset\n",
      "2020-03-03 19:33:55 Hail: INFO: reading 1 of 2 data partitions\n",
      "2020-03-03 19:34:00 Hail: INFO: Coerced sorted dataset\n",
      "2020-03-03 19:34:00 Hail: INFO: reading 1 of 2 data partitions\n",
      "2020-03-03 19:34:10 Hail: INFO: merging 2 files totalling 4.2M...\n",
      "2020-03-03 19:34:10 Hail: INFO: while writing:\n",
      "    /home/eczech/data/gwas/benchmark/datasets/ld_prune/tild/hapmap.bed\n",
      "  merge time: 32.237ms\n",
      "2020-03-03 19:34:10 Hail: INFO: merging 1 files totalling 2.9M...\n",
      "2020-03-03 19:34:10 Hail: INFO: while writing:\n",
      "    /home/eczech/data/gwas/benchmark/datasets/ld_prune/tild/hapmap.bim\n",
      "  merge time: 19.045ms\n",
      "2020-03-03 19:34:10 Hail: INFO: merging 16 files totalling 4.0K...\n",
      "2020-03-03 19:34:10 Hail: INFO: while writing:\n",
      "    /home/eczech/data/gwas/benchmark/datasets/ld_prune/tild/hapmap.fam\n",
      "  merge time: 11.830ms\n",
      "2020-03-03 19:34:10 Hail: INFO: wrote 103646 variants and 165 samples to '/home/eczech/data/gwas/benchmark/datasets/ld_prune/tild/hapmap'\n"
     ]
    },
    {
     "data": {
      "text/plain": [
       "'/home/eczech/data/gwas/benchmark/datasets/ld_prune/tild/hapmap'"
      ]
     },
     "execution_count": 11,
     "metadata": {},
     "output_type": "execute_result"
    }
   ],
   "source": [
    "# Export the filtered dataset to PLINK (for zarr conversion)\n",
    "def export_plink(mt, path):\n",
    "    hl.export_plink(\n",
    "        mt, path, \n",
    "        fam_id=mt.fam_id,\n",
    "        pat_id=mt.pat_id,\n",
    "        mat_id=mt.mat_id,\n",
    "        is_female=mt.is_female,\n",
    "        pheno=mt.is_case,\n",
    "        varid=mt.rsid\n",
    "    )\n",
    "    return path\n",
    "export_plink(mt, ds_path)"
   ]
  },
  {
   "cell_type": "code",
   "execution_count": 12,
   "metadata": {},
   "outputs": [
    {
     "name": "stderr",
     "output_type": "stream",
     "text": [
      "2020-03-03 19:34:15 Hail: INFO: Coerced sorted dataset\n",
      "2020-03-03 19:34:15 Hail: INFO: reading 1 of 2 data partitions\n",
      "2020-03-03 19:34:24 Hail: INFO: merging 1 files totalling 1.1M...\n",
      "2020-03-03 19:34:24 Hail: INFO: while writing:\n",
      "    /home/eczech/data/gwas/benchmark/datasets/ld_prune/tild/hapmap-pos.csv\n",
      "  merge time: 10.478ms\n"
     ]
    },
    {
     "name": "stdout",
     "output_type": "stream",
     "text": [
      "contig\tpos\n",
      "1\t557616\n",
      "1\t742584\n",
      "1\t744045\n",
      "1\t750775\n",
      "1\t758311\n",
      "1\t766409\n",
      "1\t769185\n",
      "1\t828418\n",
      "1\t836671\n"
     ]
    }
   ],
   "source": [
    "# Export contig/loci csv\n",
    "def export_positions(mt, path):\n",
    "    ht = mt.key_rows_by().rows()\n",
    "    ht = ht.select(contig=ht.locus.contig, pos=ht.locus.position)\n",
    "    ht.export(path)\n",
    "    return path\n",
    "export_positions(mt, ds_pos_path)\n",
    "!head $ds_pos_path"
   ]
  },
  {
   "cell_type": "code",
   "execution_count": 13,
   "metadata": {},
   "outputs": [
    {
     "data": {
      "text/html": [
       "<table>\n",
       "<tr>\n",
       "<td>\n",
       "<table>\n",
       "  <thead>\n",
       "    <tr><td> </td><th> Array </th><th> Chunk </th></tr>\n",
       "  </thead>\n",
       "  <tbody>\n",
       "    <tr><th> Bytes </th><td> 17.10 MB </td> <td> 16.50 MB </td></tr>\n",
       "    <tr><th> Shape </th><td> (103646, 165) </td> <td> (100000, 165) </td></tr>\n",
       "    <tr><th> Count </th><td> 7 Tasks </td><td> 2 Chunks </td></tr>\n",
       "    <tr><th> Type </th><td> int8 </td><td> numpy.ndarray </td></tr>\n",
       "  </tbody>\n",
       "</table>\n",
       "</td>\n",
       "<td>\n",
       "<svg width=\"75\" height=\"170\" style=\"stroke:rgb(0,0,0);stroke-width:1\" >\n",
       "\n",
       "  <!-- Horizontal lines -->\n",
       "  <line x1=\"0\" y1=\"0\" x2=\"25\" y2=\"0\" style=\"stroke-width:2\" />\n",
       "  <line x1=\"0\" y1=\"115\" x2=\"25\" y2=\"115\" />\n",
       "  <line x1=\"0\" y1=\"120\" x2=\"25\" y2=\"120\" style=\"stroke-width:2\" />\n",
       "\n",
       "  <!-- Vertical lines -->\n",
       "  <line x1=\"0\" y1=\"0\" x2=\"0\" y2=\"120\" style=\"stroke-width:2\" />\n",
       "  <line x1=\"25\" y1=\"0\" x2=\"25\" y2=\"120\" style=\"stroke-width:2\" />\n",
       "\n",
       "  <!-- Colored Rectangle -->\n",
       "  <polygon points=\"0.000000,0.000000 25.412617,0.000000 25.412617,120.000000 0.000000,120.000000\" style=\"fill:#ECB172A0;stroke-width:0\"/>\n",
       "\n",
       "  <!-- Text -->\n",
       "  <text x=\"12.706308\" y=\"140.000000\" font-size=\"1.0rem\" font-weight=\"100\" text-anchor=\"middle\" >165</text>\n",
       "  <text x=\"45.412617\" y=\"60.000000\" font-size=\"1.0rem\" font-weight=\"100\" text-anchor=\"middle\" transform=\"rotate(-90,45.412617,60.000000)\">103646</text>\n",
       "</svg>\n",
       "</td>\n",
       "</tr>\n",
       "</table>"
      ],
      "text/plain": [
       "dask.array<sub, shape=(103646, 165), dtype=int8, chunksize=(100000, 165), chunktype=numpy.ndarray>"
      ]
     },
     "execution_count": 13,
     "metadata": {},
     "output_type": "execute_result"
    }
   ],
   "source": [
    "def export_calls(input_path, output_path):\n",
    "    gt = da.from_array(BedArray(Bed(input_path, count_A1=True)), chunks=(100000, 165), lock=False)\n",
    "    # Convert 0=missing, 1=homo ref, etc to -1=missing, 0=homo ref\n",
    "    gt = gt.astype(np.int8) - 1\n",
    "    gt.to_zarr(output_path, overwrite=True)\n",
    "    return gt\n",
    "X = export_calls(ds_path, ds_calls_path)\n",
    "X"
   ]
  },
  {
   "cell_type": "code",
   "execution_count": 14,
   "metadata": {},
   "outputs": [
    {
     "data": {
      "text/plain": [
       "(-1, 2)"
      ]
     },
     "execution_count": 14,
     "metadata": {},
     "output_type": "execute_result"
    }
   ],
   "source": [
    "X.min().compute(), X.max().compute()"
   ]
  },
  {
   "cell_type": "code",
   "execution_count": 15,
   "metadata": {},
   "outputs": [
    {
     "name": "stdout",
     "output_type": "stream",
     "text": [
      "6.5M\t/home/eczech/data/gwas/benchmark/datasets/ld_prune/tild/hapmap-calls.zarr\n",
      "4.0K\t/home/eczech/data/gwas/benchmark/datasets/ld_prune/tild/hapmap-plink-prune.log\n",
      "736K\t/home/eczech/data/gwas/benchmark/datasets/ld_prune/tild/hapmap-plink-prune.prune.in\n",
      "5.3M\t/home/eczech/data/gwas/benchmark/datasets/ld_prune/tild/hapmap-plink-prune.prune.out\n",
      "1.2M\t/home/eczech/data/gwas/benchmark/datasets/ld_prune/tild/hapmap-pos.csv\n",
      "4.2M\t/home/eczech/data/gwas/benchmark/datasets/ld_prune/tild/hapmap.bed\n",
      "3.0M\t/home/eczech/data/gwas/benchmark/datasets/ld_prune/tild/hapmap.bim\n",
      "8.0K\t/home/eczech/data/gwas/benchmark/datasets/ld_prune/tild/hapmap.fam\n",
      "21M\ttotal\n"
     ]
    }
   ],
   "source": [
    "!du -ch $ds_path*"
   ]
  },
  {
   "cell_type": "markdown",
   "metadata": {},
   "source": [
    "## Execution"
   ]
  },
  {
   "cell_type": "code",
   "execution_count": 4,
   "metadata": {},
   "outputs": [],
   "source": [
    "window, step = 5000, 500"
   ]
  },
  {
   "cell_type": "markdown",
   "metadata": {},
   "source": [
    "### PLINK"
   ]
  },
  {
   "cell_type": "code",
   "execution_count": 5,
   "metadata": {},
   "outputs": [
    {
     "name": "stdout",
     "output_type": "stream",
     "text": [
      "PLINK v1.90b6.14 64-bit (7 Jan 2020)           www.cog-genomics.org/plink/1.9/\n",
      "(C) 2005-2020 Shaun Purcell, Christopher Chang   GNU General Public License v3\n",
      "Logging to /home/eczech/data/gwas/benchmark/datasets/ld_prune/tild/hapmap-plink-prune.log.\n",
      "Options in effect:\n",
      "  --bfile /home/eczech/data/gwas/benchmark/datasets/ld_prune/tild/hapmap\n",
      "  --indep-pairwise 5000 500 0.8\n",
      "  --out /home/eczech/data/gwas/benchmark/datasets/ld_prune/tild/hapmap-plink-prune\n",
      "\n",
      "128535 MB RAM detected; reserving 64267 MB for main workspace.\n",
      "103646 variants loaded from .bim file.\n",
      "165 people (80 males, 85 females) loaded from .fam.\n",
      "112 phenotype values loaded from .fam.\n",
      "Using 1 thread (no multithreaded calculations invoked).\n",
      "Before main variant filters, 112 founders and 53 nonfounders present.\n",
      "Calculating allele frequencies... 10111213141516171819202122232425262728293031323334353637383940414243444546474849505152535455565758596061626364656667686970717273747576777879808182838485868788899091929394959697989 done.\n",
      "Total genotyping rate is 0.99753.\n",
      "103646 variants and 165 people pass filters and QC.\n",
      "Among remaining phenotypes, 56 are cases and 56 are controls.  (53 phenotypes\n",
      "are missing.)\n",
      "Pruned 62783 variants from chromosome 1, leaving 40863.\n",
      "Pruning complete.  62783 of 103646 variants removed.\n",
      "Marker lists written to\n",
      "/home/eczech/data/gwas/benchmark/datasets/ld_prune/tild/hapmap-plink-prune.prune.in\n",
      "and\n",
      "/home/eczech/data/gwas/benchmark/datasets/ld_prune/tild/hapmap-plink-prune.prune.out\n",
      ".\n",
      "5.06 s ± 0 ns per loop (mean ± std. dev. of 1 run, 1 loop each)\n"
     ]
    },
    {
     "data": {
      "text/plain": [
       "5.05949957401026"
      ]
     },
     "execution_count": 5,
     "metadata": {},
     "output_type": "execute_result"
    }
   ],
   "source": [
    "def run_plink(window, step, threshold, stdout=True):\n",
    "    if stdout:\n",
    "        !plink --bfile $ds_path --indep-pairwise $window $step $threshold --out $ds_path_out_plink\n",
    "    else:\n",
    "        !plink --bfile $ds_path --indep-pairwise $window $step $threshold --out $ds_path_out_plink > /dev/null\n",
    "tr = %timeit -o -r 1 -n 1 run_plink(window, step, .8, stdout=True)\n",
    "tr.best"
   ]
  },
  {
   "cell_type": "markdown",
   "metadata": {},
   "source": [
    "### Dask"
   ]
  },
  {
   "cell_type": "code",
   "execution_count": 6,
   "metadata": {},
   "outputs": [
    {
     "data": {
      "text/html": [
       "<table style=\"border: 2px solid white;\">\n",
       "<tr>\n",
       "<td style=\"vertical-align: top; border: 0px solid white\">\n",
       "<h3 style=\"text-align: left;\">Client</h3>\n",
       "<ul style=\"text-align: left; list-style: none; margin: 0; padding: 0;\">\n",
       "  <li><b>Scheduler: </b>tcp://127.0.0.1:45245</li>\n",
       "  <li><b>Dashboard: </b><a href='http://127.0.0.1:8787/status' target='_blank'>http://127.0.0.1:8787/status</a>\n",
       "</ul>\n",
       "</td>\n",
       "<td style=\"vertical-align: top; border: 0px solid white\">\n",
       "<h3 style=\"text-align: left;\">Cluster</h3>\n",
       "<ul style=\"text-align: left; list-style:none; margin: 0; padding: 0;\">\n",
       "  <li><b>Workers: </b>6</li>\n",
       "  <li><b>Cores: </b>6</li>\n",
       "  <li><b>Memory: </b>120.00 GB</li>\n",
       "</ul>\n",
       "</td>\n",
       "</tr>\n",
       "</table>"
      ],
      "text/plain": [
       "<Client: 'tcp://127.0.0.1:45245' processes=6 threads=6, memory=120.00 GB>"
      ]
     },
     "execution_count": 6,
     "metadata": {},
     "output_type": "execute_result"
    }
   ],
   "source": [
    "client = get_dask_client(n_workers=6, processes=True, n_threads=1)\n",
    "client"
   ]
  },
  {
   "cell_type": "code",
   "execution_count": 7,
   "metadata": {},
   "outputs": [
    {
     "data": {
      "text/html": [
       "<div>\n",
       "<style scoped>\n",
       "    .dataframe tbody tr th:only-of-type {\n",
       "        vertical-align: middle;\n",
       "    }\n",
       "\n",
       "    .dataframe tbody tr th {\n",
       "        vertical-align: top;\n",
       "    }\n",
       "\n",
       "    .dataframe thead th {\n",
       "        text-align: right;\n",
       "    }\n",
       "</style>\n",
       "<table border=\"1\" class=\"dataframe\">\n",
       "  <thead>\n",
       "    <tr style=\"text-align: right;\">\n",
       "      <th></th>\n",
       "      <th>contig</th>\n",
       "      <th>pos</th>\n",
       "    </tr>\n",
       "  </thead>\n",
       "  <tbody>\n",
       "    <tr>\n",
       "      <th>0</th>\n",
       "      <td>1</td>\n",
       "      <td>557616</td>\n",
       "    </tr>\n",
       "    <tr>\n",
       "      <th>1</th>\n",
       "      <td>1</td>\n",
       "      <td>742584</td>\n",
       "    </tr>\n",
       "    <tr>\n",
       "      <th>2</th>\n",
       "      <td>1</td>\n",
       "      <td>744045</td>\n",
       "    </tr>\n",
       "    <tr>\n",
       "      <th>3</th>\n",
       "      <td>1</td>\n",
       "      <td>750775</td>\n",
       "    </tr>\n",
       "    <tr>\n",
       "      <th>4</th>\n",
       "      <td>1</td>\n",
       "      <td>758311</td>\n",
       "    </tr>\n",
       "  </tbody>\n",
       "</table>\n",
       "</div>"
      ],
      "text/plain": [
       "   contig     pos\n",
       "0       1  557616\n",
       "1       1  742584\n",
       "2       1  744045\n",
       "3       1  750775\n",
       "4       1  758311"
      ]
     },
     "execution_count": 7,
     "metadata": {},
     "output_type": "execute_result"
    }
   ],
   "source": [
    "pos = pd.read_csv(ds_pos_path, sep='\\t')\n",
    "# Check that all contig indices are increasing\n",
    "assert np.all(pos['contig'].diff().dropna() >= 0)\n",
    "# Check that all loci are increasing within each contig\n",
    "assert np.all(pos.groupby('contig').apply(lambda g: g['pos'].diff().min()) > 0)\n",
    "pos.head()"
   ]
  },
  {
   "cell_type": "code",
   "execution_count": 8,
   "metadata": {},
   "outputs": [
    {
     "data": {
      "text/plain": [
       "contig\n",
       "1    103646\n",
       "dtype: int64"
      ]
     },
     "execution_count": 8,
     "metadata": {},
     "output_type": "execute_result"
    }
   ],
   "source": [
    "pos.groupby('contig').size()"
   ]
  },
  {
   "cell_type": "code",
   "execution_count": 9,
   "metadata": {},
   "outputs": [
    {
     "data": {
      "text/html": [
       "<table>\n",
       "<tr>\n",
       "<td>\n",
       "<table>\n",
       "  <thead>\n",
       "    <tr><td> </td><th> Array </th><th> Chunk </th></tr>\n",
       "  </thead>\n",
       "  <tbody>\n",
       "    <tr><th> Bytes </th><td> 17.10 MB </td> <td> 16.50 MB </td></tr>\n",
       "    <tr><th> Shape </th><td> (103646, 165) </td> <td> (100000, 165) </td></tr>\n",
       "    <tr><th> Count </th><td> 3 Tasks </td><td> 2 Chunks </td></tr>\n",
       "    <tr><th> Type </th><td> int8 </td><td> numpy.ndarray </td></tr>\n",
       "  </tbody>\n",
       "</table>\n",
       "</td>\n",
       "<td>\n",
       "<svg width=\"75\" height=\"170\" style=\"stroke:rgb(0,0,0);stroke-width:1\" >\n",
       "\n",
       "  <!-- Horizontal lines -->\n",
       "  <line x1=\"0\" y1=\"0\" x2=\"25\" y2=\"0\" style=\"stroke-width:2\" />\n",
       "  <line x1=\"0\" y1=\"115\" x2=\"25\" y2=\"115\" />\n",
       "  <line x1=\"0\" y1=\"120\" x2=\"25\" y2=\"120\" style=\"stroke-width:2\" />\n",
       "\n",
       "  <!-- Vertical lines -->\n",
       "  <line x1=\"0\" y1=\"0\" x2=\"0\" y2=\"120\" style=\"stroke-width:2\" />\n",
       "  <line x1=\"25\" y1=\"0\" x2=\"25\" y2=\"120\" style=\"stroke-width:2\" />\n",
       "\n",
       "  <!-- Colored Rectangle -->\n",
       "  <polygon points=\"0.000000,0.000000 25.412617,0.000000 25.412617,120.000000 0.000000,120.000000\" style=\"fill:#ECB172A0;stroke-width:0\"/>\n",
       "\n",
       "  <!-- Text -->\n",
       "  <text x=\"12.706308\" y=\"140.000000\" font-size=\"1.0rem\" font-weight=\"100\" text-anchor=\"middle\" >165</text>\n",
       "  <text x=\"45.412617\" y=\"60.000000\" font-size=\"1.0rem\" font-weight=\"100\" text-anchor=\"middle\" transform=\"rotate(-90,45.412617,60.000000)\">103646</text>\n",
       "</svg>\n",
       "</td>\n",
       "</tr>\n",
       "</table>"
      ],
      "text/plain": [
       "dask.array<from-zarr, shape=(103646, 165), dtype=int8, chunksize=(100000, 165), chunktype=numpy.ndarray>"
      ]
     },
     "execution_count": 9,
     "metadata": {},
     "output_type": "execute_result"
    }
   ],
   "source": [
    "X = da.from_zarr(ds_calls_path)\n",
    "X"
   ]
  },
  {
   "cell_type": "code",
   "execution_count": 10,
   "metadata": {},
   "outputs": [
    {
     "name": "stdout",
     "output_type": "stream",
     "text": [
      "17.3 s ± 0 ns per loop (mean ± std. dev. of 1 run, 1 loop each)\n"
     ]
    },
    {
     "data": {
      "text/plain": [
       "17.309895651997067"
      ]
     },
     "execution_count": 10,
     "metadata": {},
     "output_type": "execute_result"
    }
   ],
   "source": [
    "def run_dask(window, step, threshold, numba, short_circuit):\n",
    "    R, info = pruning.prune(\n",
    "        X, pos.values, \n",
    "        window=window, step=step,\n",
    "        threshold=threshold,\n",
    "        windows_per_chunk=3,\n",
    "        numba=numba,\n",
    "        short_circuit=short_circuit,\n",
    "        compute=True\n",
    "    )\n",
    "    return R, info\n",
    "\n",
    "# To check chunks: info[0].chunks\n",
    "\n",
    "tr = %timeit -o -r 1 -n 1 run_dask(window, step, .8, True, True)\n",
    "tr.best"
   ]
  },
  {
   "cell_type": "markdown",
   "metadata": {},
   "source": [
    "## Comparison"
   ]
  },
  {
   "cell_type": "code",
   "execution_count": 11,
   "metadata": {},
   "outputs": [
    {
     "name": "stdout",
     "output_type": "stream",
     "text": [
      "Running pruning for R2 threshold 0.1\n",
      "15.6 s ± 1.67 s per loop (mean ± std. dev. of 3 runs, 1 loop each)\n",
      "12.2 s ± 1.51 s per loop (mean ± std. dev. of 3 runs, 1 loop each)\n",
      "893 ms ± 0 ns per loop (mean ± std. dev. of 1 run, 1 loop each)\n",
      "Running pruning for R2 threshold 0.2\n",
      "25.8 s ± 3 s per loop (mean ± std. dev. of 3 runs, 1 loop each)\n",
      "20 s ± 2.2 s per loop (mean ± std. dev. of 3 runs, 1 loop each)\n",
      "1.53 s ± 0 ns per loop (mean ± std. dev. of 1 run, 1 loop each)\n",
      "Running pruning for R2 threshold 0.3\n",
      "24.2 s ± 1.96 s per loop (mean ± std. dev. of 3 runs, 1 loop each)\n",
      "21.5 s ± 190 ms per loop (mean ± std. dev. of 3 runs, 1 loop each)\n",
      "2.13 s ± 0 ns per loop (mean ± std. dev. of 1 run, 1 loop each)\n",
      "Running pruning for R2 threshold 0.4\n",
      "33.4 s ± 4.82 s per loop (mean ± std. dev. of 3 runs, 1 loop each)\n",
      "35.7 s ± 4.61 s per loop (mean ± std. dev. of 3 runs, 1 loop each)\n",
      "2.7 s ± 0 ns per loop (mean ± std. dev. of 1 run, 1 loop each)\n",
      "Running pruning for R2 threshold 0.5\n",
      "41.6 s ± 873 ms per loop (mean ± std. dev. of 3 runs, 1 loop each)\n",
      "24.8 s ± 1.84 s per loop (mean ± std. dev. of 3 runs, 1 loop each)\n",
      "3.32 s ± 0 ns per loop (mean ± std. dev. of 1 run, 1 loop each)\n",
      "Running pruning for R2 threshold 0.6\n",
      "44.1 s ± 5.13 s per loop (mean ± std. dev. of 3 runs, 1 loop each)\n",
      "22.3 s ± 2.66 s per loop (mean ± std. dev. of 3 runs, 1 loop each)\n",
      "3.9 s ± 0 ns per loop (mean ± std. dev. of 1 run, 1 loop each)\n",
      "Running pruning for R2 threshold 0.7\n",
      "38.6 s ± 1.55 s per loop (mean ± std. dev. of 3 runs, 1 loop each)\n",
      "17.3 s ± 2.58 s per loop (mean ± std. dev. of 3 runs, 1 loop each)\n",
      "4.56 s ± 0 ns per loop (mean ± std. dev. of 1 run, 1 loop each)\n",
      "Running pruning for R2 threshold 0.8\n",
      "52.4 s ± 9.7 s per loop (mean ± std. dev. of 3 runs, 1 loop each)\n",
      "10 s ± 387 ms per loop (mean ± std. dev. of 3 runs, 1 loop each)\n",
      "5.33 s ± 0 ns per loop (mean ± std. dev. of 1 run, 1 loop each)\n",
      "Running pruning for R2 threshold 0.9\n",
      "1min 14s ± 1.66 s per loop (mean ± std. dev. of 3 runs, 1 loop each)\n",
      "6.99 s ± 256 ms per loop (mean ± std. dev. of 3 runs, 1 loop each)\n",
      "6.39 s ± 0 ns per loop (mean ± std. dev. of 1 run, 1 loop each)\n"
     ]
    }
   ],
   "source": [
    "df = []\n",
    "for t in [.1, .2, .3, .4, .5, .6, .7, .8, .9]:\n",
    "    print('Running pruning for R2 threshold', t)\n",
    "    for params in [[True, False], [True, True]]: #, [False, False]]:\n",
    "        numba, short_circuit = params\n",
    "        tr = %timeit -o -r 3 -n 1 run_dask(window, step, t, numba, short_circuit)\n",
    "        for timing in tr.timings:\n",
    "            df.append(dict(calc='dask', time=timing, threshold=t, numba=numba, short_circuit=short_circuit))\n",
    "    tr = %timeit -o -r 1 -n 1 run_plink(window, step, t, stdout=False)\n",
    "    df.append(dict(calc='plink', time=tr.best, threshold=t))\n",
    "    \n",
    "df = pd.DataFrame(df)"
   ]
  },
  {
   "cell_type": "code",
   "execution_count": 20,
   "metadata": {},
   "outputs": [
    {
     "data": {
      "image/png": "[encoded data removed]",
      "text/plain": [
       "<Figure size 1200x400 with 1 Axes>"
      ]
     },
     "metadata": {},
     "output_type": "display_data"
    },
    {
     "data": {
      "text/plain": [
       "<ggplot: (8733966322865)>"
      ]
     },
     "execution_count": 20,
     "metadata": {},
     "output_type": "execute_result"
    }
   ],
   "source": [
    "import plotnine as pn\n",
    "def get_method(r):\n",
    "    if r['calc'] == 'plink':\n",
    "        return 'PLINK'\n",
    "    assert r['calc'] == 'dask'\n",
    "    return 'Dask-{}-{}'.format(\n",
    "        'jit' if r['numba'] else 'nojit', \n",
    "        'short_circuit' if r['short_circuit'] else 'standard'\n",
    "    )\n",
    "\n",
    "(\n",
    "    pn.ggplot(\n",
    "        df\n",
    "            .assign(method=lambda df: df.apply(get_method, axis=1))\n",
    "            .groupby(['threshold', 'method'])['time'].mean().rename('time').reset_index(), \n",
    "        pn.aes(x='threshold', y='time', color='method')\n",
    "    ) + \n",
    "    pn.geom_line() + \n",
    "    pn.labs(title='Pruning Benchmarks', y='Time (seconds)', x='R2 Threshold', color='Method') + \n",
    "    pn.theme(figure_size=(12, 4))\n",
    ")"
   ]
  },
  {
   "cell_type": "code",
   "execution_count": 46,
   "metadata": {},
   "outputs": [
    {
     "data": {
      "image/png": "[encoded data removed]",
      "text/plain": [
       "<Figure size 1200x400 with 1 Axes>"
      ]
     },
     "metadata": {},
     "output_type": "display_data"
    },
    {
     "data": {
      "text/plain": [
       "<ggplot: (8733977989137)>"
      ]
     },
     "execution_count": 46,
     "metadata": {},
     "output_type": "execute_result"
    }
   ],
   "source": [
    "(\n",
    "    pn.ggplot(\n",
    "    df\n",
    "        .assign(method=lambda df: df.apply(get_method, axis=1))\n",
    "        .pipe(lambda df: (\n",
    "            df[df['calc'] != 'plink'].pivot_table(index='threshold', columns='method', values='time') /\n",
    "            df[df['calc'] == 'plink'].pivot_table(index='threshold', columns='method', values='time').values\n",
    "        ))\n",
    "        .stack().rename('slowdown').reset_index(),\n",
    "        pn.aes(x='threshold', y='slowdown', color='method')\n",
    "    ) + \n",
    "    pn.geom_line() +\n",
    "    pn.labs(title='Slowdown vs PLINK', color='Method', x='R2 Threshold', y='Time Ratio') +\n",
    "    pn.theme(figure_size=(12, 4))\n",
    ")"
   ]
  }
 ],
 "metadata": {
  "kernelspec": {
   "display_name": "Python 3",
   "language": "python",
   "name": "python3"
  },
  "language_info": {
   "codemirror_mode": {
    "name": "ipython",
    "version": 3
   },
   "file_extension": ".py",
   "mimetype": "text/x-python",
   "name": "python",
   "nbconvert_exporter": "python",
   "pygments_lexer": "ipython3",
   "version": "3.7.6"
  }
 },
 "nbformat": 4,
 "nbformat_minor": 4
}
