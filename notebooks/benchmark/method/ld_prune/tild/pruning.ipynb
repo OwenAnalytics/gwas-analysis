{
 "cells": [
  {
   "cell_type": "markdown",
   "metadata": {},
   "source": [
    "### Dask LD Prune Prototype"
   ]
  },
  {
   "cell_type": "code",
   "execution_count": 1,
   "metadata": {
    "ExecuteTime": {
     "end_time": "2020-03-03T22:39:29.386873Z",
     "start_time": "2020-03-03T22:39:28.683324Z"
    }
   },
   "outputs": [
    {
     "data": {
      "text/plain": [
       "<dask.config.set at 0x7f01473d37d0>"
      ]
     },
     "execution_count": 1,
     "metadata": {},
     "output_type": "execute_result"
    }
   ],
   "source": [
    "import dask\n",
    "import dask.array as da\n",
    "import numpy as np\n",
    "from numba import jit\n",
    "import plotly.graph_objects as go\n",
    "from IPython.display import Image\n",
    "dask.config.set(scheduler='processes')"
   ]
  },
  {
   "cell_type": "markdown",
   "metadata": {},
   "source": [
    "### Load Random Data"
   ]
  },
  {
   "cell_type": "code",
   "execution_count": 2,
   "metadata": {
    "ExecuteTime": {
     "end_time": "2020-03-03T19:06:42.103418Z",
     "start_time": "2020-03-03T19:06:42.100304Z"
    }
   },
   "outputs": [],
   "source": [
    "# X = da.random.randint(0, 3, size=(500, 30), dtype=np.uint8)\n",
    "# X.shape\n",
    "# pos = np.array(\n",
    "#     [[1, 1]] * 300 + \n",
    "#     [[2, 1]] * 100 + \n",
    "#     [[3, 1]] * 75 + \n",
    "#     [[4, 1]] * 25\n",
    "# )\n",
    "# len(pos)"
   ]
  },
  {
   "cell_type": "markdown",
   "metadata": {},
   "source": [
    "### Load HapMap Data"
   ]
  },
  {
   "cell_type": "code",
   "execution_count": 3,
   "metadata": {
    "ExecuteTime": {
     "end_time": "2020-03-03T19:06:42.708398Z",
     "start_time": "2020-03-03T19:06:42.624094Z"
    }
   },
   "outputs": [
    {
     "data": {
      "text/html": [
       "<table>\n",
       "<tr>\n",
       "<td>\n",
       "<table>\n",
       "  <thead>\n",
       "    <tr><td> </td><th> Array </th><th> Chunk </th></tr>\n",
       "  </thead>\n",
       "  <tbody>\n",
       "    <tr><th> Bytes </th><td> 215.66 kB </td> <td> 215.66 kB </td></tr>\n",
       "    <tr><th> Shape </th><td> (1307, 165) </td> <td> (1307, 165) </td></tr>\n",
       "    <tr><th> Count </th><td> 3 Tasks </td><td> 1 Chunks </td></tr>\n",
       "    <tr><th> Type </th><td> int8 </td><td> numpy.ndarray </td></tr>\n",
       "  </tbody>\n",
       "</table>\n",
       "</td>\n",
       "<td>\n",
       "<svg width=\"89\" height=\"170\" style=\"stroke:rgb(0,0,0);stroke-width:1\" >\n",
       "\n",
       "  <!-- Horizontal lines -->\n",
       "  <line x1=\"0\" y1=\"0\" x2=\"39\" y2=\"0\" style=\"stroke-width:2\" />\n",
       "  <line x1=\"0\" y1=\"120\" x2=\"39\" y2=\"120\" style=\"stroke-width:2\" />\n",
       "\n",
       "  <!-- Vertical lines -->\n",
       "  <line x1=\"0\" y1=\"0\" x2=\"0\" y2=\"120\" style=\"stroke-width:2\" />\n",
       "  <line x1=\"39\" y1=\"0\" x2=\"39\" y2=\"120\" style=\"stroke-width:2\" />\n",
       "\n",
       "  <!-- Colored Rectangle -->\n",
       "  <polygon points=\"0.000000,0.000000 39.845065,0.000000 39.845065,120.000000 0.000000,120.000000\" style=\"fill:#ECB172A0;stroke-width:0\"/>\n",
       "\n",
       "  <!-- Text -->\n",
       "  <text x=\"19.922533\" y=\"140.000000\" font-size=\"1.0rem\" font-weight=\"100\" text-anchor=\"middle\" >165</text>\n",
       "  <text x=\"59.845065\" y=\"60.000000\" font-size=\"1.0rem\" font-weight=\"100\" text-anchor=\"middle\" transform=\"rotate(-90,59.845065,60.000000)\">1307</text>\n",
       "</svg>\n",
       "</td>\n",
       "</tr>\n",
       "</table>"
      ],
      "text/plain": [
       "dask.array<getitem, shape=(1307, 165), dtype=int8, chunksize=(1307, 165), chunktype=numpy.ndarray>"
      ]
     },
     "execution_count": 3,
     "metadata": {},
     "output_type": "execute_result"
    }
   ],
   "source": [
    "X = da.from_zarr('/home/eczech/data/gwas/benchmark/datasets/ld_prune/lsh/hapmap-sr=0.1.zarr')\n",
    "X = X[::8]\n",
    "X"
   ]
  },
  {
   "cell_type": "code",
   "execution_count": 4,
   "metadata": {
    "ExecuteTime": {
     "end_time": "2020-03-03T19:06:42.779554Z",
     "start_time": "2020-03-03T19:06:42.768082Z"
    }
   },
   "outputs": [
    {
     "data": {
      "text/plain": [
       "1307"
      ]
     },
     "execution_count": 4,
     "metadata": {},
     "output_type": "execute_result"
    }
   ],
   "source": [
    "# Generate (contig, position) vector\n",
    "pos = np.array(\n",
    "    [[1, 1]] * X.shape[0]\n",
    ")\n",
    "len(pos)"
   ]
  },
  {
   "cell_type": "code",
   "execution_count": 5,
   "metadata": {
    "ExecuteTime": {
     "end_time": "2020-03-03T19:06:43.243736Z",
     "start_time": "2020-03-03T19:06:43.238536Z"
    }
   },
   "outputs": [],
   "source": [
    "assert len(X) == len(pos)"
   ]
  },
  {
   "cell_type": "markdown",
   "metadata": {},
   "source": [
    "### Compute Chunk Alignment"
   ]
  },
  {
   "cell_type": "code",
   "execution_count": 6,
   "metadata": {
    "ExecuteTime": {
     "end_time": "2020-03-03T19:06:44.501805Z",
     "start_time": "2020-03-03T19:06:44.468869Z"
    }
   },
   "outputs": [
    {
     "data": {
      "text/plain": [
       "[ChunkContigInfo(contig_index=0, contig_value=1, chunk_idx=[0, 1, 2, 3, 4, 5, 6, 7, 8, 9, 10, 11, 12, 13, 14, 15, 16, 17, 18, 19, 20, 21, 22, 23, 24, 25, 26, 27, 28, 29, 30, 31, 32], chunk_size=[40, 40, 40, 40, 40, 40, 40, 40, 40, 40, 40, 40, 40, 40, 40, 40, 40, 40, 40, 40, 40, 40, 40, 40, 40, 40, 40, 40, 40, 40, 40, 40, 27])]"
      ]
     },
     "execution_count": 6,
     "metadata": {},
     "output_type": "execute_result"
    }
   ],
   "source": [
    "from dataclasses import dataclass\n",
    "from typing import List\n",
    "\n",
    "@dataclass(frozen=True)\n",
    "class ChunkContigInfo:\n",
    "    contig_index: int\n",
    "    contig_value: int\n",
    "    chunk_idx: List[int]\n",
    "    chunk_size: List[int]\n",
    "        \n",
    "@dataclass(frozen=True)\n",
    "class ChunkInfo:\n",
    "    chunks: List[ChunkContigInfo]\n",
    "\n",
    "    def get_contig_chunk_boundary(self):\n",
    "        \"\"\" Get index in last chunk for each contig keyed by chunk index \"\"\"\n",
    "        bounds = {}\n",
    "        for c in self.chunks:\n",
    "            bounds[c.chunk_idx[-1]] = c.chunk_size[-1]\n",
    "        return bounds\n",
    "    \n",
    "    def get_chunk_offset(self):\n",
    "        \"\"\" Get global offset for first row index in each chunk keyed by chunk index \"\"\"\n",
    "        offsets = {}\n",
    "        o = 0\n",
    "        for c in self.chunks:\n",
    "            for i, s in zip(c.chunk_idx, c.chunk_size):\n",
    "                offsets[i] = o\n",
    "                o += s\n",
    "        return offsets\n",
    "\n",
    "        \n",
    "def get_chunk_info(pos, size):\n",
    "    chunks = []\n",
    "    csct = 0\n",
    "    for i, (v, c) in enumerate(zip(*np.unique(pos[:,0], return_counts=True))):\n",
    "        sizes = [size] * (c//size) \n",
    "        if c % size > 0:\n",
    "            sizes += [int(c % size)]\n",
    "        idx = [j + csct for j in range(len(sizes))]\n",
    "        csct += len(sizes)\n",
    "        chunks.append(ChunkContigInfo(contig_index=i, contig_value=v, chunk_idx=idx, chunk_size=sizes))\n",
    "    return ChunkInfo(chunks)\n",
    "\n",
    "# Calculate chunk sizes with boundaries determined by contigs and a maximum row limit\n",
    "get_chunk_info(pos, 40).chunks"
   ]
  },
  {
   "cell_type": "code",
   "execution_count": 7,
   "metadata": {
    "ExecuteTime": {
     "end_time": "2020-03-03T19:06:44.518739Z",
     "start_time": "2020-03-03T19:06:44.504567Z"
    }
   },
   "outputs": [],
   "source": [
    "# Eventual wrapper method to run rechunking and other metadata calculations\n",
    "def prune(X, pos, window, step, normalize=True, align_chunks=True, windows_per_chunk=10):\n",
    "    assert step < window\n",
    "    assert window % step == 0\n",
    "    assert X.ndim == 2\n",
    "    \n",
    "    chunk_size = windows_per_chunk * window \n",
    "    chunk_info = get_chunk_info(pos, chunk_size)\n",
    "    chunk_lens = tuple(\n",
    "        cs\n",
    "        for ci in chunk_info.chunks\n",
    "        for cs in ci.chunk_size\n",
    "    )\n",
    "    \n",
    "    if not align_chunks and X.chunks[0] != chunk_lens:\n",
    "        raise ValueError(f'Expected chunks {chunk_lens}, found {X.chunks[0]}')\n",
    "    if align_chunks:\n",
    "        X = X.rechunk(chunks=(chunk_lens, X.chunks[1]))\n",
    "        \n",
    "    # This is the amount each block should overlap\n",
    "    overlap_depth = window - step\n",
    "    \n",
    "    return X, chunk_info, overlap_depth"
   ]
  },
  {
   "cell_type": "code",
   "execution_count": 8,
   "metadata": {
    "ExecuteTime": {
     "end_time": "2020-03-03T19:06:44.684381Z",
     "start_time": "2020-03-03T19:06:44.672165Z"
    }
   },
   "outputs": [
    {
     "data": {
      "text/html": [
       "<table>\n",
       "<tr>\n",
       "<td>\n",
       "<table>\n",
       "  <thead>\n",
       "    <tr><td> </td><th> Array </th><th> Chunk </th></tr>\n",
       "  </thead>\n",
       "  <tbody>\n",
       "    <tr><th> Bytes </th><td> 215.66 kB </td> <td> 49.50 kB </td></tr>\n",
       "    <tr><th> Shape </th><td> (1307, 165) </td> <td> (300, 165) </td></tr>\n",
       "    <tr><th> Count </th><td> 13 Tasks </td><td> 5 Chunks </td></tr>\n",
       "    <tr><th> Type </th><td> int8 </td><td> numpy.ndarray </td></tr>\n",
       "  </tbody>\n",
       "</table>\n",
       "</td>\n",
       "<td>\n",
       "<svg width=\"89\" height=\"170\" style=\"stroke:rgb(0,0,0);stroke-width:1\" >\n",
       "\n",
       "  <!-- Horizontal lines -->\n",
       "  <line x1=\"0\" y1=\"0\" x2=\"39\" y2=\"0\" style=\"stroke-width:2\" />\n",
       "  <line x1=\"0\" y1=\"27\" x2=\"39\" y2=\"27\" />\n",
       "  <line x1=\"0\" y1=\"55\" x2=\"39\" y2=\"55\" />\n",
       "  <line x1=\"0\" y1=\"82\" x2=\"39\" y2=\"82\" />\n",
       "  <line x1=\"0\" y1=\"110\" x2=\"39\" y2=\"110\" />\n",
       "  <line x1=\"0\" y1=\"120\" x2=\"39\" y2=\"120\" style=\"stroke-width:2\" />\n",
       "\n",
       "  <!-- Vertical lines -->\n",
       "  <line x1=\"0\" y1=\"0\" x2=\"0\" y2=\"120\" style=\"stroke-width:2\" />\n",
       "  <line x1=\"39\" y1=\"0\" x2=\"39\" y2=\"120\" style=\"stroke-width:2\" />\n",
       "\n",
       "  <!-- Colored Rectangle -->\n",
       "  <polygon points=\"0.000000,0.000000 39.845065,0.000000 39.845065,120.000000 0.000000,120.000000\" style=\"fill:#ECB172A0;stroke-width:0\"/>\n",
       "\n",
       "  <!-- Text -->\n",
       "  <text x=\"19.922533\" y=\"140.000000\" font-size=\"1.0rem\" font-weight=\"100\" text-anchor=\"middle\" >165</text>\n",
       "  <text x=\"59.845065\" y=\"60.000000\" font-size=\"1.0rem\" font-weight=\"100\" text-anchor=\"middle\" transform=\"rotate(-90,59.845065,60.000000)\">1307</text>\n",
       "</svg>\n",
       "</td>\n",
       "</tr>\n",
       "</table>"
      ],
      "text/plain": [
       "dask.array<rechunk-merge, shape=(1307, 165), dtype=int8, chunksize=(300, 165), chunktype=numpy.ndarray>"
      ]
     },
     "execution_count": 8,
     "metadata": {},
     "output_type": "execute_result"
    }
   ],
   "source": [
    "window = 100\n",
    "step = 10\n",
    "Xp, chunk_info, overlap_depth = prune(X, pos, window, step, windows_per_chunk=3)\n",
    "Xp"
   ]
  },
  {
   "cell_type": "code",
   "execution_count": 9,
   "metadata": {
    "ExecuteTime": {
     "end_time": "2020-03-03T19:06:44.883642Z",
     "start_time": "2020-03-03T19:06:44.877013Z"
    }
   },
   "outputs": [
    {
     "data": {
      "text/plain": [
       "[ChunkContigInfo(contig_index=0, contig_value=1, chunk_idx=[0, 1, 2, 3, 4], chunk_size=[300, 300, 300, 300, 107])]"
      ]
     },
     "execution_count": 9,
     "metadata": {},
     "output_type": "execute_result"
    }
   ],
   "source": [
    "chunk_info.chunks"
   ]
  },
  {
   "cell_type": "code",
   "execution_count": 10,
   "metadata": {
    "ExecuteTime": {
     "end_time": "2020-03-03T19:06:45.703544Z",
     "start_time": "2020-03-03T19:06:45.696376Z"
    }
   },
   "outputs": [
    {
     "data": {
      "text/plain": [
       "((300, 300, 300, 300, 107), (165,))"
      ]
     },
     "execution_count": 10,
     "metadata": {},
     "output_type": "execute_result"
    }
   ],
   "source": [
    "Xp.chunks"
   ]
  },
  {
   "cell_type": "code",
   "execution_count": 11,
   "metadata": {
    "ExecuteTime": {
     "end_time": "2020-03-03T19:06:46.026997Z",
     "start_time": "2020-03-03T19:06:45.817711Z"
    }
   },
   "outputs": [
    {
     "data": {
      "text/plain": [
       "array([300, 300, 300, 300, 107])"
      ]
     },
     "execution_count": 11,
     "metadata": {},
     "output_type": "execute_result"
    }
   ],
   "source": [
    "Xp.map_blocks(lambda x: np.array([x.shape[0]]), dtype=int, drop_axis=[1]).compute()"
   ]
  },
  {
   "cell_type": "code",
   "execution_count": 12,
   "metadata": {
    "ExecuteTime": {
     "end_time": "2020-03-03T19:06:46.044120Z",
     "start_time": "2020-03-03T19:06:46.036623Z"
    }
   },
   "outputs": [
    {
     "data": {
      "text/plain": [
       "{4: 107}"
      ]
     },
     "execution_count": 12,
     "metadata": {},
     "output_type": "execute_result"
    }
   ],
   "source": [
    "chunk_info.get_contig_chunk_boundary()"
   ]
  },
  {
   "cell_type": "code",
   "execution_count": 13,
   "metadata": {
    "ExecuteTime": {
     "end_time": "2020-03-03T19:06:46.318784Z",
     "start_time": "2020-03-03T19:06:46.311051Z"
    }
   },
   "outputs": [
    {
     "data": {
      "text/plain": [
       "{0: 0, 1: 300, 2: 600, 3: 900, 4: 1200}"
      ]
     },
     "execution_count": 13,
     "metadata": {},
     "output_type": "execute_result"
    }
   ],
   "source": [
    "chunk_info.get_chunk_offset()"
   ]
  },
  {
   "cell_type": "code",
   "execution_count": 14,
   "metadata": {
    "ExecuteTime": {
     "end_time": "2020-03-03T19:06:46.406100Z",
     "start_time": "2020-03-03T19:06:46.399692Z"
    }
   },
   "outputs": [
    {
     "data": {
      "text/plain": [
       "90"
      ]
     },
     "execution_count": 14,
     "metadata": {},
     "output_type": "execute_result"
    }
   ],
   "source": [
    "overlap_depth"
   ]
  },
  {
   "cell_type": "markdown",
   "metadata": {},
   "source": [
    "### Run Pruning"
   ]
  },
  {
   "cell_type": "code",
   "execution_count": 15,
   "metadata": {
    "ExecuteTime": {
     "end_time": "2020-03-03T19:06:49.668060Z",
     "start_time": "2020-03-03T19:06:49.645390Z"
    }
   },
   "outputs": [],
   "source": [
    "from numba import njit, uint8, int64, float64\n",
    "from numba.typed import Dict\n",
    "# Workarounds for lack of per-axis reduction in numba\n",
    "# See: https://github.com/numba/numba/issues/1269\n",
    "\n",
    "@njit\n",
    "def np_apply_along_axis(func1d, axis, arr):\n",
    "    assert arr.ndim == 2\n",
    "    assert axis in [0, 1]\n",
    "    if axis == 0:\n",
    "        result = np.empty(arr.shape[1])\n",
    "        for i in range(len(result)):\n",
    "            result[i] = func1d(arr[:, i])\n",
    "    else:\n",
    "        result = np.empty(arr.shape[0])\n",
    "        for i in range(len(result)):\n",
    "            result[i] = func1d(arr[i, :])\n",
    "    return result\n",
    "\n",
    "@njit\n",
    "def np_mean(array, axis):\n",
    "    return np_apply_along_axis(np.mean, axis, array)\n",
    "\n",
    "@njit\n",
    "def np_std(array, axis):\n",
    "    return np_apply_along_axis(np.std, axis, array)\n",
    "\n",
    "@njit\n",
    "def np_argmin(array, axis):\n",
    "    return np_apply_along_axis(np.argmin, axis, array)\n"
   ]
  },
  {
   "cell_type": "code",
   "execution_count": 16,
   "metadata": {
    "ExecuteTime": {
     "end_time": "2020-03-03T19:07:00.732213Z",
     "start_time": "2020-03-03T19:07:00.710261Z"
    }
   },
   "outputs": [],
   "source": [
    "@jit(nopython=True, nogil=True)\n",
    "def corrcoef(gn0, gn1, gn0_sq, gn1_sq):\n",
    "    # initialise variables\n",
    "    m0 = m1 = v0 = v1 = cov = n = 0\n",
    "\n",
    "    # iterate over input vectors\n",
    "    for i in range(gn0.shape[0]):\n",
    "        x = gn0[i]\n",
    "        y = gn1[i]\n",
    "        # consider negative values as missing\n",
    "        if x >= 0 and y >= 0:\n",
    "            n += 1\n",
    "            m0 += x\n",
    "            m1 += y\n",
    "            xsq = gn0_sq[i]\n",
    "            ysq = gn1_sq[i]\n",
    "            v0 += xsq\n",
    "            v1 += ysq\n",
    "            cov += x * y\n",
    "\n",
    "    # early out\n",
    "    if n == 0 or v0 == 0 or v1 == 0:\n",
    "        return np.nan\n",
    "\n",
    "    # compute mean, variance, covariance\n",
    "    m0 /= n\n",
    "    m1 /= n\n",
    "    v0 /= n\n",
    "    v1 /= n\n",
    "    cov /= n\n",
    "    cov -= m0 * m1\n",
    "    v0 -= m0 * m0\n",
    "    v1 -= m1 * m1\n",
    "\n",
    "    # compute correlation coeficient\n",
    "    r = cov / np.sqrt(v0 * v1)\n",
    "    return r"
   ]
  },
  {
   "cell_type": "code",
   "execution_count": 22,
   "metadata": {
    "ExecuteTime": {
     "end_time": "2020-03-03T19:08:04.049288Z",
     "start_time": "2020-03-03T19:08:04.035560Z"
    }
   },
   "outputs": [
    {
     "data": {
      "text/plain": [
       "(0.8528028654224417, 0.8528028654224418)"
      ]
     },
     "execution_count": 22,
     "metadata": {},
     "output_type": "execute_result"
    }
   ],
   "source": [
    "gn0 = np.array([0, 1, 2, 1])\n",
    "gn1 = np.array([0, 1, 2, 2])\n",
    "corrcoef(gn0, gn1, gn0**2, gn1**2), np.corrcoef(gn0, gn1)[0, 1]"
   ]
  },
  {
   "cell_type": "code",
   "execution_count": 22,
   "metadata": {
    "ExecuteTime": {
     "end_time": "2020-03-03T17:50:30.510970Z",
     "start_time": "2020-03-03T17:50:30.502714Z"
    }
   },
   "outputs": [
    {
     "data": {
      "text/plain": [
       "((4, 107),)"
      ]
     },
     "execution_count": 22,
     "metadata": {},
     "output_type": "execute_result"
    }
   ],
   "source": [
    "tuple(chunk_info.get_contig_chunk_boundary().items())"
   ]
  },
  {
   "cell_type": "code",
   "execution_count": 23,
   "metadata": {
    "ExecuteTime": {
     "end_time": "2020-03-03T17:51:17.566890Z",
     "start_time": "2020-03-03T17:51:17.557994Z"
    }
   },
   "outputs": [
    {
     "data": {
      "text/plain": [
       "((0, 0), (1, 300), (2, 600), (3, 900), (4, 1200))"
      ]
     },
     "execution_count": 23,
     "metadata": {},
     "output_type": "execute_result"
    }
   ],
   "source": [
    "tuple(chunk_info.get_chunk_offset().items())"
   ]
  },
  {
   "cell_type": "code",
   "execution_count": 23,
   "metadata": {
    "ExecuteTime": {
     "end_time": "2020-03-03T19:08:54.835676Z",
     "start_time": "2020-03-03T19:08:54.793470Z"
    }
   },
   "outputs": [],
   "source": [
    "@njit()\n",
    "def _prune(\n",
    "        X, block_id=None, window=None, step=None, threshold=None,\n",
    "        contig_boundary=None, chunk_offset=None, overlap_depth=None,\n",
    "        short_circuit=False, short_circuit_step_rate=2, return_ld_matrix=False\n",
    "):\n",
    "    assert block_id is not None\n",
    "    assert window is not None\n",
    "    assert step is not None\n",
    "    assert threshold is not None\n",
    "    assert contig_boundary is not None\n",
    "    assert chunk_offset is not None\n",
    "    assert overlap_depth is not None\n",
    "\n",
    "    # Always eliminate leading padding rows\n",
    "    X = X[overlap_depth:]\n",
    "    # Eliminate padding rows if in last chunk and\n",
    "    # determine global offset from original array\n",
    "    # if block_id[0] == max(chunk_offset.keys()):\n",
    "    #     X = X[:-overlap_depth]\n",
    "    # row_offset = chunk_offset.get(block_id[0])\n",
    "    row_offset = None\n",
    "    max_bid = 0\n",
    "    for (bid, offset) in chunk_offset:\n",
    "        if bid > max_bid:\n",
    "            max_bid = bid\n",
    "        if block_id[0] == bid:\n",
    "            row_offset = offset\n",
    "    if block_id[0] == max_bid:\n",
    "        X = X[:-overlap_depth]\n",
    "    assert row_offset is not None\n",
    "\n",
    "    # Determine max row index for contig (only applies to overlap)\n",
    "    # row_max = contig_boundary.get(block_id[0])\n",
    "    for (bid, rmax) in contig_boundary:\n",
    "        if block_id[0] == bid:\n",
    "            X = X[:rmax]\n",
    "            break\n",
    "\n",
    "    # Run preprocessing for triangle inequality short-circuiting\n",
    "    if short_circuit:\n",
    "        Xc = (X - np.expand_dims(np_mean(X, 1), 1)) / np.expand_dims(np_std(X, 1), 1)\n",
    "        Xs = Xc[::(step // short_circuit_step_rate)]\n",
    "        # Make sure to divide dot products by number of columns\n",
    "        # TODO: Transpose is no longer row major and matmul throws numba perf warning\n",
    "        # so presumably the cost of a copy to C contiguous array is worth it here --\n",
    "        # this may be worth some benchmarking to see if the warning should just be ignored instead\n",
    "        Xs = (Xc @ np.ascontiguousarray(Xs.T)) / Xc.shape[1]\n",
    "        # Convert correlation to distance (d = 1 - corr => corr = 1 - d)\n",
    "        Xs = 1 - Xs\n",
    "        eps = 1e-6\n",
    "        # if not np.all((Xs >= -eps) & (Xs <= 2 + eps)):\n",
    "        #     raise ValueError('{} {}'.format(Xs.min(), Xs.max()))\n",
    "        assert np.all((Xs >= -eps) & (Xs <= 2 + eps))\n",
    "        Xsi = np_argmin(Xs, 1).astype(np.int64)\n",
    "        assert Xsi.shape[0] == Xs.shape[0] == X.shape[0]\n",
    "\n",
    "    n, m = X.shape\n",
    "    if return_ld_matrix:\n",
    "        ldm = np.ones((n, n), dtype=np.float32) * -2\n",
    "    keep = np.ones(n, dtype=np.uint8)\n",
    "    # Loop over window start index\n",
    "    for w_start in range(0, n, step):\n",
    "        w_stop = min(w_start + window, n)\n",
    "        # Loop over primary row index\n",
    "        for i in range(w_start, w_stop):\n",
    "            if not keep[i]:\n",
    "                continue\n",
    "            # Loop over secondary row index, noting that every step moved\n",
    "            # since the beginning of the last window decreases the number\n",
    "            # of overlapping columns in the correlation matrix already\n",
    "            # calculated (so they can be skipped to avoid recomputation)\n",
    "            j_start = i + 1 if w_start == 0 else max(i + 1, w_start + window - step)\n",
    "            for j in range(j_start, w_stop):\n",
    "                if not keep[j]:\n",
    "                    continue\n",
    "                if short_circuit:\n",
    "                    # Find closest vector to primary\n",
    "                    min_dist_idx = Xsi[i]\n",
    "                    di = Xs[i, min_dist_idx]\n",
    "                    dj = Xs[j, min_dist_idx]\n",
    "                    # Determine distance lower bound to secondary\n",
    "                    dlb = abs(di - dj)\n",
    "                    # Convert back to r2 and continue if we can be sure these\n",
    "                    # two rows are sufficiently uncorrelated\n",
    "                    # TODO: Validate that this is the correct way to get back to bounds on r2\n",
    "                    # from pearson distance\n",
    "                    cub = 1 - dlb\n",
    "                    if cub ** 2 <= threshold:\n",
    "                        continue\n",
    "                xi, xj = X[i], X[j]\n",
    "                mask = (xi >= 0) & (xj >= 0)\n",
    "                xi, xj = xi[mask], xj[mask]\n",
    "                # This ends up being way faster than np.corrcoef\n",
    "                r2 = corrcoef(xi, xj, xi**2, xj**2) ** 2\n",
    "                assert np.isnan(r2) or -1 <= r2 <= 1\n",
    "                if return_ld_matrix:\n",
    "                    ldm[i, j] = r2\n",
    "                if r2 > threshold:\n",
    "                    keep[j] = False\n",
    "\n",
    "    if return_ld_matrix:\n",
    "        ldmr = ldm.reshape(-1)\n",
    "        blk_ids_lng = np.repeat(block_id[0], repeats=len(ldmr)).astype(ldmr.dtype)\n",
    "        return np.stack((ldmr, blk_ids_lng), axis=1)\n",
    "    else:\n",
    "        keep_idx = np.argwhere(keep)[:, 0].astype(ldm.dtype) + row_offset\n",
    "        blk_ids = np.repeat(block_id[0], repeats=len(keep_idx)).astype(ldm.dtype)\n",
    "        return np.stack((keep_idx, blk_ids), axis=1)"
   ]
  },
  {
   "cell_type": "code",
   "execution_count": 24,
   "metadata": {
    "ExecuteTime": {
     "end_time": "2020-03-03T19:09:10.637707Z",
     "start_time": "2020-03-03T19:09:08.856611Z"
    }
   },
   "outputs": [],
   "source": [
    "return_ld_matrix = False\n",
    "if return_ld_matrix:\n",
    "    chunks = ([v**2 for v in Xp.chunks[0]], 2)\n",
    "else:\n",
    "    chunks = ([v for v in Xp.chunks[0]], 2)\n",
    "g = da.map_overlap(\n",
    "    Xp, _prune, \n",
    "    window=window, step=step,\n",
    "    overlap_depth=overlap_depth,\n",
    "    depth=(overlap_depth, 0),\n",
    "    threshold=.3,\n",
    "    boundary=-1, \n",
    "    short_circuit=False,\n",
    "    # Use tuples because numbda dict results in this when pickled for serialized tasks:\n",
    "    # TypeError: can't pickle _nrt_python._MemInfo objects\"\n",
    "    contig_boundary=tuple(chunk_info.get_contig_chunk_boundary().items()),\n",
    "    chunk_offset=tuple(chunk_info.get_chunk_offset().items()),\n",
    "    chunks=chunks,\n",
    "    dtype=np.float64,\n",
    "    trim=False,\n",
    "    return_ld_matrix=return_ld_matrix\n",
    ")"
   ]
  },
  {
   "cell_type": "code",
   "execution_count": 25,
   "metadata": {
    "ExecuteTime": {
     "end_time": "2020-03-03T19:09:14.641429Z",
     "start_time": "2020-03-03T19:09:11.461890Z"
    }
   },
   "outputs": [],
   "source": [
    "R = g.compute()"
   ]
  },
  {
   "cell_type": "code",
   "execution_count": 26,
   "metadata": {
    "ExecuteTime": {
     "end_time": "2020-03-03T19:09:17.096745Z",
     "start_time": "2020-03-03T19:09:17.088581Z"
    }
   },
   "outputs": [
    {
     "data": {
      "text/plain": [
       "(1591, 2)"
      ]
     },
     "execution_count": 26,
     "metadata": {},
     "output_type": "execute_result"
    }
   ],
   "source": [
    "R.shape"
   ]
  },
  {
   "cell_type": "code",
   "execution_count": 27,
   "metadata": {
    "ExecuteTime": {
     "end_time": "2020-03-03T19:09:19.003063Z",
     "start_time": "2020-03-03T19:09:18.994176Z"
    }
   },
   "outputs": [
    {
     "data": {
      "text/plain": [
       "array([[0., 0.],\n",
       "       [1., 0.],\n",
       "       [2., 0.],\n",
       "       [3., 0.],\n",
       "       [4., 0.],\n",
       "       [5., 0.],\n",
       "       [6., 0.],\n",
       "       [7., 0.],\n",
       "       [8., 0.],\n",
       "       [9., 0.]], dtype=float32)"
      ]
     },
     "execution_count": 27,
     "metadata": {},
     "output_type": "execute_result"
    }
   ],
   "source": [
    "R[:10]"
   ]
  },
  {
   "cell_type": "code",
   "execution_count": 28,
   "metadata": {
    "ExecuteTime": {
     "end_time": "2020-03-03T19:09:25.151832Z",
     "start_time": "2020-03-03T19:09:25.138586Z"
    }
   },
   "outputs": [
    {
     "name": "stdout",
     "output_type": "stream",
     "text": [
      "(1307, 165) (1245, 165)\n"
     ]
    }
   ],
   "source": [
    "# Extract kept rows if pruning\n",
    "if not return_ld_matrix:\n",
    "    # Ensure block ids always increase\n",
    "    assert np.all(np.diff(R[:,1]) >= 0)\n",
    "    # Extract kept rows (first column is row index or negative if to be dropped)\n",
    "    Xpr = Xp[np.unique(R[:, 0])]\n",
    "    print(Xp.shape, Xpr.shape)"
   ]
  },
  {
   "cell_type": "code",
   "execution_count": 81,
   "metadata": {
    "ExecuteTime": {
     "end_time": "2020-03-03T18:08:47.510575Z",
     "start_time": "2020-03-03T18:08:47.498624Z"
    }
   },
   "outputs": [
    {
     "data": {
      "text/plain": [
       "(390, 390)"
      ]
     },
     "execution_count": 81,
     "metadata": {},
     "output_type": "execute_result"
    }
   ],
   "source": [
    "# Otherwise, visualize comparisons (this is just for first block id)\n",
    "r2 = R[R[:,1] == 0]\n",
    "r2 = r2[:,0].reshape(int(np.sqrt(len(r2))), int(np.sqrt(len(r2))))\n",
    "r2.shape"
   ]
  },
  {
   "cell_type": "markdown",
   "metadata": {},
   "source": [
    "### Results (No Short-Circuit)"
   ]
  },
  {
   "cell_type": "code",
   "execution_count": 82,
   "metadata": {
    "ExecuteTime": {
     "end_time": "2020-03-03T18:08:48.937279Z",
     "start_time": "2020-03-03T18:08:48.929240Z"
    }
   },
   "outputs": [
    {
     "data": {
      "text/plain": [
       "31048"
      ]
     },
     "execution_count": 82,
     "metadata": {},
     "output_type": "execute_result"
    }
   ],
   "source": [
    "# Number of pairwise correlations computed\n",
    "(r2 >= 0).sum()"
   ]
  },
  {
   "cell_type": "code",
   "execution_count": 83,
   "metadata": {
    "ExecuteTime": {
     "end_time": "2020-03-03T18:08:51.492884Z",
     "start_time": "2020-03-03T18:08:50.338572Z"
    }
   },
   "outputs": [
    {
     "data": {
      "image/png": "[encoded data removed]",
      "text/plain": [
       "<IPython.core.display.Image object>"
      ]
     },
     "execution_count": 83,
     "metadata": {},
     "output_type": "execute_result"
    }
   ],
   "source": [
    "# Show R2 for all variants\n",
    "fig = go.Figure(data=[go.Heatmap(z=r2[::-1])])\n",
    "Image(fig.to_image('png', width=1000, height=600))"
   ]
  },
  {
   "cell_type": "markdown",
   "metadata": {},
   "source": [
    "### Results (With Short-Circuit)"
   ]
  },
  {
   "cell_type": "code",
   "execution_count": 75,
   "metadata": {
    "ExecuteTime": {
     "end_time": "2020-03-03T18:08:31.300308Z",
     "start_time": "2020-03-03T18:08:31.292041Z"
    }
   },
   "outputs": [
    {
     "data": {
      "text/plain": [
       "23979"
      ]
     },
     "execution_count": 75,
     "metadata": {},
     "output_type": "execute_result"
    }
   ],
   "source": [
    "# Number of pairwise correlations computed\n",
    "(r2 >= 0).sum()"
   ]
  },
  {
   "cell_type": "code",
   "execution_count": 76,
   "metadata": {
    "ExecuteTime": {
     "end_time": "2020-03-03T18:08:33.955414Z",
     "start_time": "2020-03-03T18:08:32.826406Z"
    }
   },
   "outputs": [
    {
     "data": {
      "image/png": "[encoded data removed]",
      "text/plain": [
       "<IPython.core.display.Image object>"
      ]
     },
     "execution_count": 76,
     "metadata": {},
     "output_type": "execute_result"
    }
   ],
   "source": [
    "# Show R2 for all variants\n",
    "fig = go.Figure(data=[go.Heatmap(z=r2[::-1])])\n",
    "Image(fig.to_image('png', width=1000, height=600))"
   ]
  }
 ],
 "metadata": {
  "kernelspec": {
   "display_name": "Python 3",
   "language": "python",
   "name": "python3"
  },
  "language_info": {
   "codemirror_mode": {
    "name": "ipython",
    "version": 3
   },
   "file_extension": ".py",
   "mimetype": "text/x-python",
   "name": "python",
   "nbconvert_exporter": "python",
   "pygments_lexer": "ipython3",
   "version": "3.7.6"
  }
 },
 "nbformat": 4,
 "nbformat_minor": 4
}
