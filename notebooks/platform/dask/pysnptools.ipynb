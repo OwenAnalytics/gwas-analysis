{
 "cells": [
  {
   "cell_type": "markdown",
   "metadata": {},
   "source": [
    "## PySnpTools EDA\n",
    "\n",
    "- [Github](https://github.com/fastlmm/pysnptools)\n",
    "- [Tutorial](https://nbviewer.jupyter.org/github/fastlmm/PySnpTools/blob/master/doc/ipynb/tutorial.ipynb)\n",
    "- [Homepage](https://fastlmm.github.io/)\n",
    "- [Docs](https://fastlmm.github.io/PySnpTools/)"
   ]
  },
  {
   "cell_type": "code",
   "execution_count": 1,
   "metadata": {},
   "outputs": [
    {
     "name": "stdout",
     "output_type": "stream",
     "text": [
      "Bed('/home/eczech/data/gwas/tutorial/1_QC_GWAS/HapMap_3_r3_1',count_A1=True)\n"
     ]
    }
   ],
   "source": [
    "from pysnptools.snpreader import Bed, SnpReader\n",
    "import pandas as pd\n",
    "import numpy as np\n",
    "# Note: count_A1 = true is necessary for HapMap data since A1 is the alternate rather than the reference\n",
    "# (when False, homozygous alternate is the most common count by far, which makes no sense)\n",
    "data = Bed('/home/eczech/data/gwas/tutorial/1_QC_GWAS/HapMap_3_r3_1', count_A1=True)\n",
    "print(data) # prints specification for reading from file"
   ]
  },
  {
   "cell_type": "code",
   "execution_count": 2,
   "metadata": {},
   "outputs": [
    {
     "data": {
      "text/plain": [
       "(1457897, 165)"
      ]
     },
     "execution_count": 2,
     "metadata": {},
     "output_type": "execute_result"
    }
   ],
   "source": [
    "# sid = snp id, iid = individual id\n",
    "(data.sid_count, data.iid_count) # should be 1457897, 165"
   ]
  },
  {
   "cell_type": "code",
   "execution_count": 3,
   "metadata": {},
   "outputs": [
    {
     "data": {
      "text/plain": [
       "(15, 5)"
      ]
     },
     "execution_count": 3,
     "metadata": {},
     "output_type": "execute_result"
    }
   ],
   "source": [
    "ds = data[:5, :15]\n",
    "(ds.sid_count, ds.iid_count)"
   ]
  },
  {
   "cell_type": "code",
   "execution_count": 4,
   "metadata": {},
   "outputs": [],
   "source": [
    "snpd = ds.read()\n",
    "arr = snpd.val"
   ]
  },
  {
   "cell_type": "code",
   "execution_count": 5,
   "metadata": {},
   "outputs": [
    {
     "data": {
      "text/plain": [
       "(numpy.ndarray, dtype('float64'), (5, 15))"
      ]
     },
     "execution_count": 5,
     "metadata": {},
     "output_type": "execute_result"
    }
   ],
   "source": [
    "type(arr), arr.dtype, arr.shape"
   ]
  },
  {
   "cell_type": "code",
   "execution_count": 6,
   "metadata": {},
   "outputs": [
    {
     "data": {
      "text/plain": [
       "array([[     1,      0, 556738],\n",
       "       [     1,      0, 557616],\n",
       "       [     1,      0, 718814],\n",
       "       [     1,      0, 742584],\n",
       "       [     1,      0, 744045],\n",
       "       [     1,      0, 750775],\n",
       "       [     1,      0, 758311],\n",
       "       [     1,      0, 766409],\n",
       "       [     1,      0, 769185],\n",
       "       [     1,      0, 782343],\n",
       "       [     1,      0, 789326],\n",
       "       [     1,      0, 798632],\n",
       "       [     1,      0, 828418],\n",
       "       [     1,      0, 836671],\n",
       "       [     1,      0, 843817]])"
      ]
     },
     "execution_count": 6,
     "metadata": {},
     "output_type": "execute_result"
    }
   ],
   "source": [
    "# This is [chromosome, genetic distance, basepair distance]\n",
    "snpd.pos"
   ]
  },
  {
   "cell_type": "code",
   "execution_count": 7,
   "metadata": {},
   "outputs": [
    {
     "data": {
      "text/plain": [
       "array([[0., 0., 0., 1., 1., 1., 1., 0., 1., 0., 0., 0., 1., 0., 1.],\n",
       "       [0., 0., 0., 1., 0., 1., 0., 1., 0., 0., 0., 0., 0., 0., 0.],\n",
       "       [0., 0., 0., 0., 0., 0., 0., 1., 0., 0., 0., 0., 0., 0., 0.],\n",
       "       [0., 0., 0., 1., 1., 1., 0., 1., 1., 0., 0., 0., 0., 0., 1.],\n",
       "       [0., 0., 0., 0., 0., 0., 0., 1., 0., 0., 0., 0., 0., 0., 1.]])"
      ]
     },
     "execution_count": 7,
     "metadata": {},
     "output_type": "execute_result"
    }
   ],
   "source": [
    "arr"
   ]
  },
  {
   "cell_type": "code",
   "execution_count": 8,
   "metadata": {},
   "outputs": [],
   "source": [
    "arr = data.read().val"
   ]
  },
  {
   "cell_type": "code",
   "execution_count": 9,
   "metadata": {},
   "outputs": [
    {
     "data": {
      "text/plain": [
       "(240553005, (165, 1457897))"
      ]
     },
     "execution_count": 9,
     "metadata": {},
     "output_type": "execute_result"
    }
   ],
   "source": [
    "arr.size, arr.shape"
   ]
  },
  {
   "cell_type": "code",
   "execution_count": 12,
   "metadata": {},
   "outputs": [
    {
     "data": {
      "text/plain": [
       "-1.0       630620\n",
       " 0.0    158635633\n",
       " 1.0     65468332\n",
       " 2.0     15818420\n",
       "dtype: int64"
      ]
     },
     "execution_count": 12,
     "metadata": {},
     "output_type": "execute_result"
    }
   ],
   "source": [
    "pd.Series(*np.unique(np.nan_to_num(arr, nan=-1), return_counts=True)[::-1])"
   ]
  },
  {
   "cell_type": "markdown",
   "metadata": {},
   "source": [
    "### Dask Array Reader"
   ]
  },
  {
   "cell_type": "code",
   "execution_count": 2,
   "metadata": {},
   "outputs": [],
   "source": [
    "import dask.array as da\n",
    "\n",
    "class BedArray(object):\n",
    "    \n",
    "    def __init__(self, bed):\n",
    "        self.bed = bed\n",
    "        self.shape = (bed.sid_count, bed.iid_count)\n",
    "        self.dtype = np.uint8\n",
    "        self.ndim = 2\n",
    "        \n",
    "    def __getitem__(self, idx):\n",
    "        assert isinstance(idx, tuple)\n",
    "        chunk = self.bed.__getitem__(idx[::-1]).read(dtype=np.float32)\n",
    "        arr = chunk.val.T\n",
    "        arr = np.nan_to_num(arr, nan=-1) + 1\n",
    "        arr = arr.astype(np.uint8)\n",
    "        return arr"
   ]
  },
  {
   "cell_type": "code",
   "execution_count": 3,
   "metadata": {},
   "outputs": [
    {
     "data": {
      "text/plain": [
       "(1457897, 165)"
      ]
     },
     "execution_count": 3,
     "metadata": {},
     "output_type": "execute_result"
    }
   ],
   "source": [
    "ba = BedArray(data)\n",
    "ba.shape"
   ]
  },
  {
   "cell_type": "code",
   "execution_count": 4,
   "metadata": {},
   "outputs": [],
   "source": [
    "ba = da.from_array(BedArray(data), chunks=(10000, 165), lock=False)"
   ]
  },
  {
   "cell_type": "code",
   "execution_count": 5,
   "metadata": {},
   "outputs": [
    {
     "data": {
      "text/plain": [
       "((1457897, 165), dtype('uint8'))"
      ]
     },
     "execution_count": 5,
     "metadata": {},
     "output_type": "execute_result"
    }
   ],
   "source": [
    "arr = ba.compute()\n",
    "arr.shape, arr.dtype"
   ]
  },
  {
   "cell_type": "code",
   "execution_count": 6,
   "metadata": {},
   "outputs": [
    {
     "data": {
      "text/plain": [
       "(0, 3)"
      ]
     },
     "execution_count": 6,
     "metadata": {},
     "output_type": "execute_result"
    }
   ],
   "source": [
    "arr.min(), arr.max()"
   ]
  }
 ],
 "metadata": {
  "kernelspec": {
   "display_name": "Python 3",
   "language": "python",
   "name": "python3"
  },
  "language_info": {
   "codemirror_mode": {
    "name": "ipython",
    "version": 3
   },
   "file_extension": ".py",
   "mimetype": "text/x-python",
   "name": "python",
   "nbconvert_exporter": "python",
   "pygments_lexer": "ipython3",
   "version": "3.7.6"
  }
 },
 "nbformat": 4,
 "nbformat_minor": 4
}
