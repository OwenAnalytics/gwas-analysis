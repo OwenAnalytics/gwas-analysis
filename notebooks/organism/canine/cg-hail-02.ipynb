{
 "cells": [
  {
   "cell_type": "markdown",
   "metadata": {},
   "source": [
    "## Canine GWAS Variant QC"
   ]
  },
  {
   "cell_type": "code",
   "execution_count": 1,
   "metadata": {
    "ExecuteTime": {
     "end_time": "2020-02-10T17:34:59.814370Z",
     "start_time": "2020-02-10T17:34:55.336481Z"
    }
   },
   "outputs": [
    {
     "name": "stderr",
     "output_type": "stream",
     "text": [
      "Running on Apache Spark version 2.4.4\n",
      "SparkUI available at http://d42c6af5a4e5:4040\n",
      "Welcome to\n",
      "     __  __     <>__\n",
      "    / /_/ /__  __/ /\n",
      "   / __  / _ `/ / /\n",
      "  /_/ /_/\\_,_/_/_/   version 0.2.30-2ae07d872f43\n",
      "LOGGING: writing to /home/eczech/repos/gwas-analysis/notebooks/organism/canine/hail-20200211-0424-0.2.30-2ae07d872f43.log\n"
     ]
    }
   ],
   "source": [
    "import hail as hl\n",
    "import pandas as pd\n",
    "import numpy as np\n",
    "import plotnine as pn\n",
    "import matplotlib.pyplot as plt\n",
    "import plotly.graph_objects as go\n",
    "import plotly.express as px\n",
    "import os.path as osp\n",
    "# from bokeh.io import show, output_notebook\n",
    "# from bokeh.layouts import gridplot\n",
    "# output_notebook()\n",
    "%run ../../nb.py\n",
    "%run files.py\n",
    "%run common.py\n",
    "gab.register_timeop_magic(get_ipython(), 'hail')\n",
    "hl.init()"
   ]
  },
  {
   "cell_type": "markdown",
   "metadata": {
    "ExecuteTime": {
     "end_time": "2020-02-10T17:11:02.237751Z",
     "start_time": "2020-02-10T17:11:02.224055Z"
    }
   },
   "source": [
    "### Reference Data QC\n",
    "\n",
    "The initial steps in the pipeline will involved loading the NHGRI Dog Genome data and running some basic QC steps, including:\n",
    "    \n",
    "- Run call rate filtering\n",
    "- Group the samples by the 3 most common breeds\n",
    "- Run MAF and HWE filtering on all variants for each breed separately, and identify variants that pass all filters in all breeds\n",
    "- Filter the original reference data to the passing variant set\n",
    "- Run LD pruning\n",
    "- Remove C/G and A/T SNPs"
   ]
  },
  {
   "cell_type": "code",
   "execution_count": 2,
   "metadata": {
    "ExecuteTime": {
     "end_time": "2020-02-10T17:35:10.730231Z",
     "start_time": "2020-02-10T17:35:10.697182Z"
    }
   },
   "outputs": [
    {
     "data": {
      "text/plain": [
       "ReferenceGenome(name=canine, contigs=['1', '2', '3', '4', '5', '6', '7', '8', '9', '10', '11', '12', '13', '14', '15', '16', '17', '18', '19', '20', '21', '22', '23', '24', '25', '26', '27', '28', '29', '30', '31', '32', '33', '34', '35', '36', '37', '38', '39', '41'], lengths={'1': 122670980, '2': 85416217, '3': 91858198, '4': 88267880, '5': 88908300, '6': 77552613, '7': 80858461, '8': 74057381, '9': 61043804, '10': 69316974, '11': 74388336, '12': 72480470, '13': 63232306, '14': 60959782, '15': 64187680, '16': 59511764, '17': 64281982, '18': 55763074, '19': 53735656, '20': 58114749, '21': 50855586, '22': 61382644, '23': 52291577, '24': 47651928, '25': 51628093, '26': 38939728, '27': 45753342, '28': 41164216, '29': 41841565, '30': 40196606, '31': 39786599, '32': 38745890, '33': 31361794, '34': 42089769, '35': 26506199, '36': 30798114, '37': 30897806, '38': 23903967, '39': 123833839, '41': 6608343}, x_contigs=['39'], y_contigs=[], mt_contigs=['41'], par=[])"
      ]
     },
     "execution_count": 2,
     "metadata": {},
     "output_type": "execute_result"
    }
   ],
   "source": [
    "hl.ReferenceGenome(**load_reference_genome(REF_GENOME_FILE))"
   ]
  },
  {
   "cell_type": "code",
   "execution_count": 4,
   "metadata": {
    "ExecuteTime": {
     "end_time": "2020-02-10T17:48:04.366857Z",
     "start_time": "2020-02-10T17:48:02.082583Z"
    }
   },
   "outputs": [
    {
     "name": "stderr",
     "output_type": "stream",
     "text": [
      "2020-02-11 04:24:46 Hail: INFO: Found 1355 samples in fam file.\n",
      "2020-02-11 04:24:46 Hail: INFO: Found 150131 variants in bim file.\n",
      "2020-02-11 04:24:48 Hail: INFO: Coerced sorted dataset\n"
     ]
    },
    {
     "data": {
      "text/plain": [
       "(150131, 1355)"
      ]
     },
     "execution_count": 4,
     "metadata": {},
     "output_type": "execute_result"
    }
   ],
   "source": [
    "mt = hl.import_plink(\n",
    "    *plink_files(ORGANISM_CANINE_REF_DIR, PLINK_FILE_REF),\n",
    "    skip_invalid_loci=False, \n",
    "    reference_genome='canine'\n",
    ")\n",
    "mt.count()"
   ]
  },
  {
   "cell_type": "markdown",
   "metadata": {},
   "source": [
    "#### Call Rate QC"
   ]
  },
  {
   "cell_type": "code",
   "execution_count": 5,
   "metadata": {
    "ExecuteTime": {
     "end_time": "2020-02-10T22:13:07.279638Z",
     "start_time": "2020-02-10T22:12:50.078706Z"
    }
   },
   "outputs": [
    {
     "name": "stderr",
     "output_type": "stream",
     "text": [
      "2020-02-11 04:24:54 Hail: INFO: Coerced sorted dataset\n",
      "2020-02-11 04:25:02 Hail: INFO: Coerced sorted dataset\n",
      "2020-02-11 04:25:03 Hail: INFO: Coerced sorted dataset\n",
      "2020-02-11 04:25:03 Hail: INFO: Coerced sorted dataset\n"
     ]
    },
    {
     "data": {
      "text/plain": [
       "<matplotlib.axes._subplots.AxesSubplot at 0x7f8a888cb310>"
      ]
     },
     "execution_count": 5,
     "metadata": {},
     "output_type": "execute_result"
    },
    {
     "data": {
      "image/png": "[encoded data removed]",
      "text/plain": [
       "<Figure size 1008x216 with 2 Axes>"
      ]
     },
     "metadata": {
      "needs_background": "light"
     },
     "output_type": "display_data"
    }
   ],
   "source": [
    "fig, axs = plt.subplots(1, 2)\n",
    "fig.set_size_inches((14, 3))\n",
    "axs[0].set_title('Sample Call Rates')\n",
    "axs[0].set_yscale('symlog')\n",
    "axs[1].set_title('Variant Call Rates')\n",
    "axs[1].set_yscale('symlog')\n",
    "pd.Series(hl.sample_qc(mt).sample_qc.call_rate.collect()).plot(kind='hist', bins=128, ax=axs[0])\n",
    "pd.Series(hl.variant_qc(mt).variant_qc.call_rate.collect()).plot(kind='hist', bins=128, ax=axs[1])"
   ]
  },
  {
   "cell_type": "code",
   "execution_count": 6,
   "metadata": {
    "ExecuteTime": {
     "end_time": "2020-02-10T22:13:50.967487Z",
     "start_time": "2020-02-10T22:13:27.556148Z"
    }
   },
   "outputs": [
    {
     "name": "stderr",
     "output_type": "stream",
     "text": [
      "2020-02-11 04:25:22 Hail: INFO: Coerced sorted dataset\n",
      "2020-02-11 04:25:29 Hail: INFO: Coerced sorted dataset\n",
      "2020-02-11 04:25:38 Hail: INFO: Coerced sorted dataset\n",
      "2020-02-11 04:25:38 Hail: INFO: Coerced sorted dataset\n"
     ]
    },
    {
     "data": {
      "text/plain": [
       "(149845, 1350)"
      ]
     },
     "execution_count": 6,
     "metadata": {},
     "output_type": "execute_result"
    }
   ],
   "source": [
    "def call_rate_qc(mt):\n",
    "    mt = hl.variant_qc(mt)\n",
    "    mt = mt.filter_rows(mt.variant_qc.call_rate >= .96)\n",
    "    mt = hl.sample_qc(mt)\n",
    "    mt = mt.filter_cols(mt.sample_qc.call_rate >= .96)\n",
    "    return mt\n",
    "mt_qc = call_rate_qc(mt)\n",
    "mt_qc.count()"
   ]
  },
  {
   "cell_type": "code",
   "execution_count": null,
   "metadata": {},
   "outputs": [],
   "source": [
    "mt_qc.write()"
   ]
  },
  {
   "cell_type": "markdown",
   "metadata": {},
   "source": [
    "### Group by Common Breed"
   ]
  },
  {
   "cell_type": "code",
   "execution_count": null,
   "metadata": {},
   "outputs": [],
   "source": []
  }
 ],
 "metadata": {
  "kernelspec": {
   "display_name": "Python 3",
   "language": "python",
   "name": "python3"
  },
  "language_info": {
   "codemirror_mode": {
    "name": "ipython",
    "version": 3
   },
   "file_extension": ".py",
   "mimetype": "text/x-python",
   "name": "python",
   "nbconvert_exporter": "python",
   "pygments_lexer": "ipython3",
   "version": "3.7.6"
  }
 },
 "nbformat": 4,
 "nbformat_minor": 4
}
