{
 "cells": [
  {
   "cell_type": "markdown",
   "metadata": {},
   "source": [
    "## Canine GWAS Sample QC \n",
    "\n",
    "Steps:\n",
    "\n",
    "- Load target dataset with variants passing QC\n",
    "    - At this point only an HWE filter will have been applied\n",
    "- Apply very conservative MAF filter with threshold 0.0001\n",
    "    - This will have no effect on the target canine dataset since .0001*4342 (samples) < 1\n",
    "    - As KING is intended to be run with correlated and rare variants, it seems this UKBB step is for nothing other than efficiency (per the KING docs, saving memory is the reason very low MAF filters should be applied)\n",
    "- Kinship QC\n",
    "    - The UKBB process for this involves running KING and then fastPCA\n",
    "    - In Hail, pc_relate can be used to do both as it is in Gnomad\n",
    "    - Using UKBB thresholds, QC for input to pc_relate will be:\n",
    "        - Samples\n",
    "            - Missing rate on autosomes > 0.02.\n",
    "        - Variants\n",
    "            - Missing rate > .015\n",
    "            - MAF < .01\n",
    "        - Prune with r2 < .1 (windows of 1000 markers and step size of 80 markers)\n",
    "    - Run pc_relate and analyze related samples \n",
    "        - Ensure that there are no incorrect, systematic differences amongst population clusters from variant QC PCA over reference data\n",
    "    - Remove related samples\n",
    "- PCA Stage 1\n",
    "    - Run PCA (on pruned, qc'd sample with no related individuals)\n",
    "    - Cluster PCA results\n",
    "    - **Output**: Dataset from Kinship QC with scores and clusters\n",
    "    \n",
    "Ensuing notebooks:\n",
    "\n",
    "- Heterozygosity QC\n",
    "    - Show HZ by cluster\n",
    "    - Adjust HZ estimations with linear regression\n",
    "    - Show adjusted HZ by cluster\n",
    "    - Run outlier detection and thresholding\n",
    "    - Remove samples that don't pass \n",
    "    - **Output**: Dataset from PCA Stage 1 with fewer samples \n",
    "- PCA Stage 2 \n",
    "    - Run pc_relate to get both kinship estimates and the final PCA scores/loadings\n",
    "    - Use one-class SVM to choose single representative population?\n",
    "        - In UKBB [aberrant](https://www.well.ox.ac.uk/~spencer/Aberrant/aberrant-manual.pdf) is used to isolate one large british subset\n",
    "    \n",
    "Note that in the second stage of PCA for UKBB:\n",
    "- This requires identifying SNPs with small loadings in PCA round 1\n",
    "- Only the SNPs **not** used in population structure are used to infer relatedness\n",
    "- These SNPs are used for the final kinship estimation\n",
    "    - This results in a large number of people shifting from 3rd degree relatives (in first round of KING) to unrelated in second round (see Figure S10)\n",
    "            \n",
    "            \n",
    "Things that probably can't be done:\n",
    "\n",
    "- Remove SNPs in long range LD (e.g. inversions) using known boundaries (Table S13)"
   ]
  },
  {
   "cell_type": "code",
   "execution_count": 1,
   "metadata": {
    "ExecuteTime": {
     "end_time": "2020-02-18T14:53:50.966517Z",
     "start_time": "2020-02-18T14:53:46.422849Z"
    }
   },
   "outputs": [
    {
     "name": "stderr",
     "output_type": "stream",
     "text": [
      "Running on Apache Spark version 2.4.4\n",
      "SparkUI available at http://26f521ec4dc5:4040\n",
      "Welcome to\n",
      "     __  __     <>__\n",
      "    / /_/ /__  __/ /\n",
      "   / __  / _ `/ / /\n",
      "  /_/ /_/\\_,_/_/_/   version 0.2.32-a5876a0a2853\n",
      "LOGGING: writing to /home/eczech/repos/gwas-analysis/notebooks/organism/canine/hail-20200218-1453-0.2.32-a5876a0a2853.log\n"
     ]
    }
   ],
   "source": [
    "import os\n",
    "import hail as hl\n",
    "import pandas as pd\n",
    "import numpy as np\n",
    "import plotnine as pn\n",
    "import plotly.express as px\n",
    "import plotly.graph_objects as go\n",
    "import matplotlib.pyplot as plt\n",
    "import os.path as osp\n",
    "import functools\n",
    "from gwas_analysis import nb\n",
    "from gwas_analysis import pca\n",
    "from IPython.display import Image\n",
    "%run {os.environ['NB_DIR']}/nb.py\n",
    "%run paths.py\n",
    "%run common.py\n",
    "hl.init()"
   ]
  },
  {
   "cell_type": "code",
   "execution_count": 2,
   "metadata": {
    "ExecuteTime": {
     "end_time": "2020-02-18T14:53:51.731751Z",
     "start_time": "2020-02-18T14:53:50.969151Z"
    }
   },
   "outputs": [
    {
     "name": "stderr",
     "output_type": "stream",
     "text": [
      "2020-02-18 14:53:51 Hail: WARN: Name collision: field 'index' already in object dict. \n",
      "  This field must be referenced with __getitem__ syntax: obj['index']\n"
     ]
    },
    {
     "name": "stdout",
     "output_type": "stream",
     "text": [
      "----------------------------------------\n",
      "Global fields:\n",
      "    None\n",
      "----------------------------------------\n",
      "Column fields:\n",
      "    's': str\n",
      "    'fam_id': str\n",
      "    'pat_id': str\n",
      "    'mat_id': str\n",
      "    'is_female': bool\n",
      "    'is_case': bool\n",
      "    'PC1': float64\n",
      "    'PC2': float64\n",
      "    'cluster': int64\n",
      "----------------------------------------\n",
      "Row fields:\n",
      "    'locus': locus<canine>\n",
      "    'alleles': array<str>\n",
      "    'rsid': str\n",
      "    'cm_position': float64\n",
      "----------------------------------------\n",
      "Entry fields:\n",
      "    'GT': call\n",
      "----------------------------------------\n",
      "Column key: ['s']\n",
      "Row key: ['locus', 'alleles']\n",
      "----------------------------------------\n"
     ]
    }
   ],
   "source": [
    "def get_target_data():\n",
    "    mt = hl.read_matrix_table(osp.join(WORK_DIR, TGT_QC_05_FILE + '.mt'))\n",
    "    ht = hl.read_table(osp.join(WORK_DIR, TGT_QC_04_FILE + '.ht')).key_by('s').drop('index', 'source')\n",
    "    mtu = mt.annotate_cols(**ht[mt.s])\n",
    "    assert mt.count() == mtu.count()\n",
    "    return mtu\n",
    "\n",
    "mt = get_target_data()\n",
    "mt.describe()"
   ]
  },
  {
   "cell_type": "code",
   "execution_count": 3,
   "metadata": {
    "ExecuteTime": {
     "end_time": "2020-02-18T14:53:54.671045Z",
     "start_time": "2020-02-18T14:53:51.733332Z"
    }
   },
   "outputs": [
    {
     "name": "stderr",
     "output_type": "stream",
     "text": [
      "2020-02-18 14:53:51 Hail: WARN: cols(): Resulting column table is sorted by 'col_key'.\n",
      "    To preserve matrix table column order, first unkey columns with 'key_cols_by()'\n"
     ]
    }
   ],
   "source": [
    "# Show that there is no useful pedigree information\n",
    "df = mt.select_cols('fam_id', 'pat_id', 'mat_id').cols().to_pandas()\n",
    "assert df['fam_id'].value_counts().max() == 1\n",
    "assert df['pat_id'].isnull().all()\n",
    "assert df['mat_id'].isnull().all()"
   ]
  },
  {
   "cell_type": "markdown",
   "metadata": {},
   "source": [
    "## QC"
   ]
  },
  {
   "cell_type": "code",
   "execution_count": 6,
   "metadata": {
    "ExecuteTime": {
     "end_time": "2020-02-18T00:44:54.260493Z",
     "start_time": "2020-02-18T00:43:25.712410Z"
    }
   },
   "outputs": [
    {
     "name": "stdout",
     "output_type": "stream",
     "text": [
      "Original: (159562, 4342)\n",
      "Autosome filtering: (155965, 4342)\n",
      "Sample call rate filtering: (155965, 4342)\n",
      "Variant call rate filtering: (155965, 4342)\n",
      "Variant MAF filtering: (155727, 4342)\n",
      "CPU times: user 337 ms, sys: 6.84 ms, total: 344 ms\n",
      "Wall time: 1min 28s\n"
     ]
    },
    {
     "name": "stderr",
     "output_type": "stream",
     "text": [
      "2020-02-18 00:44:54 Hail: INFO: wrote matrix table with 155727 rows and 4342 columns in 6 partitions to /home/eczech/data/gwas/tmp/canine/cg-hail-06/mt_qc.mt\n"
     ]
    }
   ],
   "source": [
    "%%time\n",
    "\n",
    "def run_qc(mt):\n",
    "    print('Original:', mt.count())\n",
    "    \n",
    "    mt = mt.filter_rows(mt.locus.in_autosome())\n",
    "    print('Autosome filtering:', mt.count())\n",
    "    \n",
    "    mt = hl.sample_qc(mt)\n",
    "    mt = mt.filter_cols(mt.sample_qc.call_rate > .02)\n",
    "    print('Sample call rate filtering:', mt.count())\n",
    "    \n",
    "    mt = hl.variant_qc(mt)\n",
    "    mt = mt.filter_rows(mt.variant_qc.call_rate > .015)\n",
    "    print('Variant call rate filtering:', mt.count())\n",
    "    \n",
    "    mt = mt.filter_rows(mt.variant_qc.AF[1] > .01)\n",
    "    print('Variant MAF filtering:', mt.count())\n",
    "    \n",
    "    return mt.drop('variant_qc', 'sample_qc')\n",
    "\n",
    "mt_qc = run_qc(mt)\n",
    "mt_qc.write(nb.get_temp_file(WORK_DIR, 'mt_qc.mt'), overwrite=True)"
   ]
  },
  {
   "cell_type": "code",
   "execution_count": 5,
   "metadata": {
    "ExecuteTime": {
     "end_time": "2020-02-18T00:43:17.829325Z",
     "start_time": "2020-02-18T00:38:07.752498Z"
    }
   },
   "outputs": [
    {
     "name": "stderr",
     "output_type": "stream",
     "text": [
      "2020-02-18 00:38:11 Hail: INFO: ld_prune: running local pruning stage with max queue size of 59075 variants\n",
      "2020-02-18 00:38:28 Hail: INFO: wrote table with 46597 rows in 6 partitions to file:/tmp/hail.OfAQWKt0gyNP/aTg3H7wAkY\n",
      "2020-02-18 00:38:54 Hail: INFO: Wrote all 24 blocks of 46597 x 4342 matrix with block size 4096.\n",
      "2020-02-18 00:42:50 Hail: INFO: wrote table with 10 rows in 23 partitions to file:/tmp/hail.OfAQWKt0gyNP/QCAN7Mv5ph\n"
     ]
    },
    {
     "name": "stdout",
     "output_type": "stream",
     "text": [
      "CPU times: user 3.78 s, sys: 1.45 s, total: 5.22 s\n",
      "Wall time: 5min 10s\n"
     ]
    },
    {
     "name": "stderr",
     "output_type": "stream",
     "text": [
      "2020-02-18 00:43:17 Hail: INFO: wrote matrix table with 46588 rows and 4342 columns in 6 partitions to /home/eczech/data/gwas/tmp/canine/cg-hail-06/mt_pr.mt\n"
     ]
    }
   ],
   "source": [
    "%%time\n",
    "def run_prune(mt):\n",
    "    ht = hl.ld_prune(mt.GT, r2=0.1)\n",
    "    return mt.filter_rows(hl.is_defined(ht[mt.row_key]))\n",
    "    \n",
    "mt_pr = run_prune(hl.read_matrix_table(nb.get_temp_file(WORK_DIR, 'mt_qc.mt')))\n",
    "mt_pr.write(nb.get_temp_file(WORK_DIR, 'mt_pr.mt'), overwrite=True)"
   ]
  },
  {
   "cell_type": "markdown",
   "metadata": {},
   "source": [
    "## PCA Round 1 \n",
    "\n",
    "- Gnomad worfklow involves pc_relate prior to pca (see [here](https://github.com/macarthur-lab/gnomad_qc/blob/afe8effefa0020f0e333caa4e106b0987d98ff07/gnomad_qc/v3/sample_qc/sample_qc.py))"
   ]
  },
  {
   "cell_type": "code",
   "execution_count": 30,
   "metadata": {
    "ExecuteTime": {
     "end_time": "2020-02-18T15:19:56.574750Z",
     "start_time": "2020-02-18T15:19:56.433460Z"
    }
   },
   "outputs": [
    {
     "data": {
      "text/plain": [
       "(46588, 4342)"
      ]
     },
     "execution_count": 30,
     "metadata": {},
     "output_type": "execute_result"
    }
   ],
   "source": [
    "mt_pr = hl.read_matrix_table(nb.get_temp_file(WORK_DIR, 'mt_pr.mt'))\n",
    "mt_pr = mt_pr.annotate_cols(**mt.cols()[mt_pr.s])\n",
    "assert mt_pr.aggregate_cols(hl.agg.all(hl.is_defined(mt_pr.cluster)))\n",
    "mt_pr.count()"
   ]
  },
  {
   "cell_type": "code",
   "execution_count": 24,
   "metadata": {
    "ExecuteTime": {
     "end_time": "2020-02-18T02:02:59.396698Z",
     "start_time": "2020-02-18T01:03:25.038319Z"
    }
   },
   "outputs": [
    {
     "name": "stderr",
     "output_type": "stream",
     "text": [
      "2020-02-18 01:03:26 Hail: INFO: hwe_normalized_pca: running PCA using 46588 variants.\n",
      "2020-02-18 01:03:29 Hail: INFO: pca: running PCA with 10 components...\n",
      "2020-02-18 01:03:41 Hail: INFO: Coerced sorted dataset\n",
      "2020-02-18 01:03:48 Hail: INFO: Wrote all 24 blocks of 46588 x 4342 matrix with block size 4096.\n",
      "2020-02-18 01:03:50 Hail: INFO: wrote matrix with 11 rows and 46588 columns as 12 blocks of size 4096 to file:/tmp/hail.OfAQWKt0gyNP/AFApRLug1U.bm\n",
      "2020-02-18 01:03:50 Hail: INFO: wrote matrix with 46588 rows and 4342 columns as 24 blocks of size 4096 to file:/tmp/hail.OfAQWKt0gyNP/8tUf0EIvcd.bm\n",
      "2020-02-18 01:03:52 Hail: INFO: wrote matrix with 46588 rows and 4342 columns as 24 blocks of size 4096 to file:/tmp/hail.OfAQWKt0gyNP/79l59X0VOt.bm\n",
      "2020-02-18 01:13:24 Hail: INFO: wrote matrix with 4342 rows and 4342 columns as 4 blocks of size 4096 to file:/tmp/hail.OfAQWKt0gyNP/Pag79QiolF.bm\n",
      "2020-02-18 01:22:37 Hail: INFO: wrote matrix with 4342 rows and 4342 columns as 4 blocks of size 4096 to file:/tmp/hail.OfAQWKt0gyNP/eS5XKQ7DG4.bm\n",
      "2020-02-18 01:22:37 Hail: INFO: wrote matrix with 4342 rows and 4342 columns as 4 blocks of size 4096 to file:/tmp/hail.OfAQWKt0gyNP/V7nV0OdJdB.bm\n",
      "2020-02-18 01:36:12 Hail: INFO: wrote matrix with 4342 rows and 4342 columns as 4 blocks of size 4096 to file:/tmp/hail.OfAQWKt0gyNP/LoECxkyxZH.bm\n",
      "2020-02-18 01:45:30 Hail: INFO: wrote matrix with 4342 rows and 4342 columns as 4 blocks of size 4096 to file:/tmp/hail.OfAQWKt0gyNP/g7qJKeD6si.bm\n",
      "2020-02-18 01:45:30 Hail: INFO: wrote matrix with 4342 rows and 4342 columns as 4 blocks of size 4096 to file:/tmp/hail.OfAQWKt0gyNP/1RDNyAECNF.bm\n",
      "2020-02-18 01:54:04 Hail: INFO: wrote matrix with 4342 rows and 4342 columns as 4 blocks of size 4096 to file:/tmp/hail.OfAQWKt0gyNP/ZW1K9s5ra1.bm\n",
      "2020-02-18 02:02:56 Hail: INFO: wrote matrix with 4342 rows and 4342 columns as 4 blocks of size 4096 to file:/tmp/hail.OfAQWKt0gyNP/2hJ0Zud91s.bm\n",
      "2020-02-18 02:02:57 Hail: INFO: wrote matrix with 4342 rows and 4342 columns as 4 blocks of size 4096 to file:/tmp/hail.OfAQWKt0gyNP/OUa2ZJyC2F.bm\n",
      "2020-02-18 02:02:57 Hail: INFO: Ordering unsorted dataset with network shuffle\n",
      "2020-02-18 02:02:58 Hail: INFO: Ordering unsorted dataset with network shuffle\n"
     ]
    },
    {
     "name": "stdout",
     "output_type": "stream",
     "text": [
      "CPU times: user 1.31 s, sys: 379 ms, total: 1.69 s\n",
      "Wall time: 59min 34s\n"
     ]
    },
    {
     "name": "stderr",
     "output_type": "stream",
     "text": [
      "2020-02-18 02:02:59 Hail: INFO: wrote table with 71960 rows in 4 partitions to /home/eczech/data/gwas/tmp/canine/cg-hail-06/ht_relate.ht\n"
     ]
    }
   ],
   "source": [
    "%%time\n",
    "# See: https://github.com/macarthur-lab/gnomad_qc/blob/master/gnomad_qc/v3/sample_qc/sample_qc.py#L424\n",
    "\n",
    "def run_relation_inference(mt, k=10, min_individual_maf=.01, min_kinship=0.05):\n",
    "    eig, scores, loadings = hl.hwe_normalized_pca(mt.GT, k=k, compute_loadings=True)\n",
    "    ht = hl.pc_relate(\n",
    "        mt.GT, min_individual_maf=min_individual_maf, scores_expr=scores[mt.col_key].scores,\n",
    "        block_size=4096, min_kinship=min_kinship, statistics='kin'\n",
    "    )\n",
    "    return (eig, scores, loadings), ht\n",
    "\n",
    "pca_data1, ht_relate1 = run_relation_inference(mt_pr)\n",
    "ht_relate.write(nb.get_temp_file(WORK_DIR, 'ht_relate1.ht'), overwrite=True)\n",
    "pca_data1[1].write(nb.get_temp_file(WORK_DIR, 'pc_scores1.ht'))\n",
    "pca_data1[2].write(nb.get_temp_file(WORK_DIR, 'pc_loadings1.ht'))"
   ]
  },
  {
   "cell_type": "code",
   "execution_count": 4,
   "metadata": {
    "ExecuteTime": {
     "end_time": "2020-02-18T14:53:59.433866Z",
     "start_time": "2020-02-18T14:53:59.290688Z"
    }
   },
   "outputs": [],
   "source": [
    "ht_relate1 = hl.read_table(nb.get_temp_file(WORK_DIR, 'ht_relate1.ht'))\n",
    "pc_loadings1 = hl.read_table(nb.get_temp_file(WORK_DIR, 'pc_loadings1.ht'))\n",
    "pc_scores1 = hl.read_table(nb.get_temp_file(WORK_DIR, 'pc_scores1.ht'))"
   ]
  },
  {
   "cell_type": "code",
   "execution_count": 70,
   "metadata": {
    "ExecuteTime": {
     "end_time": "2020-02-18T17:06:41.918971Z",
     "start_time": "2020-02-18T17:06:41.911597Z"
    }
   },
   "outputs": [
    {
     "name": "stdout",
     "output_type": "stream",
     "text": [
      "----------------------------------------\n",
      "Global fields:\n",
      "    None\n",
      "----------------------------------------\n",
      "Row fields:\n",
      "    'i': struct {\n",
      "        s: str\n",
      "    } \n",
      "    'j': struct {\n",
      "        s: str\n",
      "    } \n",
      "    'kin': float64 \n",
      "    'ibd0': float64 \n",
      "    'ibd1': float64 \n",
      "    'ibd2': float64 \n",
      "----------------------------------------\n",
      "Key: ['i', 'j']\n",
      "----------------------------------------\n"
     ]
    }
   ],
   "source": [
    "# Note that this is distinct individuals already (it is from the non-diagonal lower triangle)\n",
    "ht_relate1.describe()"
   ]
  },
  {
   "cell_type": "markdown",
   "metadata": {},
   "source": [
    "### Analyze Related Samples"
   ]
  },
  {
   "cell_type": "markdown",
   "metadata": {},
   "source": [
    "Show the kinship coefficient distribution with our selected threshold.  These results are very different from the UKBB results, which can be seen in figure S11.  [Sams and Boyko 2019](https://www.ncbi.nlm.nih.gov/pmc/articles/PMC6325901/) give some intuition for why this may be the case stating that \"... humans generally have much lower levels of inbreeding than purebred dogs\".  They also go on to use a PI_HAT threshold of .45 when identifying related dogs via PLINK.  We will do the same here:"
   ]
  },
  {
   "cell_type": "code",
   "execution_count": 93,
   "metadata": {
    "ExecuteTime": {
     "end_time": "2020-02-18T17:50:19.276222Z",
     "start_time": "2020-02-18T17:50:19.271203Z"
    }
   },
   "outputs": [],
   "source": [
    "kc_threshold = .45"
   ]
  },
  {
   "cell_type": "code",
   "execution_count": 87,
   "metadata": {
    "ExecuteTime": {
     "end_time": "2020-02-18T17:21:14.773604Z",
     "start_time": "2020-02-18T17:21:13.761399Z"
    }
   },
   "outputs": [
    {
     "data": {
      "image/png": "[encoded data removed]",
      "text/plain": [
       "<IPython.core.display.Image object>"
      ]
     },
     "execution_count": 87,
     "metadata": {},
     "output_type": "execute_result"
    }
   ],
   "source": [
    "# Compare to figure S11\n",
    "fig = px.histogram(x=ht_relate1.kin.collect(), log_y=True, nbins=256)\n",
    "fig.add_shape(dict(\n",
    "    type=\"line\", xref=\"x\", yref=\"paper\",\n",
    "    x0=kc_threshold, y0=0, x1=kc_threshold, y1=1\n",
    "))\n",
    "fig.update_xaxes(title='Kinship Coefficient')\n",
    "fig.update_yaxes(title='Num Samples')\n",
    "Image(fig.to_image('png', width=1000, height=300))"
   ]
  },
  {
   "cell_type": "markdown",
   "metadata": {},
   "source": [
    "Remove all samples that are in highly related pairs/sets.  \n",
    "\n",
    "The [Gnomad (v3)](https://macarthurlab.org/2019/10/16/gnomad-v3-0/) approach to this step involves thresholding ```pc_relate``` as above but then tries to retain as many samples as possible by using [maximal_independent_set](https://hail.is/docs/0.2/methods/misc.html?highlight=maximal_independent_set#hail.methods.maximal_independent_set) to  select representative samples from related sets.  We will follow the UKBB approach of simply removing them all though:"
   ]
  },
  {
   "cell_type": "code",
   "execution_count": 102,
   "metadata": {
    "ExecuteTime": {
     "end_time": "2020-02-18T17:54:00.799382Z",
     "start_time": "2020-02-18T17:54:00.771103Z"
    }
   },
   "outputs": [],
   "source": [
    "def get_filtered_sample_counts(ht):\n",
    "    ht = ht.annotate(s=[ht.i.s, ht.j.s])\n",
    "    ht = ht.explode(ht.s)\n",
    "    ht = ht.group_by(ht.s).aggregate(n=hl.agg.count())\n",
    "    return ht\n",
    "\n",
    "ht_rel_ct = get_filtered_sample_counts(ht_relate1.filter(ht_relate1.kin >= kc_threshold))"
   ]
  },
  {
   "cell_type": "markdown",
   "metadata": {},
   "source": [
    "Show the individuals that will be removed due to having close relatives in the dataset.  \n",
    "\n",
    "A key observation here is that a clustering of the projected target samples in the PCA space of the reference sample (w/ known breed) makes it possible to determine what breeds these highly related samples correspond to.  Given the severely high degree of relatedness between the first set of samples below, we would expect that this dog breed would be known to have very high levels on consanguinuity.  This is the case since this cluster corresponds to Bull Terriers, a breed previously noted in Dreger et al 2016 ([inbreeding coefficient plots](https://www.instituteofcaninebiology.org/blog/inbreeding-of-purebred-dogs-determined-from-dna)) as being more highly inbred than any other breed next to the Norwegian Lundehund (which is not a breed present in our reference dataset).\n",
    "\n",
    "The known cluster correspondence is:\n",
    "\n",
    "- **Cluster 5**: Miniature Bull Terrier (MBLT) and Bull Terrier (BULT)\n",
    "- **Cluster 2**: Tibetan Spaniel (TIBS) and Afghan Hound (AFGH)\n",
    "- **Cluster 9**: This one is a mystery -- it is in a region of the reference data PCA space that is very distant from any other samples with a known breed\n",
    "- **Cluster 1**: These are samples with population structure too heterogeneous to easily isolate (but the fact that most of them only have one or two relatives is a good sign)\n",
    "- **Cluster -1**: These samples were determined as outliers to all other clusters and have no relationship with one another"
   ]
  },
  {
   "cell_type": "code",
   "execution_count": 137,
   "metadata": {
    "ExecuteTime": {
     "end_time": "2020-02-18T18:55:21.325917Z",
     "start_time": "2020-02-18T18:55:20.447433Z"
    }
   },
   "outputs": [
    {
     "name": "stderr",
     "output_type": "stream",
     "text": [
      "2020-02-18 18:55:20 Hail: INFO: Ordering unsorted dataset with network shuffle\n",
      "2020-02-18 18:55:20 Hail: INFO: Coerced sorted dataset\n"
     ]
    },
    {
     "data": {
      "image/png": "[encoded data removed]",
      "text/plain": [
       "<IPython.core.display.Image object>"
      ]
     },
     "execution_count": 137,
     "metadata": {},
     "output_type": "execute_result"
    }
   ],
   "source": [
    "df_rel_ct = (\n",
    "    ht_rel_ct\n",
    "    .annotate(cluster=mt.cols()[ht_rel_ct.s].cluster).to_pandas()\n",
    "    .sort_values('n', ascending=False)\n",
    ")\n",
    "fig = px.bar(\n",
    "    df_rel_ct.assign(cluster=lambda df: df['cluster'].astype(str)), \n",
    "    x='s', y='n', color='cluster'\n",
    ")\n",
    "fig.update_yaxes(title='N samples related to')\n",
    "Image(fig.to_image('png', width=1200, height=300))"
   ]
  },
  {
   "cell_type": "markdown",
   "metadata": {},
   "source": [
    "It is also helpful to see how the number of related samples within a cluster compares to the overall number of samples in the same cluster.  This shows the Bull Terrier samples, the breed expected to have the highest rate of inbreeding, are all (100% of them) highly related to each other.  The much larger heterogeneous cluster contains only 3% related samples which is definitely what we would expect since these samples did not separate well in reference data PCA space  (they would likely have if inbreeding was more prevalent amongst them).\n",
    "\n",
    "This helps to validate that our selected kinship threshold is isolating samples properly."
   ]
  },
  {
   "cell_type": "code",
   "execution_count": 142,
   "metadata": {
    "ExecuteTime": {
     "end_time": "2020-02-18T19:01:02.001133Z",
     "start_time": "2020-02-18T19:01:01.753429Z"
    }
   },
   "outputs": [
    {
     "data": {
      "text/html": [
       "<div>\n",
       "<style scoped>\n",
       "    .dataframe tbody tr th:only-of-type {\n",
       "        vertical-align: middle;\n",
       "    }\n",
       "\n",
       "    .dataframe tbody tr th {\n",
       "        vertical-align: top;\n",
       "    }\n",
       "\n",
       "    .dataframe thead th {\n",
       "        text-align: right;\n",
       "    }\n",
       "</style>\n",
       "<table border=\"1\" class=\"dataframe\">\n",
       "  <thead>\n",
       "    <tr style=\"text-align: right;\">\n",
       "      <th></th>\n",
       "      <th>n_total</th>\n",
       "      <th>n_related</th>\n",
       "      <th>pct_related</th>\n",
       "    </tr>\n",
       "    <tr>\n",
       "      <th>cluster</th>\n",
       "      <th></th>\n",
       "      <th></th>\n",
       "      <th></th>\n",
       "    </tr>\n",
       "  </thead>\n",
       "  <tbody>\n",
       "    <tr>\n",
       "      <th>0</th>\n",
       "      <td>3843</td>\n",
       "      <td>118</td>\n",
       "      <td>3.1</td>\n",
       "    </tr>\n",
       "    <tr>\n",
       "      <th>5</th>\n",
       "      <td>23</td>\n",
       "      <td>23</td>\n",
       "      <td>100.0</td>\n",
       "    </tr>\n",
       "    <tr>\n",
       "      <th>9</th>\n",
       "      <td>5</td>\n",
       "      <td>5</td>\n",
       "      <td>100.0</td>\n",
       "    </tr>\n",
       "    <tr>\n",
       "      <th>2</th>\n",
       "      <td>17</td>\n",
       "      <td>7</td>\n",
       "      <td>41.2</td>\n",
       "    </tr>\n",
       "    <tr>\n",
       "      <th>-1</th>\n",
       "      <td>43</td>\n",
       "      <td>4</td>\n",
       "      <td>9.3</td>\n",
       "    </tr>\n",
       "  </tbody>\n",
       "</table>\n",
       "</div>"
      ],
      "text/plain": [
       "         n_total  n_related  pct_related\n",
       "cluster                                 \n",
       " 0          3843        118          3.1\n",
       " 5            23         23        100.0\n",
       " 9             5          5        100.0\n",
       " 2            17          7         41.2\n",
       "-1            43          4          9.3"
      ]
     },
     "execution_count": 142,
     "metadata": {},
     "output_type": "execute_result"
    }
   ],
   "source": [
    "pd.concat([\n",
    "        pd.Series(mt.aggregate_cols(hl.agg.counter(mt.cluster))).rename('n_total'),\n",
    "        df_rel_ct.groupby('cluster').size().rename('n_related')\n",
    "    ], \n",
    "    axis=1, join='inner'\n",
    ")\\\n",
    "    .assign(pct_related=lambda df: 100 * df['n_related'] / df['n_total']).round(1)\\\n",
    "    .rename_axis('cluster', axis='index')"
   ]
  },
  {
   "cell_type": "code",
   "execution_count": 146,
   "metadata": {
    "ExecuteTime": {
     "end_time": "2020-02-18T19:31:31.896248Z",
     "start_time": "2020-02-18T19:31:31.709886Z"
    }
   },
   "outputs": [
    {
     "name": "stderr",
     "output_type": "stream",
     "text": [
      "2020-02-18 19:31:31 Hail: INFO: Ordering unsorted dataset with network shuffle\n"
     ]
    },
    {
     "data": {
      "text/plain": [
       "157"
      ]
     },
     "execution_count": 146,
     "metadata": {},
     "output_type": "execute_result"
    }
   ],
   "source": [
    "ht_rel_ct.count()"
   ]
  },
  {
   "cell_type": "code",
   "execution_count": 151,
   "metadata": {
    "ExecuteTime": {
     "end_time": "2020-02-18T19:32:27.271227Z",
     "start_time": "2020-02-18T19:32:26.391376Z"
    }
   },
   "outputs": [
    {
     "name": "stderr",
     "output_type": "stream",
     "text": [
      "2020-02-18 19:32:26 Hail: INFO: Ordering unsorted dataset with network shuffle\n",
      "2020-02-18 19:32:26 Hail: INFO: Ordering unsorted dataset with network shuffle\n",
      "2020-02-18 19:32:27 Hail: INFO: Ordering unsorted dataset with network shuffle\n"
     ]
    },
    {
     "data": {
      "text/plain": [
       "(46588, 4185)"
      ]
     },
     "execution_count": 151,
     "metadata": {},
     "output_type": "execute_result"
    }
   ],
   "source": [
    "mt_pr_ur = mt_pr.filter_cols(~hl.is_defined(ht_rel_ct[mt_pr.s]))\n",
    "assert mt_pr.count()[1] - ht_rel_ct.count() == mt_pr_ur.count()[1]\n",
    "mt_pr_ur.count()"
   ]
  },
  {
   "cell_type": "code",
   "execution_count": 152,
   "metadata": {
    "ExecuteTime": {
     "end_time": "2020-02-18T19:33:35.674728Z",
     "start_time": "2020-02-18T19:33:18.000419Z"
    }
   },
   "outputs": [
    {
     "name": "stderr",
     "output_type": "stream",
     "text": [
      "2020-02-18 19:33:18 Hail: INFO: Ordering unsorted dataset with network shuffle\n",
      "2020-02-18 19:33:35 Hail: INFO: wrote matrix table with 46588 rows and 4185 columns in 6 partitions to /home/eczech/data/gwas/tmp/canine/cg-hail-06/mt_pr_ur.mt\n"
     ]
    }
   ],
   "source": [
    "mt_pr_ur.write(nb.get_temp_file(WORK_DIR, 'mt_pr_ur.mt'))"
   ]
  },
  {
   "cell_type": "markdown",
   "metadata": {},
   "source": [
    "### Run PCA\n",
    "\n",
    "With related samples removed, we can move on to running PCA.  This will then be used to compute PC-adjusted heterozygosity estimations."
   ]
  },
  {
   "cell_type": "code",
   "execution_count": 153,
   "metadata": {
    "ExecuteTime": {
     "end_time": "2020-02-18T19:35:05.275077Z",
     "start_time": "2020-02-18T19:35:05.212266Z"
    }
   },
   "outputs": [],
   "source": [
    "mt_pr_ur = hl.read_matrix_table(nb.get_temp_file(WORK_DIR, 'mt_pr_ur.mt'))"
   ]
  }
 ],
 "metadata": {
  "kernelspec": {
   "display_name": "Python 3",
   "language": "python",
   "name": "python3"
  },
  "language_info": {
   "codemirror_mode": {
    "name": "ipython",
    "version": 3
   },
   "file_extension": ".py",
   "mimetype": "text/x-python",
   "name": "python",
   "nbconvert_exporter": "python",
   "pygments_lexer": "ipython3",
   "version": "3.7.6"
  }
 },
 "nbformat": 4,
 "nbformat_minor": 4
}
