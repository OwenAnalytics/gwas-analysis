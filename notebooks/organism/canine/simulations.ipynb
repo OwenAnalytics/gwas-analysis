{
 "cells": [
  {
   "cell_type": "code",
   "execution_count": 1,
   "metadata": {
    "ExecuteTime": {
     "end_time": "2020-02-12T21:55:35.778176Z",
     "start_time": "2020-02-12T21:55:31.853679Z"
    }
   },
   "outputs": [
    {
     "name": "stderr",
     "output_type": "stream",
     "text": [
      "Running on Apache Spark version 2.4.4\n",
      "SparkUI available at http://a783b4e25167:4042\n",
      "Welcome to\n",
      "     __  __     <>__\n",
      "    / /_/ /__  __/ /\n",
      "   / __  / _ `/ / /\n",
      "  /_/ /_/\\_,_/_/_/   version 0.2.30-2ae07d872f43\n",
      "LOGGING: writing to /home/eczech/repos/gwas-analysis/notebooks/organism/canine/hail-20200212-2155-0.2.30-2ae07d872f43.log\n"
     ]
    }
   ],
   "source": [
    "import hail as hl\n",
    "import pandas as pd\n",
    "import numpy as np\n",
    "hl.init()"
   ]
  },
  {
   "cell_type": "markdown",
   "metadata": {},
   "source": [
    "### MAF and Call Rates"
   ]
  },
  {
   "cell_type": "code",
   "execution_count": 131,
   "metadata": {
    "ExecuteTime": {
     "end_time": "2020-02-12T23:02:12.994319Z",
     "start_time": "2020-02-12T23:02:12.784524Z"
    }
   },
   "outputs": [
    {
     "name": "stderr",
     "output_type": "stream",
     "text": [
      "2020-02-12 23:02:12 Hail: INFO: balding_nichols_model: generating genotypes for 3 populations, 6 samples, and 10 variants...\n"
     ]
    },
    {
     "data": {
      "text/plain": [
       "(10, 6)"
      ]
     },
     "execution_count": 131,
     "metadata": {},
     "output_type": "execute_result"
    }
   ],
   "source": [
    "mt = hl.balding_nichols_model(3, 6, 10)\n",
    "mt = mt.annotate_entries(GT=hl.case().when(hl.rand_bool(.5, seed=1), mt.GT).or_missing())\n",
    "mt = hl.variant_qc(mt)\n",
    "mt.count()"
   ]
  },
  {
   "cell_type": "code",
   "execution_count": 132,
   "metadata": {
    "ExecuteTime": {
     "end_time": "2020-02-12T23:02:13.999446Z",
     "start_time": "2020-02-12T23:02:13.810246Z"
    }
   },
   "outputs": [
    {
     "data": {
      "text/plain": [
       "0.48333333333333334"
      ]
     },
     "execution_count": 132,
     "metadata": {},
     "output_type": "execute_result"
    }
   ],
   "source": [
    "mt.aggregate_entries(hl.agg.fraction(hl.is_defined(mt.GT)))"
   ]
  },
  {
   "cell_type": "code",
   "execution_count": 133,
   "metadata": {
    "ExecuteTime": {
     "end_time": "2020-02-12T23:02:14.855895Z",
     "start_time": "2020-02-12T23:02:14.002700Z"
    }
   },
   "outputs": [
    {
     "name": "stderr",
     "output_type": "stream",
     "text": [
      "2020-02-12 23:02:14 Hail: INFO: Coerced sorted dataset\n",
      "2020-02-12 23:02:14 Hail: INFO: Wrote all 1 blocks of 10 x 6 matrix with block size 4096.\n"
     ]
    },
    {
     "data": {
      "text/html": [
       "<div>\n",
       "<style scoped>\n",
       "    .dataframe tbody tr th:only-of-type {\n",
       "        vertical-align: middle;\n",
       "    }\n",
       "\n",
       "    .dataframe tbody tr th {\n",
       "        vertical-align: top;\n",
       "    }\n",
       "\n",
       "    .dataframe thead th {\n",
       "        text-align: right;\n",
       "    }\n",
       "</style>\n",
       "<table border=\"1\" class=\"dataframe\">\n",
       "  <thead>\n",
       "    <tr style=\"text-align: right;\">\n",
       "      <th></th>\n",
       "      <th>2</th>\n",
       "      <th>1</th>\n",
       "      <th>2</th>\n",
       "      <th>2</th>\n",
       "      <th>0</th>\n",
       "      <th>0</th>\n",
       "    </tr>\n",
       "  </thead>\n",
       "  <tbody>\n",
       "    <tr>\n",
       "      <th>1:1</th>\n",
       "      <td>1.0</td>\n",
       "      <td>-1.0</td>\n",
       "      <td>2.0</td>\n",
       "      <td>1.0</td>\n",
       "      <td>0.0</td>\n",
       "      <td>2.0</td>\n",
       "    </tr>\n",
       "    <tr>\n",
       "      <th>1:2</th>\n",
       "      <td>2.0</td>\n",
       "      <td>2.0</td>\n",
       "      <td>2.0</td>\n",
       "      <td>-1.0</td>\n",
       "      <td>2.0</td>\n",
       "      <td>-1.0</td>\n",
       "    </tr>\n",
       "    <tr>\n",
       "      <th>1:3</th>\n",
       "      <td>1.0</td>\n",
       "      <td>-1.0</td>\n",
       "      <td>-1.0</td>\n",
       "      <td>-1.0</td>\n",
       "      <td>2.0</td>\n",
       "      <td>2.0</td>\n",
       "    </tr>\n",
       "    <tr>\n",
       "      <th>1:4</th>\n",
       "      <td>-1.0</td>\n",
       "      <td>2.0</td>\n",
       "      <td>-1.0</td>\n",
       "      <td>-1.0</td>\n",
       "      <td>2.0</td>\n",
       "      <td>1.0</td>\n",
       "    </tr>\n",
       "    <tr>\n",
       "      <th>1:5</th>\n",
       "      <td>0.0</td>\n",
       "      <td>-1.0</td>\n",
       "      <td>1.0</td>\n",
       "      <td>-1.0</td>\n",
       "      <td>-1.0</td>\n",
       "      <td>-1.0</td>\n",
       "    </tr>\n",
       "    <tr>\n",
       "      <th>1:6</th>\n",
       "      <td>2.0</td>\n",
       "      <td>-1.0</td>\n",
       "      <td>1.0</td>\n",
       "      <td>-1.0</td>\n",
       "      <td>-1.0</td>\n",
       "      <td>-1.0</td>\n",
       "    </tr>\n",
       "    <tr>\n",
       "      <th>1:7</th>\n",
       "      <td>0.0</td>\n",
       "      <td>-1.0</td>\n",
       "      <td>-1.0</td>\n",
       "      <td>0.0</td>\n",
       "      <td>2.0</td>\n",
       "      <td>-1.0</td>\n",
       "    </tr>\n",
       "    <tr>\n",
       "      <th>1:8</th>\n",
       "      <td>2.0</td>\n",
       "      <td>2.0</td>\n",
       "      <td>-1.0</td>\n",
       "      <td>-1.0</td>\n",
       "      <td>2.0</td>\n",
       "      <td>2.0</td>\n",
       "    </tr>\n",
       "    <tr>\n",
       "      <th>1:9</th>\n",
       "      <td>-1.0</td>\n",
       "      <td>2.0</td>\n",
       "      <td>-1.0</td>\n",
       "      <td>1.0</td>\n",
       "      <td>-1.0</td>\n",
       "      <td>-1.0</td>\n",
       "    </tr>\n",
       "    <tr>\n",
       "      <th>1:10</th>\n",
       "      <td>-1.0</td>\n",
       "      <td>0.0</td>\n",
       "      <td>-1.0</td>\n",
       "      <td>-1.0</td>\n",
       "      <td>-1.0</td>\n",
       "      <td>-1.0</td>\n",
       "    </tr>\n",
       "  </tbody>\n",
       "</table>\n",
       "</div>"
      ],
      "text/plain": [
       "        2    1    2    2    0    0\n",
       "1:1   1.0 -1.0  2.0  1.0  0.0  2.0\n",
       "1:2   2.0  2.0  2.0 -1.0  2.0 -1.0\n",
       "1:3   1.0 -1.0 -1.0 -1.0  2.0  2.0\n",
       "1:4  -1.0  2.0 -1.0 -1.0  2.0  1.0\n",
       "1:5   0.0 -1.0  1.0 -1.0 -1.0 -1.0\n",
       "1:6   2.0 -1.0  1.0 -1.0 -1.0 -1.0\n",
       "1:7   0.0 -1.0 -1.0  0.0  2.0 -1.0\n",
       "1:8   2.0  2.0 -1.0 -1.0  2.0  2.0\n",
       "1:9  -1.0  2.0 -1.0  1.0 -1.0 -1.0\n",
       "1:10 -1.0  0.0 -1.0 -1.0 -1.0 -1.0"
      ]
     },
     "execution_count": 133,
     "metadata": {},
     "output_type": "execute_result"
    }
   ],
   "source": [
    "m = hl.linalg.BlockMatrix.from_entry_expr(\n",
    "    hl.case().when(hl.is_defined(mt.GT), mt.GT.n_alt_alleles()).default(-1)\n",
    ").to_numpy()\n",
    "pd.DataFrame(m, index=mt.locus.collect(), columns=mt.pop.collect())"
   ]
  },
  {
   "cell_type": "code",
   "execution_count": 134,
   "metadata": {
    "ExecuteTime": {
     "end_time": "2020-02-12T23:02:14.867879Z",
     "start_time": "2020-02-12T23:02:14.860436Z"
    }
   },
   "outputs": [],
   "source": [
    "def get_maf(mt):\n",
    "    mt = mt.annotate_rows(maf=hl.agg.group_by(\n",
    "        mt.pop, hl.agg.sum(mt.GT.n_alt_alleles()) / (hl.agg.count_where(hl.is_defined(mt.GT)) * 2)))\n",
    "    return mt\n",
    "\n",
    "def get_cr(mt):\n",
    "    mt = mt.annotate_rows(cr=hl.agg.group_by(\n",
    "        mt.pop, hl.agg.fraction(hl.is_defined(mt.GT))))\n",
    "    return mt"
   ]
  },
  {
   "cell_type": "code",
   "execution_count": 135,
   "metadata": {
    "ExecuteTime": {
     "end_time": "2020-02-12T23:02:14.915247Z",
     "start_time": "2020-02-12T23:02:14.870247Z"
    }
   },
   "outputs": [],
   "source": [
    "mt = get_maf(mt)\n",
    "mt = get_cr(mt)"
   ]
  },
  {
   "cell_type": "code",
   "execution_count": 136,
   "metadata": {
    "ExecuteTime": {
     "end_time": "2020-02-12T23:02:15.221088Z",
     "start_time": "2020-02-12T23:02:14.947499Z"
    }
   },
   "outputs": [
    {
     "name": "stderr",
     "output_type": "stream",
     "text": [
      "2020-02-12 23:02:15 Hail: INFO: Coerced sorted dataset\n"
     ]
    },
    {
     "data": {
      "text/plain": [
       "[{0: 0.5, 1: nan, 2: 0.6666666865348816},\n",
       " {0: 1.0, 1: 1.0, 2: 1.0},\n",
       " {0: 1.0, 1: nan, 2: 0.5},\n",
       " {0: 0.75, 1: 1.0, 2: nan},\n",
       " {0: nan, 1: nan, 2: 0.25},\n",
       " {0: nan, 1: nan, 2: 0.75},\n",
       " {0: 1.0, 1: nan, 2: 0.0},\n",
       " {0: 1.0, 1: 1.0, 2: 1.0},\n",
       " {0: nan, 1: 1.0, 2: 0.5},\n",
       " {0: nan, 1: 0.0, 2: nan}]"
      ]
     },
     "execution_count": 136,
     "metadata": {},
     "output_type": "execute_result"
    }
   ],
   "source": [
    "mt.maf.collect()"
   ]
  },
  {
   "cell_type": "code",
   "execution_count": 137,
   "metadata": {
    "ExecuteTime": {
     "end_time": "2020-02-12T23:02:16.207462Z",
     "start_time": "2020-02-12T23:02:15.960434Z"
    }
   },
   "outputs": [
    {
     "name": "stderr",
     "output_type": "stream",
     "text": [
      "2020-02-12 23:02:16 Hail: INFO: Coerced sorted dataset\n"
     ]
    },
    {
     "data": {
      "text/plain": [
       "count    19.000000\n",
       "mean      0.732456\n",
       "std       0.348696\n",
       "min       0.000000\n",
       "25%       0.500000\n",
       "50%       1.000000\n",
       "75%       1.000000\n",
       "max       1.000000\n",
       "dtype: float64"
      ]
     },
     "execution_count": 137,
     "metadata": {},
     "output_type": "execute_result"
    }
   ],
   "source": [
    "pd.Series(pd.DataFrame(mt.maf.collect()).values.ravel()).describe()"
   ]
  },
  {
   "cell_type": "code",
   "execution_count": 138,
   "metadata": {
    "ExecuteTime": {
     "end_time": "2020-02-12T23:02:17.680672Z",
     "start_time": "2020-02-12T23:02:17.496348Z"
    }
   },
   "outputs": [
    {
     "data": {
      "text/plain": [
       "29"
      ]
     },
     "execution_count": 138,
     "metadata": {},
     "output_type": "execute_result"
    }
   ],
   "source": [
    "mt.aggregate_entries(hl.agg.sum(hl.is_defined(mt.GT)))"
   ]
  },
  {
   "cell_type": "code",
   "execution_count": 141,
   "metadata": {
    "ExecuteTime": {
     "end_time": "2020-02-12T23:02:34.041859Z",
     "start_time": "2020-02-12T23:02:33.779247Z"
    }
   },
   "outputs": [
    {
     "name": "stderr",
     "output_type": "stream",
     "text": [
      "2020-02-12 23:02:33 Hail: INFO: Coerced sorted dataset\n"
     ]
    },
    {
     "data": {
      "text/plain": [
       "29"
      ]
     },
     "execution_count": 141,
     "metadata": {},
     "output_type": "execute_result"
    }
   ],
   "source": [
    "len(pd.DataFrame(mt.GT.collect()).dropna())"
   ]
  }
 ],
 "metadata": {
  "kernelspec": {
   "display_name": "Python 3",
   "language": "python",
   "name": "python3"
  },
  "language_info": {
   "codemirror_mode": {
    "name": "ipython",
    "version": 3
   },
   "file_extension": ".py",
   "mimetype": "text/x-python",
   "name": "python",
   "nbconvert_exporter": "python",
   "pygments_lexer": "ipython3",
   "version": "3.7.6"
  }
 },
 "nbformat": 4,
 "nbformat_minor": 4
}
