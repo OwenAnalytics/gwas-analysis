{
 "cells": [
  {
   "cell_type": "markdown",
   "metadata": {},
   "source": [
    "## Canine GWAS Reference Alignment\n",
    "\n",
    "This module will align variants in the reference dataset to those in the target dataset.  These operations have no analog in the UKBB analysis because, presumably, 1KG and UKBB genotyping datasets were already aligned to a common reference genome and used the same minor/major allele assignments.\n",
    "\n",
    "Steps:\n",
    "\n",
    "- Join the variants in both datasets by locus\n",
    "- Check to see what alleles appear to be in conflicting order\n",
    "- Adjust the order of the alleles and invert calls where necessary in the reference data\n",
    "- Re-check the allele co-occurrence between the datasets\n",
    "- Export a reference dataset that contains only variants in the target dataset, all with the same orientation"
   ]
  },
  {
   "cell_type": "code",
   "execution_count": 1,
   "metadata": {
    "ExecuteTime": {
     "end_time": "2020-02-13T05:17:33.695837Z",
     "start_time": "2020-02-13T05:17:29.197928Z"
    }
   },
   "outputs": [
    {
     "name": "stderr",
     "output_type": "stream",
     "text": [
      "Running on Apache Spark version 2.4.4\n",
      "SparkUI available at http://a783b4e25167:4041\n",
      "Welcome to\n",
      "     __  __     <>__\n",
      "    / /_/ /__  __/ /\n",
      "   / __  / _ `/ / /\n",
      "  /_/ /_/\\_,_/_/_/   version 0.2.30-2ae07d872f43\n",
      "LOGGING: writing to /home/eczech/repos/gwas-analysis/notebooks/organism/canine/hail-20200213-0517-0.2.30-2ae07d872f43.log\n"
     ]
    }
   ],
   "source": [
    "import hail as hl\n",
    "import pandas as pd\n",
    "import numpy as np\n",
    "import plotnine as pn\n",
    "import plotly.express as px\n",
    "import os.path as osp\n",
    "%run ../../nb.py\n",
    "%run paths.py\n",
    "%run common.py\n",
    "gab.register_timeop_magic(get_ipython(), 'hail')\n",
    "hl.init()"
   ]
  },
  {
   "cell_type": "markdown",
   "metadata": {},
   "source": [
    "### Load Target and Reference Data"
   ]
  },
  {
   "cell_type": "code",
   "execution_count": 2,
   "metadata": {
    "ExecuteTime": {
     "end_time": "2020-02-13T05:17:33.725635Z",
     "start_time": "2020-02-13T05:17:33.698579Z"
    }
   },
   "outputs": [],
   "source": [
    "%%capture\n",
    "hl.ReferenceGenome(**load_reference_genome(REF_GENOME_FILE))"
   ]
  },
  {
   "cell_type": "code",
   "execution_count": 3,
   "metadata": {
    "ExecuteTime": {
     "end_time": "2020-02-13T05:17:34.441323Z",
     "start_time": "2020-02-13T05:17:33.728071Z"
    },
    "scrolled": false
   },
   "outputs": [
    {
     "data": {
      "text/plain": [
       "(36395, 1350)"
      ]
     },
     "execution_count": 3,
     "metadata": {},
     "output_type": "execute_result"
    }
   ],
   "source": [
    "mt_ref = hl.read_matrix_table(osp.join(WORK_DIR, REF_QC_02_FILE + '.mt'))\n",
    "mt_ref.count()"
   ]
  },
  {
   "cell_type": "code",
   "execution_count": 4,
   "metadata": {
    "ExecuteTime": {
     "end_time": "2020-02-13T05:17:36.645995Z",
     "start_time": "2020-02-13T05:17:34.442571Z"
    }
   },
   "outputs": [
    {
     "name": "stderr",
     "output_type": "stream",
     "text": [
      "2020-02-13 05:17:34 Hail: INFO: Found 4342 samples in fam file.\n",
      "2020-02-13 05:17:34 Hail: INFO: Found 160727 variants in bim file.\n",
      "2020-02-13 05:17:36 Hail: INFO: Coerced sorted dataset\n"
     ]
    },
    {
     "data": {
      "text/plain": [
       "(160727, 4342)"
      ]
     },
     "execution_count": 4,
     "metadata": {},
     "output_type": "execute_result"
    }
   ],
   "source": [
    "mt_tgt = hl.import_plink(\n",
    "    *plink_files(ORGANISM_CANINE_TGT_DIR, PLINK_FILE_TGT),\n",
    "    skip_invalid_loci=False,\n",
    "    reference_genome='canine'\n",
    ")\n",
    "mt_tgt.count()"
   ]
  },
  {
   "cell_type": "code",
   "execution_count": 5,
   "metadata": {
    "ExecuteTime": {
     "end_time": "2020-02-13T05:17:36.656246Z",
     "start_time": "2020-02-13T05:17:36.648153Z"
    }
   },
   "outputs": [],
   "source": [
    "def get_alt_allele_freq(mt):\n",
    "    \"\"\"Get frequency of number of alt alleles present across all calls\"\"\"\n",
    "    cts = mt.aggregate_entries(hl.agg.hist(mt.GT.n_alt_alleles(), 0, 2, 3))\n",
    "    cts = pd.Series(cts.bin_freq).rename('count').rename_axis('n_alt_alleles').reset_index()\n",
    "    # Make sure that the most common count is 0 (homozygous reference)\n",
    "    assert cts.sort_values('count')['n_alt_alleles'].tail(1).values[0] == 0\n",
    "    return cts"
   ]
  },
  {
   "cell_type": "code",
   "execution_count": 6,
   "metadata": {
    "ExecuteTime": {
     "end_time": "2020-02-13T05:17:49.877861Z",
     "start_time": "2020-02-13T05:17:36.659055Z"
    }
   },
   "outputs": [
    {
     "name": "stderr",
     "output_type": "stream",
     "text": [
      "2020-02-13 05:17:37 Hail: INFO: Coerced sorted dataset\n"
     ]
    },
    {
     "data": {
      "text/html": [
       "<div>\n",
       "<style scoped>\n",
       "    .dataframe tbody tr th:only-of-type {\n",
       "        vertical-align: middle;\n",
       "    }\n",
       "\n",
       "    .dataframe tbody tr th {\n",
       "        vertical-align: top;\n",
       "    }\n",
       "\n",
       "    .dataframe thead th {\n",
       "        text-align: right;\n",
       "    }\n",
       "</style>\n",
       "<table border=\"1\" class=\"dataframe\">\n",
       "  <thead>\n",
       "    <tr style=\"text-align: right;\">\n",
       "      <th></th>\n",
       "      <th>n_alt_alleles</th>\n",
       "      <th>count</th>\n",
       "    </tr>\n",
       "  </thead>\n",
       "  <tbody>\n",
       "    <tr>\n",
       "      <th>0</th>\n",
       "      <td>0</td>\n",
       "      <td>422763319</td>\n",
       "    </tr>\n",
       "    <tr>\n",
       "      <th>1</th>\n",
       "      <td>1</td>\n",
       "      <td>181266267</td>\n",
       "    </tr>\n",
       "    <tr>\n",
       "      <th>2</th>\n",
       "      <td>2</td>\n",
       "      <td>93838364</td>\n",
       "    </tr>\n",
       "  </tbody>\n",
       "</table>\n",
       "</div>"
      ],
      "text/plain": [
       "   n_alt_alleles      count\n",
       "0              0  422763319\n",
       "1              1  181266267\n",
       "2              2   93838364"
      ]
     },
     "execution_count": 6,
     "metadata": {},
     "output_type": "execute_result"
    }
   ],
   "source": [
    "get_alt_allele_freq(mt_tgt)"
   ]
  },
  {
   "cell_type": "code",
   "execution_count": 7,
   "metadata": {
    "ExecuteTime": {
     "end_time": "2020-02-13T05:17:51.537713Z",
     "start_time": "2020-02-13T05:17:49.879947Z"
    }
   },
   "outputs": [
    {
     "data": {
      "text/html": [
       "<div>\n",
       "<style scoped>\n",
       "    .dataframe tbody tr th:only-of-type {\n",
       "        vertical-align: middle;\n",
       "    }\n",
       "\n",
       "    .dataframe tbody tr th {\n",
       "        vertical-align: top;\n",
       "    }\n",
       "\n",
       "    .dataframe thead th {\n",
       "        text-align: right;\n",
       "    }\n",
       "</style>\n",
       "<table border=\"1\" class=\"dataframe\">\n",
       "  <thead>\n",
       "    <tr style=\"text-align: right;\">\n",
       "      <th></th>\n",
       "      <th>n_alt_alleles</th>\n",
       "      <th>count</th>\n",
       "    </tr>\n",
       "  </thead>\n",
       "  <tbody>\n",
       "    <tr>\n",
       "      <th>0</th>\n",
       "      <td>0</td>\n",
       "      <td>26895996</td>\n",
       "    </tr>\n",
       "    <tr>\n",
       "      <th>1</th>\n",
       "      <td>1</td>\n",
       "      <td>14281635</td>\n",
       "    </tr>\n",
       "    <tr>\n",
       "      <th>2</th>\n",
       "      <td>2</td>\n",
       "      <td>7907143</td>\n",
       "    </tr>\n",
       "  </tbody>\n",
       "</table>\n",
       "</div>"
      ],
      "text/plain": [
       "   n_alt_alleles     count\n",
       "0              0  26895996\n",
       "1              1  14281635\n",
       "2              2   7907143"
      ]
     },
     "execution_count": 7,
     "metadata": {},
     "output_type": "execute_result"
    }
   ],
   "source": [
    "get_alt_allele_freq(mt_ref)"
   ]
  },
  {
   "cell_type": "markdown",
   "metadata": {},
   "source": [
    "### Check Alignment"
   ]
  },
  {
   "cell_type": "code",
   "execution_count": 23,
   "metadata": {
    "ExecuteTime": {
     "end_time": "2020-02-13T05:24:43.044324Z",
     "start_time": "2020-02-13T05:24:42.982973Z"
    }
   },
   "outputs": [
    {
     "name": "stdout",
     "output_type": "stream",
     "text": [
      "----------------------------------------\n",
      "Global fields:\n",
      "    None\n",
      "----------------------------------------\n",
      "Row fields:\n",
      "    'locus': locus<canine> \n",
      "    'alleles_src': str \n",
      "    'alleles_tgt': str \n",
      "    'orientation': str \n",
      "    'status': str \n",
      "----------------------------------------\n",
      "Key: ['locus']\n",
      "----------------------------------------\n"
     ]
    }
   ],
   "source": [
    "def get_variant_orientation(mt_src, mt_tgt):\n",
    "    \"\"\"Join variants by locus in two datasets and categorize call status based on allele orientation\n",
    "    \n",
    "    See https://privefl.github.io/bigsnpr/reference/snp_match.html for a reference implementation\n",
    "    including similar functionality\n",
    "    \"\"\"\n",
    "    \n",
    "    # Select only locus (as key) and alleles from a table\n",
    "    def prep(ht, typ):\n",
    "        c = 'alleles_' + typ\n",
    "        ht = ht.key_by('locus').select('alleles').rename({'alleles': c})\n",
    "        ht = ht.annotate(**{c: hl.delimit(ht[c], '')})\n",
    "        return ht\n",
    "    \n",
    "    # Join dataset rows (i.e. variants)\n",
    "    ht = prep(mt_src.rows(), 'src')\\\n",
    "        .join(prep(mt_tgt.rows(), 'tgt'), how='outer')\n",
    "    \n",
    "    # Determine what the orientation of the variants is with respect to the \"src\" dataset\n",
    "    # (i.e. this value implies what needs to be done to the alleles/calls to align with \"tgt\")\n",
    "    ht = ht.annotate(\n",
    "        orientation=hl.case()\n",
    "        .when(ht.alleles_src == ht.alleles_tgt, 'same') # AC = AC\n",
    "        .when(ht.alleles_src == ht.alleles_tgt.reverse(), 'order_flip') # AC = CA\n",
    "        .when(ht.alleles_src == hl.reverse_complement(ht.alleles_tgt).reverse(), 'strand_flip') # AC = TG\n",
    "        .when(ht.alleles_src == hl.reverse_complement(ht.alleles_tgt), 'order_flip+strand_flip') # AC = GT\n",
    "        .or_missing()\n",
    "    )\n",
    "    ht = ht.annotate(\n",
    "        status=hl.case()\n",
    "        .when(hl.is_defined(ht.orientation), 'in_both')\n",
    "        .when(hl.is_defined(ht.alleles_tgt), 'only_tgt')\n",
    "        .when(hl.is_defined(ht.alleles_src), 'only_src')\n",
    "        .or_missing()\n",
    "    )\n",
    "    return ht\n",
    "\n",
    "ht = get_variant_orientation(mt_ref, mt_tgt)\n",
    "ht.describe()"
   ]
  },
  {
   "cell_type": "markdown",
   "metadata": {},
   "source": [
    "Show the unaligned allele co-occurence frequencies:"
   ]
  },
  {
   "cell_type": "code",
   "execution_count": 24,
   "metadata": {
    "ExecuteTime": {
     "end_time": "2020-02-13T05:24:49.386233Z",
     "start_time": "2020-02-13T05:24:47.282551Z"
    }
   },
   "outputs": [
    {
     "name": "stderr",
     "output_type": "stream",
     "text": [
      "2020-02-13 05:24:47 Hail: INFO: Coerced sorted dataset\n"
     ]
    },
    {
     "data": {
      "text/html": [
       "<div>\n",
       "<style scoped>\n",
       "    .dataframe tbody tr th:only-of-type {\n",
       "        vertical-align: middle;\n",
       "    }\n",
       "\n",
       "    .dataframe tbody tr th {\n",
       "        vertical-align: top;\n",
       "    }\n",
       "\n",
       "    .dataframe thead th {\n",
       "        text-align: right;\n",
       "    }\n",
       "</style>\n",
       "<table border=\"1\" class=\"dataframe\">\n",
       "  <thead>\n",
       "    <tr style=\"text-align: right;\">\n",
       "      <th>alleles_tgt</th>\n",
       "      <th>AC</th>\n",
       "      <th>CA</th>\n",
       "      <th>AG</th>\n",
       "      <th>GA</th>\n",
       "    </tr>\n",
       "    <tr>\n",
       "      <th>alleles_src</th>\n",
       "      <th></th>\n",
       "      <th></th>\n",
       "      <th></th>\n",
       "      <th></th>\n",
       "    </tr>\n",
       "  </thead>\n",
       "  <tbody>\n",
       "    <tr>\n",
       "      <th>AC</th>\n",
       "      <td>1449</td>\n",
       "      <td>61</td>\n",
       "      <td>0</td>\n",
       "      <td>0</td>\n",
       "    </tr>\n",
       "    <tr>\n",
       "      <th>AG</th>\n",
       "      <td>0</td>\n",
       "      <td>0</td>\n",
       "      <td>6180</td>\n",
       "      <td>307</td>\n",
       "    </tr>\n",
       "    <tr>\n",
       "      <th>CA</th>\n",
       "      <td>79</td>\n",
       "      <td>1600</td>\n",
       "      <td>0</td>\n",
       "      <td>0</td>\n",
       "    </tr>\n",
       "    <tr>\n",
       "      <th>CT</th>\n",
       "      <td>0</td>\n",
       "      <td>0</td>\n",
       "      <td>364</td>\n",
       "      <td>7995</td>\n",
       "    </tr>\n",
       "    <tr>\n",
       "      <th>GA</th>\n",
       "      <td>0</td>\n",
       "      <td>0</td>\n",
       "      <td>385</td>\n",
       "      <td>8130</td>\n",
       "    </tr>\n",
       "    <tr>\n",
       "      <th>GT</th>\n",
       "      <td>74</td>\n",
       "      <td>1631</td>\n",
       "      <td>0</td>\n",
       "      <td>0</td>\n",
       "    </tr>\n",
       "    <tr>\n",
       "      <th>TC</th>\n",
       "      <td>0</td>\n",
       "      <td>0</td>\n",
       "      <td>6219</td>\n",
       "      <td>343</td>\n",
       "    </tr>\n",
       "    <tr>\n",
       "      <th>TG</th>\n",
       "      <td>1437</td>\n",
       "      <td>78</td>\n",
       "      <td>0</td>\n",
       "      <td>0</td>\n",
       "    </tr>\n",
       "  </tbody>\n",
       "</table>\n",
       "</div>"
      ],
      "text/plain": [
       "alleles_tgt    AC    CA    AG    GA\n",
       "alleles_src                        \n",
       "AC           1449    61     0     0\n",
       "AG              0     0  6180   307\n",
       "CA             79  1600     0     0\n",
       "CT              0     0   364  7995\n",
       "GA              0     0   385  8130\n",
       "GT             74  1631     0     0\n",
       "TC              0     0  6219   343\n",
       "TG           1437    78     0     0"
      ]
     },
     "execution_count": 24,
     "metadata": {},
     "output_type": "execute_result"
    }
   ],
   "source": [
    "ht.to_pandas().groupby(['alleles_src', 'alleles_tgt']).size().unstack().fillna(0).astype(int)"
   ]
  },
  {
   "cell_type": "markdown",
   "metadata": {},
   "source": [
    "Show how often variants are in one dataset or both:"
   ]
  },
  {
   "cell_type": "code",
   "execution_count": 25,
   "metadata": {
    "ExecuteTime": {
     "end_time": "2020-02-13T05:24:52.378882Z",
     "start_time": "2020-02-13T05:24:51.583717Z"
    }
   },
   "outputs": [
    {
     "name": "stderr",
     "output_type": "stream",
     "text": [
      "2020-02-13 05:24:52 Hail: INFO: Coerced sorted dataset\n"
     ]
    },
    {
     "data": {
      "text/plain": [
       "{'in_both': 36332, 'only_src': 63, 'only_tgt': 124395}"
      ]
     },
     "execution_count": 25,
     "metadata": {},
     "output_type": "execute_result"
    }
   ],
   "source": [
    "ht.aggregate(hl.agg.counter(ht.status))"
   ]
  },
  {
   "cell_type": "markdown",
   "metadata": {},
   "source": [
    "Show orientation counts:"
   ]
  },
  {
   "cell_type": "code",
   "execution_count": 26,
   "metadata": {
    "ExecuteTime": {
     "end_time": "2020-02-13T05:24:54.841034Z",
     "start_time": "2020-02-13T05:24:54.041373Z"
    }
   },
   "outputs": [
    {
     "name": "stderr",
     "output_type": "stream",
     "text": [
      "2020-02-13 05:24:54 Hail: INFO: Coerced sorted dataset\n"
     ]
    },
    {
     "data": {
      "text/plain": [
       "36332"
      ]
     },
     "execution_count": 26,
     "metadata": {},
     "output_type": "execute_result"
    }
   ],
   "source": [
    "ht.aggregate(hl.agg.sum(hl.is_defined(ht.orientation)))"
   ]
  },
  {
   "cell_type": "code",
   "execution_count": 27,
   "metadata": {
    "ExecuteTime": {
     "end_time": "2020-02-13T05:24:56.648457Z",
     "start_time": "2020-02-13T05:24:55.884369Z"
    }
   },
   "outputs": [
    {
     "name": "stderr",
     "output_type": "stream",
     "text": [
      "2020-02-13 05:24:56 Hail: INFO: Coerced sorted dataset\n"
     ]
    },
    {
     "data": {
      "text/plain": [
       "{None: 124458,\n",
       " 'order_flip+strand_flip': 859,\n",
       " 'strand_flip': 17282,\n",
       " 'order_flip': 832,\n",
       " 'same': 17359}"
      ]
     },
     "execution_count": 27,
     "metadata": {},
     "output_type": "execute_result"
    }
   ],
   "source": [
    "ht.aggregate(hl.agg.counter(ht.orientation))"
   ]
  },
  {
   "cell_type": "markdown",
   "metadata": {},
   "source": [
    "### Apply Alignment"
   ]
  },
  {
   "cell_type": "code",
   "execution_count": 28,
   "metadata": {
    "ExecuteTime": {
     "end_time": "2020-02-13T05:25:40.146832Z",
     "start_time": "2020-02-13T05:25:40.123731Z"
    }
   },
   "outputs": [],
   "source": [
    "def align_variant_orientation(mt_src, ht_orientation):\n",
    "    # Add orientation as a row field\n",
    "    mt = mt_src.annotate_rows(orientation=ht_orientation[mt_src.locus].orientation)\n",
    "    flipped_orientations = hl.set(['order_flip', 'order_flip+strand_flip'])\n",
    "    \n",
    "    # Flip calls where appropriate\n",
    "    mt = mt.annotate_entries(\n",
    "        GT=hl.case()\n",
    "        .when(\n",
    "            flipped_orientations.contains(mt.orientation), \n",
    "            hl.unphased_diploid_gt_index_call(2 - mt.GT.n_alt_alleles())\n",
    "        ).default(mt.GT)\n",
    "    )\n",
    "    \n",
    "    # Flip allele arrays where appropriate\n",
    "    keys = list(mt.row_key.keys())\n",
    "    mt = mt.key_rows_by('locus')\n",
    "    mt = mt.annotate_rows(\n",
    "        alleles=hl.case()\n",
    "        .when(mt.orientation == 'same', \n",
    "              mt.alleles) # AC -> AC\n",
    "        .when(mt.orientation == 'order_flip', \n",
    "              hl.reversed(mt.alleles)) # AC -> CA\n",
    "        .when(mt.orientation == 'strand_flip', \n",
    "              mt.alleles.map(lambda v: hl.reverse_complement(v))) # AC -> TG\n",
    "        .when(mt.orientation == 'order_flip+strand_flip', \n",
    "              hl.reversed(mt.alleles.map(lambda v: hl.reverse_complement(v)))) # AC -> GT\n",
    "        .or_missing()\n",
    "    )\n",
    "    mt = mt.key_rows_by(*keys)\n",
    "    return mt"
   ]
  },
  {
   "cell_type": "code",
   "execution_count": 29,
   "metadata": {
    "ExecuteTime": {
     "end_time": "2020-02-13T05:25:42.218277Z",
     "start_time": "2020-02-13T05:25:41.965596Z"
    }
   },
   "outputs": [
    {
     "data": {
      "text/plain": [
       "(36395, 1350)"
      ]
     },
     "execution_count": 29,
     "metadata": {},
     "output_type": "execute_result"
    }
   ],
   "source": [
    "mt_ref_nrm = align_variant_orientation(mt_ref, ht)\n",
    "assert mt_ref_nrm.count() == mt_ref.count()\n",
    "mt_ref_nrm.count()"
   ]
  },
  {
   "cell_type": "markdown",
   "metadata": {},
   "source": [
    "Limit to only variants where the orientation was present, indicating that a variant at the same locus exists in the target data:"
   ]
  },
  {
   "cell_type": "code",
   "execution_count": 30,
   "metadata": {
    "ExecuteTime": {
     "end_time": "2020-02-13T05:25:46.147097Z",
     "start_time": "2020-02-13T05:25:44.730367Z"
    }
   },
   "outputs": [
    {
     "name": "stderr",
     "output_type": "stream",
     "text": [
      "2020-02-13 05:25:45 Hail: INFO: Coerced sorted dataset\n"
     ]
    },
    {
     "data": {
      "text/plain": [
       "(36332, 1350)"
      ]
     },
     "execution_count": 30,
     "metadata": {},
     "output_type": "execute_result"
    }
   ],
   "source": [
    "mt_ref_exp = mt_ref_nrm.filter_rows(hl.is_defined(mt_ref_nrm.orientation))\n",
    "mt_ref_exp.count()"
   ]
  },
  {
   "cell_type": "markdown",
   "metadata": {},
   "source": [
    "Show the aligned allele co-occurrence frequencies:"
   ]
  },
  {
   "cell_type": "code",
   "execution_count": 36,
   "metadata": {
    "ExecuteTime": {
     "end_time": "2020-02-13T05:28:25.333720Z",
     "start_time": "2020-02-13T05:28:22.020590Z"
    }
   },
   "outputs": [
    {
     "name": "stderr",
     "output_type": "stream",
     "text": [
      "2020-02-13 05:28:22 Hail: INFO: Coerced sorted dataset\n",
      "2020-02-13 05:28:22 Hail: INFO: Coerced sorted dataset\n"
     ]
    },
    {
     "data": {
      "text/html": [
       "<div>\n",
       "<style scoped>\n",
       "    .dataframe tbody tr th:only-of-type {\n",
       "        vertical-align: middle;\n",
       "    }\n",
       "\n",
       "    .dataframe tbody tr th {\n",
       "        vertical-align: top;\n",
       "    }\n",
       "\n",
       "    .dataframe thead th {\n",
       "        text-align: right;\n",
       "    }\n",
       "</style>\n",
       "<table border=\"1\" class=\"dataframe\">\n",
       "  <thead>\n",
       "    <tr style=\"text-align: right;\">\n",
       "      <th>alleles_tgt</th>\n",
       "      <th>AC</th>\n",
       "      <th>AG</th>\n",
       "      <th>CA</th>\n",
       "      <th>GA</th>\n",
       "    </tr>\n",
       "    <tr>\n",
       "      <th>alleles_src</th>\n",
       "      <th></th>\n",
       "      <th></th>\n",
       "      <th></th>\n",
       "      <th></th>\n",
       "    </tr>\n",
       "  </thead>\n",
       "  <tbody>\n",
       "    <tr>\n",
       "      <th>AC</th>\n",
       "      <td>3039</td>\n",
       "      <td>0</td>\n",
       "      <td>0</td>\n",
       "      <td>0</td>\n",
       "    </tr>\n",
       "    <tr>\n",
       "      <th>AG</th>\n",
       "      <td>0</td>\n",
       "      <td>13148</td>\n",
       "      <td>0</td>\n",
       "      <td>0</td>\n",
       "    </tr>\n",
       "    <tr>\n",
       "      <th>CA</th>\n",
       "      <td>0</td>\n",
       "      <td>0</td>\n",
       "      <td>3370</td>\n",
       "      <td>0</td>\n",
       "    </tr>\n",
       "    <tr>\n",
       "      <th>GA</th>\n",
       "      <td>0</td>\n",
       "      <td>0</td>\n",
       "      <td>0</td>\n",
       "      <td>16775</td>\n",
       "    </tr>\n",
       "  </tbody>\n",
       "</table>\n",
       "</div>"
      ],
      "text/plain": [
       "alleles_tgt    AC     AG    CA     GA\n",
       "alleles_src                          \n",
       "AC           3039      0     0      0\n",
       "AG              0  13148     0      0\n",
       "CA              0      0  3370      0\n",
       "GA              0      0     0  16775"
      ]
     },
     "execution_count": 36,
     "metadata": {},
     "output_type": "execute_result"
    }
   ],
   "source": [
    "df = get_variant_orientation(mt_ref_exp, mt_tgt).to_pandas()\n",
    "df = df.groupby(['alleles_src', 'alleles_tgt']).size().unstack().fillna(0).astype(int)\n",
    "df"
   ]
  },
  {
   "cell_type": "code",
   "execution_count": 43,
   "metadata": {
    "ExecuteTime": {
     "end_time": "2020-02-13T05:30:54.095712Z",
     "start_time": "2020-02-13T05:30:54.087521Z"
    }
   },
   "outputs": [],
   "source": [
    "# Ensure that the axis labels are equal\n",
    "assert df.index.equals(df.columns)\n",
    "# Ensure that the off-diagonal counts are all zero\n",
    "assert np.all((df.values - np.diag(np.diag(df.values))) == 0)"
   ]
  },
  {
   "cell_type": "markdown",
   "metadata": {},
   "source": [
    "Export the result:"
   ]
  },
  {
   "cell_type": "code",
   "execution_count": 44,
   "metadata": {
    "ExecuteTime": {
     "end_time": "2020-02-13T05:31:12.000073Z",
     "start_time": "2020-02-13T05:30:56.242764Z"
    }
   },
   "outputs": [
    {
     "name": "stderr",
     "output_type": "stream",
     "text": [
      "2020-02-13 05:30:56 Hail: INFO: Coerced sorted dataset\n",
      "2020-02-13 05:30:59 Hail: INFO: Coerced sorted dataset\n"
     ]
    },
    {
     "name": "stdout",
     "output_type": "stream",
     "text": [
      "Final result written to /home/eczech/data/gwas/tmp/canine/mt_ref_qc_03.mt\n"
     ]
    },
    {
     "name": "stderr",
     "output_type": "stream",
     "text": [
      "2020-02-13 05:31:11 Hail: INFO: wrote matrix table with 36332 rows and 1350 columns in 2 partitions to /home/eczech/data/gwas/tmp/canine/mt_ref_qc_03.mt\n"
     ]
    }
   ],
   "source": [
    "path = osp.join(WORK_DIR, REF_QC_03_FILE + '.mt')\n",
    "mt_ref_exp.write(path, overwrite=True)\n",
    "print('Final result written to', path)"
   ]
  }
 ],
 "metadata": {
  "kernelspec": {
   "display_name": "Python 3",
   "language": "python",
   "name": "python3"
  },
  "language_info": {
   "codemirror_mode": {
    "name": "ipython",
    "version": 3
   },
   "file_extension": ".py",
   "mimetype": "text/x-python",
   "name": "python",
   "nbconvert_exporter": "python",
   "pygments_lexer": "ipython3",
   "version": "3.7.6"
  }
 },
 "nbformat": 4,
 "nbformat_minor": 4
}
