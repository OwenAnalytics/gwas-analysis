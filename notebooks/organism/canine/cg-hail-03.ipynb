{
 "cells": [
  {
   "cell_type": "markdown",
   "metadata": {},
   "source": [
    "## Canine GWAS Alignment\n",
    "\n",
    "- Align the (now fairly small) set of reference variants to the target variants\n",
    "    - This step is missing in the UKBB analysis because presumably, the 1KG data and the UKBB data are already aligned to GRCh38\n",
    "    - This will involve joining variants by locus and resolving strand/allele flips\n",
    "    - This will result in a merged target + reference dataset that contains **exactly** the same variants (it is crucial that the reference data PCA include only variants that are going to be present in the target dataset to be projected)"
   ]
  },
  {
   "cell_type": "code",
   "execution_count": 1,
   "metadata": {
    "ExecuteTime": {
     "end_time": "2020-02-13T00:02:27.036287Z",
     "start_time": "2020-02-13T00:02:22.511694Z"
    }
   },
   "outputs": [
    {
     "name": "stderr",
     "output_type": "stream",
     "text": [
      "Running on Apache Spark version 2.4.4\n",
      "SparkUI available at http://a783b4e25167:4041\n",
      "Welcome to\n",
      "     __  __     <>__\n",
      "    / /_/ /__  __/ /\n",
      "   / __  / _ `/ / /\n",
      "  /_/ /_/\\_,_/_/_/   version 0.2.30-2ae07d872f43\n",
      "LOGGING: writing to /home/eczech/repos/gwas-analysis/notebooks/organism/canine/hail-20200213-0002-0.2.30-2ae07d872f43.log\n"
     ]
    }
   ],
   "source": [
    "import hail as hl\n",
    "import pandas as pd\n",
    "import numpy as np\n",
    "import plotnine as pn\n",
    "import plotly.express as px\n",
    "import os.path as osp\n",
    "%run ../../nb.py\n",
    "%run paths.py\n",
    "%run common.py\n",
    "gab.register_timeop_magic(get_ipython(), 'hail')\n",
    "hl.init()"
   ]
  },
  {
   "cell_type": "code",
   "execution_count": null,
   "metadata": {},
   "outputs": [],
   "source": [
    "%%capture\n",
    "hl.ReferenceGenome(**load_reference_genome(REF_GENOME_FILE))"
   ]
  },
  {
   "cell_type": "code",
   "execution_count": 35,
   "metadata": {
    "ExecuteTime": {
     "end_time": "2020-02-13T00:24:37.683512Z",
     "start_time": "2020-02-13T00:24:37.597040Z"
    },
    "scrolled": false
   },
   "outputs": [
    {
     "data": {
      "text/plain": [
       "(36395, 1350)"
      ]
     },
     "execution_count": 35,
     "metadata": {},
     "output_type": "execute_result"
    }
   ],
   "source": [
    "mt_ref = hl.read_matrix_table(osp.join(WORK_DIR, REF_QC_RES_FILE + '.mt'))\n",
    "mt_ref.count()"
   ]
  },
  {
   "cell_type": "code",
   "execution_count": 13,
   "metadata": {
    "ExecuteTime": {
     "end_time": "2020-02-13T00:11:17.866498Z",
     "start_time": "2020-02-13T00:11:17.039682Z"
    }
   },
   "outputs": [
    {
     "name": "stderr",
     "output_type": "stream",
     "text": [
      "2020-02-13 00:11:17 Hail: INFO: Found 4342 samples in fam file.\n",
      "2020-02-13 00:11:17 Hail: INFO: Found 160727 variants in bim file.\n",
      "2020-02-13 00:11:17 Hail: INFO: Coerced sorted dataset\n"
     ]
    },
    {
     "data": {
      "text/plain": [
       "(160727, 4342)"
      ]
     },
     "execution_count": 13,
     "metadata": {},
     "output_type": "execute_result"
    }
   ],
   "source": [
    "mt_tgt = hl.import_plink(\n",
    "    *plink_files(ORGANISM_CANINE_TGT_DIR, PLINK_FILE_TGT),\n",
    "    skip_invalid_loci=False,\n",
    "    reference_genome='canine'\n",
    ")\n",
    "mt_tgt.count()"
   ]
  },
  {
   "cell_type": "code",
   "execution_count": 9,
   "metadata": {
    "ExecuteTime": {
     "end_time": "2020-02-13T00:10:34.547405Z",
     "start_time": "2020-02-13T00:10:34.535863Z"
    }
   },
   "outputs": [],
   "source": [
    "def get_alt_allele_freq(mt):\n",
    "    cts = mt.aggregate_entries(hl.agg.hist(mt.GT.n_alt_alleles(), 0, 2, 3))\n",
    "    cts = pd.Series(cts.bin_freq).rename('count').rename_axis('n_alt_alleles').reset_index()\n",
    "    assert cts.sort_values('count')['n_alt_alleles'].tail(1).values[0] == 0\n",
    "    return cts"
   ]
  },
  {
   "cell_type": "code",
   "execution_count": 10,
   "metadata": {
    "ExecuteTime": {
     "end_time": "2020-02-13T00:10:58.006165Z",
     "start_time": "2020-02-13T00:10:45.399114Z"
    }
   },
   "outputs": [
    {
     "name": "stderr",
     "output_type": "stream",
     "text": [
      "2020-02-13 00:10:45 Hail: INFO: Coerced sorted dataset\n"
     ]
    },
    {
     "data": {
      "text/html": [
       "<div>\n",
       "<style scoped>\n",
       "    .dataframe tbody tr th:only-of-type {\n",
       "        vertical-align: middle;\n",
       "    }\n",
       "\n",
       "    .dataframe tbody tr th {\n",
       "        vertical-align: top;\n",
       "    }\n",
       "\n",
       "    .dataframe thead th {\n",
       "        text-align: right;\n",
       "    }\n",
       "</style>\n",
       "<table border=\"1\" class=\"dataframe\">\n",
       "  <thead>\n",
       "    <tr style=\"text-align: right;\">\n",
       "      <th></th>\n",
       "      <th>n_alt_alleles</th>\n",
       "      <th>count</th>\n",
       "    </tr>\n",
       "  </thead>\n",
       "  <tbody>\n",
       "    <tr>\n",
       "      <th>0</th>\n",
       "      <td>0</td>\n",
       "      <td>422763319</td>\n",
       "    </tr>\n",
       "    <tr>\n",
       "      <th>1</th>\n",
       "      <td>1</td>\n",
       "      <td>181266267</td>\n",
       "    </tr>\n",
       "    <tr>\n",
       "      <th>2</th>\n",
       "      <td>2</td>\n",
       "      <td>93838364</td>\n",
       "    </tr>\n",
       "  </tbody>\n",
       "</table>\n",
       "</div>"
      ],
      "text/plain": [
       "   n_alt_alleles      count\n",
       "0              0  422763319\n",
       "1              1  181266267\n",
       "2              2   93838364"
      ]
     },
     "execution_count": 10,
     "metadata": {},
     "output_type": "execute_result"
    }
   ],
   "source": [
    "get_alt_allele_freq(mt_tgt)"
   ]
  },
  {
   "cell_type": "code",
   "execution_count": 36,
   "metadata": {
    "ExecuteTime": {
     "end_time": "2020-02-13T00:24:45.981489Z",
     "start_time": "2020-02-13T00:24:44.662702Z"
    }
   },
   "outputs": [
    {
     "data": {
      "text/html": [
       "<div>\n",
       "<style scoped>\n",
       "    .dataframe tbody tr th:only-of-type {\n",
       "        vertical-align: middle;\n",
       "    }\n",
       "\n",
       "    .dataframe tbody tr th {\n",
       "        vertical-align: top;\n",
       "    }\n",
       "\n",
       "    .dataframe thead th {\n",
       "        text-align: right;\n",
       "    }\n",
       "</style>\n",
       "<table border=\"1\" class=\"dataframe\">\n",
       "  <thead>\n",
       "    <tr style=\"text-align: right;\">\n",
       "      <th></th>\n",
       "      <th>n_alt_alleles</th>\n",
       "      <th>count</th>\n",
       "    </tr>\n",
       "  </thead>\n",
       "  <tbody>\n",
       "    <tr>\n",
       "      <th>0</th>\n",
       "      <td>0</td>\n",
       "      <td>26895996</td>\n",
       "    </tr>\n",
       "    <tr>\n",
       "      <th>1</th>\n",
       "      <td>1</td>\n",
       "      <td>14281635</td>\n",
       "    </tr>\n",
       "    <tr>\n",
       "      <th>2</th>\n",
       "      <td>2</td>\n",
       "      <td>7907143</td>\n",
       "    </tr>\n",
       "  </tbody>\n",
       "</table>\n",
       "</div>"
      ],
      "text/plain": [
       "   n_alt_alleles     count\n",
       "0              0  26895996\n",
       "1              1  14281635\n",
       "2              2   7907143"
      ]
     },
     "execution_count": 36,
     "metadata": {},
     "output_type": "execute_result"
    }
   ],
   "source": [
    "get_alt_allele_freq(mt_ref)"
   ]
  },
  {
   "cell_type": "code",
   "execution_count": 37,
   "metadata": {
    "ExecuteTime": {
     "end_time": "2020-02-13T00:24:49.316461Z",
     "start_time": "2020-02-13T00:24:49.270449Z"
    }
   },
   "outputs": [
    {
     "name": "stdout",
     "output_type": "stream",
     "text": [
      "----------------------------------------\n",
      "Global fields:\n",
      "    None\n",
      "----------------------------------------\n",
      "Row fields:\n",
      "    'locus': locus<canine> \n",
      "    'alleles_ref': array<str> \n",
      "    'allele_str': str \n",
      "    'alleles_tgt': array<str> \n",
      "    'astr_ref': str \n",
      "    'astr_tgt': str \n",
      "----------------------------------------\n",
      "Key: ['locus']\n",
      "----------------------------------------\n"
     ]
    }
   ],
   "source": [
    "ht = mt_ref.rows().key_by('locus').rename({'alleles': 'alleles_ref'}).drop(*['rsid', 'cm_position'])\\\n",
    "    .join(mt_tgt.rows().key_by('locus').rename({'alleles': 'alleles_tgt'}).drop(*['rsid', 'cm_position']), how='outer')\n",
    "ht = ht.annotate(astr_ref=hl.delimit(ht.alleles_ref, ''), astr_tgt=hl.delimit(ht.alleles_tgt, ''))\n",
    "ht.describe()"
   ]
  },
  {
   "cell_type": "code",
   "execution_count": 39,
   "metadata": {
    "ExecuteTime": {
     "end_time": "2020-02-13T00:27:07.230544Z",
     "start_time": "2020-02-13T00:27:06.592188Z"
    }
   },
   "outputs": [
    {
     "name": "stderr",
     "output_type": "stream",
     "text": [
      "2020-02-13 00:27:07 Hail: INFO: Coerced sorted dataset\n"
     ]
    },
    {
     "data": {
      "text/plain": [
       "{'A|C': 26543, 'A|G': 122575, 'A|T': 6124, 'C|G': 5485}"
      ]
     },
     "execution_count": 39,
     "metadata": {},
     "output_type": "execute_result"
    }
   ],
   "source": [
    "mt_tgt.aggregate_rows(hl.agg.counter(hl.delimit(hl.sorted(hl.array([mt_tgt.alleles[0], mt_tgt.alleles[1]])), '|')))"
   ]
  },
  {
   "cell_type": "code",
   "execution_count": 38,
   "metadata": {
    "ExecuteTime": {
     "end_time": "2020-02-13T00:24:53.372652Z",
     "start_time": "2020-02-13T00:24:50.806641Z"
    }
   },
   "outputs": [
    {
     "name": "stderr",
     "output_type": "stream",
     "text": [
      "2020-02-13 00:24:51 Hail: INFO: Coerced sorted dataset\n"
     ]
    },
    {
     "data": {
      "text/html": [
       "<div>\n",
       "<style scoped>\n",
       "    .dataframe tbody tr th:only-of-type {\n",
       "        vertical-align: middle;\n",
       "    }\n",
       "\n",
       "    .dataframe tbody tr th {\n",
       "        vertical-align: top;\n",
       "    }\n",
       "\n",
       "    .dataframe thead th {\n",
       "        text-align: right;\n",
       "    }\n",
       "</style>\n",
       "<table border=\"1\" class=\"dataframe\">\n",
       "  <thead>\n",
       "    <tr style=\"text-align: right;\">\n",
       "      <th>astr_tgt</th>\n",
       "      <th>AC</th>\n",
       "      <th>CA</th>\n",
       "      <th>AG</th>\n",
       "      <th>GA</th>\n",
       "    </tr>\n",
       "    <tr>\n",
       "      <th>astr_ref</th>\n",
       "      <th></th>\n",
       "      <th></th>\n",
       "      <th></th>\n",
       "      <th></th>\n",
       "    </tr>\n",
       "  </thead>\n",
       "  <tbody>\n",
       "    <tr>\n",
       "      <th>AC</th>\n",
       "      <td>1449</td>\n",
       "      <td>61</td>\n",
       "      <td>0</td>\n",
       "      <td>0</td>\n",
       "    </tr>\n",
       "    <tr>\n",
       "      <th>AG</th>\n",
       "      <td>0</td>\n",
       "      <td>0</td>\n",
       "      <td>6180</td>\n",
       "      <td>307</td>\n",
       "    </tr>\n",
       "    <tr>\n",
       "      <th>CA</th>\n",
       "      <td>79</td>\n",
       "      <td>1600</td>\n",
       "      <td>0</td>\n",
       "      <td>0</td>\n",
       "    </tr>\n",
       "    <tr>\n",
       "      <th>CT</th>\n",
       "      <td>0</td>\n",
       "      <td>0</td>\n",
       "      <td>364</td>\n",
       "      <td>7995</td>\n",
       "    </tr>\n",
       "    <tr>\n",
       "      <th>GA</th>\n",
       "      <td>0</td>\n",
       "      <td>0</td>\n",
       "      <td>385</td>\n",
       "      <td>8130</td>\n",
       "    </tr>\n",
       "    <tr>\n",
       "      <th>GT</th>\n",
       "      <td>74</td>\n",
       "      <td>1631</td>\n",
       "      <td>0</td>\n",
       "      <td>0</td>\n",
       "    </tr>\n",
       "    <tr>\n",
       "      <th>TC</th>\n",
       "      <td>0</td>\n",
       "      <td>0</td>\n",
       "      <td>6219</td>\n",
       "      <td>343</td>\n",
       "    </tr>\n",
       "    <tr>\n",
       "      <th>TG</th>\n",
       "      <td>1437</td>\n",
       "      <td>78</td>\n",
       "      <td>0</td>\n",
       "      <td>0</td>\n",
       "    </tr>\n",
       "  </tbody>\n",
       "</table>\n",
       "</div>"
      ],
      "text/plain": [
       "astr_tgt    AC    CA    AG    GA\n",
       "astr_ref                        \n",
       "AC        1449    61     0     0\n",
       "AG           0     0  6180   307\n",
       "CA          79  1600     0     0\n",
       "CT           0     0   364  7995\n",
       "GA           0     0   385  8130\n",
       "GT          74  1631     0     0\n",
       "TC           0     0  6219   343\n",
       "TG        1437    78     0     0"
      ]
     },
     "execution_count": 38,
     "metadata": {},
     "output_type": "execute_result"
    }
   ],
   "source": [
    "ht.to_pandas().groupby(['astr_ref', 'astr_tgt']).size().unstack().fillna(0).astype(int)"
   ]
  }
 ],
 "metadata": {
  "kernelspec": {
   "display_name": "Python 3",
   "language": "python",
   "name": "python3"
  },
  "language_info": {
   "codemirror_mode": {
    "name": "ipython",
    "version": 3
   },
   "file_extension": ".py",
   "mimetype": "text/x-python",
   "name": "python",
   "nbconvert_exporter": "python",
   "pygments_lexer": "ipython3",
   "version": "3.7.6"
  }
 },
 "nbformat": 4,
 "nbformat_minor": 4
}
