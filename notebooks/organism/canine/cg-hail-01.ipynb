{
 "cells": [
  {
   "cell_type": "markdown",
   "metadata": {},
   "source": [
    "## Pipeline Initialization\n",
    "\n",
    "This notebook will create necessary directories and objects for the pipeline."
   ]
  },
  {
   "cell_type": "code",
   "execution_count": 1,
   "metadata": {
    "ExecuteTime": {
     "end_time": "2020-02-10T17:17:59.729757Z",
     "start_time": "2020-02-10T17:17:59.716636Z"
    }
   },
   "outputs": [],
   "source": [
    "import os\n",
    "import pandas as pd\n",
    "import numpy as np\n",
    "%run {os.environ['NB_DIR']}/nb.py\n",
    "%run common.py\n",
    "%run files.py"
   ]
  },
  {
   "cell_type": "markdown",
   "metadata": {},
   "source": [
    "### Directory Initialization"
   ]
  },
  {
   "cell_type": "code",
   "execution_count": 2,
   "metadata": {
    "ExecuteTime": {
     "end_time": "2020-02-10T17:25:58.215034Z",
     "start_time": "2020-02-10T17:25:57.728662Z"
    }
   },
   "outputs": [
    {
     "name": "stdout",
     "output_type": "stream",
     "text": [
      "mkdir: cannot create directory ‘data’: File exists\n"
     ]
    }
   ],
   "source": [
    "!mkdir data"
   ]
  },
  {
   "cell_type": "markdown",
   "metadata": {},
   "source": [
    "### Canine Reference Genome\n",
    "\n",
    "There is no standardized set of statistics for canine genome assemblies that will make it easier to create a Hail reference genome, so we must instead create one based on the data at hand.  All we need to know in order for Hail to interpret our data is what contigs exist, how long each one is, and which of those contigs correspond to sex chromosomes.  Luckily, the first and the last of those are well known (dogs have 38 autosomes and 2 allosomes + MT DNA) and we can approximate the contig lengths based on the data."
   ]
  },
  {
   "cell_type": "code",
   "execution_count": 2,
   "metadata": {
    "ExecuteTime": {
     "end_time": "2020-02-10T17:18:00.064804Z",
     "start_time": "2020-02-10T17:17:59.921143Z"
    }
   },
   "outputs": [
    {
     "data": {
      "text/html": [
       "<div>\n",
       "<style scoped>\n",
       "    .dataframe tbody tr th:only-of-type {\n",
       "        vertical-align: middle;\n",
       "    }\n",
       "\n",
       "    .dataframe tbody tr th {\n",
       "        vertical-align: top;\n",
       "    }\n",
       "\n",
       "    .dataframe thead th {\n",
       "        text-align: right;\n",
       "    }\n",
       "</style>\n",
       "<table border=\"1\" class=\"dataframe\">\n",
       "  <thead>\n",
       "    <tr style=\"text-align: right;\">\n",
       "      <th></th>\n",
       "      <th>contig</th>\n",
       "      <th>snp</th>\n",
       "      <th>pos</th>\n",
       "      <th>locus</th>\n",
       "      <th>alt</th>\n",
       "      <th>ref</th>\n",
       "    </tr>\n",
       "  </thead>\n",
       "  <tbody>\n",
       "    <tr>\n",
       "      <th>0</th>\n",
       "      <td>1</td>\n",
       "      <td>chr1_212740</td>\n",
       "      <td>0</td>\n",
       "      <td>212740</td>\n",
       "      <td>A</td>\n",
       "      <td>G</td>\n",
       "    </tr>\n",
       "    <tr>\n",
       "      <th>1</th>\n",
       "      <td>1</td>\n",
       "      <td>chr1_249580</td>\n",
       "      <td>0</td>\n",
       "      <td>249580</td>\n",
       "      <td>G</td>\n",
       "      <td>A</td>\n",
       "    </tr>\n",
       "    <tr>\n",
       "      <th>2</th>\n",
       "      <td>1</td>\n",
       "      <td>chr1_273487</td>\n",
       "      <td>0</td>\n",
       "      <td>273487</td>\n",
       "      <td>A</td>\n",
       "      <td>G</td>\n",
       "    </tr>\n",
       "    <tr>\n",
       "      <th>3</th>\n",
       "      <td>1</td>\n",
       "      <td>chr1_307563</td>\n",
       "      <td>0</td>\n",
       "      <td>307563</td>\n",
       "      <td>A</td>\n",
       "      <td>C</td>\n",
       "    </tr>\n",
       "    <tr>\n",
       "      <th>4</th>\n",
       "      <td>1</td>\n",
       "      <td>chr1_320055</td>\n",
       "      <td>0</td>\n",
       "      <td>320055</td>\n",
       "      <td>G</td>\n",
       "      <td>A</td>\n",
       "    </tr>\n",
       "  </tbody>\n",
       "</table>\n",
       "</div>"
      ],
      "text/plain": [
       "   contig          snp  pos   locus alt ref\n",
       "0       1  chr1_212740    0  212740   A   G\n",
       "1       1  chr1_249580    0  249580   G   A\n",
       "2       1  chr1_273487    0  273487   A   G\n",
       "3       1  chr1_307563    0  307563   A   C\n",
       "4       1  chr1_320055    0  320055   G   A"
      ]
     },
     "execution_count": 2,
     "metadata": {},
     "output_type": "execute_result"
    }
   ],
   "source": [
    "df_ref_bim = get_bim(ORGANISM_CANINE_REF_DIR, PLINK_FILE_REF)\n",
    "df_ref_bim.head()"
   ]
  },
  {
   "cell_type": "code",
   "execution_count": 3,
   "metadata": {
    "ExecuteTime": {
     "end_time": "2020-02-10T17:18:28.144142Z",
     "start_time": "2020-02-10T17:18:27.979977Z"
    }
   },
   "outputs": [
    {
     "data": {
      "text/html": [
       "<div>\n",
       "<style scoped>\n",
       "    .dataframe tbody tr th:only-of-type {\n",
       "        vertical-align: middle;\n",
       "    }\n",
       "\n",
       "    .dataframe tbody tr th {\n",
       "        vertical-align: top;\n",
       "    }\n",
       "\n",
       "    .dataframe thead th {\n",
       "        text-align: right;\n",
       "    }\n",
       "</style>\n",
       "<table border=\"1\" class=\"dataframe\">\n",
       "  <thead>\n",
       "    <tr style=\"text-align: right;\">\n",
       "      <th></th>\n",
       "      <th>contig</th>\n",
       "      <th>snp</th>\n",
       "      <th>pos</th>\n",
       "      <th>locus</th>\n",
       "      <th>alt</th>\n",
       "      <th>ref</th>\n",
       "    </tr>\n",
       "  </thead>\n",
       "  <tbody>\n",
       "    <tr>\n",
       "      <th>0</th>\n",
       "      <td>1</td>\n",
       "      <td>BICF2P1383091</td>\n",
       "      <td>0.058048</td>\n",
       "      <td>212740</td>\n",
       "      <td>A</td>\n",
       "      <td>G</td>\n",
       "    </tr>\n",
       "    <tr>\n",
       "      <th>1</th>\n",
       "      <td>1</td>\n",
       "      <td>TIGRP2P259_rs8993730</td>\n",
       "      <td>0.058849</td>\n",
       "      <td>249580</td>\n",
       "      <td>G</td>\n",
       "      <td>A</td>\n",
       "    </tr>\n",
       "    <tr>\n",
       "      <th>2</th>\n",
       "      <td>1</td>\n",
       "      <td>BICF2G630707908</td>\n",
       "      <td>0.059382</td>\n",
       "      <td>273487</td>\n",
       "      <td>A</td>\n",
       "      <td>G</td>\n",
       "    </tr>\n",
       "    <tr>\n",
       "      <th>3</th>\n",
       "      <td>1</td>\n",
       "      <td>BICF2P563564</td>\n",
       "      <td>0.060122</td>\n",
       "      <td>307563</td>\n",
       "      <td>A</td>\n",
       "      <td>C</td>\n",
       "    </tr>\n",
       "    <tr>\n",
       "      <th>4</th>\n",
       "      <td>1</td>\n",
       "      <td>BICF2P574107</td>\n",
       "      <td>0.060390</td>\n",
       "      <td>320055</td>\n",
       "      <td>G</td>\n",
       "      <td>A</td>\n",
       "    </tr>\n",
       "  </tbody>\n",
       "</table>\n",
       "</div>"
      ],
      "text/plain": [
       "   contig                   snp       pos   locus alt ref\n",
       "0       1         BICF2P1383091  0.058048  212740   A   G\n",
       "1       1  TIGRP2P259_rs8993730  0.058849  249580   G   A\n",
       "2       1       BICF2G630707908  0.059382  273487   A   G\n",
       "3       1          BICF2P563564  0.060122  307563   A   C\n",
       "4       1          BICF2P574107  0.060390  320055   G   A"
      ]
     },
     "execution_count": 3,
     "metadata": {},
     "output_type": "execute_result"
    }
   ],
   "source": [
    "df_tgt_bim = get_bim(ORGANISM_CANINE_TGT_DIR, PLINK_FILE_TGT)\n",
    "df_tgt_bim.head()"
   ]
  },
  {
   "cell_type": "code",
   "execution_count": 11,
   "metadata": {
    "ExecuteTime": {
     "end_time": "2020-02-10T17:23:26.994613Z",
     "start_time": "2020-02-10T17:23:26.960912Z"
    }
   },
   "outputs": [
    {
     "data": {
      "text/plain": [
       "{'name': 'canine',\n",
       " 'contigs': ['1',\n",
       "  '2',\n",
       "  '3',\n",
       "  '4',\n",
       "  '5',\n",
       "  '6',\n",
       "  '7',\n",
       "  '8',\n",
       "  '9',\n",
       "  '10',\n",
       "  '11',\n",
       "  '12',\n",
       "  '13',\n",
       "  '14',\n",
       "  '15',\n",
       "  '16',\n",
       "  '17',\n",
       "  '18',\n",
       "  '19',\n",
       "  '20',\n",
       "  '21',\n",
       "  '22',\n",
       "  '23',\n",
       "  '24',\n",
       "  '25',\n",
       "  '26',\n",
       "  '27',\n",
       "  '28',\n",
       "  '29',\n",
       "  '30',\n",
       "  '31',\n",
       "  '32',\n",
       "  '33',\n",
       "  '34',\n",
       "  '35',\n",
       "  '36',\n",
       "  '37',\n",
       "  '38',\n",
       "  '39',\n",
       "  '41'],\n",
       " 'lengths': {'1': 122670980,\n",
       "  '2': 85416217,\n",
       "  '3': 91858198,\n",
       "  '4': 88267880,\n",
       "  '5': 88908300,\n",
       "  '6': 77552613,\n",
       "  '7': 80858461,\n",
       "  '8': 74057381,\n",
       "  '9': 61043804,\n",
       "  '10': 69316974,\n",
       "  '11': 74388336,\n",
       "  '12': 72480470,\n",
       "  '13': 63232306,\n",
       "  '14': 60959782,\n",
       "  '15': 64187680,\n",
       "  '16': 59511764,\n",
       "  '17': 64281982,\n",
       "  '18': 55763074,\n",
       "  '19': 53735656,\n",
       "  '20': 58114749,\n",
       "  '21': 50855586,\n",
       "  '22': 61382644,\n",
       "  '23': 52291577,\n",
       "  '24': 47651928,\n",
       "  '25': 51628093,\n",
       "  '26': 38939728,\n",
       "  '27': 45753342,\n",
       "  '28': 41164216,\n",
       "  '29': 41841565,\n",
       "  '30': 40196606,\n",
       "  '31': 39786599,\n",
       "  '32': 38745890,\n",
       "  '33': 31361794,\n",
       "  '34': 42089769,\n",
       "  '35': 26506199,\n",
       "  '36': 30798114,\n",
       "  '37': 30897806,\n",
       "  '38': 23903967,\n",
       "  '39': 123833839,\n",
       "  '41': 6608343},\n",
       " 'x_contigs': '39',\n",
       " 'mt_contigs': '41'}"
      ]
     },
     "execution_count": 11,
     "metadata": {},
     "output_type": "execute_result"
    }
   ],
   "source": [
    "# Find the max locus for each contig across both datasets\n",
    "contigs = pd.concat([\n",
    "    df_ref_bim.groupby('contig')['locus'].max(),\n",
    "    df_tgt_bim.groupby('contig')['locus'].max()\n",
    "], axis=1).max(axis=1).astype(int).to_dict()\n",
    "\n",
    "# Create a Hail-compatible reference genome spec\n",
    "rg = dict(\n",
    "    name='canine',\n",
    "    contigs=[str(k) for k in contigs.keys()],\n",
    "    lengths={str(k): v for k, v in contigs.items()},\n",
    "    x_contigs='39',\n",
    "    mt_contigs='41'\n",
    ")\n",
    "rg"
   ]
  },
  {
   "cell_type": "code",
   "execution_count": 15,
   "metadata": {
    "ExecuteTime": {
     "end_time": "2020-02-10T17:26:41.851457Z",
     "start_time": "2020-02-10T17:26:41.351667Z"
    }
   },
   "outputs": [
    {
     "name": "stdout",
     "output_type": "stream",
     "text": [
      "{\"name\": \"canine\", \"contigs\": [\"1\", \"2\", \"3\", \"4\", \"5\", \"6\", \"7\", \"8\", \"9\", \"10\", \"11\", \"12\", \"13\", \"14\", \"15\", \"16\", \"17\", \"18\", \"19\", \"20\", \"21\", \"22\", \"23\", \"24\", \"25\", \"26\", \"27\", \"28\", \"29\", \"30\", \"31\", \"32\", \"33\", \"34\", \"35\", \"36\", \"37\", \"38\", \"39\", \"41\"], \"lengths\": {\"1\": 122670980, \"2\": 85416217, \"3\": 91858198, \"4\": 88267880, \"5\": 88908300, \"6\": 77552613, \"7\": 80858461, \"8\": 74057381, \"9\": 61043804, \"10\": 69316974, \"11\": 74388336, \"12\": 72480470, \"13\": 63232306, \"14\": 60959782, \"15\": 64187680, \"16\": 59511764, \"17\": 64281982, \"18\": 55763074, \"19\": 53735656, \"20\": 58114749, \"21\": 50855586, \"22\": 61382644, \"23\": 52291577, \"24\": 47651928, \"25\": 51628093, \"26\": 38939728, \"27\": 45753342, \"28\": 41164216, \"29\": 41841565, \"30\": 40196606, \"31\": 39786599, \"32\": 38745890, \"33\": 31361794, \"34\": 42089769, \"35\": 26506199, \"36\": 30798114, \"37\": 30897806, \"38\": 23903967, \"39\": 123833839, \"41\": 6608343}, \"x_contigs\": \"39\", \"mt_contigs\": \"41\"}"
     ]
    }
   ],
   "source": [
    "import json\n",
    "with open(REF_GENOME_FILE, 'w') as fd:\n",
    "    json.dump(rg, fd)\n",
    "!cat $REF_GENOME_FILE"
   ]
  }
 ],
 "metadata": {
  "kernelspec": {
   "display_name": "Python 3",
   "language": "python",
   "name": "python3"
  },
  "language_info": {
   "codemirror_mode": {
    "name": "ipython",
    "version": 3
   },
   "file_extension": ".py",
   "mimetype": "text/x-python",
   "name": "python",
   "nbconvert_exporter": "python",
   "pygments_lexer": "ipython3",
   "version": "3.7.6"
  }
 },
 "nbformat": 4,
 "nbformat_minor": 4
}
