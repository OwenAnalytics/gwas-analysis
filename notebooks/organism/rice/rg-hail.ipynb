{
 "cells": [
  {
   "cell_type": "code",
   "execution_count": 1,
   "metadata": {},
   "outputs": [
    {
     "name": "stderr",
     "output_type": "stream",
     "text": [
      "Running on Apache Spark version 2.4.4\n",
      "SparkUI available at http://3d498b83ee57:4040\n",
      "Welcome to\n",
      "     __  __     <>__\n",
      "    / /_/ /__  __/ /\n",
      "   / __  / _ `/ / /\n",
      "  /_/ /_/\\_,_/_/_/   version 0.2.30-2ae07d872f43\n",
      "LOGGING: writing to /home/eczech/repos/gwas-analysis/notebooks/tutorial/ext/snpseek/hail-20200128-1606-0.2.30-2ae07d872f43.log\n"
     ]
    }
   ],
   "source": [
    "import hail as hl\n",
    "import pandas as pd\n",
    "import numpy as np\n",
    "import seaborn as sns\n",
    "import plotnine as pn\n",
    "import matplotlib.pyplot as plt\n",
    "import os.path as osp\n",
    "%run ../../nb.py\n",
    "%run $TUTORIAL_DIR/files.py\n",
    "gab.register_timeop_magic(get_ipython(), 'hail')\n",
    "data_dir = ORGANISM_RICE_3KG_DIR\n",
    "hl.init() "
   ]
  },
  {
   "cell_type": "code",
   "execution_count": 8,
   "metadata": {},
   "outputs": [
    {
     "name": "stdout",
     "output_type": "stream",
     "text": [
      "spark.app.id=local-1580227561974\n",
      "spark.app.name=Hail\n",
      "spark.driver.extraClassPath=/opt/conda/envs/hail/lib/python3.7/site-packages/hail/hail-all-spark.jar\n",
      "spark.driver.host=3d498b83ee57\n",
      "spark.driver.maxResultSize=0\n",
      "spark.driver.memory=92G\n",
      "spark.driver.port=38321\n",
      "spark.executor.extraClassPath=./hail-all-spark.jar\n",
      "spark.executor.id=driver\n",
      "spark.hadoop.io.compression.codecs=org.apache.hadoop.io.compress.DefaultCodec,is.hail.io.compress.BGzipCodec,is.hail.io.compress.BGzipCodecTbi,org.apache.hadoop.io.compress.GzipCodec\n",
      "spark.hadoop.mapreduce.input.fileinputformat.split.minsize=0\n",
      "spark.jars=file:///opt/conda/envs/hail/lib/python3.7/site-packages/hail/hail-all-spark.jar\n",
      "spark.kryo.registrator=is.hail.kryo.HailKryoRegistrator\n",
      "spark.kryoserializer.buffer.max=1g\n",
      "spark.logConf=true\n",
      "spark.master=local[*]\n",
      "spark.repl.local.jars=file:///opt/conda/envs/hail/lib/python3.7/site-packages/hail/hail-all-spark.jar\n",
      "spark.serializer=org.apache.spark.serializer.KryoSerializer\n",
      "spark.submit.deployMode=client\n",
      "spark.ui.showConsoleProgress=false\n"
     ]
    }
   ],
   "source": [
    "print(hl.spark_context()._conf.toDebugString())"
   ]
  },
  {
   "cell_type": "code",
   "execution_count": null,
   "metadata": {},
   "outputs": [],
   "source": [
    "# spark.dynamicAllocation.enabled=false"
   ]
  },
  {
   "cell_type": "code",
   "execution_count": 2,
   "metadata": {},
   "outputs": [
    {
     "name": "stderr",
     "output_type": "stream",
     "text": [
      "2020-01-28 13:30:30 Hail: INFO: Found 3024 samples in fam file.\n",
      "2020-01-28 13:30:30 Hail: INFO: Found 29635224 variants in bim file.\n"
     ]
    }
   ],
   "source": [
    "mt_qc0 = hl.import_plink(\n",
    "    bed=osp.join(data_dir, RG0_RAW_FILE + '.bed'),\n",
    "    bim=osp.join(data_dir, RG0_RAW_FILE + '.bim'),\n",
    "    fam=osp.join(data_dir, RG0_RAW_FILE + '.fam'),\n",
    "    skip_invalid_loci=False\n",
    ")"
   ]
  },
  {
   "cell_type": "code",
   "execution_count": 3,
   "metadata": {},
   "outputs": [
    {
     "name": "stderr",
     "output_type": "stream",
     "text": [
      "2020-01-28 13:32:34 Hail: INFO: Coerced sorted dataset\n"
     ]
    },
    {
     "data": {
      "text/plain": [
       "668"
      ]
     },
     "execution_count": 3,
     "metadata": {},
     "output_type": "execute_result"
    }
   ],
   "source": [
    "mt_qc0.n_partitions()"
   ]
  },
  {
   "cell_type": "code",
   "execution_count": 4,
   "metadata": {},
   "outputs": [
    {
     "name": "stderr",
     "output_type": "stream",
     "text": [
      "2020-01-28 13:39:22 Hail: INFO: Coerced sorted dataset\n"
     ]
    },
    {
     "name": "stdout",
     "output_type": "stream",
     "text": [
      "Elapsed time: 1947.1 seconds\n"
     ]
    },
    {
     "name": "stderr",
     "output_type": "stream",
     "text": [
      "2020-01-28 14:08:38 Hail: INFO: wrote matrix table with 29635224 rows and 3024 columns in 668 partitions to /home/eczech/data/gwas/rice-snpseek/3K_RG_29mio_biallelic_SNPs_Dataset/NB_final_snp.mt\n"
     ]
    }
   ],
   "source": [
    "%%timeop -o rg0\n",
    "mt_qc0.write(osp.join(data_dir, RG0_RAW_FILE + '.mt'), overwrite=True)"
   ]
  },
  {
   "cell_type": "markdown",
   "metadata": {},
   "source": [
    "## QC"
   ]
  },
  {
   "cell_type": "code",
   "execution_count": 2,
   "metadata": {},
   "outputs": [],
   "source": [
    "mt_qc0 = hl.read_matrix_table(osp.join(data_dir, RG0_RAW_FILE + '.mt'))"
   ]
  },
  {
   "cell_type": "code",
   "execution_count": 3,
   "metadata": {},
   "outputs": [
    {
     "name": "stdout",
     "output_type": "stream",
     "text": [
      "(13381703, 2900)\n",
      "Elapsed time: 7517.1 seconds\n"
     ]
    }
   ],
   "source": [
    "%%timeop -o rg1\n",
    "\n",
    "def qc_1(mt):\n",
    "    mt = hl.variant_qc(mt)\n",
    "    mt = mt.filter_rows(mt.variant_qc.call_rate >= .8)\n",
    "    mt = hl.sample_qc(mt)\n",
    "    mt = mt.filter_cols(mt.sample_qc.call_rate >= .8)\n",
    "    mt = hl.variant_qc(mt)\n",
    "    mt = mt.filter_rows(mt.variant_qc.call_rate >= .98)\n",
    "    mt = hl.sample_qc(mt)\n",
    "    mt = mt.filter_cols(mt.sample_qc.call_rate >= .98)\n",
    "    return mt\n",
    "\n",
    "mt_qc1 = qc_1(mt_qc0)\n",
    "print(mt_qc1.count())"
   ]
  }
 ],
 "metadata": {
  "kernelspec": {
   "display_name": "Python 3",
   "language": "python",
   "name": "python3"
  },
  "language_info": {
   "codemirror_mode": {
    "name": "ipython",
    "version": 3
   },
   "file_extension": ".py",
   "mimetype": "text/x-python",
   "name": "python",
   "nbconvert_exporter": "python",
   "pygments_lexer": "ipython3",
   "version": "3.7.6"
  }
 },
 "nbformat": 4,
 "nbformat_minor": 4
}
